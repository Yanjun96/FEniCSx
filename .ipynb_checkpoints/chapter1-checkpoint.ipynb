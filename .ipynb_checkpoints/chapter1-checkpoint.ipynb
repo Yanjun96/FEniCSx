{
 "cells": [
  {
   "cell_type": "code",
   "execution_count": 3,
   "id": "f7b6722e-a074-4ca4-80a0-1f6e3b335a56",
   "metadata": {},
   "outputs": [
    {
     "name": "stdout",
     "output_type": "stream",
     "text": [
      "Defaulting to user installation because normal site-packages is not writeable\n",
      "Requirement already satisfied: sympy in /usr/lib/python3/dist-packages (1.9)\n",
      "Note: you may need to restart the kernel to use updated packages.\n"
     ]
    }
   ],
   "source": [
    "pip install sympy"
   ]
  },
  {
   "cell_type": "code",
   "execution_count": 5,
   "id": "7ec5c27c-5abd-4e7e-94b2-7e8f535dbc21",
   "metadata": {},
   "outputs": [],
   "source": [
    "import sympy as sym \n",
    "def least_squares(f, psi, Omega): \n",
    "    N = len(psi)-1 \n",
    "    A = sym.zeros(N+1,  N+1) \n",
    "    b = sym.zeros(N+1, 1) \n",
    "    x = sym.Symbol('x') \n",
    "    for i in range(N+1): \n",
    "        for j in range(i, N+1): \n",
    "            A[i,j]=sym.integrate(psi[i]*psi[j], (x, Omega[0], Omega[1])) \n",
    "            A[j,i]=A[i,j] \n",
    "        b[i,0] = sym.integrate(psi[i]*f,(x, Omega[0], Omega[1])) \n",
    "    c = A.LUsolve(b) # Note: c is a sympy Matrix object, solution is in c[:,0] \n",
    "    u =0 \n",
    "    for i in range(len(psi)): \n",
    "        u += c[i,0]*psi[i] \n",
    "    return u, c"
   ]
  },
  {
   "cell_type": "code",
   "execution_count": null,
   "id": "052371af-1f2f-4597-9bb1-539fd36d8f54",
   "metadata": {},
   "outputs": [],
   "source": []
  }
 ],
 "metadata": {
  "kernelspec": {
   "display_name": "Python 3 (ipykernel)",
   "language": "python",
   "name": "python3"
  },
  "language_info": {
   "codemirror_mode": {
    "name": "ipython",
    "version": 3
   },
   "file_extension": ".py",
   "mimetype": "text/x-python",
   "name": "python",
   "nbconvert_exporter": "python",
   "pygments_lexer": "ipython3",
   "version": "3.10.12"
  }
 },
 "nbformat": 4,
 "nbformat_minor": 5
}
