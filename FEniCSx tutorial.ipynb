{
 "cells": [
  {
   "cell_type": "code",
   "execution_count": 1,
   "id": "cc07e240",
   "metadata": {},
   "outputs": [],
   "source": [
    "from mpi4py import MPI\n",
    "from dolfinx import mesh\n",
    "domain = mesh.create_unit_square(MPI.COMM_WORLD, 8, 8, mesh.CellType.quadrilateral)\n"
   ]
  },
  {
   "cell_type": "code",
   "execution_count": 2,
   "id": "4e3f84e6",
   "metadata": {},
   "outputs": [],
   "source": [
    "from dolfinx.fem import FunctionSpace\n",
    "V = FunctionSpace(domain, (\"Lagrange\", 1))\n"
   ]
  },
  {
   "cell_type": "code",
   "execution_count": 3,
   "id": "ea0492dc",
   "metadata": {},
   "outputs": [],
   "source": [
    "from dolfinx import fem\n",
    "uD = fem.Function(V)\n",
    "# 1 + x^2 + 2*y^2\n",
    "uD.interpolate(lambda x: 1+ x[0]**2 + 2* x[1]**2)\n"
   ]
  },
  {
   "cell_type": "code",
   "execution_count": 4,
   "id": "ed25b58a",
   "metadata": {},
   "outputs": [],
   "source": [
    "import numpy\n",
    "tdim = domain.topology.dim\n",
    "fdim = tdim - 1\n",
    "domain.topology.create_connectivity(fdim, tdim)\n",
    "boundary_facets = mesh.exterior_facet_indices(domain.topology)\n"
   ]
  },
  {
   "cell_type": "code",
   "execution_count": 5,
   "id": "7127de14",
   "metadata": {},
   "outputs": [],
   "source": [
    "boundary_dofs = fem.locate_dofs_topological(V, fdim, boundary_facets)\n",
    "bc = fem.dirichletbc(uD, boundary_dofs)"
   ]
  },
  {
   "cell_type": "code",
   "execution_count": 6,
   "id": "7c7fc914",
   "metadata": {},
   "outputs": [],
   "source": [
    "import ufl\n",
    "u = ufl.TrialFunction(V)\n",
    "v = ufl.TestFunction(V)\n"
   ]
  },
  {
   "cell_type": "code",
   "execution_count": 7,
   "id": "fb93b8ad",
   "metadata": {},
   "outputs": [],
   "source": [
    "from dolfinx import default_scalar_type\n",
    "f = fem.Constant(domain, default_scalar_type(-6))\n"
   ]
  },
  {
   "cell_type": "markdown",
   "id": "80047e12",
   "metadata": {},
   "source": [
    "# Define the variational problem"
   ]
  },
  {
   "cell_type": "code",
   "execution_count": 8,
   "id": "b40abef3",
   "metadata": {},
   "outputs": [],
   "source": [
    "a = ufl.dot(ufl.grad(u), ufl.grad(v)) * ufl.dx\n",
    "L = f * v * ufl.dx"
   ]
  },
  {
   "cell_type": "code",
   "execution_count": 9,
   "id": "4c632f76",
   "metadata": {},
   "outputs": [],
   "source": [
    "from dolfinx.fem.petsc import LinearProblem\n",
    "problem = LinearProblem(a, L, bcs=[bc], petsc_options={\"ksp_type\": \"preonly\", \"pc_type\": \"lu\"})\n",
    "uh = problem.solve()"
   ]
  },
  {
   "cell_type": "code",
   "execution_count": 10,
   "id": "2d3820fd",
   "metadata": {},
   "outputs": [
    {
     "name": "stdout",
     "output_type": "stream",
     "text": [
      "f\n"
     ]
    }
   ],
   "source": [
    "print(uh)"
   ]
  },
  {
   "cell_type": "code",
   "execution_count": 11,
   "id": "2f214f8f",
   "metadata": {},
   "outputs": [
    {
     "name": "stdout",
     "output_type": "stream",
     "text": [
      "Error_L2 : 8.24e-03\n",
      "Error_max : 4.00e-15\n"
     ]
    }
   ],
   "source": [
    "V2 = fem.FunctionSpace(domain, (\"Lagrange\", 2))\n",
    "uex = fem.Function(V2)\n",
    "uex.interpolate(lambda x: 1 + x[0]**2 + 2 * x[1]**2)\n",
    "\n",
    "L2_error = fem.form(ufl.inner(uh - uex, uh - uex) * ufl.dx)\n",
    "error_local = fem.assemble_scalar(L2_error)\n",
    "error_L2 = numpy.sqrt(domain.comm.allreduce(error_local, op=MPI.SUM))\n",
    "error_max = numpy.max(numpy.abs(uD.x.array-uh.x.array))\n",
    "if domain.comm.rank == 0:\n",
    "    print(f\"Error_L2 : {error_L2:.2e}\")\n",
    "    print(f\"Error_max : {error_max:.2e}\")\n"
   ]
  },
  {
   "cell_type": "code",
   "execution_count": 12,
   "id": "194fb6a5",
   "metadata": {},
   "outputs": [
    {
     "name": "stdout",
     "output_type": "stream",
     "text": [
      "html\n"
     ]
    }
   ],
   "source": [
    "import pyvista\n",
    "pyvista.set_jupyter_backend('html')\n",
    "print(pyvista.global_theme.jupyter_backend)"
   ]
  },
  {
   "cell_type": "code",
   "execution_count": 13,
   "id": "557a732d",
   "metadata": {},
   "outputs": [],
   "source": [
    "from dolfinx import plot\n",
    "pyvista.start_xvfb()\n",
    "topology, cell_types, geometry = plot.vtk_mesh(domain, tdim)\n",
    "grid = pyvista.UnstructuredGrid(topology, cell_types, geometry)"
   ]
  },
  {
   "cell_type": "code",
   "execution_count": 14,
   "id": "9ee868d8",
   "metadata": {},
   "outputs": [
    {
     "data": {
      "application/vnd.jupyter.widget-view+json": {
       "model_id": "f0268ac65e5c427db3417dcbd4cb0e2e",
       "version_major": 2,
       "version_minor": 0
      },
      "text/plain": [
       "EmbeddableWidget(value='<iframe srcdoc=\"<!DOCTYPE html>\\n<html>\\n  <head>\\n    <meta http-equiv=&quot;Content-…"
      ]
     },
     "metadata": {},
     "output_type": "display_data"
    }
   ],
   "source": [
    "plotter = pyvista.Plotter()\n",
    "plotter.add_mesh(grid, show_edges=True)\n",
    "plotter.view_xy()\n",
    "if not pyvista.OFF_SCREEN:\n",
    "    plotter.show()\n",
    "else:\n",
    "    figure = plotter.screenshot(\"fundamentals_mesh.png\")"
   ]
  },
  {
   "cell_type": "code",
   "execution_count": null,
   "id": "4517afd3",
   "metadata": {},
   "outputs": [],
   "source": []
  },
  {
   "cell_type": "code",
   "execution_count": null,
   "id": "95e2ab0c",
   "metadata": {},
   "outputs": [],
   "source": []
  },
  {
   "cell_type": "code",
   "execution_count": null,
   "id": "b2d8c2bd",
   "metadata": {},
   "outputs": [],
   "source": []
  }
 ],
 "metadata": {
  "kernelspec": {
   "display_name": "Python 3 (ipykernel)",
   "language": "python",
   "name": "python3"
  },
  "language_info": {
   "codemirror_mode": {
    "name": "ipython",
    "version": 3
   },
   "file_extension": ".py",
   "mimetype": "text/x-python",
   "name": "python",
   "nbconvert_exporter": "python",
   "pygments_lexer": "ipython3",
   "version": "3.10.12"
  }
 },
 "nbformat": 4,
 "nbformat_minor": 5
}
