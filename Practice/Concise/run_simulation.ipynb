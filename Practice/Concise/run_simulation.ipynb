{
 "cells": [
  {
   "cell_type": "markdown",
   "id": "e7a8fca7-d9a4-4a13-9230-4da63e9e07e5",
   "metadata": {},
   "source": [
    "## 1: time_step"
   ]
  },
  {
   "cell_type": "code",
   "execution_count": 1,
   "id": "5ca05d23-135a-4f1f-9b30-bbeacf7dd490",
   "metadata": {},
   "outputs": [
    {
     "name": "stdout",
     "output_type": "stream",
     "text": [
      "DOLFINx version: 0.8.0 based on GIT commit: ad7bf8b551a6795a19aaaec058ecba438d55b279 of https://github.com/FEniCS/dolfinx/\n"
     ]
    }
   ],
   "source": [
    "import dolfinx\n",
    "print(f\"DOLFINx version: {dolfinx.__version__} based on GIT commit: {dolfinx.git_commit_hash} of https://github.com/FEniCS/dolfinx/\")"
   ]
  },
  {
   "cell_type": "code",
   "execution_count": 2,
   "id": "d02705cb-26aa-445b-8528-731951d6a809",
   "metadata": {},
   "outputs": [
    {
     "name": "stdout",
     "output_type": "stream",
     "text": [
      "1: Total tims is  48.31 s\n",
      "2: Total numb steps is  2225\n",
      "1: Total tims is  48.6 s\n",
      "2: Total numb steps is  1213\n",
      "1: Total tims is  49.89 s\n",
      "2: Total numb steps is  608\n"
     ]
    }
   ],
   "source": [
    "from brake_disc_functions import *\n",
    "d = get_time_step_from_angular(61, 10, 1)\n",
    "d = get_time_step_from_angular(112, 10, 1)\n",
    "d = get_time_step_from_angular(224, 10, 1)\n"
   ]
  },
  {
   "cell_type": "code",
   "execution_count": null,
   "id": "03822a43-b1db-4f24-a070-908113d03f60",
   "metadata": {},
   "outputs": [
    {
     "name": "stdout",
     "output_type": "stream",
     "text": [
      "1: Total tims is  48.31 s\n",
      "2: Total numb steps is  2225\n",
      "The file 'm-3-10.msh' exists, start reading:\n",
      "Info    : Reading 'm-3-10.msh'...\n",
      "Info    : 168 entities\n",
      "Info    : 10751 nodes\n",
      "Info    : 43604 elements\n",
      "Info    : Done reading 'm-3-10.msh'\n",
      "\n"
     ]
    },
    {
     "name": "stderr",
     "output_type": "stream",
     "text": [
      "2024-05-14 11:35:15.114 (   5.801s) [main            ]              petsc.cpp:700   INFO| PETSc Krylov solver starting to solve system.\n",
      "2024-05-14 11:35:15.162 (   5.849s) [main            ]              petsc.cpp:700   INFO| PETSc Krylov solver starting to solve system.\n",
      "2024-05-14 11:35:15.247 (   5.934s) [main            ]       NewtonSolver.cpp:38    INFO| Newton iteration 2: r (abs) = 0.0179346 (tol = 1e-10) r (rel) = 2.88281e-06(tol = 1e-06)\n",
      "2024-05-14 11:35:15.281 (   5.968s) [main            ]              petsc.cpp:700   INFO| PETSc Krylov solver starting to solve system.\n",
      "2024-05-14 11:35:15.300 (   5.988s) [main            ]       NewtonSolver.cpp:38    INFO| Newton iteration 3: r (abs) = 8.38966e-08 (tol = 1e-10) r (rel) = 1.34855e-11(tol = 1e-06)\n",
      "2024-05-14 11:35:15.302 (   5.988s) [main            ]       NewtonSolver.cpp:252   INFO| Newton solver finished in 3 iterations and 14 linear solver iterations.\n"
     ]
    },
    {
     "name": "stdout",
     "output_type": "stream",
     "text": [
      "1: Rotation has applied for 61 degree. 2: Current time is 0.0 s. 3: Completion is 0.0 %. "
     ]
    },
    {
     "name": "stderr",
     "output_type": "stream",
     "text": [
      "2024-05-14 11:35:18.469 (   9.156s) [main            ]topologycomputation.cpp:799   INFO| Requesting connectivity (3,0) - (0,0)\n",
      "2024-05-14 11:35:18.472 (   9.159s) [main            ]topologycomputation.cpp:799   INFO| Requesting connectivity (3,0) - (0,0)\n",
      "2024-05-14 11:35:18.472 (   9.159s) [main            ]topologycomputation.cpp:799   INFO| Requesting connectivity (2,0) - (0,0)\n",
      "2024-05-14 11:35:18.473 (   9.159s) [main            ]topologycomputation.cpp:799   INFO| Requesting connectivity (3,0) - (0,0)\n",
      "2024-05-14 11:35:18.473 (   9.160s) [main            ]topologycomputation.cpp:799   INFO| Requesting connectivity (3,0) - (0,0)\n",
      "2024-05-14 11:35:18.473 (   9.160s) [main            ]topologycomputation.cpp:799   INFO| Requesting connectivity (2,0) - (0,0)\n",
      "2024-05-14 11:35:18.473 (   9.160s) [main            ]topologycomputation.cpp:799   INFO| Requesting connectivity (3,0) - (0,0)\n",
      "2024-05-14 11:35:18.473 (   9.160s) [main            ]topologycomputation.cpp:799   INFO| Requesting connectivity (3,0) - (0,0)\n",
      "2024-05-14 11:35:18.474 (   9.160s) [main            ]topologycomputation.cpp:799   INFO| Requesting connectivity (2,0) - (0,0)\n",
      "2024-05-14 11:35:18.474 (   9.160s) [main            ]topologycomputation.cpp:799   INFO| Requesting connectivity (3,0) - (0,0)\n",
      "2024-05-14 11:35:18.474 (   9.161s) [main            ]topologycomputation.cpp:799   INFO| Requesting connectivity (3,0) - (0,0)\n",
      "2024-05-14 11:35:18.474 (   9.161s) [main            ]topologycomputation.cpp:799   INFO| Requesting connectivity (2,0) - (0,0)\n",
      "2024-05-14 11:35:18.474 (   9.161s) [main            ]topologycomputation.cpp:799   INFO| Requesting connectivity (3,0) - (0,0)\n",
      "2024-05-14 11:35:18.475 (   9.161s) [main            ]topologycomputation.cpp:799   INFO| Requesting connectivity (3,0) - (0,0)\n",
      "2024-05-14 11:35:18.475 (   9.161s) [main            ]topologycomputation.cpp:799   INFO| Requesting connectivity (2,0) - (0,0)\n",
      "2024-05-14 11:35:18.475 (   9.161s) [main            ]topologycomputation.cpp:799   INFO| Requesting connectivity (3,0) - (0,0)\n",
      "2024-05-14 11:35:18.475 (   9.162s) [main            ]topologycomputation.cpp:799   INFO| Requesting connectivity (3,0) - (0,0)\n",
      "2024-05-14 11:35:18.475 (   9.162s) [main            ]topologycomputation.cpp:799   INFO| Requesting connectivity (2,0) - (0,0)\n",
      "2024-05-14 11:35:18.475 (   9.162s) [main            ]topologycomputation.cpp:799   INFO| Requesting connectivity (3,0) - (0,0)\n",
      "2024-05-14 11:35:18.476 (   9.162s) [main            ]topologycomputation.cpp:799   INFO| Requesting connectivity (3,0) - (0,0)\n",
      "2024-05-14 11:35:18.476 (   9.162s) [main            ]topologycomputation.cpp:799   INFO| Requesting connectivity (2,0) - (0,0)\n",
      "2024-05-14 11:35:18.476 (   9.162s) [main            ]topologycomputation.cpp:799   INFO| Requesting connectivity (3,0) - (0,0)\n",
      "2024-05-14 11:35:18.476 (   9.163s) [main            ]topologycomputation.cpp:799   INFO| Requesting connectivity (3,0) - (0,0)\n",
      "2024-05-14 11:35:18.476 (   9.163s) [main            ]topologycomputation.cpp:799   INFO| Requesting connectivity (2,0) - (0,0)\n",
      "2024-05-14 11:35:18.476 (   9.163s) [main            ]topologycomputation.cpp:799   INFO| Requesting connectivity (3,0) - (0,0)\n",
      "2024-05-14 11:35:18.477 (   9.163s) [main            ]topologycomputation.cpp:799   INFO| Requesting connectivity (3,0) - (0,0)\n",
      "2024-05-14 11:35:18.477 (   9.163s) [main            ]topologycomputation.cpp:799   INFO| Requesting connectivity (2,0) - (0,0)\n",
      "2024-05-14 11:35:18.477 (   9.163s) [main            ]topologycomputation.cpp:799   INFO| Requesting connectivity (3,0) - (0,0)\n",
      "2024-05-14 11:35:18.477 (   9.164s) [main            ]topologycomputation.cpp:799   INFO| Requesting connectivity (3,0) - (0,0)\n",
      "2024-05-14 11:35:18.477 (   9.164s) [main            ]topologycomputation.cpp:799   INFO| Requesting connectivity (2,0) - (0,0)\n",
      "2024-05-14 11:35:18.477 (   9.164s) [main            ]topologycomputation.cpp:799   INFO| Requesting connectivity (3,0) - (0,0)\n",
      "2024-05-14 11:35:18.478 (   9.164s) [main            ]topologycomputation.cpp:799   INFO| Requesting connectivity (3,0) - (0,0)\n",
      "2024-05-14 11:35:18.478 (   9.164s) [main            ]topologycomputation.cpp:799   INFO| Requesting connectivity (2,0) - (0,0)\n",
      "2024-05-14 11:35:18.478 (   9.165s) [main            ]topologycomputation.cpp:799   INFO| Requesting connectivity (3,0) - (0,0)\n",
      "2024-05-14 11:35:18.478 (   9.165s) [main            ]topologycomputation.cpp:799   INFO| Requesting connectivity (3,0) - (0,0)\n",
      "2024-05-14 11:35:18.478 (   9.165s) [main            ]topologycomputation.cpp:799   INFO| Requesting connectivity (2,0) - (0,0)\n",
      "2024-05-14 11:35:18.479 (   9.165s) [main            ]topologycomputation.cpp:799   INFO| Requesting connectivity (3,0) - (0,0)\n",
      "2024-05-14 11:35:18.479 (   9.165s) [main            ]topologycomputation.cpp:799   INFO| Requesting connectivity (3,0) - (0,0)\n",
      "2024-05-14 11:35:18.479 (   9.165s) [main            ]topologycomputation.cpp:799   INFO| Requesting connectivity (2,0) - (0,0)\n",
      "2024-05-14 11:35:18.479 (   9.166s) [main            ]topologycomputation.cpp:799   INFO| Requesting connectivity (3,0) - (0,0)\n",
      "2024-05-14 11:35:18.479 (   9.166s) [main            ]topologycomputation.cpp:799   INFO| Requesting connectivity (3,0) - (0,0)\n",
      "2024-05-14 11:35:18.479 (   9.166s) [main            ]topologycomputation.cpp:799   INFO| Requesting connectivity (2,0) - (0,0)\n",
      "2024-05-14 11:35:18.480 (   9.166s) [main            ]topologycomputation.cpp:799   INFO| Requesting connectivity (3,0) - (0,0)\n",
      "2024-05-14 11:35:18.480 (   9.167s) [main            ]topologycomputation.cpp:799   INFO| Requesting connectivity (3,0) - (0,0)\n",
      "2024-05-14 11:35:18.480 (   9.167s) [main            ]topologycomputation.cpp:799   INFO| Requesting connectivity (2,0) - (0,0)\n",
      "2024-05-14 11:35:18.480 (   9.167s) [main            ]topologycomputation.cpp:799   INFO| Requesting connectivity (3,0) - (0,0)\n",
      "2024-05-14 11:35:18.481 (   9.167s) [main            ]topologycomputation.cpp:799   INFO| Requesting connectivity (3,0) - (0,0)\n",
      "2024-05-14 11:35:18.481 (   9.167s) [main            ]topologycomputation.cpp:799   INFO| Requesting connectivity (2,0) - (0,0)\n",
      "2024-05-14 11:35:18.481 (   9.167s) [main            ]topologycomputation.cpp:799   INFO| Requesting connectivity (3,0) - (0,0)\n",
      "2024-05-14 11:35:18.481 (   9.168s) [main            ]topologycomputation.cpp:799   INFO| Requesting connectivity (3,0) - (0,0)\n",
      "2024-05-14 11:35:18.481 (   9.168s) [main            ]topologycomputation.cpp:799   INFO| Requesting connectivity (2,0) - (0,0)\n",
      "2024-05-14 11:35:18.481 (   9.168s) [main            ]topologycomputation.cpp:799   INFO| Requesting connectivity (3,0) - (0,0)\n",
      "2024-05-14 11:35:18.481 (   9.168s) [main            ]topologycomputation.cpp:799   INFO| Requesting connectivity (3,0) - (0,0)\n",
      "2024-05-14 11:35:18.481 (   9.168s) [main            ]topologycomputation.cpp:799   INFO| Requesting connectivity (2,0) - (0,0)\n",
      "2024-05-14 11:35:18.482 (   9.169s) [main            ]topologycomputation.cpp:799   INFO| Requesting connectivity (2,0) - (3,0)\n",
      "2024-05-14 11:35:18.482 (   9.169s) [main            ]topologycomputation.cpp:799   INFO| Requesting connectivity (2,0) - (0,0)\n",
      "2024-05-14 11:35:18.482 (   9.169s) [main            ]topologycomputation.cpp:799   INFO| Requesting connectivity (2,0) - (2,0)\n",
      "2024-05-14 11:35:18.484 (   9.171s) [main            ]topologycomputation.cpp:799   INFO| Requesting connectivity (0,0) - (3,0)\n",
      "2024-05-14 11:35:18.484 (   9.171s) [main            ]topologycomputation.cpp:799   INFO| Requesting connectivity (3,0) - (0,0)\n",
      "2024-05-14 11:35:18.489 (   9.176s) [main            ]topologycomputation.cpp:799   INFO| Requesting connectivity (3,0) - (0,0)\n",
      "2024-05-14 11:35:18.490 (   9.176s) [main            ]topologycomputation.cpp:799   INFO| Requesting connectivity (3,0) - (0,0)\n",
      "2024-05-14 11:35:18.490 (   9.176s) [main            ]topologycomputation.cpp:799   INFO| Requesting connectivity (2,0) - (0,0)\n",
      "2024-05-14 11:35:23.552 (  14.239s) [main            ]topologycomputation.cpp:799   INFO| Requesting connectivity (2,0) - (3,0)\n",
      "2024-05-14 11:35:23.552 (  14.239s) [main            ]topologycomputation.cpp:799   INFO| Requesting connectivity (3,0) - (2,0)\n",
      "2024-05-14 11:35:23.553 (  14.240s) [main            ]topologycomputation.cpp:799   INFO| Requesting connectivity (2,0) - (3,0)\n",
      "2024-05-14 11:35:23.553 (  14.240s) [main            ]topologycomputation.cpp:799   INFO| Requesting connectivity (3,0) - (2,0)\n"
     ]
    },
    {
     "name": "stdout",
     "output_type": "stream",
     "text": [
      "1: Completion is 0.0 %. "
     ]
    },
    {
     "name": "stderr",
     "output_type": "stream",
     "text": [
      "2024-05-14 11:35:28.476 (  19.163s) [main            ]topologycomputation.cpp:799   INFO| Requesting connectivity (2,0) - (3,0)\n",
      "2024-05-14 11:35:28.476 (  19.163s) [main            ]topologycomputation.cpp:799   INFO| Requesting connectivity (3,0) - (2,0)\n",
      "2024-05-14 11:35:28.477 (  19.164s) [main            ]topologycomputation.cpp:799   INFO| Requesting connectivity (2,0) - (3,0)\n",
      "2024-05-14 11:35:28.477 (  19.164s) [main            ]topologycomputation.cpp:799   INFO| Requesting connectivity (3,0) - (2,0)\n",
      "2024-05-14 11:35:28.478 (  19.167s) [main            ]topologycomputation.cpp:799   INFO| Requesting connectivity (2,0) - (3,0)\n",
      "2024-05-14 11:35:28.498 (  19.185s) [main            ]    SparsityPattern.cpp:385   INFO| Column ghost size increased from 0 to 0\n",
      "2024-05-14 11:35:28.552 (  19.239s) [main            ]              petsc.cpp:700   INFO| PETSc Krylov solver starting to solve system.\n",
      "2024-05-14 11:35:28.704 (  19.391s) [main            ]              petsc.cpp:700   INFO| PETSc Krylov solver starting to solve system.\n"
     ]
    },
    {
     "name": "stdout",
     "output_type": "stream",
     "text": [
      "1: Rotation has applied for 122 degree. 2: Current time is 0.0 s. 3: Completion is 0.0 %. "
     ]
    },
    {
     "name": "stderr",
     "output_type": "stream",
     "text": [
      "2024-05-14 11:35:28.755 (  19.442s) [main            ]       NewtonSolver.cpp:38    INFO| Newton iteration 2: r (abs) = 8.57887e-07 (tol = 1e-10) r (rel) = 4.57945e-06(tol = 1e-06)\n",
      "2024-05-14 11:35:28.796 (  19.482s) [main            ]              petsc.cpp:700   INFO| PETSc Krylov solver starting to solve system.\n",
      "2024-05-14 11:35:28.846 (  19.533s) [main            ]       NewtonSolver.cpp:38    INFO| Newton iteration 3: r (abs) = 5.02603e-12 (tol = 1e-10) r (rel) = 2.68293e-11(tol = 1e-06)\n",
      "2024-05-14 11:35:28.846 (  19.533s) [main            ]       NewtonSolver.cpp:252   INFO| Newton solver finished in 3 iterations and 15 linear solver iterations.\n",
      "2024-05-14 11:35:28.846 (  19.533s) [main            ]      xdmf_function.cpp:50    INFO| Adding function to node \"/Xdmf/Domain/Grid/Grid\"\n",
      "2024-05-14 11:35:29.391 (  20.077s) [main            ]topologycomputation.cpp:799   INFO| Requesting connectivity (3,0) - (0,0)\n",
      "2024-05-14 11:35:29.391 (  20.078s) [main            ]topologycomputation.cpp:799   INFO| Requesting connectivity (3,0) - (0,0)\n",
      "2024-05-14 11:35:29.391 (  20.078s) [main            ]topologycomputation.cpp:799   INFO| Requesting connectivity (2,0) - (0,0)\n",
      "2024-05-14 11:35:29.391 (  20.078s) [main            ]topologycomputation.cpp:799   INFO| Requesting connectivity (3,0) - (0,0)\n",
      "2024-05-14 11:35:29.391 (  20.078s) [main            ]topologycomputation.cpp:799   INFO| Requesting connectivity (3,0) - (0,0)\n",
      "2024-05-14 11:35:29.392 (  20.078s) [main            ]topologycomputation.cpp:799   INFO| Requesting connectivity (2,0) - (0,0)\n",
      "2024-05-14 11:35:29.392 (  20.078s) [main            ]topologycomputation.cpp:799   INFO| Requesting connectivity (3,0) - (0,0)\n",
      "2024-05-14 11:35:29.392 (  20.079s) [main            ]topologycomputation.cpp:799   INFO| Requesting connectivity (3,0) - (0,0)\n",
      "2024-05-14 11:35:29.392 (  20.079s) [main            ]topologycomputation.cpp:799   INFO| Requesting connectivity (2,0) - (0,0)\n",
      "2024-05-14 11:35:29.393 (  20.079s) [main            ]topologycomputation.cpp:799   INFO| Requesting connectivity (3,0) - (0,0)\n",
      "2024-05-14 11:35:29.393 (  20.079s) [main            ]topologycomputation.cpp:799   INFO| Requesting connectivity (3,0) - (0,0)\n",
      "2024-05-14 11:35:29.393 (  20.079s) [main            ]topologycomputation.cpp:799   INFO| Requesting connectivity (2,0) - (0,0)\n",
      "2024-05-14 11:35:29.393 (  20.080s) [main            ]topologycomputation.cpp:799   INFO| Requesting connectivity (3,0) - (0,0)\n",
      "2024-05-14 11:35:29.393 (  20.080s) [main            ]topologycomputation.cpp:799   INFO| Requesting connectivity (3,0) - (0,0)\n",
      "2024-05-14 11:35:29.393 (  20.080s) [main            ]topologycomputation.cpp:799   INFO| Requesting connectivity (2,0) - (0,0)\n",
      "2024-05-14 11:35:29.393 (  20.080s) [main            ]topologycomputation.cpp:799   INFO| Requesting connectivity (3,0) - (0,0)\n",
      "2024-05-14 11:35:29.394 (  20.080s) [main            ]topologycomputation.cpp:799   INFO| Requesting connectivity (3,0) - (0,0)\n",
      "2024-05-14 11:35:29.394 (  20.080s) [main            ]topologycomputation.cpp:799   INFO| Requesting connectivity (2,0) - (0,0)\n",
      "2024-05-14 11:35:29.394 (  20.081s) [main            ]topologycomputation.cpp:799   INFO| Requesting connectivity (3,0) - (0,0)\n",
      "2024-05-14 11:35:29.394 (  20.081s) [main            ]topologycomputation.cpp:799   INFO| Requesting connectivity (3,0) - (0,0)\n",
      "2024-05-14 11:35:29.394 (  20.081s) [main            ]topologycomputation.cpp:799   INFO| Requesting connectivity (2,0) - (0,0)\n",
      "2024-05-14 11:35:29.394 (  20.081s) [main            ]topologycomputation.cpp:799   INFO| Requesting connectivity (3,0) - (0,0)\n",
      "2024-05-14 11:35:29.395 (  20.081s) [main            ]topologycomputation.cpp:799   INFO| Requesting connectivity (3,0) - (0,0)\n",
      "2024-05-14 11:35:29.395 (  20.082s) [main            ]topologycomputation.cpp:799   INFO| Requesting connectivity (2,0) - (0,0)\n",
      "2024-05-14 11:35:29.395 (  20.082s) [main            ]topologycomputation.cpp:799   INFO| Requesting connectivity (3,0) - (0,0)\n",
      "2024-05-14 11:35:29.396 (  20.083s) [main            ]topologycomputation.cpp:799   INFO| Requesting connectivity (3,0) - (0,0)\n",
      "2024-05-14 11:35:29.396 (  20.083s) [main            ]topologycomputation.cpp:799   INFO| Requesting connectivity (2,0) - (0,0)\n",
      "2024-05-14 11:35:29.396 (  20.083s) [main            ]topologycomputation.cpp:799   INFO| Requesting connectivity (3,0) - (0,0)\n",
      "2024-05-14 11:35:29.397 (  20.083s) [main            ]topologycomputation.cpp:799   INFO| Requesting connectivity (3,0) - (0,0)\n",
      "2024-05-14 11:35:29.397 (  20.083s) [main            ]topologycomputation.cpp:799   INFO| Requesting connectivity (2,0) - (0,0)\n",
      "2024-05-14 11:35:29.397 (  20.083s) [main            ]topologycomputation.cpp:799   INFO| Requesting connectivity (3,0) - (0,0)\n",
      "2024-05-14 11:35:29.397 (  20.084s) [main            ]topologycomputation.cpp:799   INFO| Requesting connectivity (3,0) - (0,0)\n",
      "2024-05-14 11:35:29.397 (  20.084s) [main            ]topologycomputation.cpp:799   INFO| Requesting connectivity (2,0) - (0,0)\n",
      "2024-05-14 11:35:29.397 (  20.084s) [main            ]topologycomputation.cpp:799   INFO| Requesting connectivity (3,0) - (0,0)\n",
      "2024-05-14 11:35:29.397 (  20.084s) [main            ]topologycomputation.cpp:799   INFO| Requesting connectivity (3,0) - (0,0)\n",
      "2024-05-14 11:35:29.397 (  20.084s) [main            ]topologycomputation.cpp:799   INFO| Requesting connectivity (2,0) - (0,0)\n",
      "2024-05-14 11:35:29.399 (  20.085s) [main            ]topologycomputation.cpp:799   INFO| Requesting connectivity (3,0) - (0,0)\n",
      "2024-05-14 11:35:29.400 (  20.086s) [main            ]topologycomputation.cpp:799   INFO| Requesting connectivity (3,0) - (0,0)\n",
      "2024-05-14 11:35:29.400 (  20.086s) [main            ]topologycomputation.cpp:799   INFO| Requesting connectivity (2,0) - (0,0)\n",
      "2024-05-14 11:35:29.400 (  20.087s) [main            ]topologycomputation.cpp:799   INFO| Requesting connectivity (3,0) - (0,0)\n",
      "2024-05-14 11:35:29.400 (  20.087s) [main            ]topologycomputation.cpp:799   INFO| Requesting connectivity (3,0) - (0,0)\n",
      "2024-05-14 11:35:29.400 (  20.087s) [main            ]topologycomputation.cpp:799   INFO| Requesting connectivity (2,0) - (0,0)\n",
      "2024-05-14 11:35:29.400 (  20.087s) [main            ]topologycomputation.cpp:799   INFO| Requesting connectivity (3,0) - (0,0)\n",
      "2024-05-14 11:35:29.401 (  20.087s) [main            ]topologycomputation.cpp:799   INFO| Requesting connectivity (3,0) - (0,0)\n",
      "2024-05-14 11:35:29.401 (  20.087s) [main            ]topologycomputation.cpp:799   INFO| Requesting connectivity (2,0) - (0,0)\n",
      "2024-05-14 11:35:29.401 (  20.088s) [main            ]topologycomputation.cpp:799   INFO| Requesting connectivity (3,0) - (0,0)\n",
      "2024-05-14 11:35:29.406 (  20.093s) [main            ]topologycomputation.cpp:799   INFO| Requesting connectivity (3,0) - (0,0)\n",
      "2024-05-14 11:35:29.406 (  20.093s) [main            ]topologycomputation.cpp:799   INFO| Requesting connectivity (2,0) - (0,0)\n",
      "2024-05-14 11:35:29.406 (  20.093s) [main            ]topologycomputation.cpp:799   INFO| Requesting connectivity (3,0) - (0,0)\n",
      "2024-05-14 11:35:29.406 (  20.093s) [main            ]topologycomputation.cpp:799   INFO| Requesting connectivity (3,0) - (0,0)\n",
      "2024-05-14 11:35:29.406 (  20.093s) [main            ]topologycomputation.cpp:799   INFO| Requesting connectivity (2,0) - (0,0)\n",
      "2024-05-14 11:35:29.407 (  20.093s) [main            ]topologycomputation.cpp:799   INFO| Requesting connectivity (3,0) - (0,0)\n",
      "2024-05-14 11:35:29.407 (  20.093s) [main            ]topologycomputation.cpp:799   INFO| Requesting connectivity (3,0) - (0,0)\n",
      "2024-05-14 11:35:29.407 (  20.093s) [main            ]topologycomputation.cpp:799   INFO| Requesting connectivity (2,0) - (0,0)\n",
      "2024-05-14 11:35:29.408 (  20.094s) [main            ]topologycomputation.cpp:799   INFO| Requesting connectivity (2,0) - (3,0)\n",
      "2024-05-14 11:35:29.409 (  20.095s) [main            ]topologycomputation.cpp:799   INFO| Requesting connectivity (2,0) - (0,0)\n",
      "2024-05-14 11:35:29.409 (  20.095s) [main            ]topologycomputation.cpp:799   INFO| Requesting connectivity (2,0) - (2,0)\n",
      "2024-05-14 11:35:29.411 (  20.097s) [main            ]topologycomputation.cpp:799   INFO| Requesting connectivity (0,0) - (3,0)\n",
      "2024-05-14 11:35:29.411 (  20.097s) [main            ]topologycomputation.cpp:799   INFO| Requesting connectivity (3,0) - (0,0)\n",
      "2024-05-14 11:35:29.413 (  20.100s) [main            ]topologycomputation.cpp:799   INFO| Requesting connectivity (3,0) - (0,0)\n",
      "2024-05-14 11:35:29.421 (  20.108s) [main            ]topologycomputation.cpp:799   INFO| Requesting connectivity (3,0) - (0,0)\n",
      "2024-05-14 11:35:29.421 (  20.108s) [main            ]topologycomputation.cpp:799   INFO| Requesting connectivity (2,0) - (0,0)\n",
      "2024-05-14 11:35:34.327 (  25.016s) [main            ]topologycomputation.cpp:799   INFO| Requesting connectivity (2,0) - (3,0)\n",
      "2024-05-14 11:35:34.330 (  25.016s) [main            ]topologycomputation.cpp:799   INFO| Requesting connectivity (3,0) - (2,0)\n",
      "2024-05-14 11:35:34.331 (  25.018s) [main            ]topologycomputation.cpp:799   INFO| Requesting connectivity (2,0) - (3,0)\n",
      "2024-05-14 11:35:34.331 (  25.018s) [main            ]topologycomputation.cpp:799   INFO| Requesting connectivity (3,0) - (2,0)\n"
     ]
    },
    {
     "name": "stdout",
     "output_type": "stream",
     "text": [
      "1: Completion is 0.0 %. "
     ]
    },
    {
     "name": "stderr",
     "output_type": "stream",
     "text": [
      "2024-05-14 11:35:39.254 (  29.940s) [main            ]topologycomputation.cpp:799   INFO| Requesting connectivity (2,0) - (3,0)\n",
      "2024-05-14 11:35:39.254 (  29.940s) [main            ]topologycomputation.cpp:799   INFO| Requesting connectivity (3,0) - (2,0)\n",
      "2024-05-14 11:35:39.256 (  29.943s) [main            ]topologycomputation.cpp:799   INFO| Requesting connectivity (2,0) - (3,0)\n",
      "2024-05-14 11:35:39.257 (  29.943s) [main            ]topologycomputation.cpp:799   INFO| Requesting connectivity (3,0) - (2,0)\n",
      "2024-05-14 11:35:39.262 (  29.949s) [main            ]topologycomputation.cpp:799   INFO| Requesting connectivity (2,0) - (3,0)\n",
      "2024-05-14 11:35:39.278 (  29.965s) [main            ]    SparsityPattern.cpp:385   INFO| Column ghost size increased from 0 to 0\n",
      "2024-05-14 11:35:39.317 (  30.004s) [main            ]              petsc.cpp:700   INFO| PETSc Krylov solver starting to solve system.\n",
      "2024-05-14 11:35:39.434 (  30.127s) [main            ]              petsc.cpp:700   INFO| PETSc Krylov solver starting to solve system.\n",
      "2024-05-14 11:35:39.461 (  30.147s) [main            ]       NewtonSolver.cpp:38    INFO| Newton iteration 2: r (abs) = 1.21387e-06 (tol = 1e-10) r (rel) = 5.13854e-06(tol = 1e-06)\n",
      "2024-05-14 11:35:39.497 (  30.184s) [main            ]              petsc.cpp:700   INFO| PETSc Krylov solver starting to solve system.\n"
     ]
    },
    {
     "name": "stdout",
     "output_type": "stream",
     "text": [
      "1: Rotation has applied for 183 degree. 2: Current time is 0.0 s. 3: Completion is 0.1 %. "
     ]
    },
    {
     "name": "stderr",
     "output_type": "stream",
     "text": [
      "2024-05-14 11:35:39.534 (  30.221s) [main            ]       NewtonSolver.cpp:38    INFO| Newton iteration 3: r (abs) = 8.04872e-12 (tol = 1e-10) r (rel) = 3.40718e-11(tol = 1e-06)\n",
      "2024-05-14 11:35:39.534 (  30.221s) [main            ]       NewtonSolver.cpp:252   INFO| Newton solver finished in 3 iterations and 15 linear solver iterations.\n",
      "2024-05-14 11:35:39.535 (  30.222s) [main            ]      xdmf_function.cpp:50    INFO| Adding function to node \"/Xdmf/Domain/Grid/Grid\"\n",
      "2024-05-14 11:35:39.598 (  30.284s) [main            ]topologycomputation.cpp:799   INFO| Requesting connectivity (3,0) - (0,0)\n",
      "2024-05-14 11:35:39.600 (  30.286s) [main            ]topologycomputation.cpp:799   INFO| Requesting connectivity (3,0) - (0,0)\n",
      "2024-05-14 11:35:39.600 (  30.286s) [main            ]topologycomputation.cpp:799   INFO| Requesting connectivity (2,0) - (0,0)\n",
      "2024-05-14 11:35:39.600 (  30.287s) [main            ]topologycomputation.cpp:799   INFO| Requesting connectivity (3,0) - (0,0)\n",
      "2024-05-14 11:35:39.600 (  30.287s) [main            ]topologycomputation.cpp:799   INFO| Requesting connectivity (3,0) - (0,0)\n",
      "2024-05-14 11:35:39.601 (  30.287s) [main            ]topologycomputation.cpp:799   INFO| Requesting connectivity (2,0) - (0,0)\n",
      "2024-05-14 11:35:39.601 (  30.287s) [main            ]topologycomputation.cpp:799   INFO| Requesting connectivity (3,0) - (0,0)\n",
      "2024-05-14 11:35:39.601 (  30.288s) [main            ]topologycomputation.cpp:799   INFO| Requesting connectivity (3,0) - (0,0)\n",
      "2024-05-14 11:35:39.601 (  30.288s) [main            ]topologycomputation.cpp:799   INFO| Requesting connectivity (2,0) - (0,0)\n",
      "2024-05-14 11:35:39.601 (  30.288s) [main            ]topologycomputation.cpp:799   INFO| Requesting connectivity (3,0) - (0,0)\n",
      "2024-05-14 11:35:39.602 (  30.288s) [main            ]topologycomputation.cpp:799   INFO| Requesting connectivity (3,0) - (0,0)\n",
      "2024-05-14 11:35:39.602 (  30.289s) [main            ]topologycomputation.cpp:799   INFO| Requesting connectivity (2,0) - (0,0)\n",
      "2024-05-14 11:35:39.602 (  30.289s) [main            ]topologycomputation.cpp:799   INFO| Requesting connectivity (3,0) - (0,0)\n",
      "2024-05-14 11:35:39.603 (  30.290s) [main            ]topologycomputation.cpp:799   INFO| Requesting connectivity (3,0) - (0,0)\n",
      "2024-05-14 11:35:39.603 (  30.290s) [main            ]topologycomputation.cpp:799   INFO| Requesting connectivity (2,0) - (0,0)\n",
      "2024-05-14 11:35:39.604 (  30.291s) [main            ]topologycomputation.cpp:799   INFO| Requesting connectivity (3,0) - (0,0)\n",
      "2024-05-14 11:35:39.605 (  30.291s) [main            ]topologycomputation.cpp:799   INFO| Requesting connectivity (3,0) - (0,0)\n",
      "2024-05-14 11:35:39.605 (  30.291s) [main            ]topologycomputation.cpp:799   INFO| Requesting connectivity (2,0) - (0,0)\n",
      "2024-05-14 11:35:39.605 (  30.292s) [main            ]topologycomputation.cpp:799   INFO| Requesting connectivity (3,0) - (0,0)\n",
      "2024-05-14 11:35:39.605 (  30.292s) [main            ]topologycomputation.cpp:799   INFO| Requesting connectivity (3,0) - (0,0)\n",
      "2024-05-14 11:35:39.605 (  30.292s) [main            ]topologycomputation.cpp:799   INFO| Requesting connectivity (2,0) - (0,0)\n",
      "2024-05-14 11:35:39.605 (  30.293s) [main            ]topologycomputation.cpp:799   INFO| Requesting connectivity (3,0) - (0,0)\n",
      "2024-05-14 11:35:39.606 (  30.293s) [main            ]topologycomputation.cpp:799   INFO| Requesting connectivity (3,0) - (0,0)\n",
      "2024-05-14 11:35:39.606 (  30.293s) [main            ]topologycomputation.cpp:799   INFO| Requesting connectivity (2,0) - (0,0)\n",
      "2024-05-14 11:35:39.609 (  30.295s) [main            ]topologycomputation.cpp:799   INFO| Requesting connectivity (3,0) - (0,0)\n",
      "2024-05-14 11:35:39.609 (  30.295s) [main            ]topologycomputation.cpp:799   INFO| Requesting connectivity (3,0) - (0,0)\n",
      "2024-05-14 11:35:39.609 (  30.295s) [main            ]topologycomputation.cpp:799   INFO| Requesting connectivity (2,0) - (0,0)\n",
      "2024-05-14 11:35:39.609 (  30.296s) [main            ]topologycomputation.cpp:799   INFO| Requesting connectivity (3,0) - (0,0)\n",
      "2024-05-14 11:35:39.609 (  30.296s) [main            ]topologycomputation.cpp:799   INFO| Requesting connectivity (3,0) - (0,0)\n",
      "2024-05-14 11:35:39.609 (  30.296s) [main            ]topologycomputation.cpp:799   INFO| Requesting connectivity (2,0) - (0,0)\n",
      "2024-05-14 11:35:39.610 (  30.296s) [main            ]topologycomputation.cpp:799   INFO| Requesting connectivity (3,0) - (0,0)\n",
      "2024-05-14 11:35:39.610 (  30.297s) [main            ]topologycomputation.cpp:799   INFO| Requesting connectivity (3,0) - (0,0)\n",
      "2024-05-14 11:35:39.610 (  30.297s) [main            ]topologycomputation.cpp:799   INFO| Requesting connectivity (2,0) - (0,0)\n",
      "2024-05-14 11:35:39.610 (  30.297s) [main            ]topologycomputation.cpp:799   INFO| Requesting connectivity (3,0) - (0,0)\n",
      "2024-05-14 11:35:39.611 (  30.297s) [main            ]topologycomputation.cpp:799   INFO| Requesting connectivity (3,0) - (0,0)\n",
      "2024-05-14 11:35:39.611 (  30.297s) [main            ]topologycomputation.cpp:799   INFO| Requesting connectivity (2,0) - (0,0)\n",
      "2024-05-14 11:35:39.611 (  30.297s) [main            ]topologycomputation.cpp:799   INFO| Requesting connectivity (3,0) - (0,0)\n",
      "2024-05-14 11:35:39.611 (  30.298s) [main            ]topologycomputation.cpp:799   INFO| Requesting connectivity (3,0) - (0,0)\n",
      "2024-05-14 11:35:39.611 (  30.298s) [main            ]topologycomputation.cpp:799   INFO| Requesting connectivity (2,0) - (0,0)\n",
      "2024-05-14 11:35:39.611 (  30.298s) [main            ]topologycomputation.cpp:799   INFO| Requesting connectivity (3,0) - (0,0)\n",
      "2024-05-14 11:35:39.612 (  30.298s) [main            ]topologycomputation.cpp:799   INFO| Requesting connectivity (3,0) - (0,0)\n",
      "2024-05-14 11:35:39.612 (  30.298s) [main            ]topologycomputation.cpp:799   INFO| Requesting connectivity (2,0) - (0,0)\n",
      "2024-05-14 11:35:39.612 (  30.298s) [main            ]topologycomputation.cpp:799   INFO| Requesting connectivity (3,0) - (0,0)\n",
      "2024-05-14 11:35:39.612 (  30.299s) [main            ]topologycomputation.cpp:799   INFO| Requesting connectivity (3,0) - (0,0)\n",
      "2024-05-14 11:35:39.612 (  30.299s) [main            ]topologycomputation.cpp:799   INFO| Requesting connectivity (2,0) - (0,0)\n",
      "2024-05-14 11:35:39.612 (  30.299s) [main            ]topologycomputation.cpp:799   INFO| Requesting connectivity (3,0) - (0,0)\n",
      "2024-05-14 11:35:39.613 (  30.299s) [main            ]topologycomputation.cpp:799   INFO| Requesting connectivity (3,0) - (0,0)\n",
      "2024-05-14 11:35:39.613 (  30.299s) [main            ]topologycomputation.cpp:799   INFO| Requesting connectivity (2,0) - (0,0)\n",
      "2024-05-14 11:35:39.613 (  30.299s) [main            ]topologycomputation.cpp:799   INFO| Requesting connectivity (3,0) - (0,0)\n",
      "2024-05-14 11:35:39.615 (  30.302s) [main            ]topologycomputation.cpp:799   INFO| Requesting connectivity (3,0) - (0,0)\n",
      "2024-05-14 11:35:39.615 (  30.302s) [main            ]topologycomputation.cpp:799   INFO| Requesting connectivity (2,0) - (0,0)\n",
      "2024-05-14 11:35:39.615 (  30.302s) [main            ]topologycomputation.cpp:799   INFO| Requesting connectivity (3,0) - (0,0)\n",
      "2024-05-14 11:35:39.617 (  30.303s) [main            ]topologycomputation.cpp:799   INFO| Requesting connectivity (3,0) - (0,0)\n",
      "2024-05-14 11:35:39.617 (  30.303s) [main            ]topologycomputation.cpp:799   INFO| Requesting connectivity (2,0) - (0,0)\n",
      "2024-05-14 11:35:39.618 (  30.304s) [main            ]topologycomputation.cpp:799   INFO| Requesting connectivity (2,0) - (3,0)\n",
      "2024-05-14 11:35:39.620 (  30.307s) [main            ]topologycomputation.cpp:799   INFO| Requesting connectivity (2,0) - (0,0)\n",
      "2024-05-14 11:35:39.620 (  30.307s) [main            ]topologycomputation.cpp:799   INFO| Requesting connectivity (2,0) - (2,0)\n",
      "2024-05-14 11:35:39.622 (  30.309s) [main            ]topologycomputation.cpp:799   INFO| Requesting connectivity (0,0) - (3,0)\n",
      "2024-05-14 11:35:39.622 (  30.309s) [main            ]topologycomputation.cpp:799   INFO| Requesting connectivity (3,0) - (0,0)\n",
      "2024-05-14 11:35:39.625 (  30.312s) [main            ]topologycomputation.cpp:799   INFO| Requesting connectivity (3,0) - (0,0)\n",
      "2024-05-14 11:35:39.626 (  30.313s) [main            ]topologycomputation.cpp:799   INFO| Requesting connectivity (3,0) - (0,0)\n",
      "2024-05-14 11:35:39.626 (  30.313s) [main            ]topologycomputation.cpp:799   INFO| Requesting connectivity (2,0) - (0,0)\n",
      "2024-05-14 11:35:45.057 (  35.744s) [main            ]topologycomputation.cpp:799   INFO| Requesting connectivity (2,0) - (3,0)\n",
      "2024-05-14 11:35:45.058 (  35.744s) [main            ]topologycomputation.cpp:799   INFO| Requesting connectivity (3,0) - (2,0)\n",
      "2024-05-14 11:35:45.060 (  35.747s) [main            ]topologycomputation.cpp:799   INFO| Requesting connectivity (2,0) - (3,0)\n",
      "2024-05-14 11:35:45.060 (  35.747s) [main            ]topologycomputation.cpp:799   INFO| Requesting connectivity (3,0) - (2,0)\n"
     ]
    },
    {
     "name": "stdout",
     "output_type": "stream",
     "text": [
      "1: Completion is 0.1 %. "
     ]
    },
    {
     "name": "stderr",
     "output_type": "stream",
     "text": [
      "2024-05-14 11:35:50.396 (  41.083s) [main            ]topologycomputation.cpp:799   INFO| Requesting connectivity (2,0) - (3,0)\n",
      "2024-05-14 11:35:50.398 (  41.084s) [main            ]topologycomputation.cpp:799   INFO| Requesting connectivity (3,0) - (2,0)\n",
      "2024-05-14 11:35:50.403 (  41.090s) [main            ]topologycomputation.cpp:799   INFO| Requesting connectivity (2,0) - (3,0)\n",
      "2024-05-14 11:35:50.403 (  41.090s) [main            ]topologycomputation.cpp:799   INFO| Requesting connectivity (3,0) - (2,0)\n",
      "2024-05-14 11:35:50.408 (  41.094s) [main            ]topologycomputation.cpp:799   INFO| Requesting connectivity (2,0) - (3,0)\n",
      "2024-05-14 11:35:50.425 (  41.112s) [main            ]    SparsityPattern.cpp:385   INFO| Column ghost size increased from 0 to 0\n",
      "2024-05-14 11:35:50.483 (  41.170s) [main            ]              petsc.cpp:700   INFO| PETSc Krylov solver starting to solve system.\n",
      "2024-05-14 11:35:50.598 (  41.285s) [main            ]              petsc.cpp:700   INFO| PETSc Krylov solver starting to solve system.\n",
      "2024-05-14 11:35:50.649 (  41.335s) [main            ]       NewtonSolver.cpp:38    INFO| Newton iteration 2: r (abs) = 1.80969e-06 (tol = 1e-10) r (rel) = 5.23684e-06(tol = 1e-06)\n"
     ]
    },
    {
     "name": "stdout",
     "output_type": "stream",
     "text": [
      "1: Rotation has applied for 244 degree. 2: Current time is 0.0 s. 3: Completion is 0.1 %. "
     ]
    },
    {
     "name": "stderr",
     "output_type": "stream",
     "text": [
      "2024-05-14 11:35:50.692 (  41.378s) [main            ]              petsc.cpp:700   INFO| PETSc Krylov solver starting to solve system.\n",
      "2024-05-14 11:35:51.063 (  41.750s) [main            ]       NewtonSolver.cpp:38    INFO| Newton iteration 3: r (abs) = 1.19892e-11 (tol = 1e-10) r (rel) = 3.4694e-11(tol = 1e-06)\n",
      "2024-05-14 11:35:51.063 (  41.750s) [main            ]       NewtonSolver.cpp:252   INFO| Newton solver finished in 3 iterations and 15 linear solver iterations.\n",
      "2024-05-14 11:35:51.064 (  41.750s) [main            ]      xdmf_function.cpp:50    INFO| Adding function to node \"/Xdmf/Domain/Grid/Grid\"\n",
      "2024-05-14 11:35:51.137 (  41.824s) [main            ]topologycomputation.cpp:799   INFO| Requesting connectivity (3,0) - (0,0)\n",
      "2024-05-14 11:35:51.138 (  41.824s) [main            ]topologycomputation.cpp:799   INFO| Requesting connectivity (3,0) - (0,0)\n",
      "2024-05-14 11:35:51.138 (  41.825s) [main            ]topologycomputation.cpp:799   INFO| Requesting connectivity (2,0) - (0,0)\n",
      "2024-05-14 11:35:51.138 (  41.825s) [main            ]topologycomputation.cpp:799   INFO| Requesting connectivity (3,0) - (0,0)\n",
      "2024-05-14 11:35:51.138 (  41.825s) [main            ]topologycomputation.cpp:799   INFO| Requesting connectivity (3,0) - (0,0)\n",
      "2024-05-14 11:35:51.139 (  41.825s) [main            ]topologycomputation.cpp:799   INFO| Requesting connectivity (2,0) - (0,0)\n",
      "2024-05-14 11:35:51.139 (  41.825s) [main            ]topologycomputation.cpp:799   INFO| Requesting connectivity (3,0) - (0,0)\n",
      "2024-05-14 11:35:51.139 (  41.826s) [main            ]topologycomputation.cpp:799   INFO| Requesting connectivity (3,0) - (0,0)\n",
      "2024-05-14 11:35:51.139 (  41.826s) [main            ]topologycomputation.cpp:799   INFO| Requesting connectivity (2,0) - (0,0)\n",
      "2024-05-14 11:35:51.139 (  41.826s) [main            ]topologycomputation.cpp:799   INFO| Requesting connectivity (3,0) - (0,0)\n",
      "2024-05-14 11:35:51.140 (  41.826s) [main            ]topologycomputation.cpp:799   INFO| Requesting connectivity (3,0) - (0,0)\n",
      "2024-05-14 11:35:51.140 (  41.826s) [main            ]topologycomputation.cpp:799   INFO| Requesting connectivity (2,0) - (0,0)\n",
      "2024-05-14 11:35:51.140 (  41.827s) [main            ]topologycomputation.cpp:799   INFO| Requesting connectivity (3,0) - (0,0)\n",
      "2024-05-14 11:35:51.140 (  41.827s) [main            ]topologycomputation.cpp:799   INFO| Requesting connectivity (3,0) - (0,0)\n",
      "2024-05-14 11:35:51.140 (  41.827s) [main            ]topologycomputation.cpp:799   INFO| Requesting connectivity (2,0) - (0,0)\n",
      "2024-05-14 11:35:51.141 (  41.827s) [main            ]topologycomputation.cpp:799   INFO| Requesting connectivity (3,0) - (0,0)\n",
      "2024-05-14 11:35:51.141 (  41.827s) [main            ]topologycomputation.cpp:799   INFO| Requesting connectivity (3,0) - (0,0)\n",
      "2024-05-14 11:35:51.141 (  41.828s) [main            ]topologycomputation.cpp:799   INFO| Requesting connectivity (2,0) - (0,0)\n",
      "2024-05-14 11:35:51.141 (  41.828s) [main            ]topologycomputation.cpp:799   INFO| Requesting connectivity (3,0) - (0,0)\n",
      "2024-05-14 11:35:51.141 (  41.828s) [main            ]topologycomputation.cpp:799   INFO| Requesting connectivity (3,0) - (0,0)\n",
      "2024-05-14 11:35:51.141 (  41.828s) [main            ]topologycomputation.cpp:799   INFO| Requesting connectivity (2,0) - (0,0)\n",
      "2024-05-14 11:35:51.142 (  41.828s) [main            ]topologycomputation.cpp:799   INFO| Requesting connectivity (3,0) - (0,0)\n",
      "2024-05-14 11:35:51.142 (  41.829s) [main            ]topologycomputation.cpp:799   INFO| Requesting connectivity (3,0) - (0,0)\n",
      "2024-05-14 11:35:51.142 (  41.829s) [main            ]topologycomputation.cpp:799   INFO| Requesting connectivity (2,0) - (0,0)\n",
      "2024-05-14 11:35:51.142 (  41.829s) [main            ]topologycomputation.cpp:799   INFO| Requesting connectivity (3,0) - (0,0)\n",
      "2024-05-14 11:35:51.142 (  41.829s) [main            ]topologycomputation.cpp:799   INFO| Requesting connectivity (3,0) - (0,0)\n",
      "2024-05-14 11:35:51.143 (  41.829s) [main            ]topologycomputation.cpp:799   INFO| Requesting connectivity (2,0) - (0,0)\n",
      "2024-05-14 11:35:51.143 (  41.829s) [main            ]topologycomputation.cpp:799   INFO| Requesting connectivity (3,0) - (0,0)\n",
      "2024-05-14 11:35:51.143 (  41.830s) [main            ]topologycomputation.cpp:799   INFO| Requesting connectivity (3,0) - (0,0)\n",
      "2024-05-14 11:35:51.143 (  41.830s) [main            ]topologycomputation.cpp:799   INFO| Requesting connectivity (2,0) - (0,0)\n",
      "2024-05-14 11:35:51.143 (  41.830s) [main            ]topologycomputation.cpp:799   INFO| Requesting connectivity (3,0) - (0,0)\n",
      "2024-05-14 11:35:51.143 (  41.830s) [main            ]topologycomputation.cpp:799   INFO| Requesting connectivity (3,0) - (0,0)\n",
      "2024-05-14 11:35:51.143 (  41.830s) [main            ]topologycomputation.cpp:799   INFO| Requesting connectivity (2,0) - (0,0)\n",
      "2024-05-14 11:35:51.144 (  41.830s) [main            ]topologycomputation.cpp:799   INFO| Requesting connectivity (3,0) - (0,0)\n",
      "2024-05-14 11:35:51.144 (  41.831s) [main            ]topologycomputation.cpp:799   INFO| Requesting connectivity (3,0) - (0,0)\n",
      "2024-05-14 11:35:51.144 (  41.831s) [main            ]topologycomputation.cpp:799   INFO| Requesting connectivity (2,0) - (0,0)\n",
      "2024-05-14 11:35:51.144 (  41.831s) [main            ]topologycomputation.cpp:799   INFO| Requesting connectivity (3,0) - (0,0)\n",
      "2024-05-14 11:35:51.144 (  41.831s) [main            ]topologycomputation.cpp:799   INFO| Requesting connectivity (3,0) - (0,0)\n",
      "2024-05-14 11:35:51.144 (  41.831s) [main            ]topologycomputation.cpp:799   INFO| Requesting connectivity (2,0) - (0,0)\n",
      "2024-05-14 11:35:51.145 (  41.831s) [main            ]topologycomputation.cpp:799   INFO| Requesting connectivity (3,0) - (0,0)\n",
      "2024-05-14 11:35:51.145 (  41.832s) [main            ]topologycomputation.cpp:799   INFO| Requesting connectivity (3,0) - (0,0)\n",
      "2024-05-14 11:35:51.145 (  41.832s) [main            ]topologycomputation.cpp:799   INFO| Requesting connectivity (2,0) - (0,0)\n",
      "2024-05-14 11:35:51.145 (  41.832s) [main            ]topologycomputation.cpp:799   INFO| Requesting connectivity (3,0) - (0,0)\n",
      "2024-05-14 11:35:51.146 (  41.832s) [main            ]topologycomputation.cpp:799   INFO| Requesting connectivity (3,0) - (0,0)\n",
      "2024-05-14 11:35:51.146 (  41.832s) [main            ]topologycomputation.cpp:799   INFO| Requesting connectivity (2,0) - (0,0)\n",
      "2024-05-14 11:35:51.146 (  41.833s) [main            ]topologycomputation.cpp:799   INFO| Requesting connectivity (3,0) - (0,0)\n",
      "2024-05-14 11:35:51.146 (  41.833s) [main            ]topologycomputation.cpp:799   INFO| Requesting connectivity (3,0) - (0,0)\n",
      "2024-05-14 11:35:51.146 (  41.833s) [main            ]topologycomputation.cpp:799   INFO| Requesting connectivity (2,0) - (0,0)\n",
      "2024-05-14 11:35:51.146 (  41.833s) [main            ]topologycomputation.cpp:799   INFO| Requesting connectivity (3,0) - (0,0)\n",
      "2024-05-14 11:35:51.147 (  41.833s) [main            ]topologycomputation.cpp:799   INFO| Requesting connectivity (3,0) - (0,0)\n",
      "2024-05-14 11:35:51.147 (  41.833s) [main            ]topologycomputation.cpp:799   INFO| Requesting connectivity (2,0) - (0,0)\n",
      "2024-05-14 11:35:51.147 (  41.834s) [main            ]topologycomputation.cpp:799   INFO| Requesting connectivity (3,0) - (0,0)\n",
      "2024-05-14 11:35:51.147 (  41.834s) [main            ]topologycomputation.cpp:799   INFO| Requesting connectivity (3,0) - (0,0)\n",
      "2024-05-14 11:35:51.147 (  41.834s) [main            ]topologycomputation.cpp:799   INFO| Requesting connectivity (2,0) - (0,0)\n",
      "2024-05-14 11:35:51.148 (  41.834s) [main            ]topologycomputation.cpp:799   INFO| Requesting connectivity (2,0) - (3,0)\n",
      "2024-05-14 11:35:51.148 (  41.835s) [main            ]topologycomputation.cpp:799   INFO| Requesting connectivity (2,0) - (0,0)\n",
      "2024-05-14 11:35:51.148 (  41.835s) [main            ]topologycomputation.cpp:799   INFO| Requesting connectivity (2,0) - (2,0)\n",
      "2024-05-14 11:35:51.151 (  41.837s) [main            ]topologycomputation.cpp:799   INFO| Requesting connectivity (0,0) - (3,0)\n",
      "2024-05-14 11:35:51.151 (  41.837s) [main            ]topologycomputation.cpp:799   INFO| Requesting connectivity (3,0) - (0,0)\n",
      "2024-05-14 11:35:51.152 (  41.839s) [main            ]topologycomputation.cpp:799   INFO| Requesting connectivity (3,0) - (0,0)\n",
      "2024-05-14 11:35:51.153 (  41.839s) [main            ]topologycomputation.cpp:799   INFO| Requesting connectivity (3,0) - (0,0)\n",
      "2024-05-14 11:35:51.153 (  41.839s) [main            ]topologycomputation.cpp:799   INFO| Requesting connectivity (2,0) - (0,0)\n",
      "2024-05-14 11:35:56.568 (  47.255s) [main            ]topologycomputation.cpp:799   INFO| Requesting connectivity (2,0) - (3,0)\n",
      "2024-05-14 11:35:56.569 (  47.255s) [main            ]topologycomputation.cpp:799   INFO| Requesting connectivity (3,0) - (2,0)\n",
      "2024-05-14 11:35:56.570 (  47.257s) [main            ]topologycomputation.cpp:799   INFO| Requesting connectivity (2,0) - (3,0)\n",
      "2024-05-14 11:35:56.570 (  47.257s) [main            ]topologycomputation.cpp:799   INFO| Requesting connectivity (3,0) - (2,0)\n"
     ]
    },
    {
     "name": "stdout",
     "output_type": "stream",
     "text": [
      "1: Completion is 0.1 %. "
     ]
    },
    {
     "name": "stderr",
     "output_type": "stream",
     "text": [
      "2024-05-14 11:36:01.425 (  52.112s) [main            ]topologycomputation.cpp:799   INFO| Requesting connectivity (2,0) - (3,0)\n",
      "2024-05-14 11:36:01.425 (  52.112s) [main            ]topologycomputation.cpp:799   INFO| Requesting connectivity (3,0) - (2,0)\n",
      "2024-05-14 11:36:01.427 (  52.114s) [main            ]topologycomputation.cpp:799   INFO| Requesting connectivity (2,0) - (3,0)\n",
      "2024-05-14 11:36:01.427 (  52.114s) [main            ]topologycomputation.cpp:799   INFO| Requesting connectivity (3,0) - (2,0)\n",
      "2024-05-14 11:36:01.431 (  52.118s) [main            ]topologycomputation.cpp:799   INFO| Requesting connectivity (2,0) - (3,0)\n",
      "2024-05-14 11:36:01.448 (  52.134s) [main            ]    SparsityPattern.cpp:385   INFO| Column ghost size increased from 0 to 0\n",
      "2024-05-14 11:36:01.485 (  52.172s) [main            ]              petsc.cpp:700   INFO| PETSc Krylov solver starting to solve system.\n",
      "2024-05-14 11:36:01.582 (  52.279s) [main            ]              petsc.cpp:700   INFO| PETSc Krylov solver starting to solve system.\n"
     ]
    },
    {
     "name": "stdout",
     "output_type": "stream",
     "text": [
      "1: Rotation has applied for 305 degree. 2: Current time is 0.1 s. 3: Completion is 0.1 %. "
     ]
    },
    {
     "name": "stderr",
     "output_type": "stream",
     "text": [
      "2024-05-14 11:36:01.622 (  52.308s) [main            ]       NewtonSolver.cpp:38    INFO| Newton iteration 2: r (abs) = 2.41776e-06 (tol = 1e-10) r (rel) = 5.05422e-06(tol = 1e-06)\n",
      "2024-05-14 11:36:01.626 (  52.338s) [main            ]              petsc.cpp:700   INFO| PETSc Krylov solver starting to solve system.\n",
      "2024-05-14 11:36:01.681 (  52.368s) [main            ]       NewtonSolver.cpp:38    INFO| Newton iteration 3: r (abs) = 1.61971e-11 (tol = 1e-10) r (rel) = 3.38594e-11(tol = 1e-06)\n",
      "2024-05-14 11:36:01.681 (  52.368s) [main            ]       NewtonSolver.cpp:252   INFO| Newton solver finished in 3 iterations and 15 linear solver iterations.\n",
      "2024-05-14 11:36:01.682 (  52.368s) [main            ]      xdmf_function.cpp:50    INFO| Adding function to node \"/Xdmf/Domain/Grid/Grid\"\n",
      "2024-05-14 11:36:01.761 (  52.448s) [main            ]topologycomputation.cpp:799   INFO| Requesting connectivity (3,0) - (0,0)\n",
      "2024-05-14 11:36:01.762 (  52.448s) [main            ]topologycomputation.cpp:799   INFO| Requesting connectivity (3,0) - (0,0)\n",
      "2024-05-14 11:36:01.762 (  52.449s) [main            ]topologycomputation.cpp:799   INFO| Requesting connectivity (2,0) - (0,0)\n",
      "2024-05-14 11:36:01.762 (  52.449s) [main            ]topologycomputation.cpp:799   INFO| Requesting connectivity (3,0) - (0,0)\n",
      "2024-05-14 11:36:01.763 (  52.449s) [main            ]topologycomputation.cpp:799   INFO| Requesting connectivity (3,0) - (0,0)\n",
      "2024-05-14 11:36:01.763 (  52.449s) [main            ]topologycomputation.cpp:799   INFO| Requesting connectivity (2,0) - (0,0)\n",
      "2024-05-14 11:36:01.763 (  52.450s) [main            ]topologycomputation.cpp:799   INFO| Requesting connectivity (3,0) - (0,0)\n",
      "2024-05-14 11:36:01.764 (  52.450s) [main            ]topologycomputation.cpp:799   INFO| Requesting connectivity (3,0) - (0,0)\n",
      "2024-05-14 11:36:01.764 (  52.450s) [main            ]topologycomputation.cpp:799   INFO| Requesting connectivity (2,0) - (0,0)\n",
      "2024-05-14 11:36:01.764 (  52.450s) [main            ]topologycomputation.cpp:799   INFO| Requesting connectivity (3,0) - (0,0)\n",
      "2024-05-14 11:36:01.764 (  52.451s) [main            ]topologycomputation.cpp:799   INFO| Requesting connectivity (3,0) - (0,0)\n",
      "2024-05-14 11:36:01.764 (  52.451s) [main            ]topologycomputation.cpp:799   INFO| Requesting connectivity (2,0) - (0,0)\n",
      "2024-05-14 11:36:01.764 (  52.451s) [main            ]topologycomputation.cpp:799   INFO| Requesting connectivity (3,0) - (0,0)\n",
      "2024-05-14 11:36:01.765 (  52.451s) [main            ]topologycomputation.cpp:799   INFO| Requesting connectivity (3,0) - (0,0)\n",
      "2024-05-14 11:36:01.765 (  52.451s) [main            ]topologycomputation.cpp:799   INFO| Requesting connectivity (2,0) - (0,0)\n",
      "2024-05-14 11:36:01.765 (  52.451s) [main            ]topologycomputation.cpp:799   INFO| Requesting connectivity (3,0) - (0,0)\n",
      "2024-05-14 11:36:01.765 (  52.452s) [main            ]topologycomputation.cpp:799   INFO| Requesting connectivity (3,0) - (0,0)\n",
      "2024-05-14 11:36:01.765 (  52.452s) [main            ]topologycomputation.cpp:799   INFO| Requesting connectivity (2,0) - (0,0)\n",
      "2024-05-14 11:36:01.765 (  52.452s) [main            ]topologycomputation.cpp:799   INFO| Requesting connectivity (3,0) - (0,0)\n",
      "2024-05-14 11:36:01.766 (  52.452s) [main            ]topologycomputation.cpp:799   INFO| Requesting connectivity (3,0) - (0,0)\n",
      "2024-05-14 11:36:01.766 (  52.452s) [main            ]topologycomputation.cpp:799   INFO| Requesting connectivity (2,0) - (0,0)\n",
      "2024-05-14 11:36:01.766 (  52.453s) [main            ]topologycomputation.cpp:799   INFO| Requesting connectivity (3,0) - (0,0)\n",
      "2024-05-14 11:36:01.766 (  52.453s) [main            ]topologycomputation.cpp:799   INFO| Requesting connectivity (3,0) - (0,0)\n",
      "2024-05-14 11:36:01.766 (  52.453s) [main            ]topologycomputation.cpp:799   INFO| Requesting connectivity (2,0) - (0,0)\n",
      "2024-05-14 11:36:01.766 (  52.453s) [main            ]topologycomputation.cpp:799   INFO| Requesting connectivity (3,0) - (0,0)\n",
      "2024-05-14 11:36:01.767 (  52.453s) [main            ]topologycomputation.cpp:799   INFO| Requesting connectivity (3,0) - (0,0)\n",
      "2024-05-14 11:36:01.767 (  52.454s) [main            ]topologycomputation.cpp:799   INFO| Requesting connectivity (2,0) - (0,0)\n",
      "2024-05-14 11:36:01.767 (  52.454s) [main            ]topologycomputation.cpp:799   INFO| Requesting connectivity (3,0) - (0,0)\n",
      "2024-05-14 11:36:01.767 (  52.454s) [main            ]topologycomputation.cpp:799   INFO| Requesting connectivity (3,0) - (0,0)\n",
      "2024-05-14 11:36:01.767 (  52.454s) [main            ]topologycomputation.cpp:799   INFO| Requesting connectivity (2,0) - (0,0)\n",
      "2024-05-14 11:36:01.768 (  52.454s) [main            ]topologycomputation.cpp:799   INFO| Requesting connectivity (3,0) - (0,0)\n",
      "2024-05-14 11:36:01.768 (  52.454s) [main            ]topologycomputation.cpp:799   INFO| Requesting connectivity (3,0) - (0,0)\n",
      "2024-05-14 11:36:01.768 (  52.455s) [main            ]topologycomputation.cpp:799   INFO| Requesting connectivity (2,0) - (0,0)\n",
      "2024-05-14 11:36:01.768 (  52.455s) [main            ]topologycomputation.cpp:799   INFO| Requesting connectivity (3,0) - (0,0)\n",
      "2024-05-14 11:36:01.768 (  52.455s) [main            ]topologycomputation.cpp:799   INFO| Requesting connectivity (3,0) - (0,0)\n",
      "2024-05-14 11:36:01.768 (  52.455s) [main            ]topologycomputation.cpp:799   INFO| Requesting connectivity (2,0) - (0,0)\n",
      "2024-05-14 11:36:01.769 (  52.455s) [main            ]topologycomputation.cpp:799   INFO| Requesting connectivity (3,0) - (0,0)\n",
      "2024-05-14 11:36:01.769 (  52.455s) [main            ]topologycomputation.cpp:799   INFO| Requesting connectivity (3,0) - (0,0)\n",
      "2024-05-14 11:36:01.769 (  52.455s) [main            ]topologycomputation.cpp:799   INFO| Requesting connectivity (2,0) - (0,0)\n",
      "2024-05-14 11:36:01.769 (  52.456s) [main            ]topologycomputation.cpp:799   INFO| Requesting connectivity (3,0) - (0,0)\n",
      "2024-05-14 11:36:01.769 (  52.456s) [main            ]topologycomputation.cpp:799   INFO| Requesting connectivity (3,0) - (0,0)\n",
      "2024-05-14 11:36:01.769 (  52.456s) [main            ]topologycomputation.cpp:799   INFO| Requesting connectivity (2,0) - (0,0)\n",
      "2024-05-14 11:36:01.770 (  52.456s) [main            ]topologycomputation.cpp:799   INFO| Requesting connectivity (3,0) - (0,0)\n",
      "2024-05-14 11:36:01.770 (  52.457s) [main            ]topologycomputation.cpp:799   INFO| Requesting connectivity (3,0) - (0,0)\n",
      "2024-05-14 11:36:01.770 (  52.457s) [main            ]topologycomputation.cpp:799   INFO| Requesting connectivity (2,0) - (0,0)\n",
      "2024-05-14 11:36:01.770 (  52.457s) [main            ]topologycomputation.cpp:799   INFO| Requesting connectivity (3,0) - (0,0)\n",
      "2024-05-14 11:36:01.771 (  52.457s) [main            ]topologycomputation.cpp:799   INFO| Requesting connectivity (3,0) - (0,0)\n",
      "2024-05-14 11:36:01.771 (  52.457s) [main            ]topologycomputation.cpp:799   INFO| Requesting connectivity (2,0) - (0,0)\n",
      "2024-05-14 11:36:01.771 (  52.457s) [main            ]topologycomputation.cpp:799   INFO| Requesting connectivity (3,0) - (0,0)\n",
      "2024-05-14 11:36:01.771 (  52.458s) [main            ]topologycomputation.cpp:799   INFO| Requesting connectivity (3,0) - (0,0)\n",
      "2024-05-14 11:36:01.771 (  52.458s) [main            ]topologycomputation.cpp:799   INFO| Requesting connectivity (2,0) - (0,0)\n",
      "2024-05-14 11:36:01.771 (  52.458s) [main            ]topologycomputation.cpp:799   INFO| Requesting connectivity (3,0) - (0,0)\n",
      "2024-05-14 11:36:01.772 (  52.458s) [main            ]topologycomputation.cpp:799   INFO| Requesting connectivity (3,0) - (0,0)\n",
      "2024-05-14 11:36:01.772 (  52.458s) [main            ]topologycomputation.cpp:799   INFO| Requesting connectivity (2,0) - (0,0)\n",
      "2024-05-14 11:36:01.772 (  52.459s) [main            ]topologycomputation.cpp:799   INFO| Requesting connectivity (2,0) - (3,0)\n",
      "2024-05-14 11:36:01.772 (  52.459s) [main            ]topologycomputation.cpp:799   INFO| Requesting connectivity (2,0) - (0,0)\n",
      "2024-05-14 11:36:01.772 (  52.459s) [main            ]topologycomputation.cpp:799   INFO| Requesting connectivity (2,0) - (2,0)\n",
      "2024-05-14 11:36:01.774 (  52.461s) [main            ]topologycomputation.cpp:799   INFO| Requesting connectivity (0,0) - (3,0)\n",
      "2024-05-14 11:36:01.774 (  52.461s) [main            ]topologycomputation.cpp:799   INFO| Requesting connectivity (3,0) - (0,0)\n",
      "2024-05-14 11:36:01.779 (  52.465s) [main            ]topologycomputation.cpp:799   INFO| Requesting connectivity (3,0) - (0,0)\n",
      "2024-05-14 11:36:01.783 (  52.469s) [main            ]topologycomputation.cpp:799   INFO| Requesting connectivity (3,0) - (0,0)\n",
      "2024-05-14 11:36:01.783 (  52.469s) [main            ]topologycomputation.cpp:799   INFO| Requesting connectivity (2,0) - (0,0)\n",
      "2024-05-14 11:36:07.129 (  57.816s) [main            ]topologycomputation.cpp:799   INFO| Requesting connectivity (2,0) - (3,0)\n",
      "2024-05-14 11:36:07.129 (  57.816s) [main            ]topologycomputation.cpp:799   INFO| Requesting connectivity (3,0) - (2,0)\n",
      "2024-05-14 11:36:07.131 (  57.818s) [main            ]topologycomputation.cpp:799   INFO| Requesting connectivity (2,0) - (3,0)\n",
      "2024-05-14 11:36:07.131 (  57.818s) [main            ]topologycomputation.cpp:799   INFO| Requesting connectivity (3,0) - (2,0)\n"
     ]
    },
    {
     "name": "stdout",
     "output_type": "stream",
     "text": [
      "1: Completion is 0.1 %. "
     ]
    },
    {
     "name": "stderr",
     "output_type": "stream",
     "text": [
      "2024-05-14 11:36:12.347 (  63.034s) [main            ]topologycomputation.cpp:799   INFO| Requesting connectivity (2,0) - (3,0)\n",
      "2024-05-14 11:36:12.347 (  63.034s) [main            ]topologycomputation.cpp:799   INFO| Requesting connectivity (3,0) - (2,0)\n",
      "2024-05-14 11:36:12.349 (  63.035s) [main            ]topologycomputation.cpp:799   INFO| Requesting connectivity (2,0) - (3,0)\n",
      "2024-05-14 11:36:12.349 (  63.035s) [main            ]topologycomputation.cpp:799   INFO| Requesting connectivity (3,0) - (2,0)\n",
      "2024-05-14 11:36:12.353 (  63.040s) [main            ]topologycomputation.cpp:799   INFO| Requesting connectivity (2,0) - (3,0)\n",
      "2024-05-14 11:36:12.377 (  63.063s) [main            ]    SparsityPattern.cpp:385   INFO| Column ghost size increased from 0 to 0\n",
      "2024-05-14 11:36:12.450 (  63.136s) [main            ]              petsc.cpp:700   INFO| PETSc Krylov solver starting to solve system.\n",
      "2024-05-14 11:36:12.762 (  63.449s) [main            ]              petsc.cpp:700   INFO| PETSc Krylov solver starting to solve system.\n"
     ]
    },
    {
     "name": "stdout",
     "output_type": "stream",
     "text": [
      "1: Rotation has applied for 366 degree. 2: Current time is 0.1 s. 3: Completion is 0.1 %. "
     ]
    },
    {
     "name": "stderr",
     "output_type": "stream",
     "text": [
      "2024-05-14 11:36:12.784 (  63.471s) [main            ]       NewtonSolver.cpp:38    INFO| Newton iteration 2: r (abs) = 4.03556e-06 (tol = 1e-10) r (rel) = 4.84923e-06(tol = 1e-06)\n",
      "2024-05-14 11:36:12.818 (  63.505s) [main            ]              petsc.cpp:700   INFO| PETSc Krylov solver starting to solve system.\n",
      "2024-05-14 11:36:12.835 (  63.521s) [main            ]       NewtonSolver.cpp:38    INFO| Newton iteration 3: r (abs) = 2.93765e-11 (tol = 1e-10) r (rel) = 3.52995e-11(tol = 1e-06)\n",
      "2024-05-14 11:36:12.835 (  63.521s) [main            ]       NewtonSolver.cpp:252   INFO| Newton solver finished in 3 iterations and 15 linear solver iterations.\n",
      "2024-05-14 11:36:12.835 (  63.521s) [main            ]      xdmf_function.cpp:50    INFO| Adding function to node \"/Xdmf/Domain/Grid/Grid\"\n",
      "2024-05-14 11:36:12.925 (  63.611s) [main            ]topologycomputation.cpp:799   INFO| Requesting connectivity (3,0) - (0,0)\n",
      "2024-05-14 11:36:12.926 (  63.612s) [main            ]topologycomputation.cpp:799   INFO| Requesting connectivity (3,0) - (0,0)\n",
      "2024-05-14 11:36:12.926 (  63.612s) [main            ]topologycomputation.cpp:799   INFO| Requesting connectivity (2,0) - (0,0)\n",
      "2024-05-14 11:36:12.926 (  63.613s) [main            ]topologycomputation.cpp:799   INFO| Requesting connectivity (3,0) - (0,0)\n",
      "2024-05-14 11:36:12.927 (  63.613s) [main            ]topologycomputation.cpp:799   INFO| Requesting connectivity (3,0) - (0,0)\n",
      "2024-05-14 11:36:12.927 (  63.613s) [main            ]topologycomputation.cpp:799   INFO| Requesting connectivity (2,0) - (0,0)\n",
      "2024-05-14 11:36:12.927 (  63.614s) [main            ]topologycomputation.cpp:799   INFO| Requesting connectivity (3,0) - (0,0)\n",
      "2024-05-14 11:36:12.928 (  63.614s) [main            ]topologycomputation.cpp:799   INFO| Requesting connectivity (3,0) - (0,0)\n",
      "2024-05-14 11:36:12.928 (  63.614s) [main            ]topologycomputation.cpp:799   INFO| Requesting connectivity (2,0) - (0,0)\n",
      "2024-05-14 11:36:12.928 (  63.615s) [main            ]topologycomputation.cpp:799   INFO| Requesting connectivity (3,0) - (0,0)\n",
      "2024-05-14 11:36:12.928 (  63.615s) [main            ]topologycomputation.cpp:799   INFO| Requesting connectivity (3,0) - (0,0)\n",
      "2024-05-14 11:36:12.928 (  63.615s) [main            ]topologycomputation.cpp:799   INFO| Requesting connectivity (2,0) - (0,0)\n",
      "2024-05-14 11:36:12.929 (  63.615s) [main            ]topologycomputation.cpp:799   INFO| Requesting connectivity (3,0) - (0,0)\n",
      "2024-05-14 11:36:12.929 (  63.616s) [main            ]topologycomputation.cpp:799   INFO| Requesting connectivity (3,0) - (0,0)\n",
      "2024-05-14 11:36:12.929 (  63.616s) [main            ]topologycomputation.cpp:799   INFO| Requesting connectivity (2,0) - (0,0)\n",
      "2024-05-14 11:36:12.929 (  63.616s) [main            ]topologycomputation.cpp:799   INFO| Requesting connectivity (3,0) - (0,0)\n",
      "2024-05-14 11:36:12.929 (  63.616s) [main            ]topologycomputation.cpp:799   INFO| Requesting connectivity (3,0) - (0,0)\n",
      "2024-05-14 11:36:12.929 (  63.616s) [main            ]topologycomputation.cpp:799   INFO| Requesting connectivity (2,0) - (0,0)\n",
      "2024-05-14 11:36:12.930 (  63.616s) [main            ]topologycomputation.cpp:799   INFO| Requesting connectivity (3,0) - (0,0)\n",
      "2024-05-14 11:36:12.930 (  63.617s) [main            ]topologycomputation.cpp:799   INFO| Requesting connectivity (3,0) - (0,0)\n",
      "2024-05-14 11:36:12.930 (  63.617s) [main            ]topologycomputation.cpp:799   INFO| Requesting connectivity (2,0) - (0,0)\n",
      "2024-05-14 11:36:12.930 (  63.617s) [main            ]topologycomputation.cpp:799   INFO| Requesting connectivity (3,0) - (0,0)\n",
      "2024-05-14 11:36:12.930 (  63.617s) [main            ]topologycomputation.cpp:799   INFO| Requesting connectivity (3,0) - (0,0)\n",
      "2024-05-14 11:36:12.930 (  63.617s) [main            ]topologycomputation.cpp:799   INFO| Requesting connectivity (2,0) - (0,0)\n",
      "2024-05-14 11:36:12.931 (  63.617s) [main            ]topologycomputation.cpp:799   INFO| Requesting connectivity (3,0) - (0,0)\n",
      "2024-05-14 11:36:12.931 (  63.618s) [main            ]topologycomputation.cpp:799   INFO| Requesting connectivity (3,0) - (0,0)\n",
      "2024-05-14 11:36:12.931 (  63.618s) [main            ]topologycomputation.cpp:799   INFO| Requesting connectivity (2,0) - (0,0)\n",
      "2024-05-14 11:36:12.931 (  63.618s) [main            ]topologycomputation.cpp:799   INFO| Requesting connectivity (3,0) - (0,0)\n",
      "2024-05-14 11:36:12.931 (  63.618s) [main            ]topologycomputation.cpp:799   INFO| Requesting connectivity (3,0) - (0,0)\n",
      "2024-05-14 11:36:12.931 (  63.618s) [main            ]topologycomputation.cpp:799   INFO| Requesting connectivity (2,0) - (0,0)\n",
      "2024-05-14 11:36:12.932 (  63.618s) [main            ]topologycomputation.cpp:799   INFO| Requesting connectivity (3,0) - (0,0)\n",
      "2024-05-14 11:36:12.932 (  63.618s) [main            ]topologycomputation.cpp:799   INFO| Requesting connectivity (3,0) - (0,0)\n",
      "2024-05-14 11:36:12.932 (  63.618s) [main            ]topologycomputation.cpp:799   INFO| Requesting connectivity (2,0) - (0,0)\n",
      "2024-05-14 11:36:12.932 (  63.619s) [main            ]topologycomputation.cpp:799   INFO| Requesting connectivity (3,0) - (0,0)\n",
      "2024-05-14 11:36:12.932 (  63.619s) [main            ]topologycomputation.cpp:799   INFO| Requesting connectivity (3,0) - (0,0)\n",
      "2024-05-14 11:36:12.932 (  63.619s) [main            ]topologycomputation.cpp:799   INFO| Requesting connectivity (2,0) - (0,0)\n",
      "2024-05-14 11:36:12.933 (  63.619s) [main            ]topologycomputation.cpp:799   INFO| Requesting connectivity (3,0) - (0,0)\n",
      "2024-05-14 11:36:12.933 (  63.619s) [main            ]topologycomputation.cpp:799   INFO| Requesting connectivity (3,0) - (0,0)\n",
      "2024-05-14 11:36:12.933 (  63.619s) [main            ]topologycomputation.cpp:799   INFO| Requesting connectivity (2,0) - (0,0)\n",
      "2024-05-14 11:36:12.933 (  63.620s) [main            ]topologycomputation.cpp:799   INFO| Requesting connectivity (3,0) - (0,0)\n",
      "2024-05-14 11:36:12.933 (  63.620s) [main            ]topologycomputation.cpp:799   INFO| Requesting connectivity (3,0) - (0,0)\n",
      "2024-05-14 11:36:12.933 (  63.620s) [main            ]topologycomputation.cpp:799   INFO| Requesting connectivity (2,0) - (0,0)\n",
      "2024-05-14 11:36:12.933 (  63.620s) [main            ]topologycomputation.cpp:799   INFO| Requesting connectivity (3,0) - (0,0)\n",
      "2024-05-14 11:36:12.934 (  63.620s) [main            ]topologycomputation.cpp:799   INFO| Requesting connectivity (3,0) - (0,0)\n",
      "2024-05-14 11:36:12.934 (  63.620s) [main            ]topologycomputation.cpp:799   INFO| Requesting connectivity (2,0) - (0,0)\n",
      "2024-05-14 11:36:12.934 (  63.621s) [main            ]topologycomputation.cpp:799   INFO| Requesting connectivity (3,0) - (0,0)\n",
      "2024-05-14 11:36:12.934 (  63.621s) [main            ]topologycomputation.cpp:799   INFO| Requesting connectivity (3,0) - (0,0)\n",
      "2024-05-14 11:36:12.934 (  63.621s) [main            ]topologycomputation.cpp:799   INFO| Requesting connectivity (2,0) - (0,0)\n",
      "2024-05-14 11:36:12.934 (  63.621s) [main            ]topologycomputation.cpp:799   INFO| Requesting connectivity (3,0) - (0,0)\n",
      "2024-05-14 11:36:12.935 (  63.621s) [main            ]topologycomputation.cpp:799   INFO| Requesting connectivity (3,0) - (0,0)\n",
      "2024-05-14 11:36:12.935 (  63.621s) [main            ]topologycomputation.cpp:799   INFO| Requesting connectivity (2,0) - (0,0)\n",
      "2024-05-14 11:36:12.935 (  63.621s) [main            ]topologycomputation.cpp:799   INFO| Requesting connectivity (3,0) - (0,0)\n",
      "2024-05-14 11:36:12.935 (  63.622s) [main            ]topologycomputation.cpp:799   INFO| Requesting connectivity (3,0) - (0,0)\n",
      "2024-05-14 11:36:12.936 (  63.622s) [main            ]topologycomputation.cpp:799   INFO| Requesting connectivity (2,0) - (0,0)\n",
      "2024-05-14 11:36:12.936 (  63.622s) [main            ]topologycomputation.cpp:799   INFO| Requesting connectivity (2,0) - (3,0)\n",
      "2024-05-14 11:36:12.936 (  63.623s) [main            ]topologycomputation.cpp:799   INFO| Requesting connectivity (2,0) - (0,0)\n",
      "2024-05-14 11:36:12.936 (  63.623s) [main            ]topologycomputation.cpp:799   INFO| Requesting connectivity (2,0) - (2,0)\n",
      "2024-05-14 11:36:12.938 (  63.624s) [main            ]topologycomputation.cpp:799   INFO| Requesting connectivity (0,0) - (3,0)\n",
      "2024-05-14 11:36:12.938 (  63.624s) [main            ]topologycomputation.cpp:799   INFO| Requesting connectivity (3,0) - (0,0)\n",
      "2024-05-14 11:36:12.941 (  63.627s) [main            ]topologycomputation.cpp:799   INFO| Requesting connectivity (3,0) - (0,0)\n",
      "2024-05-14 11:36:12.952 (  63.639s) [main            ]topologycomputation.cpp:799   INFO| Requesting connectivity (3,0) - (0,0)\n",
      "2024-05-14 11:36:12.952 (  63.639s) [main            ]topologycomputation.cpp:799   INFO| Requesting connectivity (2,0) - (0,0)\n",
      "2024-05-14 11:36:18.495 (  69.182s) [main            ]topologycomputation.cpp:799   INFO| Requesting connectivity (2,0) - (3,0)\n",
      "2024-05-14 11:36:18.496 (  69.182s) [main            ]topologycomputation.cpp:799   INFO| Requesting connectivity (3,0) - (2,0)\n",
      "2024-05-14 11:36:18.498 (  69.184s) [main            ]topologycomputation.cpp:799   INFO| Requesting connectivity (2,0) - (3,0)\n",
      "2024-05-14 11:36:18.498 (  69.185s) [main            ]topologycomputation.cpp:799   INFO| Requesting connectivity (3,0) - (2,0)\n"
     ]
    }
   ],
   "source": [
    "from main_code_disc_thermal import main_code_disc_thermal\n",
    "\n",
    "c= [61,112,224]\n",
    "angular = 36980\n",
    "mesh_max = 10\n",
    "c_contact = 1\n",
    "type = 'time_step'\n",
    "\n",
    "main_code_disc_thermal(c, type ,angular, mesh_max, c_contact)"
   ]
  },
  {
   "cell_type": "code",
   "execution_count": null,
   "id": "f27eb446-78e1-46eb-a446-aa6931b5392e",
   "metadata": {},
   "outputs": [],
   "source": []
  },
  {
   "cell_type": "code",
   "execution_count": null,
   "id": "b16fa21f-6015-42d5-b5e7-85adffde2b13",
   "metadata": {},
   "outputs": [],
   "source": []
  },
  {
   "cell_type": "markdown",
   "id": "7cc024f6-53a6-468a-842d-75a4f7e53d65",
   "metadata": {},
   "source": [
    "## 2: mesh_size"
   ]
  },
  {
   "cell_type": "code",
   "execution_count": null,
   "id": "67f4471d-ca76-4458-85f6-c0dd0372b362",
   "metadata": {},
   "outputs": [],
   "source": [
    "from main_code_disc_thermal import main_code_disc_thermal\n",
    "\n",
    "#c= [3,5,7,10,15]\n",
    "c = [3]\n",
    "angular = 3698504\n",
    "mesh_max = 10\n",
    "c_contact = 1\n",
    "type = 'mesh_size'\n",
    "\n",
    "main_code_disc_thermal(c, type ,angular, mesh_max, c_contact)"
   ]
  },
  {
   "cell_type": "code",
   "execution_count": null,
   "id": "0abc531d-594f-46d8-8764-5913b12638fd",
   "metadata": {},
   "outputs": [],
   "source": []
  },
  {
   "cell_type": "code",
   "execution_count": null,
   "id": "c5b4c3bd-b434-4125-adc3-10343c6ffc85",
   "metadata": {},
   "outputs": [],
   "source": []
  },
  {
   "cell_type": "markdown",
   "id": "cfeb2648-3e4c-4984-bdbd-b9f0fcce657e",
   "metadata": {},
   "source": [
    "## 3: contact_area"
   ]
  },
  {
   "cell_type": "code",
   "execution_count": null,
   "id": "3742af59-3896-41de-aece-b80a181e32af",
   "metadata": {},
   "outputs": [],
   "source": [
    "from main_code_disc_thermal import main_code_disc_thermal\n",
    "\n",
    "c= [0.2,0.5,1]\n",
    "angular = 112\n",
    "mesh_max = 10\n",
    "c_contact = 1\n",
    "type = 'contact_area'\n",
    "\n",
    "main_code_disc_thermal(c, type ,angular, mesh_max, c_contact)"
   ]
  },
  {
   "cell_type": "code",
   "execution_count": null,
   "id": "fc764251-72bb-4bbd-804f-5e2a6b82269c",
   "metadata": {},
   "outputs": [],
   "source": []
  },
  {
   "cell_type": "code",
   "execution_count": null,
   "id": "5df8f066-0e36-47a8-bffd-56b7cdf2b8c2",
   "metadata": {},
   "outputs": [],
   "source": [
    "from brake_disc_functions import *\n",
    "\n",
    "c= find_3_coord ('m-3-3.msh')"
   ]
  },
  {
   "cell_type": "code",
   "execution_count": null,
   "id": "bbb8c45b-ddde-4868-9faf-b819652b908e",
   "metadata": {},
   "outputs": [],
   "source": [
    "[94411, 114209, 8995]"
   ]
  }
 ],
 "metadata": {
  "kernelspec": {
   "display_name": "Python 3 (ipykernel)",
   "language": "python",
   "name": "python3"
  },
  "language_info": {
   "codemirror_mode": {
    "name": "ipython",
    "version": 3
   },
   "file_extension": ".py",
   "mimetype": "text/x-python",
   "name": "python",
   "nbconvert_exporter": "python",
   "pygments_lexer": "ipython3",
   "version": "3.12.2"
  }
 },
 "nbformat": 4,
 "nbformat_minor": 5
}
