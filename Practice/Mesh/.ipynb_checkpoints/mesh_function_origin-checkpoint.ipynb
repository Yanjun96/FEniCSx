{
 "cells": [
  {
   "cell_type": "markdown",
   "id": "3bd615c4-6ecf-49a2-801e-b0ab9b235802",
   "metadata": {},
   "source": [
    "# Has issue, .py is working now."
   ]
  },
  {
   "cell_type": "code",
   "execution_count": 3,
   "id": "fd1b9a8a-994e-44f3-9a99-e4827386a2fe",
   "metadata": {},
   "outputs": [],
   "source": [
    "def mesh_brake_disc(min_mesh, max_mesh, filename ):\n",
    "    \n",
    "    import gmsh\n",
    "    import sys\n",
    "    import math\n",
    "    import os\n",
    "    import numpy as np\n",
    "    \n",
    "    gmsh.initialize()\n",
    "    # all the unit is mm\n",
    "    \n",
    "    # z1, z2, z3 is the height of brake disc, rubbing elemetn, pad lining in Z direction\n",
    "    # rd_outer, rd_inner is for brake disc, rp_outer, rp_inner is for brake pad radiu. r_rub is for rubbing elements\n",
    "    # angle1 is brake pad in degree system, angle is in radians system\n",
    "    \n",
    "    z1, z2, z3 = 20, 33, 30\n",
    "    rd_o, rd_i = 320, 175 \n",
    "    r_rub = 18.8\n",
    "    rp_o, rp_i = 303, 178\n",
    "    \n",
    "    angle1 = 80\n",
    "    angle = angle1 / 360 * 2 * math.pi\n",
    "    \n",
    "    # gmsh.model.occ.addCylinder\n",
    "    # x (double), y (double), z (double), dx (double), dy (double), dz (double),\n",
    "    # r (double), tag = -1 (integer), angle = 2*pi (double)\n",
    "    \n",
    "    # brake disc\n",
    "    outer_disc  = gmsh.model.occ.addCylinder(0,0,0,  0, 0, z1,  rd_o)\n",
    "    inner_disc  = gmsh.model.occ.addCylinder(0,0,0,  0, 0, z1,  rd_i)\n",
    "    disk = gmsh.model.occ.cut([(3, outer_disc)], [(3, inner_disc)])\n",
    "    \n",
    "    # rubbing elements\n",
    "    import sys\n",
    "    sys.path.append('/home/yanjun/Documents/FEniCSx/Tutorial/Mesh/')\n",
    "    from rub_co import get_rub_coordinate\n",
    "    x_co, y_co = get_rub_coordinate()\n",
    "    \n",
    "    rub_list = []\n",
    "    for i, (x, y) in enumerate(zip(x_co, y_co), start=1):\n",
    "       var_name = f\"rub{i}\"\n",
    "       tag = gmsh.model.occ.addCylinder(x, y, z1, 0, 0, z2, r_rub)\n",
    "       globals()[var_name] = tag\n",
    "       rub_list.append(globals()[var_name])\n",
    "    \n",
    "    # brake pad, in [(3, )],3 means dimension, cut the common place, out - inner\n",
    "    outer_pad  = gmsh.model.occ.addCylinder(0,0,z1+z2,  0, 0, z3,  rp_o, 50, angle)\n",
    "    inner_pad  = gmsh.model.occ.addCylinder(0,0,z1+z2,  0, 0, z3,  rp_i, 51, angle)\n",
    "    pad = gmsh.model.occ.cut([(3, outer_pad)], [(3, inner_pad)]) \n",
    "    \n",
    "    # Initialize the shell with the first rub\n",
    "    rub_list = [rub1, rub2, rub3, rub4, rub5, rub6, rub7, \n",
    "                rub8, rub9, rub10, rub11, rub12, rub13, rub14, rub15, rub16, rub17, rub18]\n",
    "    shell = gmsh.model.occ.fuse([(3, outer_pad)], [(3, rub_list[0])], 70)\n",
    "    for i in range(len(rub_list) - 1):\n",
    "        shell = gmsh.model.occ.fuse([(3, 70 + i)], [(3, rub_list[i + 1])], 71 + i)\n",
    "    gmsh.model.occ.synchronize()\n",
    "    \n",
    "    # Add physical group, this step should after synchronize to make sure success\n",
    "    # https://gitlab.onelab.info/gmsh/gmsh/blob/master/tutorials/python/t1.py#L115\n",
    "    \n",
    "    # Volumes: 31,32 brake disc and pad.\n",
    "    volumes = gmsh.model.occ.getEntities(dim = 3)\n",
    "    gmsh.model.addPhysicalGroup(3, volumes[0],  31)\n",
    "    gmsh.model.addPhysicalGroup(3, volumes[1],  32)\n",
    "    \n",
    "    # Surfaces: brake disc, 21 = friction surface\n",
    "    surfaces = gmsh.model.occ.getEntities(dim = 2)\n",
    "    gmsh.model.addPhysicalGroup(2, (2,6), 21)\n",
    "    \n",
    "    # Rubbing elements, from 1 to 19, here 32 is the origin name tag of rub surface(32-49)\n",
    "    rublist = list(range(32,50))\n",
    "    for rub in rublist:\n",
    "        gmsh.model.addPhysicalGroup(2, (2, rub), rub-31)\n",
    "    \n",
    "       \n",
    "    # for the rubbing elements, P13 of UIC 541-3\n",
    "    # Sinter material, 200 cm2, 18 rubbing elemets, r = 1.88 cm\n",
    "    # Mesh size\n",
    "    gmsh.option.setNumber(\"Mesh.MeshSizeMin\", min_mesh)\n",
    "    gmsh.option.setNumber(\"Mesh.MeshSizeMax\", max_mesh)\n",
    "    \n",
    "    # Mesh file save\n",
    "    gmsh.model.mesh.generate(3)\n",
    "    c = gmsh.write(filename + \".msh\")\n",
    "    notice = print(\"NOTICE:\" + filename + \" has been meshed successfully and saved as \" + filename + \".msh\")   \n",
    "    # Launch the GUI to see the results:\n",
    "    # if '-nopopup' not in sys.argv:\n",
    "    #    gmsh.fltk.run()\n",
    "    gmsh.finalize()\n",
    "    \n",
    "    return c\n",
    "    return notice"
   ]
  },
  {
   "cell_type": "code",
   "execution_count": null,
   "id": "54db5bba-8341-4b54-9de1-f28a02fd7e8d",
   "metadata": {},
   "outputs": [],
   "source": []
  },
  {
   "cell_type": "code",
   "execution_count": null,
   "id": "1271eefc-d0e8-443a-93df-0f95b4d5edb3",
   "metadata": {},
   "outputs": [],
   "source": []
  },
  {
   "cell_type": "code",
   "execution_count": 4,
   "id": "00fa7210-114a-4e59-99ac-9fd17db48ede",
   "metadata": {},
   "outputs": [
    {
     "name": "stderr",
     "output_type": "stream",
     "text": [
      "Warning : Gmsh has aleady been initialized\n",
      "Error   : OpenCASCADE entity with tag 87 already exists\n"
     ]
    },
    {
     "ename": "Exception",
     "evalue": "OpenCASCADE entity with tag 87 already exists",
     "output_type": "error",
     "traceback": [
      "\u001b[0;31m---------------------------------------------------------------------------\u001b[0m",
      "\u001b[0;31mException\u001b[0m                                 Traceback (most recent call last)",
      "\u001b[0;32m/tmp/ipykernel_5251/3855338128.py\u001b[0m in \u001b[0;36m?\u001b[0;34m()\u001b[0m\n\u001b[0;32m----> 1\u001b[0;31m \u001b[0mdisc1\u001b[0m \u001b[0;34m=\u001b[0m \u001b[0mmesh_brake_disc\u001b[0m\u001b[0;34m(\u001b[0m\u001b[0;36m5\u001b[0m\u001b[0;34m,\u001b[0m\u001b[0;36m10\u001b[0m\u001b[0;34m,\u001b[0m\u001b[0;34m\"disc\"\u001b[0m\u001b[0;34m)\u001b[0m\u001b[0;34m\u001b[0m\u001b[0;34m\u001b[0m\u001b[0m\n\u001b[0m",
      "\u001b[0;32m/tmp/ipykernel_5251/2901190035.py\u001b[0m in \u001b[0;36m?\u001b[0;34m(min_mesh, max_mesh, filename)\u001b[0m\n\u001b[1;32m     52\u001b[0m     rub_list = [rub1, rub2, rub3, rub4, rub5, rub6, rub7, \n\u001b[1;32m     53\u001b[0m                 \u001b[0mrub8\u001b[0m\u001b[0;34m,\u001b[0m \u001b[0mrub9\u001b[0m\u001b[0;34m,\u001b[0m \u001b[0mrub10\u001b[0m\u001b[0;34m,\u001b[0m \u001b[0mrub11\u001b[0m\u001b[0;34m,\u001b[0m \u001b[0mrub12\u001b[0m\u001b[0;34m,\u001b[0m \u001b[0mrub13\u001b[0m\u001b[0;34m,\u001b[0m \u001b[0mrub14\u001b[0m\u001b[0;34m,\u001b[0m \u001b[0mrub15\u001b[0m\u001b[0;34m,\u001b[0m \u001b[0mrub16\u001b[0m\u001b[0;34m,\u001b[0m \u001b[0mrub17\u001b[0m\u001b[0;34m,\u001b[0m \u001b[0mrub18\u001b[0m\u001b[0;34m]\u001b[0m\u001b[0;34m\u001b[0m\u001b[0;34m\u001b[0m\u001b[0m\n\u001b[1;32m     54\u001b[0m     \u001b[0mshell\u001b[0m \u001b[0;34m=\u001b[0m \u001b[0mgmsh\u001b[0m\u001b[0;34m.\u001b[0m\u001b[0mmodel\u001b[0m\u001b[0;34m.\u001b[0m\u001b[0mocc\u001b[0m\u001b[0;34m.\u001b[0m\u001b[0mfuse\u001b[0m\u001b[0;34m(\u001b[0m\u001b[0;34m[\u001b[0m\u001b[0;34m(\u001b[0m\u001b[0;36m3\u001b[0m\u001b[0;34m,\u001b[0m \u001b[0mouter_pad\u001b[0m\u001b[0;34m)\u001b[0m\u001b[0;34m]\u001b[0m\u001b[0;34m,\u001b[0m \u001b[0;34m[\u001b[0m\u001b[0;34m(\u001b[0m\u001b[0;36m3\u001b[0m\u001b[0;34m,\u001b[0m \u001b[0mrub_list\u001b[0m\u001b[0;34m[\u001b[0m\u001b[0;36m0\u001b[0m\u001b[0;34m]\u001b[0m\u001b[0;34m)\u001b[0m\u001b[0;34m]\u001b[0m\u001b[0;34m,\u001b[0m \u001b[0;36m70\u001b[0m\u001b[0;34m)\u001b[0m\u001b[0;34m\u001b[0m\u001b[0;34m\u001b[0m\u001b[0m\n\u001b[1;32m     55\u001b[0m     \u001b[0;32mfor\u001b[0m \u001b[0mi\u001b[0m \u001b[0;32min\u001b[0m \u001b[0mrange\u001b[0m\u001b[0;34m(\u001b[0m\u001b[0mlen\u001b[0m\u001b[0;34m(\u001b[0m\u001b[0mrub_list\u001b[0m\u001b[0;34m)\u001b[0m \u001b[0;34m-\u001b[0m \u001b[0;36m1\u001b[0m\u001b[0;34m)\u001b[0m\u001b[0;34m:\u001b[0m\u001b[0;34m\u001b[0m\u001b[0;34m\u001b[0m\u001b[0m\n\u001b[0;32m---> 56\u001b[0;31m         \u001b[0mshell\u001b[0m \u001b[0;34m=\u001b[0m \u001b[0mgmsh\u001b[0m\u001b[0;34m.\u001b[0m\u001b[0mmodel\u001b[0m\u001b[0;34m.\u001b[0m\u001b[0mocc\u001b[0m\u001b[0;34m.\u001b[0m\u001b[0mfuse\u001b[0m\u001b[0;34m(\u001b[0m\u001b[0;34m[\u001b[0m\u001b[0;34m(\u001b[0m\u001b[0;36m3\u001b[0m\u001b[0;34m,\u001b[0m \u001b[0;36m70\u001b[0m \u001b[0;34m+\u001b[0m \u001b[0mi\u001b[0m\u001b[0;34m)\u001b[0m\u001b[0;34m]\u001b[0m\u001b[0;34m,\u001b[0m \u001b[0;34m[\u001b[0m\u001b[0;34m(\u001b[0m\u001b[0;36m3\u001b[0m\u001b[0;34m,\u001b[0m \u001b[0mrub_list\u001b[0m\u001b[0;34m[\u001b[0m\u001b[0mi\u001b[0m \u001b[0;34m+\u001b[0m \u001b[0;36m1\u001b[0m\u001b[0;34m]\u001b[0m\u001b[0;34m)\u001b[0m\u001b[0;34m]\u001b[0m\u001b[0;34m,\u001b[0m \u001b[0;36m71\u001b[0m \u001b[0;34m+\u001b[0m \u001b[0mi\u001b[0m\u001b[0;34m)\u001b[0m\u001b[0;34m\u001b[0m\u001b[0;34m\u001b[0m\u001b[0m\n\u001b[0m\u001b[1;32m     57\u001b[0m     \u001b[0mgmsh\u001b[0m\u001b[0;34m.\u001b[0m\u001b[0mmodel\u001b[0m\u001b[0;34m.\u001b[0m\u001b[0mocc\u001b[0m\u001b[0;34m.\u001b[0m\u001b[0msynchronize\u001b[0m\u001b[0;34m(\u001b[0m\u001b[0;34m)\u001b[0m\u001b[0;34m\u001b[0m\u001b[0;34m\u001b[0m\u001b[0m\n\u001b[1;32m     58\u001b[0m \u001b[0;34m\u001b[0m\u001b[0m\n\u001b[1;32m     59\u001b[0m     \u001b[0;31m# Add physical group, this step should after synchronize to make sure success\u001b[0m\u001b[0;34m\u001b[0m\u001b[0;34m\u001b[0m\u001b[0m\n",
      "\u001b[0;32m~/miniconda3/envs/fenicsx/lib/python3.12/site-packages/gmsh.py\u001b[0m in \u001b[0;36m?\u001b[0;34m(objectDimTags, toolDimTags, tag, removeObject, removeTool)\u001b[0m\n\u001b[1;32m   8124\u001b[0m                 \u001b[0mc_int\u001b[0m\u001b[0;34m(\u001b[0m\u001b[0mbool\u001b[0m\u001b[0;34m(\u001b[0m\u001b[0mremoveObject\u001b[0m\u001b[0;34m)\u001b[0m\u001b[0;34m)\u001b[0m\u001b[0;34m,\u001b[0m\u001b[0;34m\u001b[0m\u001b[0;34m\u001b[0m\u001b[0m\n\u001b[1;32m   8125\u001b[0m                 \u001b[0mc_int\u001b[0m\u001b[0;34m(\u001b[0m\u001b[0mbool\u001b[0m\u001b[0;34m(\u001b[0m\u001b[0mremoveTool\u001b[0m\u001b[0;34m)\u001b[0m\u001b[0;34m)\u001b[0m\u001b[0;34m,\u001b[0m\u001b[0;34m\u001b[0m\u001b[0;34m\u001b[0m\u001b[0m\n\u001b[1;32m   8126\u001b[0m                 \u001b[0mbyref\u001b[0m\u001b[0;34m(\u001b[0m\u001b[0mierr\u001b[0m\u001b[0;34m)\u001b[0m\u001b[0;34m)\u001b[0m\u001b[0;34m\u001b[0m\u001b[0;34m\u001b[0m\u001b[0m\n\u001b[1;32m   8127\u001b[0m             \u001b[0;32mif\u001b[0m \u001b[0mierr\u001b[0m\u001b[0;34m.\u001b[0m\u001b[0mvalue\u001b[0m \u001b[0;34m!=\u001b[0m \u001b[0;36m0\u001b[0m\u001b[0;34m:\u001b[0m\u001b[0;34m\u001b[0m\u001b[0;34m\u001b[0m\u001b[0m\n\u001b[0;32m-> 8128\u001b[0;31m                 \u001b[0;32mraise\u001b[0m \u001b[0mException\u001b[0m\u001b[0;34m(\u001b[0m\u001b[0mlogger\u001b[0m\u001b[0;34m.\u001b[0m\u001b[0mgetLastError\u001b[0m\u001b[0;34m(\u001b[0m\u001b[0;34m)\u001b[0m\u001b[0;34m)\u001b[0m\u001b[0;34m\u001b[0m\u001b[0;34m\u001b[0m\u001b[0m\n\u001b[0m\u001b[1;32m   8129\u001b[0m             return (\n\u001b[1;32m   8130\u001b[0m                 \u001b[0m_ovectorpair\u001b[0m\u001b[0;34m(\u001b[0m\u001b[0mapi_outDimTags_\u001b[0m\u001b[0;34m,\u001b[0m \u001b[0mapi_outDimTags_n_\u001b[0m\u001b[0;34m.\u001b[0m\u001b[0mvalue\u001b[0m\u001b[0;34m)\u001b[0m\u001b[0;34m,\u001b[0m\u001b[0;34m\u001b[0m\u001b[0;34m\u001b[0m\u001b[0m\n\u001b[1;32m   8131\u001b[0m                 \u001b[0m_ovectorvectorpair\u001b[0m\u001b[0;34m(\u001b[0m\u001b[0mapi_outDimTagsMap_\u001b[0m\u001b[0;34m,\u001b[0m \u001b[0mapi_outDimTagsMap_n_\u001b[0m\u001b[0;34m,\u001b[0m \u001b[0mapi_outDimTagsMap_nn_\u001b[0m\u001b[0;34m)\u001b[0m\u001b[0;34m)\u001b[0m\u001b[0;34m\u001b[0m\u001b[0;34m\u001b[0m\u001b[0m\n",
      "\u001b[0;31mException\u001b[0m: OpenCASCADE entity with tag 87 already exists"
     ]
    }
   ],
   "source": [
    "disc1 = mesh_brake_disc(5,10,\"disc\")"
   ]
  },
  {
   "cell_type": "markdown",
   "id": "380aabda-d3a5-4cc8-9174-097b9d87436c",
   "metadata": {},
   "source": [
    "Below py used to transfer a py script to a function"
   ]
  },
  {
   "cell_type": "code",
   "execution_count": null,
   "id": "591b99ad-77d6-4804-a061-736db67633c4",
   "metadata": {},
   "outputs": [],
   "source": [
    "## this py used to transfer a py script to a function\n",
    "\n",
    "input_file = 'functionq.py'\n",
    "output_file = '22.py'\n",
    "\n",
    "with open(input_file, 'r') as f:\n",
    "    lines = f.readlines()\n",
    "\n",
    "with open(output_file, 'w') as f_output:\n",
    "    for line in lines:\n",
    "        f_output.write('    ' + line)"
   ]
  },
  {
   "cell_type": "code",
   "execution_count": null,
   "id": "e1298443-ca9f-4f69-9ffb-4ca02f3e14e9",
   "metadata": {},
   "outputs": [],
   "source": []
  }
 ],
 "metadata": {
  "kernelspec": {
   "display_name": "Python 3 (ipykernel)",
   "language": "python",
   "name": "python3"
  },
  "language_info": {
   "codemirror_mode": {
    "name": "ipython",
    "version": 3
   },
   "file_extension": ".py",
   "mimetype": "text/x-python",
   "name": "python",
   "nbconvert_exporter": "python",
   "pygments_lexer": "ipython3",
   "version": "3.12.2"
  }
 },
 "nbformat": 4,
 "nbformat_minor": 5
}
