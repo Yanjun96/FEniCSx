{
 "cells": [
  {
   "cell_type": "code",
   "execution_count": 25,
   "id": "5e0199d9-26a5-4928-b753-f191e611c960",
   "metadata": {},
   "outputs": [],
   "source": [
    "import dolfinx as fe\n",
    "\n",
    "# Define material properties\n",
    "rho = 7800  # Density (kg/m^3)\n",
    "c = 500     # Specific heat capacity (J/kg-K)\n",
    "k = 50      # Thermal conductivity (W/m-K)\n",
    "mu = 0.3    # Coefficient of friction\n",
    "p = 1e6     # Applied pressure (N/m^2)\n",
    "v = 1       # Sliding speed (m/s)\n",
    "\n",
    "\n",
    "# Note: Adapt this code to your specific brake disc geometry and conditions."
   ]
  },
  {
   "cell_type": "code",
   "execution_count": 28,
   "id": "3ef81707-0aa6-4588-9eeb-cd33bc584c8e",
   "metadata": {},
   "outputs": [
    {
     "ename": "AttributeError",
     "evalue": "module 'dolfinx' has no attribute 'FunctionSpace'",
     "output_type": "error",
     "traceback": [
      "\u001b[0;31m---------------------------------------------------------------------------\u001b[0m",
      "\u001b[0;31mAttributeError\u001b[0m                            Traceback (most recent call last)",
      "Cell \u001b[0;32mIn[28], line 6\u001b[0m\n\u001b[1;32m      2\u001b[0m mesh \u001b[38;5;241m=\u001b[39m mesh\u001b[38;5;241m.\u001b[39mcreate_unit_square(MPI\u001b[38;5;241m.\u001b[39mCOMM_WORLD, \u001b[38;5;241m8\u001b[39m, \u001b[38;5;241m8\u001b[39m, mesh\u001b[38;5;241m.\u001b[39mCellType\u001b[38;5;241m.\u001b[39mquadrilateral)\n\u001b[1;32m      5\u001b[0m \u001b[38;5;66;03m# Define function space\u001b[39;00m\n\u001b[0;32m----> 6\u001b[0m V \u001b[38;5;241m=\u001b[39m \u001b[43mfe\u001b[49m\u001b[38;5;241;43m.\u001b[39;49m\u001b[43mFunctionSpace\u001b[49m(mesh, \u001b[38;5;124m\"\u001b[39m\u001b[38;5;124mCG\u001b[39m\u001b[38;5;124m\"\u001b[39m, \u001b[38;5;241m1\u001b[39m)\n\u001b[1;32m      8\u001b[0m \u001b[38;5;66;03m# Initial temperature\u001b[39;00m\n\u001b[1;32m      9\u001b[0m T_initial \u001b[38;5;241m=\u001b[39m fe\u001b[38;5;241m.\u001b[39mConstant(\u001b[38;5;241m300\u001b[39m)  \u001b[38;5;66;03m# 300 K\u001b[39;00m\n",
      "\u001b[0;31mAttributeError\u001b[0m: module 'dolfinx' has no attribute 'FunctionSpace'"
     ]
    }
   ],
   "source": [
    "# Create mesh (simplified cylindrical geometry)\n",
    "mesh = mesh.create_unit_square(MPI.COMM_WORLD, 8, 8, mesh.CellType.quadrilateral)\n",
    "\n",
    "\n",
    "# Define function space\n",
    "V = fe.FunctionSpace(mesh, \"CG\", 1)\n",
    "\n",
    "# Initial temperature\n",
    "T_initial = fe.Constant(300)  # 300 K\n",
    "\n"
   ]
  },
  {
   "cell_type": "code",
   "execution_count": 29,
   "id": "e8ddc50b-a882-463f-9058-8155e7052c32",
   "metadata": {},
   "outputs": [
    {
     "ename": "AttributeError",
     "evalue": "module 'dolfinx' has no attribute 'DirichletBC'",
     "output_type": "error",
     "traceback": [
      "\u001b[0;31m---------------------------------------------------------------------------\u001b[0m",
      "\u001b[0;31mAttributeError\u001b[0m                            Traceback (most recent call last)",
      "Cell \u001b[0;32mIn[29], line 5\u001b[0m\n\u001b[1;32m      2\u001b[0m \u001b[38;5;28;01mdef\u001b[39;00m \u001b[38;5;21mboundary\u001b[39m(x, on_boundary):\n\u001b[1;32m      3\u001b[0m     \u001b[38;5;28;01mreturn\u001b[39;00m on_boundary\n\u001b[0;32m----> 5\u001b[0m bc \u001b[38;5;241m=\u001b[39m \u001b[43mfe\u001b[49m\u001b[38;5;241;43m.\u001b[39;49m\u001b[43mDirichletBC\u001b[49m(V, T_initial, boundary)\n\u001b[1;32m      7\u001b[0m \u001b[38;5;66;03m# Define variational problem\u001b[39;00m\n\u001b[1;32m      8\u001b[0m T \u001b[38;5;241m=\u001b[39m fe\u001b[38;5;241m.\u001b[39mFunction(V)\n",
      "\u001b[0;31mAttributeError\u001b[0m: module 'dolfinx' has no attribute 'DirichletBC'"
     ]
    }
   ],
   "source": [
    "# Define boundary conditions\n",
    "def boundary(x, on_boundary):\n",
    "    return on_boundary\n",
    "\n",
    "bc = fe.DirichletBC(V, T_initial, boundary)\n",
    "\n",
    "# Define variational problem\n",
    "T = fe.Function(V)\n",
    "v = fe.TestFunction(V)\n",
    "T_n = fe.interpolate(T_initial, V)  # Previous time step temperature\n",
    "\n",
    "dt = 0.1  # Time step\n",
    "T_new = T_n + dt * (rho * c * (T - T_n) / dt - fe.div(k * fe.grad(T_n)) - mu * p * v)\n",
    "\n",
    "F = rho * c * (T - T_n) * v * fe.dx + dt * k * fe.dot(fe.grad(T), fe.grad(v)) * fe.dx - T_new * v * fe.dx\n",
    "\n",
    "# Time-stepping loop\n",
    "t = 0\n",
    "T_end = 10  # Total simulation time\n",
    "\n",
    "while t < T_end:\n",
    "    fe.solve(F == 0, T, bc)\n",
    "    T_n.assign(T)\n",
    "    t += dt\n",
    "\n",
    "# Post-process: Extract temperature at specific points of interest\n",
    "# (e.g., center of the disc, edge, etc.)\n",
    "\n",
    "# Print temperature distribution or save to file\n",
    "fe.plot(T, title=\"Temperature Distribution\")\n",
    "fe.interactive()"
   ]
  },
  {
   "cell_type": "code",
   "execution_count": null,
   "id": "bd421fc7-a03c-4d57-a1b0-9cf1adc14916",
   "metadata": {},
   "outputs": [],
   "source": []
  },
  {
   "cell_type": "code",
   "execution_count": null,
   "id": "44aa4532-42c9-4c53-9629-c5e1facdb8f1",
   "metadata": {},
   "outputs": [],
   "source": []
  },
  {
   "cell_type": "code",
   "execution_count": null,
   "id": "7f1a0426-591f-4452-8293-241628810fa6",
   "metadata": {},
   "outputs": [],
   "source": []
  },
  {
   "cell_type": "code",
   "execution_count": null,
   "id": "e2fbb983-a588-44b0-ba98-15dcfe737ec7",
   "metadata": {},
   "outputs": [],
   "source": []
  },
  {
   "cell_type": "code",
   "execution_count": null,
   "id": "10ef0eed-b2e8-4db7-927c-9099c969df3f",
   "metadata": {},
   "outputs": [],
   "source": []
  },
  {
   "cell_type": "code",
   "execution_count": null,
   "id": "f05b0ace-ec50-4d2d-858f-705d9c98f117",
   "metadata": {},
   "outputs": [],
   "source": []
  },
  {
   "cell_type": "code",
   "execution_count": null,
   "id": "57ced678-5833-4627-b6b6-617a8b7367d4",
   "metadata": {},
   "outputs": [],
   "source": []
  }
 ],
 "metadata": {
  "kernelspec": {
   "display_name": "Python 3 (ipykernel)",
   "language": "python",
   "name": "python3"
  },
  "language_info": {
   "codemirror_mode": {
    "name": "ipython",
    "version": 3
   },
   "file_extension": ".py",
   "mimetype": "text/x-python",
   "name": "python",
   "nbconvert_exporter": "python",
   "pygments_lexer": "ipython3",
   "version": "3.10.12"
  }
 },
 "nbformat": 4,
 "nbformat_minor": 5
}
