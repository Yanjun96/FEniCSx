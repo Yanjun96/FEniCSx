{
 "cells": [
  {
   "cell_type": "markdown",
   "id": "e7a8fca7-d9a4-4a13-9230-4da63e9e07e5",
   "metadata": {},
   "source": [
    "## 1: time_step"
   ]
  },
  {
   "cell_type": "code",
   "execution_count": 1,
   "id": "5ca05d23-135a-4f1f-9b30-bbeacf7dd490",
   "metadata": {},
   "outputs": [
    {
     "name": "stdout",
     "output_type": "stream",
     "text": [
      "DOLFINx version: 0.8.0 based on GIT commit: ad7bf8b551a6795a19aaaec058ecba438d55b279 of https://github.com/FEniCS/dolfinx/\n"
     ]
    }
   ],
   "source": [
    "import dolfinx\n",
    "print(f\"DOLFINx version: {dolfinx.__version__} based on GIT commit: {dolfinx.git_commit_hash} of https://github.com/FEniCS/dolfinx/\")"
   ]
  },
  {
   "cell_type": "code",
   "execution_count": 2,
   "id": "d02705cb-26aa-445b-8528-731951d6a809",
   "metadata": {},
   "outputs": [
    {
     "name": "stdout",
     "output_type": "stream",
     "text": [
      "1: Total tims is  48.75 s\n",
      "2: Total numb steps is  12332\n",
      "1: Total tims is  48.6 s\n",
      "2: Total numb steps is  1213\n",
      "1: Total tims is  49.89 s\n",
      "2: Total numb steps is  608\n"
     ]
    }
   ],
   "source": [
    "from brake_disc_functions import *\n",
    "d = get_time_step_from_angular(11, 10, 1)\n",
    "d = get_time_step_from_angular(112, 10, 1)\n",
    "d = get_time_step_from_angular(224, 10, 1)\n"
   ]
  },
  {
   "cell_type": "code",
   "execution_count": null,
   "id": "03822a43-b1db-4f24-a070-908113d03f60",
   "metadata": {},
   "outputs": [],
   "source": [
    "from main_code_disc_thermal import main_code_disc_thermal\n",
    "\n",
    "c= [19]\n",
    "angular = 36980\n",
    "mesh_max = 10\n",
    "c_contact = 1\n",
    "type = 'time_step'\n",
    "\n",
    "main_code_disc_thermal(c, type ,angular, mesh_max, c_contact)"
   ]
  },
  {
   "cell_type": "code",
   "execution_count": null,
   "id": "f27eb446-78e1-46eb-a446-aa6931b5392e",
   "metadata": {},
   "outputs": [],
   "source": []
  },
  {
   "cell_type": "code",
   "execution_count": null,
   "id": "b16fa21f-6015-42d5-b5e7-85adffde2b13",
   "metadata": {},
   "outputs": [],
   "source": []
  },
  {
   "cell_type": "markdown",
   "id": "7cc024f6-53a6-468a-842d-75a4f7e53d65",
   "metadata": {},
   "source": [
    "## 2: mesh_size"
   ]
  },
  {
   "cell_type": "code",
   "execution_count": 4,
   "id": "67f4471d-ca76-4458-85f6-c0dd0372b362",
   "metadata": {},
   "outputs": [
    {
     "name": "stdout",
     "output_type": "stream",
     "text": [
      "1: Total tims is  48.75 s\n",
      "2: Total numb steps is  12332\n",
      "The file 'm-3-7.msh' exists, start reading:\n",
      "Info    : Reading 'm-3-7.msh'...\n",
      "Info    : 168 entities\n",
      "Info    : 25313 nodes\n",
      "Info    : 112156 elements\n",
      "Info    : Done reading 'm-3-7.msh'                                         \n",
      "\n"
     ]
    },
    {
     "ename": "TimeoutError",
     "evalue": "JIT compilation timed out, probably due to a failed previous compile. Try cleaning cache (e.g. remove /home/yanjun/.cache/fenics/libffcx_forms_7bf98488828cb4778e680a842d9fdf534ce707ab.c) or increase timeout option.",
     "output_type": "error",
     "traceback": [
      "\u001b[0;31m---------------------------------------------------------------------------\u001b[0m",
      "\u001b[0;31mFileExistsError\u001b[0m                           Traceback (most recent call last)",
      "File \u001b[0;32m~/miniconda3/envs/fenicsx/lib/python3.12/site-packages/ffcx/codegeneration/jit.py:89\u001b[0m, in \u001b[0;36mget_cached_module\u001b[0;34m(module_name, object_names, cache_dir, timeout)\u001b[0m\n\u001b[1;32m     87\u001b[0m \u001b[38;5;28;01mtry\u001b[39;00m:\n\u001b[1;32m     88\u001b[0m     \u001b[38;5;66;03m# Create C file with exclusive access\u001b[39;00m\n\u001b[0;32m---> 89\u001b[0m     \u001b[38;5;28;01mwith\u001b[39;00m \u001b[38;5;28mopen\u001b[39m(c_filename, \u001b[38;5;124m\"\u001b[39m\u001b[38;5;124mx\u001b[39m\u001b[38;5;124m\"\u001b[39m):\n\u001b[1;32m     90\u001b[0m         \u001b[38;5;28;01mpass\u001b[39;00m\n",
      "\u001b[0;31mFileExistsError\u001b[0m: [Errno 17] File exists: '/home/yanjun/.cache/fenics/libffcx_forms_7bf98488828cb4778e680a842d9fdf534ce707ab.c'",
      "\nDuring handling of the above exception, another exception occurred:\n",
      "\u001b[0;31mTimeoutError\u001b[0m                              Traceback (most recent call last)",
      "Cell \u001b[0;32mIn[4], line 10\u001b[0m\n\u001b[1;32m      7\u001b[0m c_contact \u001b[38;5;241m=\u001b[39m \u001b[38;5;241m1\u001b[39m\n\u001b[1;32m      8\u001b[0m \u001b[38;5;28mtype\u001b[39m \u001b[38;5;241m=\u001b[39m \u001b[38;5;124m'\u001b[39m\u001b[38;5;124mmesh_size\u001b[39m\u001b[38;5;124m'\u001b[39m\n\u001b[0;32m---> 10\u001b[0m main_code_disc_thermal(c, \u001b[38;5;28mtype\u001b[39m ,angular, mesh_max, c_contact)\n",
      "File \u001b[0;32m~/Documents/FEniCSx/Project/Disc_thermal/Forward_Euler/main_code_disc_thermal.py:258\u001b[0m, in \u001b[0;36mmain_code_disc_thermal\u001b[0;34m(c, type, angular1, mesh_max1, c_contact1)\u001b[0m\n\u001b[1;32m    251\u001b[0m \u001b[38;5;28;01mfor\u001b[39;00m i \u001b[38;5;129;01min\u001b[39;00m \u001b[38;5;28mlist\u001b[39m(\u001b[38;5;28mrange\u001b[39m(\u001b[38;5;241m1\u001b[39m, \u001b[38;5;241m19\u001b[39m)):\n\u001b[1;32m    252\u001b[0m         F \u001b[38;5;241m+\u001b[39m\u001b[38;5;241m=\u001b[39m ( \n\u001b[1;32m    253\u001b[0m     \u001b[38;5;241m+\u001b[39m inner(g[\u001b[38;5;241m0\u001b[39m], v) \u001b[38;5;241m*\u001b[39m ds(\u001b[38;5;241m10\u001b[39m \u001b[38;5;241m*\u001b[39m i) \n\u001b[1;32m    254\u001b[0m     \u001b[38;5;241m-\u001b[39m h \u001b[38;5;241m*\u001b[39m inner( u_n, v) \u001b[38;5;241m*\u001b[39m ds(\u001b[38;5;241m10\u001b[39m \u001b[38;5;241m*\u001b[39m i)  \n\u001b[1;32m    255\u001b[0m     \u001b[38;5;241m-\u001b[39m radiation \u001b[38;5;241m*\u001b[39m inner( (u_n\u001b[38;5;241m*\u001b[39m\u001b[38;5;241m*\u001b[39m\u001b[38;5;241m4\u001b[39m \u001b[38;5;241m-\u001b[39m Tm\u001b[38;5;241m*\u001b[39m\u001b[38;5;241m*\u001b[39m\u001b[38;5;241m4\u001b[39m), v) \u001b[38;5;241m*\u001b[39m ds(\u001b[38;5;241m10\u001b[39m \u001b[38;5;241m*\u001b[39m i) \n\u001b[1;32m    256\u001b[0m     )\n\u001b[0;32m--> 258\u001b[0m problem \u001b[38;5;241m=\u001b[39m NonlinearProblem(F, u, bcs\u001b[38;5;241m=\u001b[39m[bc])\n\u001b[1;32m    260\u001b[0m \u001b[38;5;66;03m## 7: Using petsc4py to create a linear solver\u001b[39;00m\n\u001b[1;32m    261\u001b[0m solver \u001b[38;5;241m=\u001b[39m NewtonSolver(MPI\u001b[38;5;241m.\u001b[39mCOMM_WORLD, problem)\n",
      "File \u001b[0;32m~/miniconda3/envs/fenicsx/lib/python3.12/site-packages/dolfinx/fem/petsc.py:897\u001b[0m, in \u001b[0;36mNonlinearProblem.__init__\u001b[0;34m(self, F, u, bcs, J, form_compiler_options, jit_options)\u001b[0m\n\u001b[1;32m    868\u001b[0m \u001b[38;5;28;01mdef\u001b[39;00m \u001b[38;5;21m__init__\u001b[39m(\n\u001b[1;32m    869\u001b[0m     \u001b[38;5;28mself\u001b[39m,\n\u001b[1;32m    870\u001b[0m     F: ufl\u001b[38;5;241m.\u001b[39mform\u001b[38;5;241m.\u001b[39mForm,\n\u001b[0;32m   (...)\u001b[0m\n\u001b[1;32m    875\u001b[0m     jit_options: typing\u001b[38;5;241m.\u001b[39mOptional[\u001b[38;5;28mdict\u001b[39m] \u001b[38;5;241m=\u001b[39m \u001b[38;5;28;01mNone\u001b[39;00m,\n\u001b[1;32m    876\u001b[0m ):\n\u001b[1;32m    877\u001b[0m \u001b[38;5;250m    \u001b[39m\u001b[38;5;124;03m\"\"\"Initialize solver for solving a non-linear problem using Newton's method`.\u001b[39;00m\n\u001b[1;32m    878\u001b[0m \n\u001b[1;32m    879\u001b[0m \u001b[38;5;124;03m    Args:\u001b[39;00m\n\u001b[0;32m   (...)\u001b[0m\n\u001b[1;32m    895\u001b[0m \n\u001b[1;32m    896\u001b[0m \u001b[38;5;124;03m    \"\"\"\u001b[39;00m\n\u001b[0;32m--> 897\u001b[0m     \u001b[38;5;28mself\u001b[39m\u001b[38;5;241m.\u001b[39m_L \u001b[38;5;241m=\u001b[39m _create_form(\n\u001b[1;32m    898\u001b[0m         F, form_compiler_options\u001b[38;5;241m=\u001b[39mform_compiler_options, jit_options\u001b[38;5;241m=\u001b[39mjit_options\n\u001b[1;32m    899\u001b[0m     )\n\u001b[1;32m    901\u001b[0m     \u001b[38;5;66;03m# Create the Jacobian matrix, dF/du\u001b[39;00m\n\u001b[1;32m    902\u001b[0m     \u001b[38;5;28;01mif\u001b[39;00m J \u001b[38;5;129;01mis\u001b[39;00m \u001b[38;5;28;01mNone\u001b[39;00m:\n",
      "File \u001b[0;32m~/miniconda3/envs/fenicsx/lib/python3.12/site-packages/dolfinx/fem/forms.py:249\u001b[0m, in \u001b[0;36mform\u001b[0;34m(form, dtype, form_compiler_options, jit_options, entity_maps)\u001b[0m\n\u001b[1;32m    246\u001b[0m         \u001b[38;5;28;01mreturn\u001b[39;00m \u001b[38;5;28mlist\u001b[39m(\u001b[38;5;28mmap\u001b[39m(\u001b[38;5;28;01mlambda\u001b[39;00m sub_form: _create_form(sub_form), form))\n\u001b[1;32m    247\u001b[0m     \u001b[38;5;28;01mreturn\u001b[39;00m form\n\u001b[0;32m--> 249\u001b[0m \u001b[38;5;28;01mreturn\u001b[39;00m _create_form(form)\n",
      "File \u001b[0;32m~/miniconda3/envs/fenicsx/lib/python3.12/site-packages/dolfinx/fem/forms.py:244\u001b[0m, in \u001b[0;36mform.<locals>._create_form\u001b[0;34m(form)\u001b[0m\n\u001b[1;32m    241\u001b[0m \u001b[38;5;250m\u001b[39m\u001b[38;5;124;03m\"\"\"Recursively convert ufl.Forms to dolfinx.fem.Form, otherwise\u001b[39;00m\n\u001b[1;32m    242\u001b[0m \u001b[38;5;124;03mreturn form argument\"\"\"\u001b[39;00m\n\u001b[1;32m    243\u001b[0m \u001b[38;5;28;01mif\u001b[39;00m \u001b[38;5;28misinstance\u001b[39m(form, ufl\u001b[38;5;241m.\u001b[39mForm):\n\u001b[0;32m--> 244\u001b[0m     \u001b[38;5;28;01mreturn\u001b[39;00m _form(form)\n\u001b[1;32m    245\u001b[0m \u001b[38;5;28;01melif\u001b[39;00m \u001b[38;5;28misinstance\u001b[39m(form, collections\u001b[38;5;241m.\u001b[39mabc\u001b[38;5;241m.\u001b[39mIterable):\n\u001b[1;32m    246\u001b[0m     \u001b[38;5;28;01mreturn\u001b[39;00m \u001b[38;5;28mlist\u001b[39m(\u001b[38;5;28mmap\u001b[39m(\u001b[38;5;28;01mlambda\u001b[39;00m sub_form: _create_form(sub_form), form))\n",
      "File \u001b[0;32m~/miniconda3/envs/fenicsx/lib/python3.12/site-packages/dolfinx/fem/forms.py:186\u001b[0m, in \u001b[0;36mform.<locals>._form\u001b[0;34m(form)\u001b[0m\n\u001b[1;32m    184\u001b[0m \u001b[38;5;28;01mif\u001b[39;00m mesh \u001b[38;5;129;01mis\u001b[39;00m \u001b[38;5;28;01mNone\u001b[39;00m:\n\u001b[1;32m    185\u001b[0m     \u001b[38;5;28;01mraise\u001b[39;00m \u001b[38;5;167;01mRuntimeError\u001b[39;00m(\u001b[38;5;124m\"\u001b[39m\u001b[38;5;124mExpecting to find a Mesh in the form.\u001b[39m\u001b[38;5;124m\"\u001b[39m)\n\u001b[0;32m--> 186\u001b[0m ufcx_form, module, code \u001b[38;5;241m=\u001b[39m jit\u001b[38;5;241m.\u001b[39mffcx_jit(\n\u001b[1;32m    187\u001b[0m     mesh\u001b[38;5;241m.\u001b[39mcomm, form, form_compiler_options\u001b[38;5;241m=\u001b[39mform_compiler_options, jit_options\u001b[38;5;241m=\u001b[39mjit_options\n\u001b[1;32m    188\u001b[0m )\n\u001b[1;32m    190\u001b[0m \u001b[38;5;66;03m# For each argument in form extract its function space\u001b[39;00m\n\u001b[1;32m    191\u001b[0m V \u001b[38;5;241m=\u001b[39m [arg\u001b[38;5;241m.\u001b[39mufl_function_space()\u001b[38;5;241m.\u001b[39m_cpp_object \u001b[38;5;28;01mfor\u001b[39;00m arg \u001b[38;5;129;01min\u001b[39;00m form\u001b[38;5;241m.\u001b[39marguments()]\n",
      "File \u001b[0;32m~/miniconda3/envs/fenicsx/lib/python3.12/site-packages/dolfinx/jit.py:51\u001b[0m, in \u001b[0;36mmpi_jit_decorator.<locals>.mpi_jit\u001b[0;34m(comm, *args, **kwargs)\u001b[0m\n\u001b[1;32m     47\u001b[0m \u001b[38;5;129m@functools\u001b[39m\u001b[38;5;241m.\u001b[39mwraps(local_jit)\n\u001b[1;32m     48\u001b[0m \u001b[38;5;28;01mdef\u001b[39;00m \u001b[38;5;21mmpi_jit\u001b[39m(comm, \u001b[38;5;241m*\u001b[39margs, \u001b[38;5;241m*\u001b[39m\u001b[38;5;241m*\u001b[39mkwargs):\n\u001b[1;32m     49\u001b[0m     \u001b[38;5;66;03m# Just call JIT compiler when running in serial\u001b[39;00m\n\u001b[1;32m     50\u001b[0m     \u001b[38;5;28;01mif\u001b[39;00m comm\u001b[38;5;241m.\u001b[39msize \u001b[38;5;241m==\u001b[39m \u001b[38;5;241m1\u001b[39m:\n\u001b[0;32m---> 51\u001b[0m         \u001b[38;5;28;01mreturn\u001b[39;00m local_jit(\u001b[38;5;241m*\u001b[39margs, \u001b[38;5;241m*\u001b[39m\u001b[38;5;241m*\u001b[39mkwargs)\n\u001b[1;32m     53\u001b[0m     \u001b[38;5;66;03m# Default status (0 == ok, 1 == fail)\u001b[39;00m\n\u001b[1;32m     54\u001b[0m     status \u001b[38;5;241m=\u001b[39m \u001b[38;5;241m0\u001b[39m\n",
      "File \u001b[0;32m~/miniconda3/envs/fenicsx/lib/python3.12/site-packages/dolfinx/jit.py:201\u001b[0m, in \u001b[0;36mffcx_jit\u001b[0;34m(ufl_object, form_compiler_options, jit_options)\u001b[0m\n\u001b[1;32m    199\u001b[0m \u001b[38;5;66;03m# Switch on type and compile, returning cffi object\u001b[39;00m\n\u001b[1;32m    200\u001b[0m \u001b[38;5;28;01mif\u001b[39;00m \u001b[38;5;28misinstance\u001b[39m(ufl_object, ufl\u001b[38;5;241m.\u001b[39mForm):\n\u001b[0;32m--> 201\u001b[0m     r \u001b[38;5;241m=\u001b[39m ffcx\u001b[38;5;241m.\u001b[39mcodegeneration\u001b[38;5;241m.\u001b[39mjit\u001b[38;5;241m.\u001b[39mcompile_forms([ufl_object], options\u001b[38;5;241m=\u001b[39mp_ffcx, \u001b[38;5;241m*\u001b[39m\u001b[38;5;241m*\u001b[39mp_jit)\n\u001b[1;32m    202\u001b[0m \u001b[38;5;28;01melif\u001b[39;00m \u001b[38;5;28misinstance\u001b[39m(ufl_object, ufl\u001b[38;5;241m.\u001b[39mAbstractFiniteElement):\n\u001b[1;32m    203\u001b[0m     r \u001b[38;5;241m=\u001b[39m ffcx\u001b[38;5;241m.\u001b[39mcodegeneration\u001b[38;5;241m.\u001b[39mjit\u001b[38;5;241m.\u001b[39mcompile_elements([ufl_object], options\u001b[38;5;241m=\u001b[39mp_ffcx, \u001b[38;5;241m*\u001b[39m\u001b[38;5;241m*\u001b[39mp_jit)\n",
      "File \u001b[0;32m~/miniconda3/envs/fenicsx/lib/python3.12/site-packages/ffcx/codegeneration/jit.py:237\u001b[0m, in \u001b[0;36mcompile_forms\u001b[0;34m(forms, options, cache_dir, timeout, cffi_extra_compile_args, cffi_verbose, cffi_debug, cffi_libraries, visualise)\u001b[0m\n\u001b[1;32m    235\u001b[0m \u001b[38;5;28;01mif\u001b[39;00m cache_dir \u001b[38;5;129;01mis\u001b[39;00m \u001b[38;5;129;01mnot\u001b[39;00m \u001b[38;5;28;01mNone\u001b[39;00m:\n\u001b[1;32m    236\u001b[0m     cache_dir \u001b[38;5;241m=\u001b[39m Path(cache_dir)\n\u001b[0;32m--> 237\u001b[0m     obj, mod \u001b[38;5;241m=\u001b[39m get_cached_module(module_name, form_names, cache_dir, timeout)\n\u001b[1;32m    238\u001b[0m     \u001b[38;5;28;01mif\u001b[39;00m obj \u001b[38;5;129;01mis\u001b[39;00m \u001b[38;5;129;01mnot\u001b[39;00m \u001b[38;5;28;01mNone\u001b[39;00m:\n\u001b[1;32m    239\u001b[0m         \u001b[38;5;28;01mreturn\u001b[39;00m obj, mod, (\u001b[38;5;28;01mNone\u001b[39;00m, \u001b[38;5;28;01mNone\u001b[39;00m)\n",
      "File \u001b[0;32m~/miniconda3/envs/fenicsx/lib/python3.12/site-packages/ffcx/codegeneration/jit.py:114\u001b[0m, in \u001b[0;36mget_cached_module\u001b[0;34m(module_name, object_names, cache_dir, timeout)\u001b[0m\n\u001b[1;32m    112\u001b[0m     logger\u001b[38;5;241m.\u001b[39minfo(\u001b[38;5;124mf\u001b[39m\u001b[38;5;124m\"\u001b[39m\u001b[38;5;124mWaiting for \u001b[39m\u001b[38;5;132;01m{\u001b[39;00mready_name\u001b[38;5;132;01m}\u001b[39;00m\u001b[38;5;124m to appear.\u001b[39m\u001b[38;5;124m\"\u001b[39m)\n\u001b[1;32m    113\u001b[0m     time\u001b[38;5;241m.\u001b[39msleep(\u001b[38;5;241m1\u001b[39m)\n\u001b[0;32m--> 114\u001b[0m \u001b[38;5;28;01mraise\u001b[39;00m \u001b[38;5;167;01mTimeoutError\u001b[39;00m(\n\u001b[1;32m    115\u001b[0m     \u001b[38;5;124m\"\u001b[39m\u001b[38;5;124mJIT compilation timed out, probably due to a failed previous compile. \u001b[39m\u001b[38;5;124m\"\u001b[39m\n\u001b[1;32m    116\u001b[0m     \u001b[38;5;124mf\u001b[39m\u001b[38;5;124m\"\u001b[39m\u001b[38;5;124mTry cleaning cache (e.g. remove \u001b[39m\u001b[38;5;132;01m{\u001b[39;00mc_filename\u001b[38;5;132;01m}\u001b[39;00m\u001b[38;5;124m) or increase timeout option.\u001b[39m\u001b[38;5;124m\"\u001b[39m\n\u001b[1;32m    117\u001b[0m )\n",
      "\u001b[0;31mTimeoutError\u001b[0m: JIT compilation timed out, probably due to a failed previous compile. Try cleaning cache (e.g. remove /home/yanjun/.cache/fenics/libffcx_forms_7bf98488828cb4778e680a842d9fdf534ce707ab.c) or increase timeout option."
     ]
    }
   ],
   "source": [
    "from main_code_disc_thermal import main_code_disc_thermal\n",
    "\n",
    "#c= [3,5,7,10,15]\n",
    "c = [7]\n",
    "angular = 11\n",
    "mesh_max = 10\n",
    "c_contact = 1\n",
    "type = 'mesh_size'\n",
    "\n",
    "main_code_disc_thermal(c, type ,angular, mesh_max, c_contact)"
   ]
  },
  {
   "cell_type": "code",
   "execution_count": null,
   "id": "0abc531d-594f-46d8-8764-5913b12638fd",
   "metadata": {},
   "outputs": [],
   "source": []
  },
  {
   "cell_type": "code",
   "execution_count": null,
   "id": "c5b4c3bd-b434-4125-adc3-10343c6ffc85",
   "metadata": {},
   "outputs": [],
   "source": []
  },
  {
   "cell_type": "markdown",
   "id": "cfeb2648-3e4c-4984-bdbd-b9f0fcce657e",
   "metadata": {},
   "source": [
    "## 3: contact_area"
   ]
  },
  {
   "cell_type": "code",
   "execution_count": null,
   "id": "3742af59-3896-41de-aece-b80a181e32af",
   "metadata": {},
   "outputs": [],
   "source": [
    "from main_code_disc_thermal import main_code_disc_thermal\n",
    "\n",
    "c= [0.2,0.5,1]\n",
    "angular = 112\n",
    "mesh_max = 10\n",
    "c_contact = 1\n",
    "type = 'contact_area'\n",
    "\n",
    "main_code_disc_thermal(c, type ,angular, mesh_max, c_contact)"
   ]
  },
  {
   "cell_type": "code",
   "execution_count": null,
   "id": "fc764251-72bb-4bbd-804f-5e2a6b82269c",
   "metadata": {},
   "outputs": [],
   "source": []
  },
  {
   "cell_type": "code",
   "execution_count": null,
   "id": "5df8f066-0e36-47a8-bffd-56b7cdf2b8c2",
   "metadata": {},
   "outputs": [],
   "source": [
    "from brake_disc_functions import *\n",
    "\n",
    "c= find_3_coord ('m-3-3.msh')"
   ]
  },
  {
   "cell_type": "code",
   "execution_count": null,
   "id": "bbb8c45b-ddde-4868-9faf-b819652b908e",
   "metadata": {},
   "outputs": [],
   "source": [
    "[94411, 114209, 8995]"
   ]
  }
 ],
 "metadata": {
  "kernelspec": {
   "display_name": "Python 3 (ipykernel)",
   "language": "python",
   "name": "python3"
  },
  "language_info": {
   "codemirror_mode": {
    "name": "ipython",
    "version": 3
   },
   "file_extension": ".py",
   "mimetype": "text/x-python",
   "name": "python",
   "nbconvert_exporter": "python",
   "pygments_lexer": "ipython3",
   "version": "3.12.2"
  }
 },
 "nbformat": 4,
 "nbformat_minor": 5
}
