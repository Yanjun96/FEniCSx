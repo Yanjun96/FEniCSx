{
 "cells": [
  {
   "cell_type": "markdown",
   "id": "46b3e23d-92f7-457a-958f-13a1ff118637",
   "metadata": {},
   "source": [
    "# Creat a list"
   ]
  },
  {
   "cell_type": "code",
   "execution_count": 1,
   "id": "3da591ad-44e5-46ba-a499-188b5a67dc93",
   "metadata": {},
   "outputs": [
    {
     "name": "stdout",
     "output_type": "stream",
     "text": [
      "[1, 2, 3, 4, 5, 6, 7, 8, 9, 10, 11, 12, 13, 14, 15, 16, 17, 18]\n"
     ]
    }
   ],
   "source": [
    "list1 = [1]\n",
    "for i in range (1,18):\n",
    "   list1 +=  [i+1]\n",
    "\n",
    "print(list1)"
   ]
  },
  {
   "cell_type": "code",
   "execution_count": 2,
   "id": "fd3f3257-978b-4fbe-a0d8-f93be6aff734",
   "metadata": {},
   "outputs": [
    {
     "name": "stdout",
     "output_type": "stream",
     "text": [
      "[1, 2, 3, 4, 5, 6, 7, 8, 9, 10, 11, 12, 13, 14, 15, 16, 17, 18]\n"
     ]
    }
   ],
   "source": [
    "my_list = [ i for i in range(1, 19)]\n",
    "print(my_list)"
   ]
  },
  {
   "cell_type": "code",
   "execution_count": 3,
   "id": "18fab669-7964-4df9-816c-6aa9573a68d7",
   "metadata": {},
   "outputs": [
    {
     "name": "stdout",
     "output_type": "stream",
     "text": [
      "[1, 2, 3, 4, 5, 6, 7, 8, 9, 10, 11, 12, 13, 14, 15, 16, 17, 18]\n"
     ]
    }
   ],
   "source": [
    "m_list = list(range(1,19))\n",
    "print(m_list)"
   ]
  },
  {
   "cell_type": "markdown",
   "id": "dfef8ee5-6f75-4bb8-9b49-e42d0e0c4500",
   "metadata": {},
   "source": [
    "# Filename in function"
   ]
  },
  {
   "cell_type": "code",
   "execution_count": 4,
   "id": "5261f8a3-97c7-4ce4-bd84-de19abe23476",
   "metadata": {},
   "outputs": [],
   "source": [
    "def what(filename):\n",
    "    c = print(filename + \".msh\")\n",
    "    notice = print(\"NOTICE:\" + filename + \" has been meshed successfully and saved as \" + filename + \".msh\")   \n",
    "    return c \n",
    "    return notice\n",
    "    "
   ]
  },
  {
   "cell_type": "code",
   "execution_count": 5,
   "id": "e2c752d0-1853-49e0-98aa-161f0f7e2986",
   "metadata": {},
   "outputs": [
    {
     "name": "stdout",
     "output_type": "stream",
     "text": [
      "hao.msh\n",
      "NOTICE:hao has been meshed successfully and saved as hao.msh\n"
     ]
    }
   ],
   "source": [
    "what(\"hao\")"
   ]
  },
  {
   "cell_type": "markdown",
   "id": "3a7e7650-566a-457a-8886-c1b269f59864",
   "metadata": {},
   "source": [
    "# File Location"
   ]
  },
  {
   "cell_type": "code",
   "execution_count": 6,
   "id": "8485c20f-382c-4044-b0ed-d700ce9f6bf4",
   "metadata": {},
   "outputs": [
    {
     "data": {
      "text/plain": [
       "'/home/yanjun/Documents/FEniCSx/Tutorial'"
      ]
     },
     "execution_count": 6,
     "metadata": {},
     "output_type": "execute_result"
    }
   ],
   "source": [
    "import os\n",
    "os.getcwd()"
   ]
  },
  {
   "cell_type": "markdown",
   "id": "c04e4671-d3d5-4f08-9e26-d85807126e0e",
   "metadata": {},
   "source": [
    "below command can import function from other file directory"
   ]
  },
  {
   "cell_type": "code",
   "execution_count": 7,
   "id": "f9751ef4-d4ae-416b-a1e1-2c849ef4e09c",
   "metadata": {},
   "outputs": [],
   "source": [
    "import sys\n",
    "sys.path.append('/home/yanjun/Documents/FEniCSx/Tutorial/Mesh/')\n",
    "from mesh_disc import mesh_brake_disc"
   ]
  },
  {
   "cell_type": "code",
   "execution_count": null,
   "id": "1cc52304-2435-4d68-881c-7c266ba1946f",
   "metadata": {},
   "outputs": [],
   "source": []
  },
  {
   "cell_type": "code",
   "execution_count": 8,
   "id": "222f9b18-a22a-4994-96e8-3955a71dfd03",
   "metadata": {},
   "outputs": [
    {
     "name": "stderr",
     "output_type": "stream",
     "text": [
      "Error   : Gmsh has not been initialized\n"
     ]
    }
   ],
   "source": [
    "import gmsh\n",
    "gmsh.fltk.run()"
   ]
  },
  {
   "cell_type": "markdown",
   "id": "0b6c4024-3c71-454b-b4c7-a63f78777889",
   "metadata": {},
   "source": [
    "# Function location\n"
   ]
  },
  {
   "cell_type": "code",
   "execution_count": 9,
   "id": "7bbc6f45-5103-4349-a5ed-f38ce6882b0f",
   "metadata": {},
   "outputs": [
    {
     "ename": "NameError",
     "evalue": "name 'z1' is not defined",
     "output_type": "error",
     "traceback": [
      "\u001b[0;31m---------------------------------------------------------------------------\u001b[0m",
      "\u001b[0;31mNameError\u001b[0m                                 Traceback (most recent call last)",
      "Cell \u001b[0;32mIn[9], line 2\u001b[0m\n\u001b[1;32m      1\u001b[0m \u001b[38;5;28;01mimport\u001b[39;00m \u001b[38;5;21;01mgmsh\u001b[39;00m\n\u001b[0;32m----> 2\u001b[0m outer_disc  \u001b[38;5;241m=\u001b[39m gmsh\u001b[38;5;241m.\u001b[39mmodel\u001b[38;5;241m.\u001b[39mocc\u001b[38;5;241m.\u001b[39maddCylinder(\u001b[38;5;241m0\u001b[39m,\u001b[38;5;241m0\u001b[39m,\u001b[38;5;241m0\u001b[39m,  \u001b[38;5;241m0\u001b[39m, \u001b[38;5;241m0\u001b[39m, \u001b[43mz1\u001b[49m,  rd_o)\n",
      "\u001b[0;31mNameError\u001b[0m: name 'z1' is not defined"
     ]
    }
   ],
   "source": [
    "import gmsh\n",
    "outer_disc  = gmsh.model.occ.addCylinder(0,0,0,  0, 0, z1,  rd_o)"
   ]
  },
  {
   "cell_type": "markdown",
   "id": "1301cf8e-4205-4591-8f20-b7791af0be00",
   "metadata": {},
   "source": [
    "# np.full\n",
    "list is [2,3,4,5]\n",
    "array is [2 3 4 5]"
   ]
  },
  {
   "cell_type": "code",
   "execution_count": null,
   "id": "b0b330f3-e28f-4f92-97f9-b1fea1efd815",
   "metadata": {},
   "outputs": [],
   "source": [
    "import numpy as np\n",
    "\n",
    "x = [1, 2, 3, 4, 5, 6, 7, 8]\n",
    "\n",
    "x_array = np.array( [[1, 2, 3, 4], [ 5, 6, 7, 8]] )  # Convert x to a NumPy array\n",
    "\n",
    "constant_value = 10\n",
    "new_array = np.full(x_array.shape[1], constant_value)\n",
    "print(new_array)"
   ]
  },
  {
   "cell_type": "code",
   "execution_count": null,
   "id": "7786d5ab-3aa1-45f9-b3b8-07b863725198",
   "metadata": {},
   "outputs": [],
   "source": [
    "print(x)\n",
    "print(x_array)"
   ]
  },
  {
   "cell_type": "markdown",
   "id": "652e77d5-6ab6-4e45-9cdb-62e3f1e4135b",
   "metadata": {},
   "source": [
    "# Read information"
   ]
  },
  {
   "cell_type": "code",
   "execution_count": 3,
   "id": "84172b87-bb2b-4ebf-8c07-2ff9068d628b",
   "metadata": {},
   "outputs": [],
   "source": [
    "def get_rub_coordinate():\n",
    "   import re\n",
    "# Sample text containing cylinder data\n",
    "   text = \"\"\"\n",
    "rub1  = gmsh.model.occ.addCylinder(214,27,z1,           0, 0, z2,  r_rub)\n",
    "rub2  = gmsh.model.occ.addCylinder(258,22,z1,           0, 0, z2,  r_rub)\n",
    "rub3  = gmsh.model.occ.addCylinder(252,63,z1,           0, 0, z2,  r_rub)\n",
    "rub4  = gmsh.model.occ.addCylinder(197, 66, z1,         0, 0, z2,  r_rub)\n",
    "rub5  = gmsh.model.occ.addCylinder(262, 105, z1,        0, 0, z2,  r_rub)\n",
    "rub6  = gmsh.model.occ.addCylinder(222,99, z1,          0, 0, z2,  r_rub)\n",
    "rub7  = gmsh.model.occ.addCylinder(240,148, z1,         0, 0, z2,  r_rub)\n",
    "rub8  = gmsh.model.occ.addCylinder(202,135, z1,         0, 0, z2,  r_rub)\n",
    "rub9  = gmsh.model.occ.addCylinder(168,111, z1,         0, 0, z2,  r_rub)\n",
    "rub10 = gmsh.model.occ.addCylinder(66.25,250.47,z1,     0, 0, z2,  r_rub)\n",
    "rub11 = gmsh.model.occ.addCylinder(138.27,146.38,z1,    0, 0, z2,  r_rub)\n",
    "rub12 = gmsh.model.occ.addCylinder(167.81,175.7, z1,    0, 0, z2,  r_rub)\n",
    "rub13 = gmsh.model.occ.addCylinder(187.21, 210.86, z1,  0, 0, z2,  r_rub)\n",
    "rub14 = gmsh.model.occ.addCylinder(135.83,201.65, z1,   0, 0, z2,  r_rub)\n",
    "rub15 = gmsh.model.occ.addCylinder(98.99,182.76, z1,    0, 0, z2,  r_rub)\n",
    "rub16 = gmsh.model.occ.addCylinder(105.58,237.44, z1,   0, 0, z2,  r_rub)\n",
    "rub17 = gmsh.model.occ.addCylinder(148.68,240, z1,      0, 0, z2,  r_rub)\n",
    "rub18 = gmsh.model.occ.addCylinder(63.53, 206.27, z1,   0, 0, z2,  r_rub)\n",
    "\"\"\"\n",
    "\n",
    "# Regular expression pattern to extract x and y coordinates\n",
    "   pattern = r\"addCylinder\\(([\\d.]+),\\s*([\\d.]+),\"\n",
    "\n",
    "# Find all matches in the text\n",
    "   matches = re.findall(pattern, text)\n",
    "\n",
    "# Extract x and y coordinates from matches\n",
    "   x_co = [float(match[0]) for match in matches]\n",
    "   y_co = [float(match[1]) for match in matches]\n",
    "    \n",
    "   return x_co, y_co\n",
    "   \n"
   ]
  },
  {
   "cell_type": "code",
   "execution_count": null,
   "id": "c1b5d802-6898-49f7-a21c-a27ead9fea64",
   "metadata": {},
   "outputs": [],
   "source": [
    "x_co, y_co = get_rub_coordinate()"
   ]
  },
  {
   "cell_type": "code",
   "execution_count": null,
   "id": "6f394436-b9df-4dd7-a688-bc0fb77a1bdc",
   "metadata": {},
   "outputs": [],
   "source": [
    "print(x_co)"
   ]
  },
  {
   "cell_type": "code",
   "execution_count": null,
   "id": "4c29c0bf-d387-4cde-a74b-c0c27cffb5aa",
   "metadata": {},
   "outputs": [],
   "source": [
    "    import sys\n",
    "    sys.path.append('/home/yanjun/Documents/FEniCSx/Tutorial/Mesh/')\n",
    "    from rub_co import get_rub_coordinate\n",
    "    x_co, y_co = get_rub_coordinate()\n",
    "    \n",
    "    m_list = list(range(1,len(x_co)+1))\n",
    "print(m_list)"
   ]
  },
  {
   "cell_type": "code",
   "execution_count": null,
   "id": "3988f582-0fbe-44a7-a698-8e377c619cfa",
   "metadata": {},
   "outputs": [],
   "source": []
  },
  {
   "cell_type": "markdown",
   "id": "776cdd76-760a-49ea-a6c2-4e9529ca253e",
   "metadata": {},
   "source": [
    "# Rub Original location"
   ]
  },
  {
   "cell_type": "code",
   "execution_count": null,
   "id": "a8b5feb6-9037-429c-92af-83049a10cdc7",
   "metadata": {},
   "outputs": [],
   "source": [
    "    rub1  = gmsh.model.occ.addCylinder(214,27,z1,           0, 0, z2,  r_rub)\n",
    "    rub2  = gmsh.model.occ.addCylinder(258,22,z1,           0, 0, z2,  r_rub)\n",
    "    rub3  = gmsh.model.occ.addCylinder(252,63,z1,           0, 0, z2,  r_rub)\n",
    "    rub4  = gmsh.model.occ.addCylinder(197, 66, z1,         0, 0, z2,  r_rub)\n",
    "    rub5  = gmsh.model.occ.addCylinder(262, 105, z1,        0, 0, z2,  r_rub)\n",
    "    rub6  = gmsh.model.occ.addCylinder(222,99, z1,          0, 0, z2,  r_rub)\n",
    "    rub7  = gmsh.model.occ.addCylinder(240,148, z1,         0, 0, z2,  r_rub)\n",
    "    rub8  = gmsh.model.occ.addCylinder(202,135, z1,         0, 0, z2,  r_rub)\n",
    "    rub9  = gmsh.model.occ.addCylinder(168,111, z1,         0, 0, z2,  r_rub)\n",
    "    rub10 = gmsh.model.occ.addCylinder(66.25,250.47,z1,     0, 0, z2,  r_rub)\n",
    "    rub11 = gmsh.model.occ.addCylinder(138.27,146.38,z1,    0, 0, z2,  r_rub)\n",
    "    rub12 = gmsh.model.occ.addCylinder(167.81,175.7, z1,    0, 0, z2,  r_rub)\n",
    "    rub13 = gmsh.model.occ.addCylinder(187.21, 210.86, z1,  0, 0, z2,  r_rub)\n",
    "    rub14 = gmsh.model.occ.addCylinder(135.83,201.65, z1,   0, 0, z2,  r_rub)\n",
    "    rub15 = gmsh.model.occ.addCylinder(98.99,182.76, z1,    0, 0, z2,  r_rub)\n",
    "    rub16 = gmsh.model.occ.addCylinder(105.58,237.44, z1,   0, 0, z2,  r_rub)\n",
    "    rub17 = gmsh.model.occ.addCylinder(148.68,240, z1,      0, 0, z2,  r_rub)\n",
    "    rub18 = gmsh.model.occ.addCylinder(63.53, 206.27, z1,   0, 0, z2,  r_rub)"
   ]
  },
  {
   "cell_type": "markdown",
   "id": "87d8bc64-72d1-40ef-bfb9-75d121d4cd80",
   "metadata": {},
   "source": [
    "# Test for loop Cylinder loop"
   ]
  },
  {
   "cell_type": "code",
   "execution_count": 4,
   "id": "5ebd6ae3-89af-42c5-a002-48d44bdef25e",
   "metadata": {},
   "outputs": [
    {
     "name": "stderr",
     "output_type": "stream",
     "text": [
      "Warning : Gmsh has aleady been initialized\n",
      "Error   : OpenCASCADE entity with tag 87 already exists\n"
     ]
    },
    {
     "ename": "Exception",
     "evalue": "OpenCASCADE entity with tag 87 already exists",
     "output_type": "error",
     "traceback": [
      "\u001b[0;31m---------------------------------------------------------------------------\u001b[0m",
      "\u001b[0;31mException\u001b[0m                                 Traceback (most recent call last)",
      "\u001b[0;32m/tmp/ipykernel_33524/1036202769.py\u001b[0m in \u001b[0;36m?\u001b[0;34m()\u001b[0m\n\u001b[1;32m     54\u001b[0m                 rub8, rub9, rub10, rub11, rub12, rub13, rub14, rub15, rub16, rub17, rub18]\n\u001b[1;32m     55\u001b[0m \u001b[0;34m\u001b[0m\u001b[0m\n\u001b[1;32m     56\u001b[0m \u001b[0mshell\u001b[0m \u001b[0;34m=\u001b[0m \u001b[0mgmsh\u001b[0m\u001b[0;34m.\u001b[0m\u001b[0mmodel\u001b[0m\u001b[0;34m.\u001b[0m\u001b[0mocc\u001b[0m\u001b[0;34m.\u001b[0m\u001b[0mfuse\u001b[0m\u001b[0;34m(\u001b[0m\u001b[0;34m[\u001b[0m\u001b[0;34m(\u001b[0m\u001b[0;36m3\u001b[0m\u001b[0;34m,\u001b[0m \u001b[0mouter_pad\u001b[0m\u001b[0;34m)\u001b[0m\u001b[0;34m]\u001b[0m\u001b[0;34m,\u001b[0m \u001b[0;34m[\u001b[0m\u001b[0;34m(\u001b[0m\u001b[0;36m3\u001b[0m\u001b[0;34m,\u001b[0m \u001b[0mrub_list\u001b[0m\u001b[0;34m[\u001b[0m\u001b[0;36m0\u001b[0m\u001b[0;34m]\u001b[0m\u001b[0;34m)\u001b[0m\u001b[0;34m]\u001b[0m\u001b[0;34m,\u001b[0m \u001b[0;36m70\u001b[0m\u001b[0;34m)\u001b[0m\u001b[0;34m\u001b[0m\u001b[0;34m\u001b[0m\u001b[0m\n\u001b[1;32m     57\u001b[0m \u001b[0;32mfor\u001b[0m \u001b[0mi\u001b[0m \u001b[0;32min\u001b[0m \u001b[0mrange\u001b[0m\u001b[0;34m(\u001b[0m\u001b[0mlen\u001b[0m\u001b[0;34m(\u001b[0m\u001b[0mrub_list\u001b[0m\u001b[0;34m)\u001b[0m \u001b[0;34m-\u001b[0m \u001b[0;36m1\u001b[0m\u001b[0;34m)\u001b[0m\u001b[0;34m:\u001b[0m\u001b[0;34m\u001b[0m\u001b[0;34m\u001b[0m\u001b[0m\n\u001b[0;32m---> 58\u001b[0;31m         \u001b[0mshell\u001b[0m \u001b[0;34m=\u001b[0m \u001b[0mgmsh\u001b[0m\u001b[0;34m.\u001b[0m\u001b[0mmodel\u001b[0m\u001b[0;34m.\u001b[0m\u001b[0mocc\u001b[0m\u001b[0;34m.\u001b[0m\u001b[0mfuse\u001b[0m\u001b[0;34m(\u001b[0m\u001b[0;34m[\u001b[0m\u001b[0;34m(\u001b[0m\u001b[0;36m3\u001b[0m\u001b[0;34m,\u001b[0m \u001b[0;36m70\u001b[0m \u001b[0;34m+\u001b[0m \u001b[0mi\u001b[0m\u001b[0;34m)\u001b[0m\u001b[0;34m]\u001b[0m\u001b[0;34m,\u001b[0m \u001b[0;34m[\u001b[0m\u001b[0;34m(\u001b[0m\u001b[0;36m3\u001b[0m\u001b[0;34m,\u001b[0m \u001b[0mrub_list\u001b[0m\u001b[0;34m[\u001b[0m\u001b[0mi\u001b[0m \u001b[0;34m+\u001b[0m \u001b[0;36m1\u001b[0m\u001b[0;34m]\u001b[0m\u001b[0;34m)\u001b[0m\u001b[0;34m]\u001b[0m\u001b[0;34m,\u001b[0m \u001b[0;36m71\u001b[0m \u001b[0;34m+\u001b[0m \u001b[0mi\u001b[0m\u001b[0;34m)\u001b[0m\u001b[0;34m\u001b[0m\u001b[0;34m\u001b[0m\u001b[0m\n\u001b[0m\u001b[1;32m     59\u001b[0m \u001b[0mgmsh\u001b[0m\u001b[0;34m.\u001b[0m\u001b[0mmodel\u001b[0m\u001b[0;34m.\u001b[0m\u001b[0mocc\u001b[0m\u001b[0;34m.\u001b[0m\u001b[0msynchronize\u001b[0m\u001b[0;34m(\u001b[0m\u001b[0;34m)\u001b[0m\u001b[0;34m\u001b[0m\u001b[0;34m\u001b[0m\u001b[0m\n\u001b[1;32m     60\u001b[0m \u001b[0;34m\u001b[0m\u001b[0m\n\u001b[1;32m     61\u001b[0m     \u001b[0;31m# Add physical group, this step should after synchronize to make sure success\u001b[0m\u001b[0;34m\u001b[0m\u001b[0;34m\u001b[0m\u001b[0m\n",
      "\u001b[0;32m~/.local/lib/python3.10/site-packages/gmsh.py\u001b[0m in \u001b[0;36m?\u001b[0;34m(objectDimTags, toolDimTags, tag, removeObject, removeTool)\u001b[0m\n\u001b[1;32m   8124\u001b[0m                 \u001b[0mc_int\u001b[0m\u001b[0;34m(\u001b[0m\u001b[0mbool\u001b[0m\u001b[0;34m(\u001b[0m\u001b[0mremoveObject\u001b[0m\u001b[0;34m)\u001b[0m\u001b[0;34m)\u001b[0m\u001b[0;34m,\u001b[0m\u001b[0;34m\u001b[0m\u001b[0;34m\u001b[0m\u001b[0m\n\u001b[1;32m   8125\u001b[0m                 \u001b[0mc_int\u001b[0m\u001b[0;34m(\u001b[0m\u001b[0mbool\u001b[0m\u001b[0;34m(\u001b[0m\u001b[0mremoveTool\u001b[0m\u001b[0;34m)\u001b[0m\u001b[0;34m)\u001b[0m\u001b[0;34m,\u001b[0m\u001b[0;34m\u001b[0m\u001b[0;34m\u001b[0m\u001b[0m\n\u001b[1;32m   8126\u001b[0m                 byref(ierr))\n\u001b[1;32m   8127\u001b[0m             \u001b[0;32mif\u001b[0m \u001b[0mierr\u001b[0m\u001b[0;34m.\u001b[0m\u001b[0mvalue\u001b[0m \u001b[0;34m!=\u001b[0m \u001b[0;36m0\u001b[0m\u001b[0;34m:\u001b[0m\u001b[0;34m\u001b[0m\u001b[0;34m\u001b[0m\u001b[0m\n\u001b[0;32m-> 8128\u001b[0;31m                 \u001b[0;32mraise\u001b[0m \u001b[0mException\u001b[0m\u001b[0;34m(\u001b[0m\u001b[0mlogger\u001b[0m\u001b[0;34m.\u001b[0m\u001b[0mgetLastError\u001b[0m\u001b[0;34m(\u001b[0m\u001b[0;34m)\u001b[0m\u001b[0;34m)\u001b[0m\u001b[0;34m\u001b[0m\u001b[0;34m\u001b[0m\u001b[0m\n\u001b[0m\u001b[1;32m   8129\u001b[0m             return (\n\u001b[1;32m   8130\u001b[0m                 \u001b[0m_ovectorpair\u001b[0m\u001b[0;34m(\u001b[0m\u001b[0mapi_outDimTags_\u001b[0m\u001b[0;34m,\u001b[0m \u001b[0mapi_outDimTags_n_\u001b[0m\u001b[0;34m.\u001b[0m\u001b[0mvalue\u001b[0m\u001b[0;34m)\u001b[0m\u001b[0;34m,\u001b[0m\u001b[0;34m\u001b[0m\u001b[0;34m\u001b[0m\u001b[0m\n\u001b[1;32m   8131\u001b[0m                 _ovectorvectorpair(api_outDimTagsMap_, api_outDimTagsMap_n_, api_outDimTagsMap_nn_))\n",
      "\u001b[0;31mException\u001b[0m: OpenCASCADE entity with tag 87 already exists"
     ]
    }
   ],
   "source": [
    "import gmsh\n",
    "import sys\n",
    "import math\n",
    "import os\n",
    "import numpy as np\n",
    "    \n",
    "gmsh.initialize()\n",
    "    # all the unit is mm\n",
    "    \n",
    "    # z1, z2, z3 is the height of brake disc, rubbing elemetn, pad lining in Z direction\n",
    "    # rd_outer, rd_inner is for brake disc, rp_outer, rp_inner is for brake pad radiu. r_rub is for rubbing elements\n",
    "    # angle1 is brake pad in degree system, angle is in radians system\n",
    "    \n",
    "z1, z2, z3 = 20, 33, 30\n",
    "rd_o, rd_i = 320, 175 \n",
    "r_rub = 18.8\n",
    "rp_o, rp_i = 303, 178\n",
    "    \n",
    "angle1 = 80\n",
    "angle = angle1 / 360 * 2 * math.pi\n",
    "    \n",
    "    # gmsh.model.occ.addCylinder\n",
    "    # x (double), y (double), z (double), dx (double), dy (double), dz (double),\n",
    "    # r (double), tag = -1 (integer), angle = 2*pi (double)\n",
    "    \n",
    "    # brake disc\n",
    "outer_disc  = gmsh.model.occ.addCylinder(0,0,0,  0, 0, z1,  rd_o)\n",
    "inner_disc  = gmsh.model.occ.addCylinder(0,0,0,  0, 0, z1,  rd_i)\n",
    "disk = gmsh.model.occ.cut([(3, outer_disc)], [(3, inner_disc)])\n",
    "\n",
    "import sys\n",
    "sys.path.append('/home/yanjun/Documents/FEniCSx/Tutorial/Mesh/')\n",
    "from rub_co import get_rub_coordinate\n",
    "x_co, y_co = get_rub_coordinate()\n",
    "\n",
    "\n",
    "rub_list = []\n",
    "for i, (x, y) in enumerate(zip(x_co, y_co), start=1):\n",
    "    var_name = f\"rub{i}\"\n",
    "    tag = gmsh.model.occ.addCylinder(x, y, z1, 0, 0, z2, r_rub)\n",
    "    globals()[var_name] = tag\n",
    "    rub_list.append(globals()[var_name])\n",
    "    # rubbing elements\n",
    "  \n",
    "    \n",
    "    # brake pad, in [(3, )],3 means dimension, cut the common place, out - inner\n",
    "outer_pad  = gmsh.model.occ.addCylinder(0,0,z1+z2,  0, 0, z3,  rp_o, 50, angle)\n",
    "inner_pad  = gmsh.model.occ.addCylinder(0,0,z1+z2,  0, 0, z3,  rp_i, 51, angle)\n",
    "pad = gmsh.model.occ.cut([(3, outer_pad)], [(3, inner_pad)]) \n",
    "    \n",
    "    # Initialize the shell with the first rub\n",
    "\n",
    "rub_list = [rub1, rub2, rub3, rub4, rub5, rub6, rub7, \n",
    "                rub8, rub9, rub10, rub11, rub12, rub13, rub14, rub15, rub16, rub17, rub18]\n",
    "    \n",
    "shell = gmsh.model.occ.fuse([(3, outer_pad)], [(3, rub_list[0])], 70)\n",
    "for i in range(len(rub_list) - 1):\n",
    "        shell = gmsh.model.occ.fuse([(3, 70 + i)], [(3, rub_list[i + 1])], 71 + i)\n",
    "gmsh.model.occ.synchronize()\n",
    "    \n",
    "    # Add physical group, this step should after synchronize to make sure success\n",
    "    # https://gitlab.onelab.info/gmsh/gmsh/blob/master/tutorials/python/t1.py#L115\n",
    "    \n",
    "    # Volumes: 31,32 brake disc and pad.\n",
    "volumes = gmsh.model.occ.getEntities(dim = 3)\n",
    "gmsh.model.addPhysicalGroup(3, volumes[0],  31)\n",
    "gmsh.model.addPhysicalGroup(3, volumes[1],  32)\n",
    "    \n",
    "    # Surfaces: brake disc, 21 = friction surface\n",
    "surfaces = gmsh.model.occ.getEntities(dim = 2)\n",
    "gmsh.model.addPhysicalGroup(2, (2,6), 21)\n",
    "    \n",
    "    # Rubbing elements, from 1 to 19, here 32 is the origin name tag of rub surface(32-49)\n",
    "rublist = list(range(32,50))\n",
    "for rub in rublist:\n",
    "    gmsh.model.addPhysicalGroup(2, (2, rub), rub-31)\n",
    "    \n",
    "gmsh.model.occ.synchronize()\n",
    "    \n",
    "    # for the rubbing elements, P13 of UIC 541-3\n",
    "    # Sinter material, 200 cm2, 18 rubbing elemets, r = 1.88 cm\n",
    "    # Mesh size\n",
    "gmsh.option.setNumber(\"Mesh.MeshSizeMin\", min_mesh)\n",
    "gmsh.option.setNumber(\"Mesh.MeshSizeMax\", max_mesh)\n",
    "    \n",
    "    # Mesh file save\n",
    "gmsh.model.mesh.generate(3)\n",
    "c = gmsh.write(filename + \".msh\")\n",
    "notice = print(\"NOTICE:\" + filename + \" has been meshed successfully and saved as \" + filename + \".msh\")   \n",
    "    # Launch the GUI to see the results:\n",
    "    # if '-nopopup' not in sys.argv:\n",
    "    #    gmsh.fltk.run()\n",
    "gmsh.finalize()\n"
   ]
  },
  {
   "cell_type": "code",
   "execution_count": 2,
   "id": "bb0b6677-dfd5-4244-89ac-341128597859",
   "metadata": {},
   "outputs": [
    {
     "name": "stdout",
     "output_type": "stream",
     "text": [
      "2\n"
     ]
    }
   ],
   "source": [
    "print(rub1)"
   ]
  },
  {
   "cell_type": "code",
   "execution_count": null,
   "id": "dedd3ca6-6371-4445-abbc-a8287ef63a61",
   "metadata": {},
   "outputs": [],
   "source": []
  }
 ],
 "metadata": {
  "kernelspec": {
   "display_name": "Python 3 (ipykernel)",
   "language": "python",
   "name": "python3"
  },
  "language_info": {
   "codemirror_mode": {
    "name": "ipython",
    "version": 3
   },
   "file_extension": ".py",
   "mimetype": "text/x-python",
   "name": "python",
   "nbconvert_exporter": "python",
   "pygments_lexer": "ipython3",
   "version": "3.10.12"
  }
 },
 "nbformat": 4,
 "nbformat_minor": 5
}
