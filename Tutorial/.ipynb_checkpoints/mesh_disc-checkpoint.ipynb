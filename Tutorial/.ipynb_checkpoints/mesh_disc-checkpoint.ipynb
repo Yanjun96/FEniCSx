{
 "cells": [
  {
   "cell_type": "code",
   "execution_count": null,
   "id": "ea2ca1b7-c092-4ae5-a1a3-558a68761f34",
   "metadata": {},
   "outputs": [],
   "source": [
    "# Issue: change the mesh size does not show up directly"
   ]
  },
  {
   "cell_type": "code",
   "execution_count": 7,
   "id": "3ca94cf6-100e-4048-aa70-896028dfb4b9",
   "metadata": {},
   "outputs": [],
   "source": [
    "import numpy\n",
    "import meshio\n",
    "import gmsh\n",
    "import pygmsh\n",
    "\n",
    "# unit is mm\n",
    "mesh_size = 0.02\n",
    "geom = pygmsh.occ.Geometry()\n",
    "\n",
    "model3D = geom.__enter__()\n",
    "# https://pygmsh.readthedocs.io/en/latest/occ.html#module-pygmsh.occ.cylinder\n",
    "box0 = model3D.add_cylinder([0, 0, 0], [5, 5, 5], 20, 6.28)\n",
    "model3D.synchronize()\n",
    "model3D.add_physical(box0, \"Union\")\n",
    "geom.generate_mesh(dim=3)\n",
    "gmsh.write(\"mesh3Ddisc.msh\")\n",
    "\n",
    "model3D.__exit__()"
   ]
  },
  {
   "cell_type": "code",
   "execution_count": 8,
   "id": "6b701a81-274c-46f0-ad06-30a93820fb25",
   "metadata": {},
   "outputs": [
    {
     "name": "stdout",
     "output_type": "stream",
     "text": [
      "Info    : Reading 'mesh3Ddisc1.msh'...\n",
      "Info    : 21 entities\n",
      "Info    : 163 nodes\n",
      "Info    : 403 elements\n",
      "Info    : Done reading 'mesh3Ddisc1.msh'\n"
     ]
    },
    {
     "data": {
      "application/vnd.jupyter.widget-view+json": {
       "model_id": "c866919e70734af894d8b02d60a21835",
       "version_major": 2,
       "version_minor": 0
      },
      "text/plain": [
       "Widget(value='<iframe src=\"http://localhost:40781/index.html?ui=P_0x7f51d0125a80_3&reconnect=auto\" class=\"pyvi…"
      ]
     },
     "metadata": {},
     "output_type": "display_data"
    }
   ],
   "source": [
    "from dolfinx.io import gmshio\n",
    "from mpi4py import MPI\n",
    "import pyvista\n",
    "from dolfinx import plot\n",
    "\n",
    "# try a 3d mesh from gmsh, it works\n",
    "domain, cell_markers, facet_markers = gmshio.read_from_msh(\"mesh3Ddisc.msh\", MPI.COMM_WORLD, gdim=3)\n",
    "gdim = 3\n",
    "tdim = gdim -1 \n",
    "pyvista.start_xvfb()\n",
    "# below gdim change to tdim is plot in 2D\n",
    "topology, cell_types, geometry = plot.vtk_mesh(domain, gdim)\n",
    "grid = pyvista.UnstructuredGrid(topology, cell_types, geometry)\n",
    "plotter = pyvista.Plotter()\n",
    "plotter.add_mesh(grid, show_edges=True)\n",
    "plotter.view_xy()\n",
    "\n",
    "plotter.show()"
   ]
  },
  {
   "cell_type": "code",
   "execution_count": null,
   "id": "c3ff2c2b-eac4-4cb6-a61c-d47ff22b4293",
   "metadata": {},
   "outputs": [],
   "source": []
  },
  {
   "cell_type": "code",
   "execution_count": null,
   "id": "34315ef6-1d24-441c-858b-449fd407ad56",
   "metadata": {},
   "outputs": [],
   "source": []
  },
  {
   "cell_type": "code",
   "execution_count": null,
   "id": "84c1c4d5-70e7-4279-ad5b-058f8dace44e",
   "metadata": {},
   "outputs": [],
   "source": []
  }
 ],
 "metadata": {
  "kernelspec": {
   "display_name": "Python 3 (ipykernel)",
   "language": "python",
   "name": "python3"
  },
  "language_info": {
   "codemirror_mode": {
    "name": "ipython",
    "version": 3
   },
   "file_extension": ".py",
   "mimetype": "text/x-python",
   "name": "python",
   "nbconvert_exporter": "python",
   "pygments_lexer": "ipython3",
   "version": "3.10.12"
  }
 },
 "nbformat": 4,
 "nbformat_minor": 5
}
