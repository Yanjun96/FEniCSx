{
 "cells": [
  {
   "cell_type": "markdown",
   "metadata": {},
   "source": [
    "Heat transfer of railway brake disc\n",
    "\n",
    "disc 2 can have heat conduction, which is better than disc 1.\n",
    "\n",
    "This work, disc 3 use Neumann boundary conditon to input heat flux.\n",
    "\n",
    "Author: yanjun zhang\n",
    "\n",
    "# ds needs define correct"
   ]
  },
  {
   "cell_type": "markdown",
   "metadata": {},
   "source": [
    "## 1: Start"
   ]
  },
  {
   "cell_type": "markdown",
   "metadata": {},
   "source": [
    "Source from \n",
    "book \"Abali - 2017 - Computational Reality\" P119"
   ]
  },
  {
   "cell_type": "code",
   "execution_count": 1,
   "metadata": {},
   "outputs": [
    {
     "name": "stderr",
     "output_type": "stream",
     "text": [
      "/home/yanjun/.local/lib/python3.10/site-packages/matplotlib/projections/__init__.py:63: UserWarning: Unable to import Axes3D. This may be due to multiple versions of Matplotlib being installed (e.g. as a system package and as a pip package). As a result, the 3D projection is not available.\n",
      "  warnings.warn(\"Unable to import Axes3D. This may be due to multiple versions of \"\n"
     ]
    }
   ],
   "source": [
    "import matplotlib.pyplot as plt\n",
    "import pyvista\n",
    "import ufl\n",
    "import numpy as np\n",
    "import dolfinx\n",
    "from petsc4py import PETSc\n",
    "from mpi4py import MPI\n",
    "from dolfinx import fem, mesh, io, plot\n",
    "from dolfinx.fem.petsc import assemble_vector, assemble_matrix, create_vector, apply_lifting, set_bc\n",
    "import time\n",
    "\n",
    "# Define temporal parameters\n",
    "# Time  ----------------------------------------------------------------------\n",
    "t0=time.time()\n",
    "t = 0  # Start time\n",
    "Total_time = 5  # Final time\n",
    "num_steps = 10\n",
    "dt = Total_time / num_steps  # time step size\n",
    "\n",
    "# Boundary condtions --------------------------------------------------------- \n",
    "# initial temperature (K), and brake pad temperature\n",
    "Ti, Tm = 250, 250\n",
    "\n",
    "# This step is for the initial process. Variable need to be projected form Q onto V\n",
    "def project(function, space):\n",
    "    p = TrialFunction(space)\n",
    "    q = TestFunction(space)\n",
    "    a = inner(p, q) * dx\n",
    "    L = inner(function, q) * dx\n",
    "    problem = LinearProblem(a, L, bcs = [])\n",
    "    return problem.solve()\n",
    "\n",
    "# PhysicalProperties\n",
    "# m to mm\n",
    "unit_m_to_mm = 1e3\n",
    "t_u = unit_m_to_mm\n",
    "\n",
    "# density (kg.m^-3), capacity (J/Kg.K), conductivity (W/m.K)\n",
    "rho , c ,k = 7850 /(t_u**3),   462 ,    48 / t_u\n",
    "####################################################### mu ,   P_brake , v_angualr , r_disc , heat_distribution\n",
    "mu , P_brake , v_angualr , r_disc , heat_distribution = 0.35,   246000,   48.3,        0.25,       0.88\n",
    "# S_or is the original brake pad rubbing area, 200 cm2. \n",
    "S_or, S_new = 200, 200\n",
    "h_input = mu * P_brake * v_angualr * r_disc * heat_distribution *2 /1e6  * (S_or/S_new)\n",
    "\n",
    "g = h_input\n",
    "\n",
    "# f is the heat source,unit is w/m3\n",
    "\n",
    "RhoCp_values = rho *c\n",
    "Conductivity_values = k\n",
    "Tinit_values = Ti"
   ]
  },
  {
   "cell_type": "code",
   "execution_count": 2,
   "metadata": {},
   "outputs": [
    {
     "name": "stdout",
     "output_type": "stream",
     "text": [
      "1.8297971999999998\n"
     ]
    }
   ],
   "source": [
    "print(g)"
   ]
  },
  {
   "cell_type": "markdown",
   "metadata": {},
   "source": [
    "## 2: Mesh\n",
    "\n",
    "run mesh_brake disc.py to get disc.mesh"
   ]
  },
  {
   "cell_type": "code",
   "execution_count": 3,
   "metadata": {},
   "outputs": [
    {
     "name": "stdout",
     "output_type": "stream",
     "text": [
      "Info    : Reading '3-10.msh'...\n",
      "Info    : 168 entities\n",
      "Info    : 10751 nodes\n",
      "Info    : 43604 elements\n",
      "Info    : Done reading '3-10.msh'\n"
     ]
    }
   ],
   "source": [
    "from dolfinx.io import gmshio\n",
    "from dolfinx import plot\n",
    "from dolfinx import default_scalar_type\n",
    "from dolfinx.fem import (Constant, dirichletbc, Function, FunctionSpace, \n",
    "                         form,  locate_dofs_topological)\n",
    "from dolfinx.fem.petsc import LinearProblem, assemble_matrix, create_vector, assemble_vector, apply_lifting, set_bc\n",
    "from dolfinx.io import XDMFFile, gmshio\n",
    "from dolfinx.mesh import create_unit_square, locate_entities, locate_entities_boundary,meshtags\n",
    "from ufl import (SpatialCoordinate, TestFunction, TrialFunction,\n",
    "                 dx, grad, inner, Measure, dot, jump, FacetNormal, avg, FiniteElement, MixedElement)\n",
    "from find_com_e import find_common_e\n",
    "\n",
    "filename = \"3-10\" # mesh\n",
    "domain, cell_markers, facet_markers = gmshio.read_from_msh(filename+\".msh\", MPI.COMM_WORLD, 0, gdim=3)\n",
    "\n",
    "Q = FunctionSpace(domain, (\"DG\", 0))\n",
    "Conductivity = Function(Q)\n",
    "Conductivity.x.array[:] = np.full_like(1, Conductivity_values, dtype=default_scalar_type)\n",
    "RhoCp = Function(Q)\n",
    "RhoCp.x.array[:] = np.full_like(1, RhoCp_values, dtype=default_scalar_type)\n",
    "\n",
    "T_INIT = Function(Q)\n",
    "T_INIT.name = \"u_n\"\n",
    "# here 1 is the volume 1, the brake disc\n",
    "T_INIT.x.array[:] = np.full_like(1, Tinit_values, dtype=default_scalar_type)\n"
   ]
  },
  {
   "cell_type": "code",
   "execution_count": 4,
   "metadata": {},
   "outputs": [],
   "source": [
    "# Create boundary condition\n",
    "fdim = domain.topology.dim - 1\n",
    "import sys\n",
    "# when change a new computer, below path is inconvenient, need to find a bettwe way to use this function.\n",
    "sys.path.append('/home/yanjun/Documents/FEniCSx/Tutorial/Mesh/')\n",
    "from rub_co import get_rub_coordinate\n",
    "x_co, y_co = get_rub_coordinate()\n",
    "\n",
    "bc_list = []\n",
    "for i, (x_c, y_c) in enumerate(zip(x_co, y_co), start=1):\n",
    "    var_name = f\"bc_facets{i}\"    \n",
    "    tag= mesh.locate_entities_boundary(\n",
    "       domain, fdim, lambda x: (x[0]-x_c)**2 + (x[1]-y_c)**2  <= 324 )\n",
    "    globals()[var_name] = tag\n",
    "    bc_list.append(globals()[var_name])\n",
    "    \n",
    "# rubbing elements\n",
    "bc_disc = mesh.locate_entities_boundary(\n",
    "    domain, fdim , lambda x:  np.isclose(x[2], 20) )\n",
    "\n",
    "bc_all = find_common_e(bc_disc, bc_list)\n"
   ]
  },
  {
   "cell_type": "markdown",
   "metadata": {},
   "source": [
    "## 3: Initial condition"
   ]
  },
  {
   "cell_type": "markdown",
   "metadata": {},
   "source": [
    "Note that we have used a much higher resolution that before to better resolve features of the solution.\n",
    "We also easily update the intial and boundary conditions. Instead of using a class to define the initial condition, we simply use a function"
   ]
  },
  {
   "cell_type": "code",
   "execution_count": 5,
   "metadata": {},
   "outputs": [
    {
     "name": "stdout",
     "output_type": "stream",
     "text": [
      "1:fdim is \n",
      " 2\n",
      "[42583 42584 42586 42591 42596 42597 42600 42605 42829 42945 43115 43117\n",
      " 43121 43146 43148 43153 43334 43338 43341 43345 43567 43597 43858 43859\n",
      " 43860 43885 43886 43887 75117 75124 75134 75136 75164 75173 75442 75753\n",
      " 75815 75824 75853 75869 76126 76248 76476 76894 76896 76971 76972 77039\n",
      " 77695 77839 77840 78171 78403 78406 78531 78532]\n"
     ]
    }
   ],
   "source": [
    "# Create initial condition\n",
    "from find_com_e import find_common_e\n",
    "\n",
    "# Define variational problem, Here Lagrange changes to CG, what is CG?\n",
    "V = fem.FunctionSpace(domain, ('CG', 1))\n",
    "\n",
    "# initialization\n",
    "# u_n is for initial condition and uh is the solver result.\n",
    "u_n = fem.Function(V)\n",
    "u_n.name = \"u_n\"\n",
    "# variable, need to be projected form Q onto V\n",
    "u_n = project(T_INIT,V)\n",
    "u_n.name = \"u_n\"\n",
    "\n",
    "\n",
    "## PETSC.Scalarype(X), this X is the value of boundary condition, like inlet temperature is 20, then here X is 20.\n",
    "# Scalartype means constant value.\n",
    "bc = fem.dirichletbc(PETSc.ScalarType(Tm), fem.locate_dofs_topological(V, fdim, bc_all), V)\n",
    "\n",
    "print('1:fdim is','\\n', fdim)\n",
    "#print('2: boundary_facets is', '\\n', bc_all)\n",
    "#print('bc_all is','\\n', bc_all)\n",
    "print(bc_facets15)"
   ]
  },
  {
   "cell_type": "markdown",
   "metadata": {},
   "source": [
    "## 4: Time-dependent output\n"
   ]
  },
  {
   "cell_type": "code",
   "execution_count": 6,
   "metadata": {},
   "outputs": [
    {
     "name": "stdout",
     "output_type": "stream",
     "text": [
      "[(101, <function <lambda> at 0x725723f2b910>)]\n",
      "<dolfinx.mesh.MeshTags object at 0x725728189f00>\n",
      "ds(subdomain_id=everywhere, domain=<Mesh #0>, subdomain_data=<dolfinx.mesh.MeshTags object at 0x725728189f00>)\n"
     ]
    }
   ],
   "source": [
    "xdmf = io.XDMFFile(domain.comm, \"temperature3.xdmf\", \"w\")\n",
    "xdmf.write_mesh(domain)\n",
    "\n",
    "# Define solution variable, and interpolate initial solution for visualization in Paraview\n",
    "\n",
    "#uh.interpolate(initial_condition)\n",
    "#uh.interpolate(Tinit)\n",
    "x = SpatialCoordinate(domain)\n",
    "\n",
    "boundaries = [(101, lambda x: (x[0]-x_co[1])**2 + (x[1]-y_co[1])**2  <= 324) ]\n",
    "\n",
    "facet_indices, facet_markers = [], []\n",
    "fdim = 2\n",
    "\n",
    "for (marker, locator) in boundaries:\n",
    "    facets = locate_entities(domain, fdim, locator)\n",
    "    \n",
    "    facet_indices.append(facets)\n",
    "    facet_markers.append(np.full_like(facets, marker))\n",
    "facet_indices = np.hstack(facet_indices).astype(np.int32)\n",
    "facet_markers = np.hstack(facet_markers).astype(np.int32)\n",
    "sorted_facets = np.argsort(facet_indices)\n",
    "facet_tag = meshtags(domain, fdim, facet_indices[sorted_facets], facet_markers[sorted_facets])\n",
    "\n",
    "# ds tutorial: https://github.com/FEniCS/ufl/blob/main/ufl/measure.py\n",
    "ds = Measure('ds', domain=domain, subdomain_data=facet_tag)\n",
    "\n",
    "print(boundaries)\n",
    "print(facet_tag)\n",
    "print(ds)\n",
    "\n",
    "\n",
    "uh = fem.Function(V)\n",
    "uh.name = \"uh\"\n",
    "uh = project(T_INIT,V)\n",
    "xdmf.write_function(uh, t)"
   ]
  },
  {
   "cell_type": "code",
   "execution_count": 7,
   "metadata": {},
   "outputs": [
    {
     "name": "stdout",
     "output_type": "stream",
     "text": [
      "<dolfinx.mesh.Mesh object at 0x72572818b0d0>\n"
     ]
    }
   ],
   "source": [
    "print(domain)"
   ]
  },
  {
   "cell_type": "markdown",
   "metadata": {},
   "source": [
    "## 5: Variational problem and solver\n"
   ]
  },
  {
   "cell_type": "code",
   "execution_count": 8,
   "metadata": {},
   "outputs": [],
   "source": [
    "u, v = ufl.TrialFunction(V), ufl.TestFunction(V)\n",
    "f = fem.Constant(domain, PETSc.ScalarType(0))\n",
    "n = FacetNormal(domain)\n",
    "\n",
    "a = (rho*c)/dt * u * v *dx + k* dot(grad(u), grad(v)) *dx -  k * dot(grad(u)*v, n) *ds\n",
    "# g is the heat flux, applied to the whole surface of the mesh\n",
    "L = f *v *dx + (rho*c)/dt * u_n * v * dx   +  g  * v *ds\n",
    "\n"
   ]
  },
  {
   "cell_type": "markdown",
   "metadata": {},
   "source": [
    "## 6: Preparing linear algebra structures for time dependent problems\n"
   ]
  },
  {
   "cell_type": "code",
   "execution_count": 9,
   "metadata": {},
   "outputs": [],
   "source": [
    "# assembly matrix and vector\n",
    "bilinear_form = fem.form(a)\n",
    "linear_form = fem.form(L)"
   ]
  },
  {
   "cell_type": "code",
   "execution_count": 10,
   "metadata": {},
   "outputs": [],
   "source": [
    "A = assemble_matrix(bilinear_form, bcs=[bc])\n",
    "A.assemble()\n",
    "b = create_vector(linear_form)"
   ]
  },
  {
   "cell_type": "code",
   "execution_count": 11,
   "metadata": {},
   "outputs": [],
   "source": [
    "#print(b.view())\n",
    "#print(A.view())"
   ]
  },
  {
   "cell_type": "markdown",
   "metadata": {},
   "source": [
    "## 7: Using petsc4py to create a linear solver\n"
   ]
  },
  {
   "cell_type": "code",
   "execution_count": 12,
   "metadata": {},
   "outputs": [],
   "source": [
    "solver = PETSc.KSP().create(domain.comm)\n",
    "solver.setOperators(A)\n",
    "solver.setType(PETSc.KSP.Type.PREONLY)\n",
    "solver.getPC().setType(PETSc.PC.Type.LU)"
   ]
  },
  {
   "cell_type": "markdown",
   "metadata": {},
   "source": [
    "## 8:Visualization of time dependent problem using pyvista\n"
   ]
  },
  {
   "cell_type": "code",
   "execution_count": 13,
   "metadata": {
    "scrolled": true
   },
   "outputs": [],
   "source": [
    "import matplotlib as mpl\n",
    "pyvista.start_xvfb()\n",
    "\n",
    "grid = pyvista.UnstructuredGrid(*plot.vtk_mesh(V))\n",
    "\n",
    "plotter = pyvista.Plotter()\n",
    "plotter.open_gif(\"u_time3.gif\", fps=30)\n",
    "\n",
    "grid.point_data[\"uh\"] = uh.x.array\n",
    "warped = grid.warp_by_scalar(\"uh\", factor=0)\n",
    "\n",
    "viridis = mpl.colormaps.get_cmap(\"viridis\").resampled(25)\n",
    "sargs = dict(title_font_size=25, label_font_size=20, fmt=\"%.2e\", color=\"black\",\n",
    "             position_x=0.1, position_y=0.8, width=0.8, height=0.1)\n",
    "\n",
    "renderer = plotter.add_mesh(warped, show_edges=True, lighting=False,\n",
    "                            cmap=viridis, scalar_bar_args=sargs,\n",
    "                            #clim=[0, max(uh.x.array)])\n",
    "                            clim=[0.5*Ti,  1.5*Tm])"
   ]
  },
  {
   "cell_type": "markdown",
   "metadata": {
    "tags": []
   },
   "source": [
    "## 9:Updating the solution and right hand side per time step\n"
   ]
  },
  {
   "cell_type": "code",
   "execution_count": 14,
   "metadata": {},
   "outputs": [
    {
     "name": "stdout",
     "output_type": "stream",
     "text": [
      "1: Rotation has applied for 2 degree. 2: Current time is 0.5 s. 3: Completion is 10.0 %. "
     ]
    },
    {
     "ename": "ValueError",
     "evalue": "could not broadcast input array from shape (10751,) into shape (37654,)",
     "output_type": "error",
     "traceback": [
      "\u001b[0;31m---------------------------------------------------------------------------\u001b[0m",
      "\u001b[0;31mValueError\u001b[0m                                Traceback (most recent call last)",
      "Cell \u001b[0;32mIn[14], line 79\u001b[0m\n\u001b[1;32m     76\u001b[0m uh\u001b[38;5;241m.\u001b[39mx\u001b[38;5;241m.\u001b[39mscatter_forward()\n\u001b[1;32m     78\u001b[0m \u001b[38;5;66;03m# Update solution at previous time step (u_n)\u001b[39;00m\n\u001b[0;32m---> 79\u001b[0m \u001b[43mu_n\u001b[49m\u001b[38;5;241;43m.\u001b[39;49m\u001b[43mx\u001b[49m\u001b[38;5;241;43m.\u001b[39;49m\u001b[43marray\u001b[49m\u001b[43m[\u001b[49m\u001b[43m:\u001b[49m\u001b[43m]\u001b[49m \u001b[38;5;241m=\u001b[39m uh\u001b[38;5;241m.\u001b[39mx\u001b[38;5;241m.\u001b[39marray\n\u001b[1;32m     80\u001b[0m \u001b[38;5;66;03m# Write solution to file\u001b[39;00m\n\u001b[1;32m     81\u001b[0m xdmf\u001b[38;5;241m.\u001b[39mwrite_function(uh, t)\n",
      "\u001b[0;31mValueError\u001b[0m: could not broadcast input array from shape (10751,) into shape (37654,)"
     ]
    }
   ],
   "source": [
    "from rotation_co import rub_rotation\n",
    "import numpy as np\n",
    "\n",
    "degree = 2\n",
    "total_degree = 0\n",
    "\n",
    "for i in range(num_steps):\n",
    "    t += dt\n",
    "    # update the location\n",
    "    x_co, y_co = rub_rotation (x_co, y_co, degree)\n",
    "    bc_list = []    \n",
    "    for i, (x_c, y_c) in enumerate(zip(x_co, y_co), start=1):\n",
    "       var_name = f\"bc_facets{i}\"\n",
    "       tag= mesh.locate_entities_boundary(\n",
    "       domain, fdim, lambda x: (x[0]-x_c)**2 + (x[1]-y_c)**2  <= 324 )\n",
    "       globals()[var_name] = tag\n",
    "       bc_list.append(globals()[var_name])\n",
    "    bc_disc = mesh.locate_entities_boundary(\n",
    "        domain, fdim , lambda x:  np.isclose(x[2], 20) )\n",
    "    bc_all = find_common_e(bc_disc, bc_list)\n",
    "    bc = fem.dirichletbc(PETSc.ScalarType(Tm), fem.locate_dofs_topological(V, fdim, bc_all), V)\n",
    "    \n",
    "    total_degree += degree  # Incrementing degree by 10 in each step\n",
    "    sys.stdout.write('\\r1: Rotation has applied for {} degree. '.format(total_degree))\n",
    "    sys.stdout.write('2: Current time is ' + str(round(t,1)) + \" s. \")\n",
    "    sys.stdout.write('3: Completion is '  + str(round (100*(t/Total_time),1) )+ \" %. \")\n",
    "    sys.stdout.flush()\n",
    "\n",
    "\n",
    "\n",
    "    boundaries = [(101, lambda x: (x[0]-x_co[6])**2 + (x[1]-y_co[6])**2  <= 324) ]\n",
    "\n",
    "    facet_indices, facet_markers = [], []\n",
    "\n",
    "    for (marker, locator) in boundaries:\n",
    "        facets = locate_entities(domain, fdim, locator)\n",
    "        facet_indices.append(facets)\n",
    "        facet_markers.append(np.full_like(facets, marker))\n",
    "    facet_indices = np.hstack(facet_indices).astype(np.int32)\n",
    "    facet_markers = np.hstack(facet_markers).astype(np.int32)\n",
    "    sorted_facets = np.argsort(facet_indices)\n",
    "    facet_tag = meshtags(domain, fdim, facet_indices[sorted_facets], facet_markers[sorted_facets])\n",
    "    ds = Measure('ds', domain=domain, subdomain_data=facet_tag)\n",
    "\n",
    "    a = (rho*c)/dt * u * v *dx + k* dot(grad(u), grad(v)) *dx -  k * dot(grad(u)*v, n) *ds\n",
    "    # g is the heat flux, applied to the whole surface of the mesh\n",
    "    L = f *v *dx + (rho*c)/dt * u_n * v * dx   +  g  * v *ds\n",
    "    \n",
    "    linear_form = fem.form(L)\n",
    "    b = create_vector(linear_form)\n",
    "\n",
    "\n",
    "    ## Matrix assemble\n",
    "    A = assemble_matrix(bilinear_form, bcs=[bc])\n",
    "    A.assemble()\n",
    "\n",
    "    solver = PETSc.KSP().create(domain.comm)\n",
    "    solver.setOperators(A)\n",
    "    solver.setType(PETSc.KSP.Type.PREONLY)\n",
    "    solver.getPC().setType(PETSc.PC.Type.LU)\n",
    "              \n",
    "    \n",
    "    # Update the right hand side reusing the initial vector\n",
    "    with b.localForm() as loc_b:\n",
    "        loc_b.set(0)\n",
    "    assemble_vector(b, linear_form)\n",
    "\n",
    "    # Apply Dirichlet boundary condition to the vector\n",
    "    apply_lifting(b, [bilinear_form], [[bc]])\n",
    "    b.ghostUpdate(addv=PETSc.InsertMode.ADD_VALUES, mode=PETSc.ScatterMode.REVERSE)\n",
    "    set_bc(b, [bc])\n",
    "\n",
    "    \n",
    "    # Solve linear problem\n",
    "    solver.solve(b, uh.vector)\n",
    "    uh.x.scatter_forward()\n",
    "\n",
    "    # Update solution at previous time step (u_n)\n",
    "    u_n.x.array[:] = uh.x.array\n",
    "    # Write solution to file\n",
    "    xdmf.write_function(uh, t)\n",
    "    # Update plot\n",
    "    #warped = grid.warp_by_scalar(\"uh\", factor=0)\n",
    "    plotter.update_coordinates(warped.points.copy(), render=False)\n",
    "    plotter.update_scalars(uh.x.array, render=False)\n",
    "    plotter.write_frame()\n",
    "    \n",
    "plotter.close() \n",
    "xdmf.close()\n",
    "print()"
   ]
  },
  {
   "cell_type": "code",
   "execution_count": null,
   "metadata": {
    "scrolled": true
   },
   "outputs": [],
   "source": [
    "# Display the GIF\n",
    "from IPython.display import display, Image\n",
    "\n",
    "display(Image(filename = 'u_time3.gif'))"
   ]
  },
  {
   "cell_type": "code",
   "execution_count": null,
   "metadata": {},
   "outputs": [],
   "source": []
  }
 ],
 "metadata": {
  "jupytext": {
   "formats": "ipynb,py:light"
  },
  "kernelspec": {
   "display_name": "Python 3 (ipykernel)",
   "language": "python",
   "name": "python3"
  },
  "language_info": {
   "codemirror_mode": {
    "name": "ipython",
    "version": 3
   },
   "file_extension": ".py",
   "mimetype": "text/x-python",
   "name": "python",
   "nbconvert_exporter": "python",
   "pygments_lexer": "ipython3",
   "version": "3.10.12"
  }
 },
 "nbformat": 4,
 "nbformat_minor": 4
}
