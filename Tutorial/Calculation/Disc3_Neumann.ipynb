{
 "cells": [
  {
   "cell_type": "markdown",
   "metadata": {},
   "source": [
    "Heat transfer of railway brake disc\n",
    "\n",
    "disc 2 can have heat conduction, which is better than disc 1.\n",
    "\n",
    "This work, disc 3 use Neumann boundary conditon to input heat flux.\n",
    "\n",
    "Author: yanjun zhang\n"
   ]
  },
  {
   "cell_type": "markdown",
   "metadata": {},
   "source": [
    "## 1: Start"
   ]
  },
  {
   "cell_type": "markdown",
   "metadata": {},
   "source": [
    "Source from \n",
    "book \"Abali - 2017 - Computational Reality\" P119"
   ]
  },
  {
   "cell_type": "code",
   "execution_count": 1,
   "metadata": {},
   "outputs": [
    {
     "name": "stderr",
     "output_type": "stream",
     "text": [
      "/home/yanjun/.local/lib/python3.10/site-packages/matplotlib/projections/__init__.py:63: UserWarning: Unable to import Axes3D. This may be due to multiple versions of Matplotlib being installed (e.g. as a system package and as a pip package). As a result, the 3D projection is not available.\n",
      "  warnings.warn(\"Unable to import Axes3D. This may be due to multiple versions of \"\n"
     ]
    }
   ],
   "source": [
    "import matplotlib.pyplot as plt\n",
    "import pyvista\n",
    "import ufl\n",
    "import numpy as np\n",
    "import dolfinx\n",
    "\n",
    "from petsc4py import PETSc\n",
    "from mpi4py import MPI\n",
    "\n",
    "from dolfinx import fem, mesh, io, plot\n",
    "from dolfinx.fem.petsc import assemble_vector, assemble_matrix, create_vector, apply_lifting, set_bc\n",
    "\n",
    "import time\n",
    "\n",
    "# Define temporal parameters\n",
    "# Time  ----------------------------------------------------------------------\n",
    "t0=time.time()\n",
    "t = 0  # Start time\n",
    "Total_time = 5  # Final time\n",
    "num_steps = 50\n",
    "dt = Total_time / num_steps  # time step size\n",
    "\n",
    "# Boundary condtions --------------------------------------------------------- \n",
    "# build plate temperature (K)\n",
    "#T_plate = 353.0\n",
    "# initial temperature (K)\n",
    "T0_1 = 250\n",
    "#Tini = 25\n",
    "Tm = 250\n",
    "\n",
    "# This step is for the initial process. Variable need to be projected form Q onto V\n",
    "def project(function, space):\n",
    "    p = TrialFunction(space)\n",
    "    q = TestFunction(space)\n",
    "    a = inner(p, q) * dx\n",
    "    L = inner(function, q) * dx\n",
    "    problem = LinearProblem(a, L, bcs = [])\n",
    "    return problem.solve()\n",
    "\n",
    "# PhysicalProperties\n",
    "# m to mm\n",
    "unit_m_to_mm = 1e3\n",
    "t_u = unit_m_to_mm\n",
    "\n",
    "# density (kg.m^-3) \n",
    "# capacity (J/Kg.K)\n",
    "# conductivity (W/m.K)\n",
    "rho , c ,k = 7850 /(t_u**3), 462 , 48 / t_u\n",
    "\n",
    "mu , P_brake , v_angualr , r_disc , heat_distribution = 0.35, 246000, 48.3, 0.25, 0.88\n",
    "# f is the heat source,unit is w/m3\n",
    "h_input = mu * P_brake * v_angualr * r_disc * heat_distribution /1e9 *100\n",
    "g = h_input\n",
    "\n",
    "RhoCp_values = rho *c\n",
    "Conductivity_values = k\n",
    "Tinit_values = T0_1"
   ]
  },
  {
   "cell_type": "code",
   "execution_count": 2,
   "metadata": {},
   "outputs": [
    {
     "name": "stdout",
     "output_type": "stream",
     "text": [
      "0.09148985999999999\n",
      "7.85e-06\n"
     ]
    }
   ],
   "source": [
    "print(h_input)\n",
    "print(rho)"
   ]
  },
  {
   "cell_type": "markdown",
   "metadata": {},
   "source": [
    "## 2: Mesh\n",
    "\n",
    "run mesh_brake disc.py to get disc.mesh"
   ]
  },
  {
   "cell_type": "code",
   "execution_count": 3,
   "metadata": {},
   "outputs": [
    {
     "name": "stdout",
     "output_type": "stream",
     "text": [
      "Info    : Reading '3-10.msh'...\n",
      "Info    : 168 entities\n",
      "Info    : 10751 nodes\n",
      "Info    : 43604 elements\n",
      "Info    : Done reading '3-10.msh'\n"
     ]
    }
   ],
   "source": [
    "from dolfinx.io import gmshio\n",
    "from dolfinx import plot\n",
    "from dolfinx import default_scalar_type\n",
    "from dolfinx.fem import (Constant, dirichletbc, Function, FunctionSpace, \n",
    "                         form,  locate_dofs_topological)\n",
    "\n",
    "from dolfinx.fem.petsc import LinearProblem, assemble_matrix, create_vector, assemble_vector, apply_lifting, set_bc\n",
    "\n",
    "from dolfinx.io import XDMFFile, gmshio\n",
    "\n",
    "from dolfinx.mesh import create_unit_square, locate_entities, locate_entities_boundary\n",
    "\n",
    "from ufl import (SpatialCoordinate, TestFunction, TrialFunction,\n",
    "                 dx, grad, inner, Measure, dot, jump, FacetNormal, avg, FiniteElement, MixedElement)\n",
    "\n",
    "filename = \"3-10\" # mesh\n",
    "# New mesh, 10 is min mesh size, 30 is the maximum mesh size\n",
    "#import sys\n",
    "#sys.path.append('/home/yanjun/Documents/FEniCSx/Tutorial/Mesh/')\n",
    "#from mesh_disc import mesh_brake_disc\n",
    "#mesh_brake_disc(3,10,filename)\n",
    "\n",
    "domain, cell_markers, facet_markers = gmshio.read_from_msh(filename+\".msh\", MPI.COMM_WORLD, 0, gdim=3)\n",
    "#gdim, tdim = 3, 2\n",
    "\n",
    "# 21 is friction surface name\n",
    "ds = Measure('ds', domain=domain, subdomain_data=facet_markers)\n",
    "\n",
    "Q = FunctionSpace(domain, (\"DG\", 0))\n",
    "\n",
    "Conductivity = Function(Q)\n",
    "Conductivity.x.array[:] = np.full_like(1, Conductivity_values, dtype=default_scalar_type)\n",
    "\n",
    "RhoCp = Function(Q)\n",
    "RhoCp.x.array[:] = np.full_like(1, RhoCp_values, dtype=default_scalar_type)\n",
    "\n",
    "#T_INIT = Function(Q)\n",
    "#T_INIT.name = \"Tinit\"\n",
    "\n",
    "T_INIT = Function(Q)\n",
    "T_INIT.name = \"u_n\"\n",
    "# here 1 is the volume 1, the brake disc\n",
    "T_INIT.x.array[:] = np.full_like(1, Tinit_values, dtype=default_scalar_type)\n"
   ]
  },
  {
   "cell_type": "code",
   "execution_count": 4,
   "metadata": {},
   "outputs": [
    {
     "name": "stdout",
     "output_type": "stream",
     "text": [
      "<dolfinx.mesh.MeshTags object at 0x784e50400310>\n"
     ]
    }
   ],
   "source": [
    "print(facet_markers)"
   ]
  },
  {
   "cell_type": "markdown",
   "metadata": {},
   "source": [
    "## 3: Initial condition"
   ]
  },
  {
   "cell_type": "markdown",
   "metadata": {},
   "source": [
    "Note that we have used a much higher resolution that before to better resolve features of the solution.\n",
    "We also easily update the intial and boundary conditions. Instead of using a class to define the initial condition, we simply use a function"
   ]
  },
  {
   "cell_type": "code",
   "execution_count": 14,
   "metadata": {},
   "outputs": [
    {
     "ename": "SyntaxError",
     "evalue": "invalid syntax (1927024659.py, line 52)",
     "output_type": "error",
     "traceback": [
      "\u001b[0;36m  Cell \u001b[0;32mIn[14], line 52\u001b[0;36m\u001b[0m\n\u001b[0;31m    g = h_input * ( (x[0]+214)**2 + (x[1]+27)**2 <= 324 && x[2] == 20)\u001b[0m\n\u001b[0m                                                         ^\u001b[0m\n\u001b[0;31mSyntaxError\u001b[0m\u001b[0;31m:\u001b[0m invalid syntax\n"
     ]
    }
   ],
   "source": [
    "# Create initial condition\n",
    "from find_com_e import find_common_e\n",
    "\n",
    "# V = fem.FunctionSpace(domain n, (\"Lagrange\", 1))\n",
    "\n",
    "# Define variational problem, Here Lagrange changes to CG, what is CG?\n",
    "V = fem.FunctionSpace(domain, ('CG', 1))\n",
    "\n",
    "\n",
    "# initialization\n",
    "# u_n is for initial condition and uh is the solver result.\n",
    "u_n = fem.Function(V)\n",
    "u_n.name = \"u_n\"\n",
    "# variable, need to be projected form Q onto V\n",
    "u_n = project(T_INIT,V)\n",
    "u_n.name = \"u_n\"\n",
    "\n",
    "# apply to all the x\n",
    "#def initial_condition(x):\n",
    "#     return (Tini + x[0]-x[0])\n",
    "    \n",
    "#u_n = fem.Function(V)\n",
    "#u_n.name = \"u_n\"\n",
    "#u_n.interpolate(initial_condition)\n",
    "\n",
    "# Create boundary condition\n",
    "fdim = domain.topology.dim - 1\n",
    "#lambda x, y, z: (x - center_x)**2 + (y - center_y)**2 <= radius**2 and np.isclose(z, target_z)\n",
    "\n",
    "import sys\n",
    "## when change a new computer, below path is inconvenient, need to find a bettwe way to use this function.\n",
    "sys.path.append('/home/yanjun/Documents/FEniCSx/Tutorial/Mesh/')\n",
    "from rub_co import get_rub_coordinate\n",
    "x_co, y_co = get_rub_coordinate()\n",
    "\n",
    "bc_list = []\n",
    "for i, (x_c, y_c) in enumerate(zip(x_co, y_co), start=1):\n",
    "    var_name = f\"bc_facets{i}\"\n",
    "    \n",
    "    tag= mesh.locate_entities_boundary(\n",
    "       domain, fdim, lambda x: (x[0]-x_c)**2 + (x[1]-y_c)**2  <= 324 )\n",
    "        \n",
    "    globals()[var_name] = tag\n",
    "    bc_list.append(globals()[var_name])\n",
    "    # rubbing elements\n",
    "\n",
    "bc_disc = mesh.locate_entities_boundary(\n",
    "    domain, fdim , lambda x:  np.isclose(x[2], 20) )\n",
    "\n",
    "bc_all = find_common_e(bc_disc, bc_list)\n",
    "x = SpatialCoordinate(domain)\n",
    "lc1 = (x[0]+214)**2 + (x[1]+27)**2 <= 324\n",
    "lc2 = x[2] == 20\n",
    "lc3 = lc1 and lc2\n",
    "g = h_input * (   )\n",
    "\n",
    "## PETSC.Scalarype(X), this X is the value of boundary condition, like inlet temperature is 20, then here X is 20.\n",
    "# Scalartype means constant value.\n",
    "bc = fem.dirichletbc(PETSc.ScalarType(Tm), fem.locate_dofs_topological(V, fdim, bc_all), V)\n",
    "\n",
    "print('1:fdim is','\\n', fdim)\n",
    "#print('2: boundary_facets is', '\\n', bc_all)\n",
    "#print('bc_all is','\\n', bc_all)\n",
    "print(bc_facets15)"
   ]
  },
  {
   "cell_type": "code",
   "execution_count": 23,
   "metadata": {},
   "outputs": [
    {
     "name": "stdout",
     "output_type": "stream",
     "text": [
      "x[0] + 4 + -4 * x[1]\n"
     ]
    }
   ],
   "source": [
    "mesh1 = create_unit_square(MPI.COMM_WORLD, 10, 10)\n",
    "x = SpatialCoordinate(mesh1)\n",
    "g = - 4 * x[1] \n",
    "g = g + 4 + x[0]\n",
    "print(g)"
   ]
  },
  {
   "cell_type": "markdown",
   "metadata": {},
   "source": [
    "## 4: Time-dependent output\n"
   ]
  },
  {
   "cell_type": "code",
   "execution_count": 7,
   "metadata": {},
   "outputs": [],
   "source": [
    "xdmf = io.XDMFFile(domain.comm, \"temperature3.xdmf\", \"w\")\n",
    "xdmf.write_mesh(domain)\n",
    "\n",
    "# Define solution variable, and interpolate initial solution for visualization in Paraview\n",
    "\n",
    "#uh.interpolate(initial_condition)\n",
    "#uh.interpolate(Tinit)\n",
    "\n",
    "uh = fem.Function(V)\n",
    "uh.name = \"uh\"\n",
    "uh = project(T_INIT,V)\n",
    "xdmf.write_function(uh, t)"
   ]
  },
  {
   "cell_type": "code",
   "execution_count": 8,
   "metadata": {},
   "outputs": [
    {
     "name": "stdout",
     "output_type": "stream",
     "text": [
      "ds(subdomain_id=everywhere, domain=<Mesh #0>, subdomain_data=<dolfinx.mesh.MeshTags object at 0x784e50400310>)\n"
     ]
    }
   ],
   "source": [
    "n = FacetNormal(domain)\n",
    "print(ds)"
   ]
  },
  {
   "cell_type": "markdown",
   "metadata": {},
   "source": [
    "## 5: Variational problem and solver\n"
   ]
  },
  {
   "cell_type": "code",
   "execution_count": 9,
   "metadata": {},
   "outputs": [],
   "source": [
    "u, v = ufl.TrialFunction(V), ufl.TestFunction(V)\n",
    "f = fem.Constant(domain, PETSc.ScalarType(0))\n",
    "n = FacetNormal(domain)\n",
    "\n",
    "\n",
    "a = (rho*c)/dt * u * v *dx + k* dot(grad(u), grad(v)) *dx -  k * dot(grad(u)*v, n)*ds\n",
    "# g is the heat flux, applied to the whole surface of the mesh\n",
    "L = f *v *dx + (rho*c)/dt * u_n * v * dx   +  g* v *ds\n",
    "\n"
   ]
  },
  {
   "cell_type": "markdown",
   "metadata": {},
   "source": [
    "## 6: Preparing linear algebra structures for time dependent problems\n"
   ]
  },
  {
   "cell_type": "code",
   "execution_count": 10,
   "metadata": {},
   "outputs": [
    {
     "ename": "TypeError",
     "evalue": "unsupported operand type(s) for +: 'int' and 'NoneType'",
     "output_type": "error",
     "traceback": [
      "\u001b[0;31m---------------------------------------------------------------------------\u001b[0m",
      "\u001b[0;31mTypeError\u001b[0m                                 Traceback (most recent call last)",
      "Cell \u001b[0;32mIn[10], line 4\u001b[0m\n\u001b[1;32m      1\u001b[0m \u001b[38;5;66;03m# assembly matrix and vector\u001b[39;00m\n\u001b[1;32m      3\u001b[0m bilinear_form \u001b[38;5;241m=\u001b[39m fem\u001b[38;5;241m.\u001b[39mform(a)\n\u001b[0;32m----> 4\u001b[0m linear_form \u001b[38;5;241m=\u001b[39m \u001b[43mfem\u001b[49m\u001b[38;5;241;43m.\u001b[39;49m\u001b[43mform\u001b[49m\u001b[43m(\u001b[49m\u001b[43mL\u001b[49m\u001b[43m)\u001b[49m\n",
      "File \u001b[0;32m/usr/lib/petsc/lib/python3/dist-packages/dolfinx/fem/forms.py:188\u001b[0m, in \u001b[0;36mform\u001b[0;34m(form, dtype, form_compiler_options, jit_options)\u001b[0m\n\u001b[1;32m    185\u001b[0m         \u001b[38;5;28;01mreturn\u001b[39;00m \u001b[38;5;28mlist\u001b[39m(\u001b[38;5;28mmap\u001b[39m(\u001b[38;5;28;01mlambda\u001b[39;00m sub_form: _create_form(sub_form), form))\n\u001b[1;32m    186\u001b[0m     \u001b[38;5;28;01mreturn\u001b[39;00m form\n\u001b[0;32m--> 188\u001b[0m \u001b[38;5;28;01mreturn\u001b[39;00m \u001b[43m_create_form\u001b[49m\u001b[43m(\u001b[49m\u001b[43mform\u001b[49m\u001b[43m)\u001b[49m\n",
      "File \u001b[0;32m/usr/lib/petsc/lib/python3/dist-packages/dolfinx/fem/forms.py:183\u001b[0m, in \u001b[0;36mform.<locals>._create_form\u001b[0;34m(form)\u001b[0m\n\u001b[1;32m    180\u001b[0m \u001b[38;5;250m\u001b[39m\u001b[38;5;124;03m\"\"\"Recursively convert ufl.Forms to dolfinx.fem.Form, otherwise\u001b[39;00m\n\u001b[1;32m    181\u001b[0m \u001b[38;5;124;03mreturn form argument\"\"\"\u001b[39;00m\n\u001b[1;32m    182\u001b[0m \u001b[38;5;28;01mif\u001b[39;00m \u001b[38;5;28misinstance\u001b[39m(form, ufl\u001b[38;5;241m.\u001b[39mForm):\n\u001b[0;32m--> 183\u001b[0m     \u001b[38;5;28;01mreturn\u001b[39;00m \u001b[43m_form\u001b[49m\u001b[43m(\u001b[49m\u001b[43mform\u001b[49m\u001b[43m)\u001b[49m\n\u001b[1;32m    184\u001b[0m \u001b[38;5;28;01melif\u001b[39;00m \u001b[38;5;28misinstance\u001b[39m(form, collections\u001b[38;5;241m.\u001b[39mabc\u001b[38;5;241m.\u001b[39mIterable):\n\u001b[1;32m    185\u001b[0m     \u001b[38;5;28;01mreturn\u001b[39;00m \u001b[38;5;28mlist\u001b[39m(\u001b[38;5;28mmap\u001b[39m(\u001b[38;5;28;01mlambda\u001b[39;00m sub_form: _create_form(sub_form), form))\n",
      "File \u001b[0;32m/usr/lib/petsc/lib/python3/dist-packages/dolfinx/fem/forms.py:141\u001b[0m, in \u001b[0;36mform.<locals>._form\u001b[0;34m(form)\u001b[0m\n\u001b[1;32m    139\u001b[0m \u001b[38;5;28;01mif\u001b[39;00m mesh \u001b[38;5;129;01mis\u001b[39;00m \u001b[38;5;28;01mNone\u001b[39;00m:\n\u001b[1;32m    140\u001b[0m     \u001b[38;5;28;01mraise\u001b[39;00m \u001b[38;5;167;01mRuntimeError\u001b[39;00m(\u001b[38;5;124m\"\u001b[39m\u001b[38;5;124mExpecting to find a Mesh in the form.\u001b[39m\u001b[38;5;124m\"\u001b[39m)\n\u001b[0;32m--> 141\u001b[0m ufcx_form, module, code \u001b[38;5;241m=\u001b[39m \u001b[43mjit\u001b[49m\u001b[38;5;241;43m.\u001b[39;49m\u001b[43mffcx_jit\u001b[49m\u001b[43m(\u001b[49m\u001b[43mmesh\u001b[49m\u001b[38;5;241;43m.\u001b[39;49m\u001b[43mcomm\u001b[49m\u001b[43m,\u001b[49m\u001b[43m \u001b[49m\u001b[43mform\u001b[49m\u001b[43m,\u001b[49m\n\u001b[1;32m    142\u001b[0m \u001b[43m                                       \u001b[49m\u001b[43mform_compiler_options\u001b[49m\u001b[38;5;241;43m=\u001b[39;49m\u001b[43mform_compiler_options\u001b[49m\u001b[43m,\u001b[49m\n\u001b[1;32m    143\u001b[0m \u001b[43m                                       \u001b[49m\u001b[43mjit_options\u001b[49m\u001b[38;5;241;43m=\u001b[39;49m\u001b[43mjit_options\u001b[49m\u001b[43m)\u001b[49m\n\u001b[1;32m    145\u001b[0m \u001b[38;5;66;03m# For each argument in form extract its function space\u001b[39;00m\n\u001b[1;32m    146\u001b[0m V \u001b[38;5;241m=\u001b[39m [arg\u001b[38;5;241m.\u001b[39mufl_function_space()\u001b[38;5;241m.\u001b[39m_cpp_object \u001b[38;5;28;01mfor\u001b[39;00m arg \u001b[38;5;129;01min\u001b[39;00m form\u001b[38;5;241m.\u001b[39marguments()]\n",
      "File \u001b[0;32m/usr/lib/petsc/lib/python3/dist-packages/dolfinx/jit.py:56\u001b[0m, in \u001b[0;36mmpi_jit_decorator.<locals>.mpi_jit\u001b[0;34m(comm, *args, **kwargs)\u001b[0m\n\u001b[1;32m     51\u001b[0m \u001b[38;5;129m@functools\u001b[39m\u001b[38;5;241m.\u001b[39mwraps(local_jit)\n\u001b[1;32m     52\u001b[0m \u001b[38;5;28;01mdef\u001b[39;00m \u001b[38;5;21mmpi_jit\u001b[39m(comm, \u001b[38;5;241m*\u001b[39margs, \u001b[38;5;241m*\u001b[39m\u001b[38;5;241m*\u001b[39mkwargs):\n\u001b[1;32m     53\u001b[0m \n\u001b[1;32m     54\u001b[0m     \u001b[38;5;66;03m# Just call JIT compiler when running in serial\u001b[39;00m\n\u001b[1;32m     55\u001b[0m     \u001b[38;5;28;01mif\u001b[39;00m comm\u001b[38;5;241m.\u001b[39msize \u001b[38;5;241m==\u001b[39m \u001b[38;5;241m1\u001b[39m:\n\u001b[0;32m---> 56\u001b[0m         \u001b[38;5;28;01mreturn\u001b[39;00m \u001b[43mlocal_jit\u001b[49m\u001b[43m(\u001b[49m\u001b[38;5;241;43m*\u001b[39;49m\u001b[43margs\u001b[49m\u001b[43m,\u001b[49m\u001b[43m \u001b[49m\u001b[38;5;241;43m*\u001b[39;49m\u001b[38;5;241;43m*\u001b[39;49m\u001b[43mkwargs\u001b[49m\u001b[43m)\u001b[49m\n\u001b[1;32m     58\u001b[0m     \u001b[38;5;66;03m# Default status (0 == ok, 1 == fail)\u001b[39;00m\n\u001b[1;32m     59\u001b[0m     status \u001b[38;5;241m=\u001b[39m \u001b[38;5;241m0\u001b[39m\n",
      "File \u001b[0;32m/usr/lib/petsc/lib/python3/dist-packages/dolfinx/jit.py:204\u001b[0m, in \u001b[0;36mffcx_jit\u001b[0;34m(ufl_object, form_compiler_options, jit_options)\u001b[0m\n\u001b[1;32m    202\u001b[0m \u001b[38;5;66;03m# Switch on type and compile, returning cffi object\u001b[39;00m\n\u001b[1;32m    203\u001b[0m \u001b[38;5;28;01mif\u001b[39;00m \u001b[38;5;28misinstance\u001b[39m(ufl_object, ufl\u001b[38;5;241m.\u001b[39mForm):\n\u001b[0;32m--> 204\u001b[0m     r \u001b[38;5;241m=\u001b[39m \u001b[43mffcx\u001b[49m\u001b[38;5;241;43m.\u001b[39;49m\u001b[43mcodegeneration\u001b[49m\u001b[38;5;241;43m.\u001b[39;49m\u001b[43mjit\u001b[49m\u001b[38;5;241;43m.\u001b[39;49m\u001b[43mcompile_forms\u001b[49m\u001b[43m(\u001b[49m\u001b[43m[\u001b[49m\u001b[43mufl_object\u001b[49m\u001b[43m]\u001b[49m\u001b[43m,\u001b[49m\u001b[43m \u001b[49m\u001b[43moptions\u001b[49m\u001b[38;5;241;43m=\u001b[39;49m\u001b[43mp_ffcx\u001b[49m\u001b[43m,\u001b[49m\u001b[43m \u001b[49m\u001b[38;5;241;43m*\u001b[39;49m\u001b[38;5;241;43m*\u001b[39;49m\u001b[43mp_jit\u001b[49m\u001b[43m)\u001b[49m\n\u001b[1;32m    205\u001b[0m \u001b[38;5;28;01melif\u001b[39;00m \u001b[38;5;28misinstance\u001b[39m(ufl_object, ufl\u001b[38;5;241m.\u001b[39mFiniteElementBase):\n\u001b[1;32m    206\u001b[0m     r \u001b[38;5;241m=\u001b[39m ffcx\u001b[38;5;241m.\u001b[39mcodegeneration\u001b[38;5;241m.\u001b[39mjit\u001b[38;5;241m.\u001b[39mcompile_elements([ufl_object], options\u001b[38;5;241m=\u001b[39mp_ffcx, \u001b[38;5;241m*\u001b[39m\u001b[38;5;241m*\u001b[39mp_jit)\n",
      "File \u001b[0;32m/usr/lib/python3/dist-packages/ffcx/codegeneration/jit.py:199\u001b[0m, in \u001b[0;36mcompile_forms\u001b[0;34m(forms, options, cache_dir, timeout, cffi_extra_compile_args, cffi_verbose, cffi_debug, cffi_libraries)\u001b[0m\n\u001b[1;32m    197\u001b[0m     \u001b[38;5;28;01mexcept\u001b[39;00m \u001b[38;5;167;01mException\u001b[39;00m:\n\u001b[1;32m    198\u001b[0m         \u001b[38;5;28;01mpass\u001b[39;00m\n\u001b[0;32m--> 199\u001b[0m     \u001b[38;5;28;01mraise\u001b[39;00m e\n\u001b[1;32m    201\u001b[0m obj, module \u001b[38;5;241m=\u001b[39m _load_objects(cache_dir, module_name, form_names)\n\u001b[1;32m    202\u001b[0m \u001b[38;5;28;01mreturn\u001b[39;00m obj, module, (decl, impl)\n",
      "File \u001b[0;32m/usr/lib/python3/dist-packages/ffcx/codegeneration/jit.py:190\u001b[0m, in \u001b[0;36mcompile_forms\u001b[0;34m(forms, options, cache_dir, timeout, cffi_extra_compile_args, cffi_verbose, cffi_debug, cffi_libraries)\u001b[0m\n\u001b[1;32m    187\u001b[0m     \u001b[38;5;28;01mfor\u001b[39;00m name \u001b[38;5;129;01min\u001b[39;00m form_names:\n\u001b[1;32m    188\u001b[0m         decl \u001b[38;5;241m+\u001b[39m\u001b[38;5;241m=\u001b[39m form_template\u001b[38;5;241m.\u001b[39mformat(name\u001b[38;5;241m=\u001b[39mname)\n\u001b[0;32m--> 190\u001b[0m     impl \u001b[38;5;241m=\u001b[39m \u001b[43m_compile_objects\u001b[49m\u001b[43m(\u001b[49m\u001b[43mdecl\u001b[49m\u001b[43m,\u001b[49m\u001b[43m \u001b[49m\u001b[43mforms\u001b[49m\u001b[43m,\u001b[49m\u001b[43m \u001b[49m\u001b[43mform_names\u001b[49m\u001b[43m,\u001b[49m\u001b[43m \u001b[49m\u001b[43mmodule_name\u001b[49m\u001b[43m,\u001b[49m\u001b[43m \u001b[49m\u001b[43mp\u001b[49m\u001b[43m,\u001b[49m\u001b[43m \u001b[49m\u001b[43mcache_dir\u001b[49m\u001b[43m,\u001b[49m\n\u001b[1;32m    191\u001b[0m \u001b[43m                            \u001b[49m\u001b[43mcffi_extra_compile_args\u001b[49m\u001b[43m,\u001b[49m\u001b[43m \u001b[49m\u001b[43mcffi_verbose\u001b[49m\u001b[43m,\u001b[49m\u001b[43m \u001b[49m\u001b[43mcffi_debug\u001b[49m\u001b[43m,\u001b[49m\u001b[43m \u001b[49m\u001b[43mcffi_libraries\u001b[49m\u001b[43m)\u001b[49m\n\u001b[1;32m    192\u001b[0m \u001b[38;5;28;01mexcept\u001b[39;00m \u001b[38;5;167;01mException\u001b[39;00m \u001b[38;5;28;01mas\u001b[39;00m e:\n\u001b[1;32m    193\u001b[0m     \u001b[38;5;28;01mtry\u001b[39;00m:\n\u001b[1;32m    194\u001b[0m         \u001b[38;5;66;03m# remove c file so that it will not timeout next time\u001b[39;00m\n",
      "File \u001b[0;32m/usr/lib/python3/dist-packages/ffcx/codegeneration/jit.py:260\u001b[0m, in \u001b[0;36m_compile_objects\u001b[0;34m(decl, ufl_objects, object_names, module_name, options, cache_dir, cffi_extra_compile_args, cffi_verbose, cffi_debug, cffi_libraries)\u001b[0m\n\u001b[1;32m    256\u001b[0m \u001b[38;5;28;01mimport\u001b[39;00m \u001b[38;5;21;01mffcx\u001b[39;00m\u001b[38;5;21;01m.\u001b[39;00m\u001b[38;5;21;01mcompiler\u001b[39;00m\n\u001b[1;32m    258\u001b[0m \u001b[38;5;66;03m# JIT uses module_name as prefix, which is needed to make names of all struct/function\u001b[39;00m\n\u001b[1;32m    259\u001b[0m \u001b[38;5;66;03m# unique across modules\u001b[39;00m\n\u001b[0;32m--> 260\u001b[0m _, code_body \u001b[38;5;241m=\u001b[39m \u001b[43mffcx\u001b[49m\u001b[38;5;241;43m.\u001b[39;49m\u001b[43mcompiler\u001b[49m\u001b[38;5;241;43m.\u001b[39;49m\u001b[43mcompile_ufl_objects\u001b[49m\u001b[43m(\u001b[49m\u001b[43mufl_objects\u001b[49m\u001b[43m,\u001b[49m\u001b[43m \u001b[49m\u001b[43mprefix\u001b[49m\u001b[38;5;241;43m=\u001b[39;49m\u001b[43mmodule_name\u001b[49m\u001b[43m,\u001b[49m\u001b[43m \u001b[49m\u001b[43moptions\u001b[49m\u001b[38;5;241;43m=\u001b[39;49m\u001b[43moptions\u001b[49m\u001b[43m)\u001b[49m\n\u001b[1;32m    262\u001b[0m ffibuilder \u001b[38;5;241m=\u001b[39m cffi\u001b[38;5;241m.\u001b[39mFFI()\n\u001b[1;32m    263\u001b[0m ffibuilder\u001b[38;5;241m.\u001b[39mset_source(module_name, code_body, include_dirs\u001b[38;5;241m=\u001b[39m[ffcx\u001b[38;5;241m.\u001b[39mcodegeneration\u001b[38;5;241m.\u001b[39mget_include_path()],\n\u001b[1;32m    264\u001b[0m                       extra_compile_args\u001b[38;5;241m=\u001b[39mcffi_extra_compile_args, libraries\u001b[38;5;241m=\u001b[39mcffi_libraries)\n",
      "File \u001b[0;32m/usr/lib/python3/dist-packages/ffcx/compiler.py:97\u001b[0m, in \u001b[0;36mcompile_ufl_objects\u001b[0;34m(ufl_objects, object_names, prefix, options, visualise)\u001b[0m\n\u001b[1;32m     95\u001b[0m \u001b[38;5;66;03m# Stage 1: analysis\u001b[39;00m\n\u001b[1;32m     96\u001b[0m cpu_time \u001b[38;5;241m=\u001b[39m time()\n\u001b[0;32m---> 97\u001b[0m analysis \u001b[38;5;241m=\u001b[39m \u001b[43manalyze_ufl_objects\u001b[49m\u001b[43m(\u001b[49m\u001b[43mufl_objects\u001b[49m\u001b[43m,\u001b[49m\u001b[43m \u001b[49m\u001b[43moptions\u001b[49m\u001b[43m)\u001b[49m\n\u001b[1;32m     98\u001b[0m _print_timing(\u001b[38;5;241m1\u001b[39m, time() \u001b[38;5;241m-\u001b[39m cpu_time)\n\u001b[1;32m    100\u001b[0m \u001b[38;5;66;03m# Stage 2: intermediate representation\u001b[39;00m\n",
      "File \u001b[0;32m/usr/lib/python3/dist-packages/ffcx/analysis.py:88\u001b[0m, in \u001b[0;36manalyze_ufl_objects\u001b[0;34m(ufl_objects, options)\u001b[0m\n\u001b[1;32m     85\u001b[0m     \u001b[38;5;28;01melse\u001b[39;00m:\n\u001b[1;32m     86\u001b[0m         \u001b[38;5;28;01mraise\u001b[39;00m \u001b[38;5;167;01mTypeError\u001b[39;00m(\u001b[38;5;124m\"\u001b[39m\u001b[38;5;124mUFL objects not recognised.\u001b[39m\u001b[38;5;124m\"\u001b[39m)\n\u001b[0;32m---> 88\u001b[0m form_data \u001b[38;5;241m=\u001b[39m \u001b[38;5;28;43mtuple\u001b[39;49m\u001b[43m(\u001b[49m\u001b[43m_analyze_form\u001b[49m\u001b[43m(\u001b[49m\u001b[43mform\u001b[49m\u001b[43m,\u001b[49m\u001b[43m \u001b[49m\u001b[43moptions\u001b[49m\u001b[43m)\u001b[49m\u001b[43m \u001b[49m\u001b[38;5;28;43;01mfor\u001b[39;49;00m\u001b[43m \u001b[49m\u001b[43mform\u001b[49m\u001b[43m \u001b[49m\u001b[38;5;129;43;01min\u001b[39;49;00m\u001b[43m \u001b[49m\u001b[43mforms\u001b[49m\u001b[43m)\u001b[49m\n\u001b[1;32m     89\u001b[0m \u001b[38;5;28;01mfor\u001b[39;00m data \u001b[38;5;129;01min\u001b[39;00m form_data:\n\u001b[1;32m     90\u001b[0m     elements \u001b[38;5;241m+\u001b[39m\u001b[38;5;241m=\u001b[39m [convert_element(e) \u001b[38;5;28;01mfor\u001b[39;00m e \u001b[38;5;129;01min\u001b[39;00m data\u001b[38;5;241m.\u001b[39munique_sub_elements]\n",
      "File \u001b[0;32m/usr/lib/python3/dist-packages/ffcx/analysis.py:88\u001b[0m, in \u001b[0;36m<genexpr>\u001b[0;34m(.0)\u001b[0m\n\u001b[1;32m     85\u001b[0m     \u001b[38;5;28;01melse\u001b[39;00m:\n\u001b[1;32m     86\u001b[0m         \u001b[38;5;28;01mraise\u001b[39;00m \u001b[38;5;167;01mTypeError\u001b[39;00m(\u001b[38;5;124m\"\u001b[39m\u001b[38;5;124mUFL objects not recognised.\u001b[39m\u001b[38;5;124m\"\u001b[39m)\n\u001b[0;32m---> 88\u001b[0m form_data \u001b[38;5;241m=\u001b[39m \u001b[38;5;28mtuple\u001b[39m(\u001b[43m_analyze_form\u001b[49m\u001b[43m(\u001b[49m\u001b[43mform\u001b[49m\u001b[43m,\u001b[49m\u001b[43m \u001b[49m\u001b[43moptions\u001b[49m\u001b[43m)\u001b[49m \u001b[38;5;28;01mfor\u001b[39;00m form \u001b[38;5;129;01min\u001b[39;00m forms)\n\u001b[1;32m     89\u001b[0m \u001b[38;5;28;01mfor\u001b[39;00m data \u001b[38;5;129;01min\u001b[39;00m form_data:\n\u001b[1;32m     90\u001b[0m     elements \u001b[38;5;241m+\u001b[39m\u001b[38;5;241m=\u001b[39m [convert_element(e) \u001b[38;5;28;01mfor\u001b[39;00m e \u001b[38;5;129;01min\u001b[39;00m data\u001b[38;5;241m.\u001b[39munique_sub_elements]\n",
      "File \u001b[0;32m/usr/lib/python3/dist-packages/ffcx/analysis.py:163\u001b[0m, in \u001b[0;36m_analyze_form\u001b[0;34m(form, options)\u001b[0m\n\u001b[1;32m    160\u001b[0m complex_mode \u001b[38;5;241m=\u001b[39m \u001b[38;5;124m\"\u001b[39m\u001b[38;5;124m_Complex\u001b[39m\u001b[38;5;124m\"\u001b[39m \u001b[38;5;129;01min\u001b[39;00m options[\u001b[38;5;124m\"\u001b[39m\u001b[38;5;124mscalar_type\u001b[39m\u001b[38;5;124m\"\u001b[39m]\n\u001b[1;32m    162\u001b[0m \u001b[38;5;66;03m# Compute form metadata\u001b[39;00m\n\u001b[0;32m--> 163\u001b[0m form_data \u001b[38;5;241m=\u001b[39m \u001b[43mufl\u001b[49m\u001b[38;5;241;43m.\u001b[39;49m\u001b[43malgorithms\u001b[49m\u001b[38;5;241;43m.\u001b[39;49m\u001b[43mcompute_form_data\u001b[49m\u001b[43m(\u001b[49m\n\u001b[1;32m    164\u001b[0m \u001b[43m    \u001b[49m\u001b[43mform\u001b[49m\u001b[43m,\u001b[49m\n\u001b[1;32m    165\u001b[0m \u001b[43m    \u001b[49m\u001b[43mdo_apply_function_pullbacks\u001b[49m\u001b[38;5;241;43m=\u001b[39;49m\u001b[38;5;28;43;01mTrue\u001b[39;49;00m\u001b[43m,\u001b[49m\n\u001b[1;32m    166\u001b[0m \u001b[43m    \u001b[49m\u001b[43mdo_apply_integral_scaling\u001b[49m\u001b[38;5;241;43m=\u001b[39;49m\u001b[38;5;28;43;01mTrue\u001b[39;49;00m\u001b[43m,\u001b[49m\n\u001b[1;32m    167\u001b[0m \u001b[43m    \u001b[49m\u001b[43mdo_apply_geometry_lowering\u001b[49m\u001b[38;5;241;43m=\u001b[39;49m\u001b[38;5;28;43;01mTrue\u001b[39;49;00m\u001b[43m,\u001b[49m\n\u001b[1;32m    168\u001b[0m \u001b[43m    \u001b[49m\u001b[43mpreserve_geometry_types\u001b[49m\u001b[38;5;241;43m=\u001b[39;49m\u001b[43m(\u001b[49m\u001b[43mufl\u001b[49m\u001b[38;5;241;43m.\u001b[39;49m\u001b[43mclasses\u001b[49m\u001b[38;5;241;43m.\u001b[39;49m\u001b[43mJacobian\u001b[49m\u001b[43m,\u001b[49m\u001b[43m)\u001b[49m\u001b[43m,\u001b[49m\n\u001b[1;32m    169\u001b[0m \u001b[43m    \u001b[49m\u001b[43mdo_apply_restrictions\u001b[49m\u001b[38;5;241;43m=\u001b[39;49m\u001b[38;5;28;43;01mTrue\u001b[39;49;00m\u001b[43m,\u001b[49m\n\u001b[1;32m    170\u001b[0m \u001b[43m    \u001b[49m\u001b[43mdo_append_everywhere_integrals\u001b[49m\u001b[38;5;241;43m=\u001b[39;49m\u001b[38;5;28;43;01mFalse\u001b[39;49;00m\u001b[43m,\u001b[49m\u001b[43m  \u001b[49m\u001b[38;5;66;43;03m# do not add dx integrals to dx(i) in UFL\u001b[39;49;00m\n\u001b[1;32m    171\u001b[0m \u001b[43m    \u001b[49m\u001b[43mcomplex_mode\u001b[49m\u001b[38;5;241;43m=\u001b[39;49m\u001b[43mcomplex_mode\u001b[49m\u001b[43m)\u001b[49m\n\u001b[1;32m    173\u001b[0m \u001b[38;5;66;03m# If form contains a quadrature element, use the custom quadrature scheme\u001b[39;00m\n\u001b[1;32m    174\u001b[0m custom_q \u001b[38;5;241m=\u001b[39m \u001b[38;5;28;01mNone\u001b[39;00m\n",
      "File \u001b[0;32m/usr/lib/python3/dist-packages/ufl/algorithms/compute_form_data.py:285\u001b[0m, in \u001b[0;36mcompute_form_data\u001b[0;34m(form, do_apply_function_pullbacks, do_apply_integral_scaling, do_apply_geometry_lowering, preserve_geometry_types, do_apply_default_restrictions, do_apply_restrictions, do_estimate_degrees, do_append_everywhere_integrals, complex_mode)\u001b[0m\n\u001b[1;32m    281\u001b[0m \u001b[38;5;66;03m# Estimate polynomial degree of integrands now, before applying\u001b[39;00m\n\u001b[1;32m    282\u001b[0m \u001b[38;5;66;03m# any pullbacks and geometric lowering.  Otherwise quad degrees\u001b[39;00m\n\u001b[1;32m    283\u001b[0m \u001b[38;5;66;03m# blow up horrifically.\u001b[39;00m\n\u001b[1;32m    284\u001b[0m \u001b[38;5;28;01mif\u001b[39;00m do_estimate_degrees:\n\u001b[0;32m--> 285\u001b[0m     form \u001b[38;5;241m=\u001b[39m \u001b[43mattach_estimated_degrees\u001b[49m\u001b[43m(\u001b[49m\u001b[43mform\u001b[49m\u001b[43m)\u001b[49m\n\u001b[1;32m    287\u001b[0m \u001b[38;5;28;01mif\u001b[39;00m do_apply_function_pullbacks:\n\u001b[1;32m    288\u001b[0m     \u001b[38;5;66;03m# Rewrite coefficients and arguments in terms of their\u001b[39;00m\n\u001b[1;32m    289\u001b[0m     \u001b[38;5;66;03m# reference cell values with Piola transforms and symmetry\u001b[39;00m\n\u001b[0;32m   (...)\u001b[0m\n\u001b[1;32m    292\u001b[0m     \u001b[38;5;66;03m#           Domain.  Current dolfin works if Expression has a\u001b[39;00m\n\u001b[1;32m    293\u001b[0m     \u001b[38;5;66;03m#           cell but this should be changed to a mesh.\u001b[39;00m\n\u001b[1;32m    294\u001b[0m     form \u001b[38;5;241m=\u001b[39m apply_function_pullbacks(form)\n",
      "File \u001b[0;32m/usr/lib/python3/dist-packages/ufl/algorithms/compute_form_data.py:211\u001b[0m, in \u001b[0;36mattach_estimated_degrees\u001b[0;34m(form)\u001b[0m\n\u001b[1;32m    209\u001b[0m md \u001b[38;5;241m=\u001b[39m {}\n\u001b[1;32m    210\u001b[0m md\u001b[38;5;241m.\u001b[39mupdate(integral\u001b[38;5;241m.\u001b[39mmetadata())\n\u001b[0;32m--> 211\u001b[0m degree \u001b[38;5;241m=\u001b[39m \u001b[43mestimate_total_polynomial_degree\u001b[49m\u001b[43m(\u001b[49m\u001b[43mintegral\u001b[49m\u001b[38;5;241;43m.\u001b[39;49m\u001b[43mintegrand\u001b[49m\u001b[43m(\u001b[49m\u001b[43m)\u001b[49m\u001b[43m)\u001b[49m\n\u001b[1;32m    212\u001b[0m md[\u001b[38;5;124m\"\u001b[39m\u001b[38;5;124mestimated_polynomial_degree\u001b[39m\u001b[38;5;124m\"\u001b[39m] \u001b[38;5;241m=\u001b[39m degree\n\u001b[1;32m    213\u001b[0m new_integrals\u001b[38;5;241m.\u001b[39mappend(integral\u001b[38;5;241m.\u001b[39mreconstruct(metadata\u001b[38;5;241m=\u001b[39mmd))\n",
      "File \u001b[0;32m/usr/lib/python3/dist-packages/ufl/algorithms/estimate_degrees.py:380\u001b[0m, in \u001b[0;36mestimate_total_polynomial_degree\u001b[0;34m(e, default_degree, element_replace_map)\u001b[0m\n\u001b[1;32m    378\u001b[0m     degrees \u001b[38;5;241m=\u001b[39m map_expr_dags(de, [e\u001b[38;5;241m.\u001b[39mintegrand()])\n\u001b[1;32m    379\u001b[0m \u001b[38;5;28;01melse\u001b[39;00m:\n\u001b[0;32m--> 380\u001b[0m     degrees \u001b[38;5;241m=\u001b[39m \u001b[43mmap_expr_dags\u001b[49m\u001b[43m(\u001b[49m\u001b[43mde\u001b[49m\u001b[43m,\u001b[49m\u001b[43m \u001b[49m\u001b[43m[\u001b[49m\u001b[43me\u001b[49m\u001b[43m]\u001b[49m\u001b[43m)\u001b[49m\n\u001b[1;32m    381\u001b[0m degree \u001b[38;5;241m=\u001b[39m \u001b[38;5;28mmax\u001b[39m(degrees) \u001b[38;5;28;01mif\u001b[39;00m degrees \u001b[38;5;28;01melse\u001b[39;00m default_degree\n\u001b[1;32m    382\u001b[0m \u001b[38;5;28;01mreturn\u001b[39;00m degree\n",
      "File \u001b[0;32m/usr/lib/python3/dist-packages/ufl/corealg/map_dag.py:100\u001b[0m, in \u001b[0;36mmap_expr_dags\u001b[0;34m(function, expressions, compress, vcache, rcache)\u001b[0m\n\u001b[1;32m     98\u001b[0m     r \u001b[38;5;241m=\u001b[39m handlers[v\u001b[38;5;241m.\u001b[39m_ufl_typecode_](v)\n\u001b[1;32m     99\u001b[0m \u001b[38;5;28;01melse\u001b[39;00m:\n\u001b[0;32m--> 100\u001b[0m     r \u001b[38;5;241m=\u001b[39m \u001b[43mhandlers\u001b[49m\u001b[43m[\u001b[49m\u001b[43mv\u001b[49m\u001b[38;5;241;43m.\u001b[39;49m\u001b[43m_ufl_typecode_\u001b[49m\u001b[43m]\u001b[49m\u001b[43m(\u001b[49m\u001b[43mv\u001b[49m\u001b[43m,\u001b[49m\u001b[43m \u001b[49m\u001b[38;5;241;43m*\u001b[39;49m\u001b[43m[\u001b[49m\u001b[43mvcache\u001b[49m\u001b[43m[\u001b[49m\u001b[43mu\u001b[49m\u001b[43m]\u001b[49m\u001b[43m \u001b[49m\u001b[38;5;28;43;01mfor\u001b[39;49;00m\u001b[43m \u001b[49m\u001b[43mu\u001b[49m\u001b[43m \u001b[49m\u001b[38;5;129;43;01min\u001b[39;49;00m\u001b[43m \u001b[49m\u001b[43mv\u001b[49m\u001b[38;5;241;43m.\u001b[39;49m\u001b[43mufl_operands\u001b[49m\u001b[43m]\u001b[49m\u001b[43m)\u001b[49m\n\u001b[1;32m    102\u001b[0m \u001b[38;5;66;03m# Optionally check if r is in rcache, a memory optimization\u001b[39;00m\n\u001b[1;32m    103\u001b[0m \u001b[38;5;66;03m# to be able to keep representation of result compact\u001b[39;00m\n\u001b[1;32m    104\u001b[0m \u001b[38;5;28;01mif\u001b[39;00m compress:\n",
      "File \u001b[0;32m/usr/lib/python3/dist-packages/ufl/algorithms/estimate_degrees.py:112\u001b[0m, in \u001b[0;36mSumDegreeEstimator._add_degrees\u001b[0;34m(self, v, *ops)\u001b[0m\n\u001b[1;32m    110\u001b[0m     \u001b[38;5;28;01mreturn\u001b[39;00m \u001b[38;5;28mtuple\u001b[39m(\u001b[38;5;28mmap\u001b[39m(\u001b[38;5;28msum\u001b[39m, \u001b[38;5;28mzip\u001b[39m(\u001b[38;5;241m*\u001b[39mtempops)))\n\u001b[1;32m    111\u001b[0m \u001b[38;5;28;01melse\u001b[39;00m:\n\u001b[0;32m--> 112\u001b[0m     \u001b[38;5;28;01mreturn\u001b[39;00m \u001b[38;5;28;43msum\u001b[39;49m\u001b[43m(\u001b[49m\u001b[43mops\u001b[49m\u001b[43m)\u001b[49m\n",
      "\u001b[0;31mTypeError\u001b[0m: unsupported operand type(s) for +: 'int' and 'NoneType'"
     ]
    }
   ],
   "source": [
    "# assembly matrix and vector\n",
    "\n",
    "bilinear_form = fem.form(a)\n",
    "linear_form = fem.form(L)"
   ]
  },
  {
   "cell_type": "code",
   "execution_count": null,
   "metadata": {},
   "outputs": [],
   "source": [
    "A = assemble_matrix(bilinear_form, bcs=[bc])\n",
    "A.assemble()\n",
    "b = create_vector(linear_form)"
   ]
  },
  {
   "cell_type": "code",
   "execution_count": null,
   "metadata": {},
   "outputs": [],
   "source": [
    "#print(b.view())\n",
    "#print(A.view())"
   ]
  },
  {
   "cell_type": "markdown",
   "metadata": {},
   "source": [
    "## 7: Using petsc4py to create a linear solver\n"
   ]
  },
  {
   "cell_type": "code",
   "execution_count": null,
   "metadata": {},
   "outputs": [],
   "source": [
    "solver = PETSc.KSP().create(domain.comm)\n",
    "solver.setOperators(A)\n",
    "solver.setType(PETSc.KSP.Type.PREONLY)\n",
    "solver.getPC().setType(PETSc.PC.Type.LU)"
   ]
  },
  {
   "cell_type": "markdown",
   "metadata": {},
   "source": [
    "## 8:Visualization of time dependent problem using pyvista\n"
   ]
  },
  {
   "cell_type": "code",
   "execution_count": null,
   "metadata": {
    "scrolled": true
   },
   "outputs": [],
   "source": [
    "import matplotlib as mpl\n",
    "pyvista.start_xvfb()\n",
    "\n",
    "grid = pyvista.UnstructuredGrid(*plot.vtk_mesh(V))\n",
    "\n",
    "plotter = pyvista.Plotter()\n",
    "plotter.open_gif(\"u_time3.gif\", fps=30)\n",
    "\n",
    "grid.point_data[\"uh\"] = uh.x.array\n",
    "warped = grid.warp_by_scalar(\"uh\", factor=0)\n",
    "\n",
    "viridis = mpl.colormaps.get_cmap(\"viridis\").resampled(25)\n",
    "sargs = dict(title_font_size=25, label_font_size=20, fmt=\"%.2e\", color=\"black\",\n",
    "             position_x=0.1, position_y=0.8, width=0.8, height=0.1)\n",
    "\n",
    "renderer = plotter.add_mesh(warped, show_edges=True, lighting=False,\n",
    "                            cmap=viridis, scalar_bar_args=sargs,\n",
    "                            #clim=[0, max(uh.x.array)])\n",
    "                            clim=[T0_1,  1.5*Tm])"
   ]
  },
  {
   "cell_type": "markdown",
   "metadata": {
    "tags": []
   },
   "source": [
    "## 9:Updating the solution and right hand side per time step\n"
   ]
  },
  {
   "cell_type": "markdown",
   "metadata": {},
   "source": [
    "for i in range(num_steps):\n",
    "    t += dt\n",
    "\n",
    "    # Update the right hand side reusing the initial vector\n",
    "    with b.localForm() as loc_b:\n",
    "        loc_b.set(0)\n",
    "    assemble_vector(b, linear_form)\n",
    "\n",
    "    # Apply Dirichlet boundary condition to the vector\n",
    "    apply_lifting(b, [bilinear_form], [[bc]])\n",
    "    b.ghostUpdate(addv=PETSc.InsertMode.ADD_VALUES, mode=PETSc.ScatterMode.REVERSE)\n",
    "    set_bc(b, [bc])\n",
    "\n",
    "    # Solve linear problem\n",
    "    solver.solve(b, uh.vector)\n",
    "    uh.x.scatter_forward()\n",
    "\n",
    "    # Update solution at previous time step (u_n)\n",
    "    u_n.x.array[:] = uh.x.array\n",
    "\n",
    "    # Write solution to file\n",
    "    xdmf.write_function(uh, t)\n",
    "    # Update plot\n",
    "    warped = grid.warp_by_scalar(\"uh\", factor=0)\n",
    "    plotter.update_coordinates(warped.points.copy(), render=False)\n",
    "    plotter.update_scalars(uh.x.array, render=False)\n",
    "    plotter.write_frame()\n",
    "plotter.close()\n",
    "xdmf.close()"
   ]
  },
  {
   "cell_type": "code",
   "execution_count": null,
   "metadata": {},
   "outputs": [],
   "source": [
    "from rotation_co import rub_rotation\n",
    "import numpy as np\n",
    "\n",
    "degree = 0\n",
    "total_degree = 0\n",
    "\n",
    "for i in range(num_steps):\n",
    "    t += dt\n",
    "    # update the location\n",
    "    x_co, y_co = rub_rotation (x_co, y_co, degree)\n",
    "    bc_list = []    \n",
    "    for i, (x_c, y_c) in enumerate(zip(x_co, y_co), start=1):\n",
    "       var_name = f\"bc_facets{i}\"\n",
    "       tag= mesh.locate_entities_boundary(\n",
    "       domain, fdim, lambda x: (x[0]-x_c)**2 + (x[1]-y_c)**2  <= 324 )\n",
    "       globals()[var_name] = tag\n",
    "       bc_list.append(globals()[var_name])\n",
    "    bc_disc = mesh.locate_entities_boundary(\n",
    "        domain, fdim , lambda x:  np.isclose(x[2], 20) )\n",
    "    bc_all = find_common_e(bc_disc, bc_list)\n",
    "    bc = fem.dirichletbc(PETSc.ScalarType(Tm), fem.locate_dofs_topological(V, fdim, bc_all), V)\n",
    "    \n",
    "    total_degree += degree  # Incrementing degree by 10 in each step\n",
    "    sys.stdout.write('\\r1: Rotation has applied for {} degree. '.format(total_degree))\n",
    "    sys.stdout.write('2: Current time is ' + str(round(t,1)) + \" s. \")\n",
    "    sys.stdout.write('3: Completion is '  + str(round (100*(t/Total_time),1) )+ \" %. \")\n",
    "    sys.stdout.flush()\n",
    "\n",
    "    ## Matrix assemble\n",
    "    A = assemble_matrix(bilinear_form, bcs=[bc])\n",
    "    A.assemble()\n",
    "\n",
    "    solver = PETSc.KSP().create(domain.comm)\n",
    "    solver.setOperators(A)\n",
    "    solver.setType(PETSc.KSP.Type.PREONLY)\n",
    "    solver.getPC().setType(PETSc.PC.Type.LU)\n",
    "              \n",
    "    \n",
    "    # Update the right hand side reusing the initial vector\n",
    "    with b.localForm() as loc_b:\n",
    "        loc_b.set(0)\n",
    "    assemble_vector(b, linear_form)\n",
    "\n",
    "    # Apply Dirichlet boundary condition to the vector\n",
    "    apply_lifting(b, [bilinear_form], [[bc]])\n",
    "    b.ghostUpdate(addv=PETSc.InsertMode.ADD_VALUES, mode=PETSc.ScatterMode.REVERSE)\n",
    "    set_bc(b, [bc])\n",
    "\n",
    "    \n",
    "    # Solve linear problem\n",
    "    solver.solve(b, uh.vector)\n",
    "    uh.x.scatter_forward()\n",
    "\n",
    "    # Update solution at previous time step (u_n)\n",
    "    u_n.x.array[:] = uh.x.array\n",
    "    # Write solution to file\n",
    "    xdmf.write_function(uh, t)\n",
    "    # Update plot\n",
    "    #warped = grid.warp_by_scalar(\"uh\", factor=0)\n",
    "    plotter.update_coordinates(warped.points.copy(), render=False)\n",
    "    plotter.update_scalars(uh.x.array, render=False)\n",
    "    plotter.write_frame()\n",
    "    \n",
    "plotter.close() \n",
    "xdmf.close()\n",
    "print()"
   ]
  },
  {
   "cell_type": "code",
   "execution_count": null,
   "metadata": {
    "scrolled": true
   },
   "outputs": [],
   "source": [
    "# Display the GIF\n",
    "from IPython.display import display, Image\n",
    "\n",
    "display(Image(filename = 'u_time3.gif'))"
   ]
  },
  {
   "cell_type": "code",
   "execution_count": null,
   "metadata": {},
   "outputs": [],
   "source": []
  },
  {
   "cell_type": "code",
   "execution_count": null,
   "metadata": {},
   "outputs": [],
   "source": []
  }
 ],
 "metadata": {
  "jupytext": {
   "formats": "ipynb,py:light"
  },
  "kernelspec": {
   "display_name": "Python 3 (ipykernel)",
   "language": "python",
   "name": "python3"
  },
  "language_info": {
   "codemirror_mode": {
    "name": "ipython",
    "version": 3
   },
   "file_extension": ".py",
   "mimetype": "text/x-python",
   "name": "python",
   "nbconvert_exporter": "python",
   "pygments_lexer": "ipython3",
   "version": "3.10.12"
  }
 },
 "nbformat": 4,
 "nbformat_minor": 4
}
