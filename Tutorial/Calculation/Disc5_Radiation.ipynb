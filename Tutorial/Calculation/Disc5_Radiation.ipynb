{
 "cells": [
  {
   "cell_type": "markdown",
   "metadata": {},
   "source": [
    "Add Robin boundary conditions.\n",
    "\n",
    "Success!\n",
    "\n",
    "Author: yanjun zhang\n",
    "\n",
    "# ds needs define correct"
   ]
  },
  {
   "cell_type": "markdown",
   "metadata": {},
   "source": [
    "## 1: Start"
   ]
  },
  {
   "cell_type": "markdown",
   "metadata": {},
   "source": [
    "Source from \n",
    "book \"Abali - 2017 - Computational Reality\" P119"
   ]
  },
  {
   "cell_type": "code",
   "execution_count": 1,
   "metadata": {},
   "outputs": [
    {
     "name": "stderr",
     "output_type": "stream",
     "text": [
      "/home/yanjun/.local/lib/python3.10/site-packages/matplotlib/projections/__init__.py:63: UserWarning: Unable to import Axes3D. This may be due to multiple versions of Matplotlib being installed (e.g. as a system package and as a pip package). As a result, the 3D projection is not available.\n",
      "  warnings.warn(\"Unable to import Axes3D. This may be due to multiple versions of \"\n"
     ]
    },
    {
     "name": "stdout",
     "output_type": "stream",
     "text": [
      "241.5\n",
      "182.97972\n",
      "0.02\n",
      "2.835e-24\n"
     ]
    }
   ],
   "source": [
    "import pyvista\n",
    "import ufl\n",
    "import dolfinx\n",
    "import time\n",
    "import numpy as np\n",
    "import matplotlib.pyplot as plt\n",
    "from petsc4py import PETSc\n",
    "from mpi4py import MPI\n",
    "import sys\n",
    "\n",
    "from dolfinx.fem.petsc import LinearProblem,assemble_vector, assemble_matrix, create_vector, apply_lifting, set_bc\n",
    "from dolfinx import fem, mesh, io, plot, default_scalar_type\n",
    "from dolfinx.fem import (Constant, dirichletbc, Function, FunctionSpace, \n",
    "                         form,  locate_dofs_topological)\n",
    "from dolfinx.io import XDMFFile, gmshio\n",
    "from dolfinx.mesh import  locate_entities, locate_entities_boundary,meshtags\n",
    "from ufl import (SpatialCoordinate, TestFunction, TrialFunction,\n",
    "                 dx, grad, inner, Measure, dot, FacetNormal)\n",
    "\n",
    "from find_com_e import find_common_e\n",
    "\n",
    "# Start time, Final time ,Time step\n",
    "t = 0\n",
    "Total_time = 1\n",
    "num_steps  = 50\n",
    "# time step size\n",
    "dt = Total_time / num_steps  \n",
    "\n",
    "# initial and brake pad temperature\n",
    "Ti = 25\n",
    "Tm = 25\n",
    "\n",
    "# density (kg.m^-3), capacity (J/Kg.K), conductivity (W/m.K)\n",
    "t_u = 1e3 # m to mm\n",
    "rho = 7850 /(t_u**3)\n",
    "c = 462\n",
    "k = 48 / t_u\n",
    "\n",
    "# mu, P_brake, v_angualr , r_disc , heat_distribution\n",
    "mu = 0.35\n",
    "P_brake = 246000\n",
    "v_angualr = 48.3\n",
    "r_disc = 0.25\n",
    "heat_distribution = 0.88\n",
    "\n",
    "# S_or is the original brake pad rubbing area, 200 cm2. \n",
    "S_or = 200\n",
    "S_new = 200\n",
    "\n",
    "# g is the heat source,unit is w/mm2\n",
    "g = mu * P_brake * v_angualr * r_disc * heat_distribution *2 /(t_u**2)  * (S_or/S_new) *100\n",
    "print(v_angualr * r_disc * dt *1000)\n",
    "print(g)\n",
    "\n",
    "h = g/200  *0.0000001\n",
    "radiation = 5.670*(10e-8)*0.5  *0.00000000000000001\n",
    "print(dt)\n",
    "print(radiation)"
   ]
  },
  {
   "cell_type": "code",
   "execution_count": 2,
   "metadata": {},
   "outputs": [
    {
     "name": "stdout",
     "output_type": "stream",
     "text": [
      "DOLFINx version: 0.7.3   based on GIT commit:  ubuntu of https://github.com/FEniCS/dolfinx/\n"
     ]
    }
   ],
   "source": [
    "import dolfinx\n",
    "print(f\"DOLFINx version: {dolfinx.__version__}   \\\n",
    "based on GIT commit:  \\\n",
    "{dolfinx.git_commit_hash} of https://github.com/FEniCS/dolfinx/\")"
   ]
  },
  {
   "cell_type": "markdown",
   "metadata": {},
   "source": [
    "## 2: Mesh"
   ]
  },
  {
   "cell_type": "code",
   "execution_count": 3,
   "metadata": {},
   "outputs": [
    {
     "name": "stdout",
     "output_type": "stream",
     "text": [
      "Info    : Reading '3-10.msh'...\n",
      "Info    : 168 entities\n",
      "Info    : 10751 nodes\n",
      "Info    : 43604 elements\n",
      "Info    : Done reading '3-10.msh'\n"
     ]
    }
   ],
   "source": [
    "# mesh\n",
    "filename = \"3-10\" \n",
    "domain, cell_markers, facet_markers = gmshio.read_from_msh(filename+\".msh\", MPI.COMM_WORLD, 0, gdim=3)\n",
    "\n",
    "# Define variational problem, Here Lagrange changes to CG, what is CG?\n",
    "V = fem.FunctionSpace(domain, ('CG', 1))\n",
    "\n",
    "# initialization\n",
    "def project(function, space):\n",
    "    u = TrialFunction(space)\n",
    "    v = TestFunction(space)\n",
    "    a = inner(u, v) * dx\n",
    "    L = inner(function, v) * dx\n",
    "    problem = LinearProblem(a, L, bcs = [])\n",
    "    return problem.solve()\n",
    "    \n",
    "# u_n is for initial condition and uh is the solver result.\n",
    "# variable, need to be projected form Q onto V\n",
    "Q = FunctionSpace(domain, (\"DG\", 0))\n",
    "T_init = Function(Q)\n",
    "T_init.name = \"u_n\"\n",
    "T_init.x.array[:] = np.full_like(1, Ti, dtype=default_scalar_type)\n",
    "u_n = project(T_init,V)\n",
    "u_n.name = \"u_n\"\n",
    "\n",
    "fdim = domain.topology.dim - 1\n",
    "## bc_disc is zero, no any dirichlete boundary condition\n",
    "bc_disc = mesh.locate_entities_boundary(\n",
    "    domain, fdim , lambda x:  np.isclose(x[2], 50) )\n",
    "bc = fem.dirichletbc(PETSc.ScalarType(Tm), fem.locate_dofs_topological(V, fdim, bc_disc), V)"
   ]
  },
  {
   "cell_type": "code",
   "execution_count": 4,
   "metadata": {},
   "outputs": [
    {
     "name": "stdout",
     "output_type": "stream",
     "text": [
      "<class 'numpy.float64'>\n",
      "[]\n",
      "<dolfinx.fem.bcs.DirichletBC object at 0x6ffe9ae684f0>\n"
     ]
    }
   ],
   "source": [
    "np.set_printoptions(threshold=np.inf)\n",
    "print(type(PETSc.ScalarType(Tm)))\n",
    "print(fem.locate_dofs_topological(V, fdim, bc_disc))\n",
    "print(bc)"
   ]
  },
  {
   "cell_type": "markdown",
   "metadata": {},
   "source": [
    "## 3: Setup output\n"
   ]
  },
  {
   "cell_type": "code",
   "execution_count": 5,
   "metadata": {},
   "outputs": [],
   "source": [
    "xdmf = io.XDMFFile(domain.comm, \"T4.xdmf\", \"w\")\n",
    "xdmf.write_mesh(domain)"
   ]
  },
  {
   "cell_type": "markdown",
   "metadata": {},
   "source": [
    "boundaries = []\n",
    "for i, (x_c, y_c) in enumerate(zip(x_co, y_co), start=1):\n",
    "    vari_name = 10*i\n",
    "    boundaries.append(  (vari_name, lambda x: (x[0]-x_c)**2 + (x[1]-y_c)**2  <= 324)  )"
   ]
  },
  {
   "cell_type": "code",
   "execution_count": 6,
   "metadata": {},
   "outputs": [],
   "source": [
    "# Create boundary condition\n",
    "import sys\n",
    "sys.path.append('/home/yanjun/Documents/FEniCSx/Tutorial/Mesh/')\n",
    "from rub_co import get_rub_coordinate\n",
    "x_co, y_co = get_rub_coordinate()\n",
    "\n",
    "boundary1= (10, lambda x: (x[0]-x_co[0])**2 + (x[1]-y_co[0])**2 <= 324)\n",
    "boundary2= (20, lambda x: (x[0]-x_co[1])**2 + (x[1]-y_co[1])**2 <= 324) \n",
    "boundary3= (30, lambda x: (x[0]-x_co[2])**2 + (x[1]-y_co[2])**2 <= 324)\n",
    "boundary4= (40, lambda x: (x[0]-x_co[3])**2 + (x[1]-y_co[3])**2 <= 324) \n",
    "boundary5= (50, lambda x: (x[0]-x_co[4])**2 + (x[1]-y_co[4])**2 <= 324)\n",
    "boundary6= (60, lambda x: (x[0]-x_co[5])**2 + (x[1]-y_co[5])**2 <= 324) \n",
    "boundary7= (70, lambda x: (x[0]-x_co[6])**2 + (x[1]-y_co[6])**2 <= 324)\n",
    "boundary8= (80, lambda x: (x[0]-x_co[7])**2 + (x[1]-y_co[7])**2 <= 324) \n",
    "boundary9= (90, lambda x: (x[0]-x_co[8])**2 + (x[1]-y_co[8])**2 <= 324)\n",
    "boundary10= (100, lambda x: (x[0]-x_co[9])**2 + (x[1]-y_co[9])**2 <= 324) \n",
    "boundary11= (110, lambda x: (x[0]-x_co[10])**2 + (x[1]-y_co[10])**2 <= 324)\n",
    "boundary12= (120, lambda x: (x[0]-x_co[11])**2 + (x[1]-y_co[11])**2 <= 324) \n",
    "boundary13= (130, lambda x: (x[0]-x_co[12])**2 + (x[1]-y_co[12])**2 <= 324)\n",
    "boundary14= (140, lambda x: (x[0]-x_co[13])**2 + (x[1]-y_co[13])**2 <= 324) \n",
    "boundary15= (150, lambda x: (x[0]-x_co[14])**2 + (x[1]-y_co[14])**2 <= 324)\n",
    "boundary16= (160, lambda x: (x[0]-x_co[15])**2 + (x[1]-y_co[15])**2 <= 324)\n",
    "boundary17= (170, lambda x: (x[0]-x_co[16])**2 + (x[1]-y_co[16])**2 <= 324) \n",
    "boundary18= (180, lambda x: (x[0]-x_co[17])**2 + (x[1]-y_co[17])**2 <= 324)\n",
    "\n",
    "boundaries1 = [boundary1,boundary2,boundary3,boundary4,boundary5,boundary6,boundary7,boundary8,boundary9,boundary10,\n",
    "              boundary11,boundary12,boundary13,boundary14,boundary15,boundary16,boundary17,boundary18]\n",
    " \n",
    "facet_indices1, facet_markers1 = [], [] \n",
    "fdim = domain.topology.dim - 1  \n",
    "for (marker, locator) in boundaries1:\n",
    "        facets = locate_entities(domain, fdim, locator)   \n",
    "        facet_indices1.append(facets)\n",
    "        facet_markers1.append(np.full_like(facets, marker))\n",
    "facet_indices1 = np.hstack(facet_indices1).astype(np.int32)\n",
    "facet_markers1 = np.hstack(facet_markers1).astype(np.int32)\n",
    "            \n",
    "A1 = facet_indices1\n",
    "B = facet_markers1 \n",
    "C = mesh.locate_entities_boundary(domain, fdim, lambda x: np.isclose(x[2], 20) )\n",
    "\n",
    "common_indices1 = np.intersect1d(A1,C)\n",
    "D = []\n",
    "for index in common_indices1:\n",
    "        rows_A1 = np.where(A1 == index)\n",
    "        D.append( B[rows_A1] )\n",
    "facet_markers1 = np.concatenate(D)\n",
    "####################################\n",
    "\n",
    "boundary20 = (200, lambda x:  x[2] == 20)\n",
    "facet_indices2, facet_markers2 = [], [] \n",
    "fdim = domain.topology.dim - 1  \n",
    "for (marker, locator) in [boundary20]:\n",
    "        facets = locate_entities(domain, fdim, locator)   \n",
    "        facet_indices2.append(facets)\n",
    "        facet_markers2.append(np.full_like(facets, marker)) \n",
    "facet_indices2 = np.hstack(facet_indices2).astype(np.int32)\n",
    "facet_markers2 = np.hstack(facet_markers2).astype(np.int32)\n",
    "\n",
    "A1 = facet_indices2\n",
    "B = facet_markers2\n",
    "B1 = common_indices1\n",
    "common_indices2 = np.setdiff1d(A1,B1)\n",
    "D = []\n",
    "for index in common_indices2:\n",
    "        rows_A1 = np.where(A1 == index)\n",
    "        D.append( B[rows_A1] )\n",
    "facet_markers2 = np.concatenate(D) \n",
    "    \n",
    "common_indices3 = [common_indices1,common_indices2]\n",
    "facet_markers3 = [facet_markers1,facet_markers2]\n",
    "common_indices3 = np.concatenate(common_indices3)\n",
    "facet_markers3 = np.concatenate(facet_markers3)\n",
    "sorted_indices3 = np.argsort(common_indices3)\n",
    "      \n",
    "facet_tag = meshtags(domain, fdim, common_indices3[sorted_indices3], facet_markers3[sorted_indices3])\n",
    "ds = Measure('ds', domain=domain, subdomain_data=facet_tag) \n"
   ]
  },
  {
   "cell_type": "code",
   "execution_count": 7,
   "metadata": {},
   "outputs": [],
   "source": [
    "#print(facet_markers1)\n",
    "#print(facet_markers3)\n"
   ]
  },
  {
   "cell_type": "markdown",
   "metadata": {},
   "source": [
    "## 4: Variational equation\n"
   ]
  },
  {
   "cell_type": "code",
   "execution_count": 8,
   "metadata": {},
   "outputs": [],
   "source": [
    "uh = fem.Function(V)\n",
    "uh.name = \"uh\"\n",
    "uh = project(T_init,V)\n",
    "xdmf.write_function(uh, t)\n",
    "\n",
    "u, v = ufl.TrialFunction(V), ufl.TestFunction(V)\n",
    "f = fem.Constant(domain, PETSc.ScalarType(0))\n",
    "n = FacetNormal(domain)\n",
    "\n",
    "a = (rho*c)/dt*inner(u,v)*dx + k*inner(grad(u),grad(v))*dx+  h * inner( u, v) *ds(200)\n",
    "+  radiation *inner( u**4, v) *ds(200)\n",
    "#a = (rho*c)/dt*inner(u,v)*dx + k*inner(grad(u),grad(v))*dx \n",
    "L = inner(f,v) *dx + (rho*c)/dt * inner(u_n, v) * dx +  h * 25* v *ds(200) \n",
    "+  radiation * (25**4)* v *ds(200)\n",
    "#L = inner(f,v) *dx + (rho*c)/dt * inner(u_n, v) * dx  \n",
    "\n",
    "for i in list(range(1,19)):\n",
    "     a +=   -  k * dot( grad(u)* v, n) *ds(10*i)\n",
    "     L +=   +  inner(g, v) *ds(10*i)\n",
    "\n",
    "# assembly matrix and vector\n",
    "bilinear_form = fem.form(a)\n",
    "linear_form = fem.form(L)\n",
    "\n",
    "A = assemble_matrix(bilinear_form)\n",
    "A.assemble()\n",
    "b = create_vector(linear_form)\n",
    "## 7: Using petsc4py to create a linear solver\n",
    "solver = PETSc.KSP().create(domain.comm)\n",
    "solver.setOperators(A)\n",
    "solver.setType(PETSc.KSP.Type.PREONLY)\n",
    "solver.getPC().setType(PETSc.PC.Type.LU)\n",
    "\n",
    "## 8:Visualization of time dependent problem using pyvista\n",
    "import matplotlib as mpl\n",
    "pyvista.start_xvfb()\n",
    "grid = pyvista.UnstructuredGrid(*plot.vtk_mesh(V))\n",
    "plotter = pyvista.Plotter()\n",
    "plotter.open_gif(\"T4.gif\", fps=30)\n",
    "grid.point_data[\"Temperature\"] = uh.x.array\n",
    "warped = grid.warp_by_scalar(\"Temperature\", factor=0)\n",
    "viridis = mpl.colormaps.get_cmap(\"viridis\").resampled(25)\n",
    "sargs = dict(title_font_size=25, label_font_size=20,  color=\"black\",\n",
    "             position_x=0.1, position_y=0.8, width=0.8, height=0.1)\n",
    "renderer = plotter.add_mesh(warped, show_edges=True, lighting=False,\n",
    "                            cmap=viridis, scalar_bar_args=sargs,\n",
    "                            #clim=[0, max(uh.x.array)])\n",
    "                            clim=[0,  200])"
   ]
  },
  {
   "cell_type": "code",
   "execution_count": 9,
   "metadata": {},
   "outputs": [
    {
     "name": "stdout",
     "output_type": "stream",
     "text": [
      "{ 0.18133499999999997 * v_1 * (conj((v_0))) } * dx(<Mesh #0>[everywhere], {})\n",
      "  +  { 0.048 * (conj(((grad(v_0)) : (grad(v_1))))) } * dx(<Mesh #0>[everywhere], {})\n",
      "  +  { -0.048 * (({ A | A_{i_8} = (grad(v_1))[i_8] * v_0 }) . (n)) } * ds(<Mesh #0>[10], {})\n",
      "  +  { -0.048 * (({ A | A_{i_9} = (grad(v_1))[i_9] * v_0 }) . (n)) } * ds(<Mesh #0>[20], {})\n",
      "  +  { -0.048 * (({ A | A_{i_{10}} = (grad(v_1))[i_{10}] * v_0 }) . (n)) } * ds(<Mesh #0>[30], {})\n",
      "  +  { -0.048 * (({ A | A_{i_{11}} = (grad(v_1))[i_{11}] * v_0 }) . (n)) } * ds(<Mesh #0>[40], {})\n",
      "  +  { -0.048 * (({ A | A_{i_{12}} = (grad(v_1))[i_{12}] * v_0 }) . (n)) } * ds(<Mesh #0>[50], {})\n",
      "  +  { -0.048 * (({ A | A_{i_{13}} = (grad(v_1))[i_{13}] * v_0 }) . (n)) } * ds(<Mesh #0>[60], {})\n",
      "  +  { -0.048 * (({ A | A_{i_{14}} = (grad(v_1))[i_{14}] * v_0 }) . (n)) } * ds(<Mesh #0>[70], {})\n",
      "  +  { -0.048 * (({ A | A_{i_{15}} = (grad(v_1))[i_{15}] * v_0 }) . (n)) } * ds(<Mesh #0>[80], {})\n",
      "  +  { -0.048 * (({ A | A_{i_{16}} = (grad(v_1))[i_{16}] * v_0 }) . (n)) } * ds(<Mesh #0>[90], {})\n",
      "  +  { -0.048 * (({ A | A_{i_{17}} = (grad(v_1))[i_{17}] * v_0 }) . (n)) } * ds(<Mesh #0>[100], {})\n",
      "  +  { -0.048 * (({ A | A_{i_{18}} = (grad(v_1))[i_{18}] * v_0 }) . (n)) } * ds(<Mesh #0>[110], {})\n",
      "  +  { -0.048 * (({ A | A_{i_{19}} = (grad(v_1))[i_{19}] * v_0 }) . (n)) } * ds(<Mesh #0>[120], {})\n",
      "  +  { -0.048 * (({ A | A_{i_{20}} = (grad(v_1))[i_{20}] * v_0 }) . (n)) } * ds(<Mesh #0>[130], {})\n",
      "  +  { -0.048 * (({ A | A_{i_{21}} = (grad(v_1))[i_{21}] * v_0 }) . (n)) } * ds(<Mesh #0>[140], {})\n",
      "  +  { -0.048 * (({ A | A_{i_{22}} = (grad(v_1))[i_{22}] * v_0 }) . (n)) } * ds(<Mesh #0>[150], {})\n",
      "  +  { -0.048 * (({ A | A_{i_{23}} = (grad(v_1))[i_{23}] * v_0 }) . (n)) } * ds(<Mesh #0>[160], {})\n",
      "  +  { -0.048 * (({ A | A_{i_{24}} = (grad(v_1))[i_{24}] * v_0 }) . (n)) } * ds(<Mesh #0>[170], {})\n",
      "  +  { -0.048 * (({ A | A_{i_{25}} = (grad(v_1))[i_{25}] * v_0 }) . (n)) } * ds(<Mesh #0>[180], {})\n",
      "  +  { 9.148985999999999e-08 * v_1 * (conj((v_0))) } * ds(<Mesh #0>[200], {})\n"
     ]
    }
   ],
   "source": [
    "print(a)"
   ]
  },
  {
   "cell_type": "markdown",
   "metadata": {
    "tags": []
   },
   "source": [
    "## 5: Solution\n"
   ]
  },
  {
   "cell_type": "code",
   "execution_count": 10,
   "metadata": {},
   "outputs": [
    {
     "name": "stdout",
     "output_type": "stream",
     "text": [
      "1: Rotation has applied for 10 degree. 2: Current time is 0.0 s. 3: Completion is 2.0 %. "
     ]
    },
    {
     "ename": "TimeoutError",
     "evalue": "JIT compilation timed out, probably due to a failed previous compile.\n        Try cleaning cache (e.g. remove /home/yanjun/.cache/fenics/libffcx_forms_2682189d9dba25590b6c5737b4c6065d8c58e645.c) or increase timeout option.",
     "output_type": "error",
     "traceback": [
      "\u001b[0;31m---------------------------------------------------------------------------\u001b[0m",
      "\u001b[0;31mFileExistsError\u001b[0m                           Traceback (most recent call last)",
      "File \u001b[0;32m/usr/lib/python3/dist-packages/ffcx/codegeneration/jit.py:68\u001b[0m, in \u001b[0;36mget_cached_module\u001b[0;34m(module_name, object_names, cache_dir, timeout)\u001b[0m\n\u001b[1;32m     66\u001b[0m \u001b[38;5;28;01mtry\u001b[39;00m:\n\u001b[1;32m     67\u001b[0m     \u001b[38;5;66;03m# Create C file with exclusive access\u001b[39;00m\n\u001b[0;32m---> 68\u001b[0m     \u001b[38;5;28;43mopen\u001b[39;49m\u001b[43m(\u001b[49m\u001b[43mc_filename\u001b[49m\u001b[43m,\u001b[49m\u001b[43m \u001b[49m\u001b[38;5;124;43m\"\u001b[39;49m\u001b[38;5;124;43mx\u001b[39;49m\u001b[38;5;124;43m\"\u001b[39;49m\u001b[43m)\u001b[49m\n\u001b[1;32m     69\u001b[0m     \u001b[38;5;28;01mreturn\u001b[39;00m \u001b[38;5;28;01mNone\u001b[39;00m, \u001b[38;5;28;01mNone\u001b[39;00m\n",
      "\u001b[0;31mFileExistsError\u001b[0m: [Errno 17] File exists: '/home/yanjun/.cache/fenics/libffcx_forms_2682189d9dba25590b6c5737b4c6065d8c58e645.c'",
      "\nDuring handling of the above exception, another exception occurred:\n",
      "\u001b[0;31mTimeoutError\u001b[0m                              Traceback (most recent call last)",
      "Cell \u001b[0;32mIn[10], line 105\u001b[0m\n\u001b[1;32m    100\u001b[0m     a \u001b[38;5;241m+\u001b[39m\u001b[38;5;241m=\u001b[39m   \u001b[38;5;241m-\u001b[39m  k \u001b[38;5;241m*\u001b[39m dot( grad(u)\u001b[38;5;241m*\u001b[39m v, n) \u001b[38;5;241m*\u001b[39mds(\u001b[38;5;241m10\u001b[39m\u001b[38;5;241m*\u001b[39mi)\n\u001b[1;32m    101\u001b[0m     L \u001b[38;5;241m+\u001b[39m\u001b[38;5;241m=\u001b[39m   \u001b[38;5;241m+\u001b[39m  inner(g, v) \u001b[38;5;241m*\u001b[39mds(\u001b[38;5;241m10\u001b[39m\u001b[38;5;241m*\u001b[39mi)\n\u001b[0;32m--> 105\u001b[0m bilinear_form \u001b[38;5;241m=\u001b[39m \u001b[43mfem\u001b[49m\u001b[38;5;241;43m.\u001b[39;49m\u001b[43mform\u001b[49m\u001b[43m(\u001b[49m\u001b[43ma\u001b[49m\u001b[43m)\u001b[49m\n\u001b[1;32m    106\u001b[0m linear_form \u001b[38;5;241m=\u001b[39m fem\u001b[38;5;241m.\u001b[39mform(L)\n\u001b[1;32m    107\u001b[0m b \u001b[38;5;241m=\u001b[39m create_vector(linear_form)\n",
      "File \u001b[0;32m/usr/lib/petsc/lib/python3/dist-packages/dolfinx/fem/forms.py:188\u001b[0m, in \u001b[0;36mform\u001b[0;34m(form, dtype, form_compiler_options, jit_options)\u001b[0m\n\u001b[1;32m    185\u001b[0m         \u001b[38;5;28;01mreturn\u001b[39;00m \u001b[38;5;28mlist\u001b[39m(\u001b[38;5;28mmap\u001b[39m(\u001b[38;5;28;01mlambda\u001b[39;00m sub_form: _create_form(sub_form), form))\n\u001b[1;32m    186\u001b[0m     \u001b[38;5;28;01mreturn\u001b[39;00m form\n\u001b[0;32m--> 188\u001b[0m \u001b[38;5;28;01mreturn\u001b[39;00m \u001b[43m_create_form\u001b[49m\u001b[43m(\u001b[49m\u001b[43mform\u001b[49m\u001b[43m)\u001b[49m\n",
      "File \u001b[0;32m/usr/lib/petsc/lib/python3/dist-packages/dolfinx/fem/forms.py:183\u001b[0m, in \u001b[0;36mform.<locals>._create_form\u001b[0;34m(form)\u001b[0m\n\u001b[1;32m    180\u001b[0m \u001b[38;5;250m\u001b[39m\u001b[38;5;124;03m\"\"\"Recursively convert ufl.Forms to dolfinx.fem.Form, otherwise\u001b[39;00m\n\u001b[1;32m    181\u001b[0m \u001b[38;5;124;03mreturn form argument\"\"\"\u001b[39;00m\n\u001b[1;32m    182\u001b[0m \u001b[38;5;28;01mif\u001b[39;00m \u001b[38;5;28misinstance\u001b[39m(form, ufl\u001b[38;5;241m.\u001b[39mForm):\n\u001b[0;32m--> 183\u001b[0m     \u001b[38;5;28;01mreturn\u001b[39;00m \u001b[43m_form\u001b[49m\u001b[43m(\u001b[49m\u001b[43mform\u001b[49m\u001b[43m)\u001b[49m\n\u001b[1;32m    184\u001b[0m \u001b[38;5;28;01melif\u001b[39;00m \u001b[38;5;28misinstance\u001b[39m(form, collections\u001b[38;5;241m.\u001b[39mabc\u001b[38;5;241m.\u001b[39mIterable):\n\u001b[1;32m    185\u001b[0m     \u001b[38;5;28;01mreturn\u001b[39;00m \u001b[38;5;28mlist\u001b[39m(\u001b[38;5;28mmap\u001b[39m(\u001b[38;5;28;01mlambda\u001b[39;00m sub_form: _create_form(sub_form), form))\n",
      "File \u001b[0;32m/usr/lib/petsc/lib/python3/dist-packages/dolfinx/fem/forms.py:141\u001b[0m, in \u001b[0;36mform.<locals>._form\u001b[0;34m(form)\u001b[0m\n\u001b[1;32m    139\u001b[0m \u001b[38;5;28;01mif\u001b[39;00m mesh \u001b[38;5;129;01mis\u001b[39;00m \u001b[38;5;28;01mNone\u001b[39;00m:\n\u001b[1;32m    140\u001b[0m     \u001b[38;5;28;01mraise\u001b[39;00m \u001b[38;5;167;01mRuntimeError\u001b[39;00m(\u001b[38;5;124m\"\u001b[39m\u001b[38;5;124mExpecting to find a Mesh in the form.\u001b[39m\u001b[38;5;124m\"\u001b[39m)\n\u001b[0;32m--> 141\u001b[0m ufcx_form, module, code \u001b[38;5;241m=\u001b[39m \u001b[43mjit\u001b[49m\u001b[38;5;241;43m.\u001b[39;49m\u001b[43mffcx_jit\u001b[49m\u001b[43m(\u001b[49m\u001b[43mmesh\u001b[49m\u001b[38;5;241;43m.\u001b[39;49m\u001b[43mcomm\u001b[49m\u001b[43m,\u001b[49m\u001b[43m \u001b[49m\u001b[43mform\u001b[49m\u001b[43m,\u001b[49m\n\u001b[1;32m    142\u001b[0m \u001b[43m                                       \u001b[49m\u001b[43mform_compiler_options\u001b[49m\u001b[38;5;241;43m=\u001b[39;49m\u001b[43mform_compiler_options\u001b[49m\u001b[43m,\u001b[49m\n\u001b[1;32m    143\u001b[0m \u001b[43m                                       \u001b[49m\u001b[43mjit_options\u001b[49m\u001b[38;5;241;43m=\u001b[39;49m\u001b[43mjit_options\u001b[49m\u001b[43m)\u001b[49m\n\u001b[1;32m    145\u001b[0m \u001b[38;5;66;03m# For each argument in form extract its function space\u001b[39;00m\n\u001b[1;32m    146\u001b[0m V \u001b[38;5;241m=\u001b[39m [arg\u001b[38;5;241m.\u001b[39mufl_function_space()\u001b[38;5;241m.\u001b[39m_cpp_object \u001b[38;5;28;01mfor\u001b[39;00m arg \u001b[38;5;129;01min\u001b[39;00m form\u001b[38;5;241m.\u001b[39marguments()]\n",
      "File \u001b[0;32m/usr/lib/petsc/lib/python3/dist-packages/dolfinx/jit.py:56\u001b[0m, in \u001b[0;36mmpi_jit_decorator.<locals>.mpi_jit\u001b[0;34m(comm, *args, **kwargs)\u001b[0m\n\u001b[1;32m     51\u001b[0m \u001b[38;5;129m@functools\u001b[39m\u001b[38;5;241m.\u001b[39mwraps(local_jit)\n\u001b[1;32m     52\u001b[0m \u001b[38;5;28;01mdef\u001b[39;00m \u001b[38;5;21mmpi_jit\u001b[39m(comm, \u001b[38;5;241m*\u001b[39margs, \u001b[38;5;241m*\u001b[39m\u001b[38;5;241m*\u001b[39mkwargs):\n\u001b[1;32m     53\u001b[0m \n\u001b[1;32m     54\u001b[0m     \u001b[38;5;66;03m# Just call JIT compiler when running in serial\u001b[39;00m\n\u001b[1;32m     55\u001b[0m     \u001b[38;5;28;01mif\u001b[39;00m comm\u001b[38;5;241m.\u001b[39msize \u001b[38;5;241m==\u001b[39m \u001b[38;5;241m1\u001b[39m:\n\u001b[0;32m---> 56\u001b[0m         \u001b[38;5;28;01mreturn\u001b[39;00m \u001b[43mlocal_jit\u001b[49m\u001b[43m(\u001b[49m\u001b[38;5;241;43m*\u001b[39;49m\u001b[43margs\u001b[49m\u001b[43m,\u001b[49m\u001b[43m \u001b[49m\u001b[38;5;241;43m*\u001b[39;49m\u001b[38;5;241;43m*\u001b[39;49m\u001b[43mkwargs\u001b[49m\u001b[43m)\u001b[49m\n\u001b[1;32m     58\u001b[0m     \u001b[38;5;66;03m# Default status (0 == ok, 1 == fail)\u001b[39;00m\n\u001b[1;32m     59\u001b[0m     status \u001b[38;5;241m=\u001b[39m \u001b[38;5;241m0\u001b[39m\n",
      "File \u001b[0;32m/usr/lib/petsc/lib/python3/dist-packages/dolfinx/jit.py:204\u001b[0m, in \u001b[0;36mffcx_jit\u001b[0;34m(ufl_object, form_compiler_options, jit_options)\u001b[0m\n\u001b[1;32m    202\u001b[0m \u001b[38;5;66;03m# Switch on type and compile, returning cffi object\u001b[39;00m\n\u001b[1;32m    203\u001b[0m \u001b[38;5;28;01mif\u001b[39;00m \u001b[38;5;28misinstance\u001b[39m(ufl_object, ufl\u001b[38;5;241m.\u001b[39mForm):\n\u001b[0;32m--> 204\u001b[0m     r \u001b[38;5;241m=\u001b[39m \u001b[43mffcx\u001b[49m\u001b[38;5;241;43m.\u001b[39;49m\u001b[43mcodegeneration\u001b[49m\u001b[38;5;241;43m.\u001b[39;49m\u001b[43mjit\u001b[49m\u001b[38;5;241;43m.\u001b[39;49m\u001b[43mcompile_forms\u001b[49m\u001b[43m(\u001b[49m\u001b[43m[\u001b[49m\u001b[43mufl_object\u001b[49m\u001b[43m]\u001b[49m\u001b[43m,\u001b[49m\u001b[43m \u001b[49m\u001b[43moptions\u001b[49m\u001b[38;5;241;43m=\u001b[39;49m\u001b[43mp_ffcx\u001b[49m\u001b[43m,\u001b[49m\u001b[43m \u001b[49m\u001b[38;5;241;43m*\u001b[39;49m\u001b[38;5;241;43m*\u001b[39;49m\u001b[43mp_jit\u001b[49m\u001b[43m)\u001b[49m\n\u001b[1;32m    205\u001b[0m \u001b[38;5;28;01melif\u001b[39;00m \u001b[38;5;28misinstance\u001b[39m(ufl_object, ufl\u001b[38;5;241m.\u001b[39mFiniteElementBase):\n\u001b[1;32m    206\u001b[0m     r \u001b[38;5;241m=\u001b[39m ffcx\u001b[38;5;241m.\u001b[39mcodegeneration\u001b[38;5;241m.\u001b[39mjit\u001b[38;5;241m.\u001b[39mcompile_elements([ufl_object], options\u001b[38;5;241m=\u001b[39mp_ffcx, \u001b[38;5;241m*\u001b[39m\u001b[38;5;241m*\u001b[39mp_jit)\n",
      "File \u001b[0;32m/usr/lib/python3/dist-packages/ffcx/codegeneration/jit.py:176\u001b[0m, in \u001b[0;36mcompile_forms\u001b[0;34m(forms, options, cache_dir, timeout, cffi_extra_compile_args, cffi_verbose, cffi_debug, cffi_libraries)\u001b[0m\n\u001b[1;32m    174\u001b[0m \u001b[38;5;28;01mif\u001b[39;00m cache_dir \u001b[38;5;129;01mis\u001b[39;00m \u001b[38;5;129;01mnot\u001b[39;00m \u001b[38;5;28;01mNone\u001b[39;00m:\n\u001b[1;32m    175\u001b[0m     cache_dir \u001b[38;5;241m=\u001b[39m Path(cache_dir)\n\u001b[0;32m--> 176\u001b[0m     obj, mod \u001b[38;5;241m=\u001b[39m \u001b[43mget_cached_module\u001b[49m\u001b[43m(\u001b[49m\u001b[43mmodule_name\u001b[49m\u001b[43m,\u001b[49m\u001b[43m \u001b[49m\u001b[43mform_names\u001b[49m\u001b[43m,\u001b[49m\u001b[43m \u001b[49m\u001b[43mcache_dir\u001b[49m\u001b[43m,\u001b[49m\u001b[43m \u001b[49m\u001b[43mtimeout\u001b[49m\u001b[43m)\u001b[49m\n\u001b[1;32m    177\u001b[0m     \u001b[38;5;28;01mif\u001b[39;00m obj \u001b[38;5;129;01mis\u001b[39;00m \u001b[38;5;129;01mnot\u001b[39;00m \u001b[38;5;28;01mNone\u001b[39;00m:\n\u001b[1;32m    178\u001b[0m         \u001b[38;5;28;01mreturn\u001b[39;00m obj, mod, (\u001b[38;5;28;01mNone\u001b[39;00m, \u001b[38;5;28;01mNone\u001b[39;00m)\n",
      "File \u001b[0;32m/usr/lib/python3/dist-packages/ffcx/codegeneration/jit.py:90\u001b[0m, in \u001b[0;36mget_cached_module\u001b[0;34m(module_name, object_names, cache_dir, timeout)\u001b[0m\n\u001b[1;32m     88\u001b[0m     logger\u001b[38;5;241m.\u001b[39minfo(\u001b[38;5;124mf\u001b[39m\u001b[38;5;124m\"\u001b[39m\u001b[38;5;124mWaiting for \u001b[39m\u001b[38;5;132;01m{\u001b[39;00mready_name\u001b[38;5;132;01m}\u001b[39;00m\u001b[38;5;124m to appear.\u001b[39m\u001b[38;5;124m\"\u001b[39m)\n\u001b[1;32m     89\u001b[0m     time\u001b[38;5;241m.\u001b[39msleep(\u001b[38;5;241m1\u001b[39m)\n\u001b[0;32m---> 90\u001b[0m \u001b[38;5;28;01mraise\u001b[39;00m \u001b[38;5;167;01mTimeoutError\u001b[39;00m(\u001b[38;5;124mf\u001b[39m\u001b[38;5;124m\"\"\"\u001b[39m\u001b[38;5;124mJIT compilation timed out, probably due to a failed previous compile.\u001b[39m\n\u001b[1;32m     91\u001b[0m \u001b[38;5;124mTry cleaning cache (e.g. remove \u001b[39m\u001b[38;5;132;01m{\u001b[39;00mc_filename\u001b[38;5;132;01m}\u001b[39;00m\u001b[38;5;124m) or increase timeout option.\u001b[39m\u001b[38;5;124m\"\"\"\u001b[39m)\n",
      "\u001b[0;31mTimeoutError\u001b[0m: JIT compilation timed out, probably due to a failed previous compile.\n        Try cleaning cache (e.g. remove /home/yanjun/.cache/fenics/libffcx_forms_2682189d9dba25590b6c5737b4c6065d8c58e645.c) or increase timeout option."
     ]
    }
   ],
   "source": [
    "from rotation_co import rub_rotation\n",
    "import numpy as np\n",
    "\n",
    "degree = 10\n",
    "total_degree = 0\n",
    "\n",
    "for i in range(num_steps):\n",
    "    t += dt\n",
    "   \n",
    "    boundaries1 = []\n",
    "    x_co, y_co = rub_rotation (x_co, y_co, degree)   # update the location\n",
    "    total_degree += degree  # Incrementing degree by 10 in each step\n",
    "    \n",
    "    sys.stdout.write('\\r1: Rotation has applied for {} degree. '.format(total_degree))\n",
    "    sys.stdout.write('2: Current time is ' + str(round(t,1)) + \" s. \")\n",
    "    sys.stdout.write('3: Completion is '  + str(round (100*(t/Total_time),1) )+ \" %. \")\n",
    "    sys.stdout.flush()\n",
    "    \n",
    "    boundary1= (10, lambda x: (x[0]-x_co[0])**2 + (x[1]-y_co[0])**2 <= 324)\n",
    "    boundary2= (20, lambda x: (x[0]-x_co[1])**2 + (x[1]-y_co[1])**2 <= 324) \n",
    "    boundary3= (30, lambda x: (x[0]-x_co[2])**2 + (x[1]-y_co[2])**2 <= 324)\n",
    "    boundary4= (40, lambda x: (x[0]-x_co[3])**2 + (x[1]-y_co[3])**2 <= 324) \n",
    "    boundary5= (50, lambda x: (x[0]-x_co[4])**2 + (x[1]-y_co[4])**2 <= 324)\n",
    "    boundary6= (60, lambda x: (x[0]-x_co[5])**2 + (x[1]-y_co[5])**2 <= 324) \n",
    "    boundary7= (70, lambda x: (x[0]-x_co[6])**2 + (x[1]-y_co[6])**2 <= 324)\n",
    "    boundary8= (80, lambda x: (x[0]-x_co[7])**2 + (x[1]-y_co[7])**2 <= 324) \n",
    "    boundary9= (90, lambda x: (x[0]-x_co[8])**2 + (x[1]-y_co[8])**2 <= 324)\n",
    "    boundary10= (100, lambda x: (x[0]-x_co[9])**2 + (x[1]-y_co[9])**2 <= 324) \n",
    "    boundary11= (110, lambda x: (x[0]-x_co[10])**2 + (x[1]-y_co[10])**2 <= 324)\n",
    "    boundary12= (120, lambda x: (x[0]-x_co[11])**2 + (x[1]-y_co[11])**2 <= 324) \n",
    "    boundary13= (130, lambda x: (x[0]-x_co[12])**2 + (x[1]-y_co[12])**2 <= 324)\n",
    "    boundary14= (140, lambda x: (x[0]-x_co[13])**2 + (x[1]-y_co[13])**2 <= 324) \n",
    "    boundary15= (150, lambda x: (x[0]-x_co[14])**2 + (x[1]-y_co[14])**2 <= 324)\n",
    "    boundary16= (160, lambda x: (x[0]-x_co[15])**2 + (x[1]-y_co[15])**2 <= 324)\n",
    "    boundary17= (170, lambda x: (x[0]-x_co[16])**2 + (x[1]-y_co[16])**2 <= 324) \n",
    "    boundary18= (180, lambda x: (x[0]-x_co[17])**2 + (x[1]-y_co[17])**2 <= 324)\n",
    "   \n",
    "    boundaries1 = [boundary1,boundary2,boundary3,boundary4,boundary5,boundary6,boundary7,boundary8,boundary9,boundary10,\n",
    "              boundary11,boundary12,boundary13,boundary14,boundary15,boundary16,boundary17,boundary18]\n",
    "    #boundaries = boundaries+ [boundary19]\n",
    " \n",
    "    facet_indices1, facet_markers1 = [], [] \n",
    "    fdim = domain.topology.dim - 1  \n",
    "    for (marker, locator) in boundaries1:\n",
    "        facets = locate_entities(domain, fdim, locator)   \n",
    "        facet_indices1.append(facets)\n",
    "        facet_markers1.append(np.full_like(facets, marker))  \n",
    "    facet_indices1 = np.hstack(facet_indices1).astype(np.int32)\n",
    "    facet_markers1 = np.hstack(facet_markers1).astype(np.int32)\n",
    "    bc_disc = mesh.locate_entities_boundary( domain, fdim , lambda x:  np.isclose(x[2], 20) )        \n",
    "    A1 = facet_indices1\n",
    "    B = facet_markers1 \n",
    "    C = bc_disc\n",
    "    common_indices1 = np.intersect1d(A1,C)\n",
    "    D = []\n",
    "    for index in common_indices1:\n",
    "        rows_A1 = np.where(A1 == index)\n",
    "        D.append( B[rows_A1] )\n",
    "    facet_markers1 = np.concatenate(D)\n",
    "    ####################################\n",
    "\n",
    "    \n",
    "    boundary20 = (200, lambda x:  x[2] == 20)\n",
    "    facet_indices2, facet_markers2 = [], [] \n",
    "    fdim = domain.topology.dim - 1  \n",
    "    for (marker, locator) in [boundary20]:\n",
    "        facets = locate_entities(domain, fdim, locator)   \n",
    "        facet_indices2.append(facets)\n",
    "        facet_markers2.append(np.full_like(facets, marker)) \n",
    "    facet_indices2 = np.hstack(facet_indices2).astype(np.int32)\n",
    "    facet_markers2 = np.hstack(facet_markers2).astype(np.int32) \n",
    "    \n",
    "    A1 = facet_indices2\n",
    "    B = facet_markers2\n",
    "    B1 = common_indices1\n",
    "    common_indices2 = np.setdiff1d(A1,B1)\n",
    "    D = []\n",
    "    for index in common_indices2:\n",
    "           rows_A1 = np.where(A1 == index)\n",
    "           D.append( B[rows_A1] )\n",
    "    facet_markers2 = np.concatenate(D) \n",
    "    \n",
    "    common_indices3 = [common_indices1,common_indices2]\n",
    "    facet_markers3 = [facet_markers1,facet_markers2]\n",
    "    common_indices3 = np.concatenate(common_indices3)\n",
    "    facet_markers3 = np.concatenate(facet_markers3)\n",
    "\n",
    "    sorted_indices3 = np.argsort(common_indices3)\n",
    "      \n",
    "    facet_tag = meshtags(domain, fdim, common_indices3[sorted_indices3], facet_markers3[sorted_indices3])\n",
    "    ds = Measure('ds', domain=domain, subdomain_data=facet_tag) \n",
    "\n",
    "\n",
    "    a = (rho*c)/dt*inner(u,v)*dx + k*inner(grad(u),grad(v))*dx +  h * inner( u, v) *ds(200) +  radiation  * inner( u**4, v) *ds(200)\n",
    "    #a = (rho*c)/dt*inner(u,v)*dx + k*inner(grad(u),grad(v))*dx \n",
    "    L = inner(f,v) *dx + (rho*c)/dt * inner(u_n, v) * dx  +  h * 25* v *ds(200) +  radiation * (25**4)* v *ds(200)\n",
    "    #L = inner(f,v) *dx + (rho*c)/dt * inner(u_n, v) * dx  \n",
    "    \n",
    "    for i in list(range(1,19)):\n",
    "        a +=   -  k * dot( grad(u)* v, n) *ds(10*i)\n",
    "        L +=   +  inner(g, v) *ds(10*i)\n",
    "  \n",
    "\n",
    "    \n",
    "    bilinear_form = fem.form(a)\n",
    "    linear_form = fem.form(L)\n",
    "    b = create_vector(linear_form)\n",
    "    A = assemble_matrix(bilinear_form, bcs=[bc])\n",
    "    A.assemble()\n",
    "    solver = PETSc.KSP().create(domain.comm)\n",
    "    solver.setOperators(A)\n",
    "    solver.setType(PETSc.KSP.Type.PREONLY)\n",
    "    solver.getPC().setType(PETSc.PC.Type.LU)\n",
    "    \n",
    "    # Update the right hand side reusing the initial vector\n",
    "    with b.localForm() as loc_b:\n",
    "        loc_b.set(0)\n",
    "    assemble_vector(b, linear_form)\n",
    "    # Apply Dirichlet boundary condition to the vector\n",
    "    apply_lifting(b, [bilinear_form], [[bc]])\n",
    "    b.ghostUpdate(addv=PETSc.InsertMode.ADD_VALUES, mode=PETSc.ScatterMode.REVERSE)\n",
    "    set_bc(b, [bc])\n",
    "    # Solve linear problem\n",
    "    solver.solve(b, uh.vector)\n",
    "    uh.x.scatter_forward()\n",
    "\n",
    "    # Update solution at previous time step (u_n)\n",
    "    u_n.x.array[:] = uh.x.array\n",
    "    # Write solution to file\n",
    "    xdmf.write_function(uh, t)\n",
    "    # Update plot\n",
    "    #warped = grid.warp_by_scalar(\"uh\", factor=0)\n",
    "    plotter.update_coordinates(warped.points.copy(), render=False)\n",
    "    plotter.update_scalars(uh.x.array, render=False)\n",
    "    plotter.write_frame()\n",
    "    \n",
    "plotter.close() \n",
    "xdmf.close()\n",
    "print()\n",
    "\n",
    "# Display the GIF\n",
    "from IPython.display import display, Image\n",
    "display(Image(filename = 'T4.gif'))"
   ]
  },
  {
   "cell_type": "code",
   "execution_count": null,
   "metadata": {},
   "outputs": [],
   "source": [
    "print(a)"
   ]
  },
  {
   "cell_type": "code",
   "execution_count": null,
   "metadata": {},
   "outputs": [],
   "source": [
    "print(L)"
   ]
  }
 ],
 "metadata": {
  "jupytext": {
   "formats": "ipynb,py:light"
  },
  "kernelspec": {
   "display_name": "Python 3 (ipykernel)",
   "language": "python",
   "name": "python3"
  },
  "language_info": {
   "codemirror_mode": {
    "name": "ipython",
    "version": 3
   },
   "file_extension": ".py",
   "mimetype": "text/x-python",
   "name": "python",
   "nbconvert_exporter": "python",
   "pygments_lexer": "ipython3",
   "version": "3.10.12"
  }
 },
 "nbformat": 4,
 "nbformat_minor": 4
}
