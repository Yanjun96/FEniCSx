{
 "cells": [
  {
   "cell_type": "markdown",
   "metadata": {},
   "source": [
    "Heat transfer of railway brake disc\n",
    "The disc 2 can not simulate the temperature distribution, maybe the reason is the boundary condtion Diriclet, rather than Neumann.\n",
    "\n",
    "This work, disc 3 use Neumann boundary conditon.\n",
    "\n",
    "Author: yanjun zhang\n"
   ]
  },
  {
   "cell_type": "markdown",
   "metadata": {},
   "source": [
    "## 1: Start"
   ]
  },
  {
   "cell_type": "markdown",
   "metadata": {},
   "source": [
    "Source from \n",
    "book \"Abali - 2017 - Computational Reality\" P119"
   ]
  },
  {
   "cell_type": "code",
   "execution_count": 1,
   "metadata": {},
   "outputs": [
    {
     "name": "stderr",
     "output_type": "stream",
     "text": [
      "/home/yanjun/.local/lib/python3.10/site-packages/matplotlib/projections/__init__.py:63: UserWarning: Unable to import Axes3D. This may be due to multiple versions of Matplotlib being installed (e.g. as a system package and as a pip package). As a result, the 3D projection is not available.\n",
      "  warnings.warn(\"Unable to import Axes3D. This may be due to multiple versions of \"\n"
     ]
    }
   ],
   "source": [
    "import matplotlib.pyplot as plt\n",
    "import pyvista\n",
    "import ufl\n",
    "import numpy as np\n",
    "import dolfinx\n",
    "\n",
    "from petsc4py import PETSc\n",
    "from mpi4py import MPI\n",
    "\n",
    "from dolfinx import fem, mesh, io, plot\n",
    "from dolfinx.fem.petsc import assemble_vector, assemble_matrix, create_vector, apply_lifting, set_bc\n",
    "\n",
    "import time\n",
    "\n",
    "# Define temporal parameters\n",
    "# Time  ----------------------------------------------------------------------\n",
    "t0=time.time()\n",
    "t = 0  # Start time\n",
    "Total_time = 15  # Final time\n",
    "num_steps = 300\n",
    "dt = Total_time / num_steps  # time step size\n",
    "\n",
    "# Boundary condtions --------------------------------------------------------- \n",
    "# build plate temperature (K)\n",
    "#T_plate = 353.0\n",
    "# initial temperature (K)\n",
    "T0_1 = 25\n",
    "#Tini = 25\n",
    "Tm = 200\n",
    "\n",
    "# This step is for the initial process. Variable need to be projected form Q onto V\n",
    "def project(function, space):\n",
    "    p = TrialFunction(space)\n",
    "    q = TestFunction(space)\n",
    "    a = inner(p, q) * dx\n",
    "    L = inner(function, q) * dx\n",
    "    problem = LinearProblem(a, L, bcs = [])\n",
    "    return problem.solve()\n",
    "\n",
    "# PhysicalProperties\n",
    "# density (kg.m^-3) \n",
    "# m to mm\n",
    "unit_m_to_mm = 1e3\n",
    "t_u = unit_m_to_mm\n",
    "\n",
    "rho = 7850 /(t_u**3)\n",
    "\n",
    "# capacity (J/Kg.K)\n",
    "c = 462 \n",
    "\n",
    "# conductivity (W/m.K)\n",
    "k = 48 / t_u\n",
    "\n",
    "RhoCp_values = rho *c\n",
    "Conductivity_values = k\n",
    "Tinit_values = T0_1"
   ]
  },
  {
   "cell_type": "markdown",
   "metadata": {},
   "source": [
    "## 2: Mesh\n",
    "\n",
    "run mesh_brake disc.py to get disc.mesh"
   ]
  },
  {
   "cell_type": "code",
   "execution_count": 2,
   "metadata": {},
   "outputs": [
    {
     "name": "stdout",
     "output_type": "stream",
     "text": [
      "Info    : Reading '3-10.msh'...\n",
      "Info    : 168 entities\n",
      "Info    : 10751 nodes\n",
      "Info    : 43604 elements\n",
      "Info    : Done reading '3-10.msh'\n"
     ]
    }
   ],
   "source": [
    "from dolfinx.io import gmshio\n",
    "from dolfinx import plot\n",
    "from dolfinx import default_scalar_type\n",
    "from dolfinx.fem import (Constant, dirichletbc, Function, FunctionSpace, \n",
    "                         form,  locate_dofs_topological)\n",
    "\n",
    "from dolfinx.fem.petsc import LinearProblem, assemble_matrix, create_vector, assemble_vector, apply_lifting, set_bc\n",
    "\n",
    "from dolfinx.io import XDMFFile, gmshio\n",
    "\n",
    "from dolfinx.mesh import create_unit_square, locate_entities, locate_entities_boundary\n",
    "\n",
    "from ufl import (SpatialCoordinate, TestFunction, TrialFunction,\n",
    "                 dx, grad, inner, Measure, dot, jump, FacetNormal, avg, FiniteElement, MixedElement)\n",
    "\n",
    "filename = \"3-10\" # mesh\n",
    "# New mesh, 10 is min mesh size, 30 is the maximum mesh size\n",
    "#import sys\n",
    "#sys.path.append('/home/yanjun/Documents/FEniCSx/Tutorial/Mesh/')\n",
    "#from mesh_disc import mesh_brake_disc\n",
    "#mesh_brake_disc(3,10,filename)\n",
    "\n",
    "domain, cell_markers, facet_markers = gmshio.read_from_msh(filename+\".msh\", MPI.COMM_WORLD, 0, gdim=3)\n",
    "#gdim, tdim = 3, 2\n",
    "\n",
    "# 21 is friction surface name\n",
    "ds = Measure('ds', domain=domain, subdomain_data=facet_markers)\n",
    "\n",
    "Q = FunctionSpace(domain, (\"DG\", 0))\n",
    "\n",
    "Conductivity = Function(Q)\n",
    "Conductivity.x.array[:] = np.full_like(1, Conductivity_values, dtype=default_scalar_type)\n",
    "\n",
    "RhoCp = Function(Q)\n",
    "RhoCp.x.array[:] = np.full_like(1, RhoCp_values, dtype=default_scalar_type)\n",
    "\n",
    "#T_INIT = Function(Q)\n",
    "#T_INIT.name = \"Tinit\"\n",
    "\n",
    "T_INIT = Function(Q)\n",
    "T_INIT.name = \"u_n\"\n",
    "# here 1 is the volume 1, the brake disc\n",
    "T_INIT.x.array[:] = np.full_like(1, Tinit_values, dtype=default_scalar_type)\n"
   ]
  },
  {
   "cell_type": "code",
   "execution_count": null,
   "metadata": {},
   "outputs": [],
   "source": []
  },
  {
   "cell_type": "markdown",
   "metadata": {},
   "source": [
    "## 3: Initial condition"
   ]
  },
  {
   "cell_type": "markdown",
   "metadata": {},
   "source": [
    "Note that we have used a much higher resolution that before to better resolve features of the solution.\n",
    "We also easily update the intial and boundary conditions. Instead of using a class to define the initial condition, we simply use a function"
   ]
  },
  {
   "cell_type": "code",
   "execution_count": 3,
   "metadata": {},
   "outputs": [
    {
     "name": "stdout",
     "output_type": "stream",
     "text": [
      "1:fdim is \n",
      " 2\n",
      "[42583 42584 42586 42591 42596 42597 42600 42605 42829 42945 43115 43117\n",
      " 43121 43146 43148 43153 43334 43338 43341 43345 43567 43597 43858 43859\n",
      " 43860 43885 43886 43887 75117 75124 75134 75136 75164 75173 75442 75753\n",
      " 75815 75824 75853 75869 76126 76248 76476 76894 76896 76971 76972 77039\n",
      " 77695 77839 77840 78171 78403 78406 78531 78532]\n"
     ]
    }
   ],
   "source": [
    "# Create initial condition\n",
    "from find_com_e import find_common_e\n",
    "\n",
    "# V = fem.FunctionSpace(domain, (\"Lagrange\", 1))\n",
    "\n",
    "# Define variational problem, Here Lagrange changes to CG, what is CG?\n",
    "V = fem.FunctionSpace(domain, ('CG', 1))\n",
    "\n",
    "\n",
    "# initialization\n",
    "# u_n is for initial condition and uh is the solver result.\n",
    "u_n = fem.Function(V)\n",
    "u_n.name = \"u_n\"\n",
    "# variable, need to be projected form Q onto V\n",
    "u_n = project(T_INIT,V)\n",
    "u_n.name = \"u_n\"\n",
    "\n",
    "\n",
    "# apply to all the x\n",
    "#def initial_condition(x):\n",
    "#     return (Tini + x[0]-x[0])\n",
    "    \n",
    "#u_n = fem.Function(V)\n",
    "#u_n.name = \"u_n\"\n",
    "#u_n.interpolate(initial_condition)\n",
    "\n",
    "# Create boundary condition\n",
    "fdim = domain.topology.dim - 1\n",
    "#lambda x, y, z: (x - center_x)**2 + (y - center_y)**2 <= radius**2 and np.isclose(z, target_z)\n",
    "\n",
    "import sys\n",
    "## when change a new computer, below path is inconvenient, need to find a bettwe way to use this function.\n",
    "sys.path.append('/home/yanjun/Documents/FEniCSx/Tutorial/Mesh/')\n",
    "from rub_co import get_rub_coordinate\n",
    "x_co, y_co = get_rub_coordinate()\n",
    "\n",
    "bc_list = []\n",
    "for i, (x_c, y_c) in enumerate(zip(x_co, y_co), start=1):\n",
    "    var_name = f\"bc_facets{i}\"\n",
    "    \n",
    "    tag= mesh.locate_entities_boundary(\n",
    "       domain, fdim, lambda x: (x[0]-x_c)**2 + (x[1]-y_c)**2  <= 324 )\n",
    "        \n",
    "    globals()[var_name] = tag\n",
    "    bc_list.append(globals()[var_name])\n",
    "    # rubbing elements\n",
    "\n",
    "bc_disc = mesh.locate_entities_boundary(\n",
    "    domain, fdim , lambda x:  np.isclose(x[2], 20) )\n",
    "\n",
    "bc_all = find_common_e(bc_disc, bc_list)\n",
    "\n",
    "\n",
    "## PETSC.Scalarype(X), this X is the value of boundary condition, like inlet temperature is 20, then here X is 20.\n",
    "# Scalartype means constant value.\n",
    "bc = fem.dirichletbc(PETSc.ScalarType(Tm), fem.locate_dofs_topological(V, fdim, bc_all), V)\n",
    "\n",
    "print('1:fdim is','\\n', fdim)\n",
    "#print('2: boundary_facets is', '\\n', bc_all)\n",
    "#print('bc_all is','\\n', bc_all)\n",
    "print(bc_facets15)"
   ]
  },
  {
   "cell_type": "markdown",
   "metadata": {},
   "source": [
    "## 4: Time-dependent output\n"
   ]
  },
  {
   "cell_type": "code",
   "execution_count": 4,
   "metadata": {},
   "outputs": [],
   "source": [
    "xdmf = io.XDMFFile(domain.comm, \"temperature3.xdmf\", \"w\")\n",
    "xdmf.write_mesh(domain)\n",
    "\n",
    "# Define solution variable, and interpolate initial solution for visualization in Paraview\n",
    "\n",
    "#uh.interpolate(initial_condition)\n",
    "#uh.interpolate(Tinit)\n",
    "\n",
    "uh = fem.Function(V)\n",
    "uh.name = \"uh\"\n",
    "uh = project(T_INIT,V)\n",
    "xdmf.write_function(uh, t)"
   ]
  },
  {
   "cell_type": "code",
   "execution_count": 5,
   "metadata": {},
   "outputs": [
    {
     "name": "stdout",
     "output_type": "stream",
     "text": [
      "ds(subdomain_id=everywhere, domain=<Mesh #0>, subdomain_data=<dolfinx.mesh.MeshTags object at 0x78b65b12d3f0>)\n"
     ]
    }
   ],
   "source": [
    "n = FacetNormal(domain)\n",
    "print(ds)"
   ]
  },
  {
   "cell_type": "markdown",
   "metadata": {},
   "source": [
    "## 5: Variational problem and solver\n"
   ]
  },
  {
   "cell_type": "code",
   "execution_count": 6,
   "metadata": {},
   "outputs": [],
   "source": [
    "\n",
    "u, v = ufl.TrialFunction(V), ufl.TestFunction(V)\n",
    "f = fem.Constant(domain, PETSc.ScalarType(0))\n",
    "n = FacetNormal(domain)\n",
    "\n",
    "#RhoCp/Dt*(T-T0)*del_T \\ + kappa*T.dx(i)*del_T.dx(i) \n",
    " #   - rho*Laser*del_T *dv +h*(T-Ta)*del_T*da\n",
    "laser = 1000\n",
    "\n",
    "a = ( u * v + dt* k /(rho*c) * dot(grad(u), grad(v)) )*dx - k*dot(grad(u), n)*v*ds\n",
    "#a = ( u * v + dt* k /(rho*c) * dot(grad(u), grad(v)) )*dx\n",
    "L = ( u_n + dt * laser / c + dt/(rho*c) * f ) * v * dx\n",
    "\n",
    "#L = (RhoCp*Tini + dt * f) * v * dx\n",
    "# above dx has imported function ufl.dx, so can directly use * dx\n",
    "#a = u * v * ufl.dx + dt * ufl.dot(ufl.grad(u), ufl.grad(v)) * ufl.dx\n",
    "#L = (u_n + dt * f) * v * ufl.dx"
   ]
  },
  {
   "cell_type": "markdown",
   "metadata": {},
   "source": [
    "## 6: Preparing linear algebra structures for time dependent problems\n"
   ]
  },
  {
   "cell_type": "code",
   "execution_count": 7,
   "metadata": {},
   "outputs": [],
   "source": [
    "# assembly matrix and vector\n",
    "\n",
    "bilinear_form = fem.form(a)\n",
    "linear_form = fem.form(L)"
   ]
  },
  {
   "cell_type": "code",
   "execution_count": 8,
   "metadata": {},
   "outputs": [],
   "source": [
    "A = assemble_matrix(bilinear_form, bcs=[bc])\n",
    "A.assemble()\n",
    "b = create_vector(linear_form)"
   ]
  },
  {
   "cell_type": "code",
   "execution_count": 9,
   "metadata": {},
   "outputs": [],
   "source": [
    "#print(b.view())\n",
    "#print(A.view())"
   ]
  },
  {
   "cell_type": "markdown",
   "metadata": {},
   "source": [
    "## 7: Using petsc4py to create a linear solver\n"
   ]
  },
  {
   "cell_type": "code",
   "execution_count": 10,
   "metadata": {},
   "outputs": [],
   "source": [
    "solver = PETSc.KSP().create(domain.comm)\n",
    "solver.setOperators(A)\n",
    "solver.setType(PETSc.KSP.Type.PREONLY)\n",
    "solver.getPC().setType(PETSc.PC.Type.LU)"
   ]
  },
  {
   "cell_type": "markdown",
   "metadata": {},
   "source": [
    "## 8:Visualization of time dependent problem using pyvista\n"
   ]
  },
  {
   "cell_type": "code",
   "execution_count": 11,
   "metadata": {
    "scrolled": true
   },
   "outputs": [],
   "source": [
    "import matplotlib as mpl\n",
    "pyvista.start_xvfb()\n",
    "\n",
    "grid = pyvista.UnstructuredGrid(*plot.vtk_mesh(V))\n",
    "\n",
    "plotter = pyvista.Plotter()\n",
    "plotter.open_gif(\"u_time3.gif\", fps=30)\n",
    "\n",
    "grid.point_data[\"uh\"] = uh.x.array\n",
    "warped = grid.warp_by_scalar(\"uh\", factor=0)\n",
    "\n",
    "viridis = mpl.colormaps.get_cmap(\"viridis\").resampled(25)\n",
    "sargs = dict(title_font_size=25, label_font_size=20, fmt=\"%.2e\", color=\"black\",\n",
    "             position_x=0.1, position_y=0.8, width=0.8, height=0.1)\n",
    "\n",
    "renderer = plotter.add_mesh(warped, show_edges=True, lighting=False,\n",
    "                            cmap=viridis, scalar_bar_args=sargs,\n",
    "                            #clim=[0, max(uh.x.array)])\n",
    "                            clim=[T0_1,  Tm])"
   ]
  },
  {
   "cell_type": "markdown",
   "metadata": {
    "tags": []
   },
   "source": [
    "## 9:Updating the solution and right hand side per time step\n"
   ]
  },
  {
   "cell_type": "markdown",
   "metadata": {},
   "source": [
    "for i in range(num_steps):\n",
    "    t += dt\n",
    "\n",
    "    # Update the right hand side reusing the initial vector\n",
    "    with b.localForm() as loc_b:\n",
    "        loc_b.set(0)\n",
    "    assemble_vector(b, linear_form)\n",
    "\n",
    "    # Apply Dirichlet boundary condition to the vector\n",
    "    apply_lifting(b, [bilinear_form], [[bc]])\n",
    "    b.ghostUpdate(addv=PETSc.InsertMode.ADD_VALUES, mode=PETSc.ScatterMode.REVERSE)\n",
    "    set_bc(b, [bc])\n",
    "\n",
    "    # Solve linear problem\n",
    "    solver.solve(b, uh.vector)\n",
    "    uh.x.scatter_forward()\n",
    "\n",
    "    # Update solution at previous time step (u_n)\n",
    "    u_n.x.array[:] = uh.x.array\n",
    "\n",
    "    # Write solution to file\n",
    "    xdmf.write_function(uh, t)\n",
    "    # Update plot\n",
    "    warped = grid.warp_by_scalar(\"uh\", factor=0)\n",
    "    plotter.update_coordinates(warped.points.copy(), render=False)\n",
    "    plotter.update_scalars(uh.x.array, render=False)\n",
    "    plotter.write_frame()\n",
    "plotter.close()\n",
    "xdmf.close()"
   ]
  },
  {
   "cell_type": "code",
   "execution_count": null,
   "metadata": {},
   "outputs": [
    {
     "name": "stdout",
     "output_type": "stream",
     "text": [
      "1: Rotation has applied for 20 degree. 2: Current time is 0.1 s. 3: Completion is 0.3 %. "
     ]
    },
    {
     "name": "stderr",
     "output_type": "stream",
     "text": [
      "WARNING:py.warnings:/home/yanjun/.local/lib/python3.10/site-packages/pyvista/plotting/plotter.py:4716: PyVistaDeprecationWarning: This method is deprecated and will be removed in a future version of PyVista. Directly modify the points of a mesh in-place instead.\n",
      "  warnings.warn(\n",
      "\n",
      "WARNING:py.warnings:/home/yanjun/.local/lib/python3.10/site-packages/pyvista/plotting/plotter.py:4638: PyVistaDeprecationWarning: This method is deprecated and will be removed in a future version of PyVista. Directly modify the scalars of a mesh in-place instead.\n",
      "  warnings.warn(\n",
      "\n"
     ]
    },
    {
     "name": "stdout",
     "output_type": "stream",
     "text": [
      "1: Rotation has applied for 3040 degree. 2: Current time is 7.6 s. 3: Completion is 50.7 %. "
     ]
    }
   ],
   "source": [
    "from rotation_co import rub_rotation\n",
    "import numpy as np\n",
    "\n",
    "degree = 20\n",
    "total_degree = 0\n",
    "\n",
    "for i in range(num_steps):\n",
    "    t += dt\n",
    "    # update the location\n",
    "    x_co, y_co = rub_rotation (x_co, y_co, degree)\n",
    "    bc_list = []    \n",
    "    for i, (x_c, y_c) in enumerate(zip(x_co, y_co), start=1):\n",
    "       var_name = f\"bc_facets{i}\"\n",
    "       tag= mesh.locate_entities_boundary(\n",
    "       domain, fdim, lambda x: (x[0]-x_c)**2 + (x[1]-y_c)**2  <= 324 )\n",
    "       globals()[var_name] = tag\n",
    "       bc_list.append(globals()[var_name])\n",
    "    bc_disc = mesh.locate_entities_boundary(\n",
    "        domain, fdim , lambda x:  np.isclose(x[2], 20) )\n",
    "    bc_all = find_common_e(bc_disc, bc_list)\n",
    "    bc = fem.dirichletbc(PETSc.ScalarType(Tm), fem.locate_dofs_topological(V, fdim, bc_all), V)\n",
    "    \n",
    "    total_degree += degree  # Incrementing degree by 10 in each step\n",
    "    sys.stdout.write('\\r1: Rotation has applied for {} degree. '.format(total_degree))\n",
    "    sys.stdout.write('2: Current time is ' + str(round(t,1)) + \" s. \")\n",
    "    sys.stdout.write('3: Completion is '  + str(round (100*(t/Total_time),1) )+ \" %. \")\n",
    "    sys.stdout.flush()\n",
    "\n",
    "    ## Matrix assemble\n",
    "    A = assemble_matrix(bilinear_form, bcs=[bc])\n",
    "    A.assemble()\n",
    "\n",
    "    solver = PETSc.KSP().create(domain.comm)\n",
    "    solver.setOperators(A)\n",
    "    solver.setType(PETSc.KSP.Type.PREONLY)\n",
    "    solver.getPC().setType(PETSc.PC.Type.LU)\n",
    "              \n",
    "    \n",
    "    # Update the right hand side reusing the initial vector\n",
    "    with b.localForm() as loc_b:\n",
    "        loc_b.set(0)\n",
    "    assemble_vector(b, linear_form)\n",
    "\n",
    "    # Apply Dirichlet boundary condition to the vector\n",
    "    apply_lifting(b, [bilinear_form], [[bc]])\n",
    "    b.ghostUpdate(addv=PETSc.InsertMode.ADD_VALUES, mode=PETSc.ScatterMode.REVERSE)\n",
    "    set_bc(b, [bc])\n",
    "\n",
    "    \n",
    "    # Solve linear problem\n",
    "    solver.solve(b, uh.vector)\n",
    "    uh.x.scatter_forward()\n",
    "\n",
    "    # Update solution at previous time step (u_n)\n",
    "    u_n.x.array[:] = uh.x.array\n",
    "    # Write solution to file\n",
    "    xdmf.write_function(uh, t)\n",
    "    # Update plot\n",
    "    #warped = grid.warp_by_scalar(\"uh\", factor=0)\n",
    "    plotter.update_coordinates(warped.points.copy(), render=False)\n",
    "    plotter.update_scalars(uh.x.array, render=False)\n",
    "    plotter.write_frame()\n",
    "    \n",
    "plotter.close() \n",
    "xdmf.close()\n",
    "print()"
   ]
  },
  {
   "cell_type": "code",
   "execution_count": null,
   "metadata": {
    "scrolled": true
   },
   "outputs": [],
   "source": [
    "# Display the GIF\n",
    "from IPython.display import display, Image\n",
    "\n",
    "display(Image(filename = 'u_time3.gif'))"
   ]
  },
  {
   "cell_type": "code",
   "execution_count": null,
   "metadata": {},
   "outputs": [],
   "source": []
  },
  {
   "cell_type": "code",
   "execution_count": null,
   "metadata": {},
   "outputs": [],
   "source": [
    "%paraview"
   ]
  },
  {
   "cell_type": "code",
   "execution_count": null,
   "metadata": {},
   "outputs": [],
   "source": []
  }
 ],
 "metadata": {
  "jupytext": {
   "formats": "ipynb,py:light"
  },
  "kernelspec": {
   "display_name": "Python 3 (ipykernel)",
   "language": "python",
   "name": "python3"
  },
  "language_info": {
   "codemirror_mode": {
    "name": "ipython",
    "version": 3
   },
   "file_extension": ".py",
   "mimetype": "text/x-python",
   "name": "python",
   "nbconvert_exporter": "python",
   "pygments_lexer": "ipython3",
   "version": "3.10.12"
  }
 },
 "nbformat": 4,
 "nbformat_minor": 4
}
