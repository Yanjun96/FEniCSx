{
 "cells": [
  {
   "cell_type": "markdown",
   "id": "5e20330e-3ea8-4008-b4e2-1e6b7d760619",
   "metadata": {},
   "source": [
    "# 1:Mesh for a brak disc\n",
    "This part is from Jørgen S. Dokken blog: Mesh generation use gmsh API \n",
    "https://jsdokken.com/src/tutorial_gmsh.html\n",
    "\n"
   ]
  },
  {
   "cell_type": "code",
   "execution_count": 9,
   "id": "9e8396e2-72be-4c13-a060-71f30864fe28",
   "metadata": {},
   "outputs": [
    {
     "name": "stdout",
     "output_type": "stream",
     "text": [
      "Info    : Meshing 1D...\n",
      "Info    : [  0%] Meshing curve 4 (Circle)\n",
      "Info    : [ 20%] Meshing curve 5 (Line)\n",
      "Info    : [ 40%] Meshing curve 6 (Circle)\n",
      "Info    : [ 50%] Meshing curve 7 (Circle)\n",
      "Info    : [ 70%] Meshing curve 8 (Line)\n",
      "Info    : [ 90%] Meshing curve 9 (Circle)\n",
      "Info    : Done meshing 1D (Wall 0.000931937s, CPU 0.00089s)\n",
      "Info    : Meshing 2D...\n",
      "Info    : [  0%] Meshing surface 4 (Cylinder, Frontal-Delaunay)\n",
      "Info    : [ 30%] Meshing surface 5 (Cylinder, Frontal-Delaunay)\n"
     ]
    },
    {
     "name": "stderr",
     "output_type": "stream",
     "text": [
      "Warning : Unknown entity of dimension 3 and tag 3 in physical group 1\n",
      "Warning : Unknown entity of dimension 2 and tag 2 in physical group 4\n",
      "Warning : Unknown entity of dimension 2 and tag 2 in physical group 5\n",
      "Warning : Unknown entity of dimension 2 and tag 2 in physical group 6\n",
      "Warning : Unknown entity of dimension 2 and tag 2 in physical group 7\n"
     ]
    },
    {
     "name": "stdout",
     "output_type": "stream",
     "text": [
      "Info    : [ 50%] Meshing surface 6 (Plane, Frontal-Delaunay)\n",
      "Info    : [ 80%] Meshing surface 7 (Plane, Frontal-Delaunay)\n",
      "Info    : Done meshing 2D (Wall 0.655392s, CPU 0.58599s)\n",
      "Info    : Meshing 3D...\n",
      "Info    : 3D Meshing 1 volume with 1 connected component\n",
      "Info    : Tetrahedrizing 18056 nodes...\n",
      "Info    : Done tetrahedrizing 18064 nodes (Wall 0.250192s, CPU 0.226196s)\n",
      "Info    : Reconstructing mesh...\n",
      "Info    :  - Creating surface mesh\n",
      "Info    :  - Identifying boundary edges\n",
      "Info    :  - Recovering boundary\n",
      "Info    : Done reconstructing mesh (Wall 0.8718s, CPU 0.825883s)\n",
      "Info    : Found volume 1\n",
      "Info    : It. 0 - 0 nodes created - worst tet radius 2.21797 (nodes removed 0 0)\n",
      "Info    : It. 500 - 500 nodes created - worst tet radius 2.08248 (nodes removed 0 0)\n",
      "Info    : It. 1000 - 1000 nodes created - worst tet radius 1.92648 (nodes removed 0 0)\n",
      "Info    : It. 1500 - 1500 nodes created - worst tet radius 1.6079 (nodes removed 0 0)\n",
      "Info    : It. 2000 - 2000 nodes created - worst tet radius 1.49673 (nodes removed 0 0)\n",
      "Info    : It. 2500 - 2500 nodes created - worst tet radius 1.4314 (nodes removed 0 0)\n",
      "Info    : It. 3000 - 3000 nodes created - worst tet radius 1.39114 (nodes removed 0 0)\n",
      "Info    : It. 3500 - 3500 nodes created - worst tet radius 1.36062 (nodes removed 0 0)\n",
      "Info    : It. 4000 - 4000 nodes created - worst tet radius 1.33938 (nodes removed 0 0)\n",
      "Info    : It. 4500 - 4500 nodes created - worst tet radius 1.31586 (nodes removed 0 0)\n",
      "Info    : It. 5000 - 5000 nodes created - worst tet radius 1.28584 (nodes removed 0 0)\n",
      "Info    : It. 5500 - 5500 nodes created - worst tet radius 1.24351 (nodes removed 0 0)\n",
      "Info    : It. 6000 - 6000 nodes created - worst tet radius 1.20368 (nodes removed 0 0)\n",
      "Info    : It. 6500 - 6500 nodes created - worst tet radius 1.16782 (nodes removed 0 0)\n",
      "Info    : It. 7000 - 7000 nodes created - worst tet radius 1.14204 (nodes removed 0 0)\n",
      "Info    : It. 7500 - 7500 nodes created - worst tet radius 1.11688 (nodes removed 0 0)\n",
      "Info    : It. 8000 - 8000 nodes created - worst tet radius 1.09875 (nodes removed 0 0)\n",
      "Info    : It. 8500 - 8500 nodes created - worst tet radius 1.08369 (nodes removed 0 0)\n",
      "Info    : It. 9000 - 9000 nodes created - worst tet radius 1.06843 (nodes removed 0 0)\n",
      "Info    : It. 9500 - 9500 nodes created - worst tet radius 1.05007 (nodes removed 0 0)\n",
      "Info    : It. 10000 - 10000 nodes created - worst tet radius 1.02991 (nodes removed 0 0)\n",
      "Info    : It. 10500 - 10500 nodes created - worst tet radius 1.01374 (nodes removed 0 0)\n",
      "Info    : 3D refinement terminated (29049 nodes total):\n",
      "Info    :  - 0 Delaunay cavities modified for star shapeness\n",
      "Info    :  - 0 nodes could not be inserted\n",
      "Info    :  - 123437 tetrahedra created in 0.793831 sec. (155495 tets/s)\n",
      "Info    : 0 node relocations\n",
      "Info    : Done meshing 3D (Wall 2.62593s, CPU 1.95347s)\n",
      "Info    : Optimizing mesh...\n",
      "Info    : Optimizing volume 1\n",
      "Info    : Optimization starts (volume = 3.14159e+06) with worst = 0.00618536 / average = 0.780669:\n",
      "Info    : 0.00 < quality < 0.10 :       223 elements\n",
      "Info    : 0.10 < quality < 0.20 :       821 elements\n",
      "Info    : 0.20 < quality < 0.30 :      1221 elements\n",
      "Info    : 0.30 < quality < 0.40 :      1965 elements\n",
      "Info    : 0.40 < quality < 0.50 :      2763 elements\n",
      "Info    : 0.50 < quality < 0.60 :      5126 elements\n",
      "Info    : 0.60 < quality < 0.70 :     13096 elements\n",
      "Info    : 0.70 < quality < 0.80 :     30012 elements\n",
      "Info    : 0.80 < quality < 0.90 :     46224 elements\n",
      "Info    : 0.90 < quality < 1.00 :     21986 elements\n",
      "Info    : 2250 edge swaps, 53 node relocations (volume = 3.14159e+06): worst = 0.163321 / average = 0.792415 (Wall 0.0965399s, CPU 0.065064s)\n",
      "Info    : 2274 edge swaps, 55 node relocations (volume = 3.14159e+06): worst = 0.254048 / average = 0.792514 (Wall 0.133282s, CPU 0.118019s)\n",
      "Info    : 2275 edge swaps, 55 node relocations (volume = 3.14159e+06): worst = 0.254048 / average = 0.79252 (Wall 0.17339s, CPU 0.158096s)\n",
      "Info    : No ill-shaped tets in the mesh :-)\n",
      "Info    : 0.00 < quality < 0.10 :         0 elements\n",
      "Info    : 0.10 < quality < 0.20 :         0 elements\n",
      "Info    : 0.20 < quality < 0.30 :         1 elements\n",
      "Info    : 0.30 < quality < 0.40 :      1966 elements\n",
      "Info    : 0.40 < quality < 0.50 :      2653 elements\n",
      "Info    : 0.50 < quality < 0.60 :      4880 elements\n",
      "Info    : 0.60 < quality < 0.70 :     12989 elements\n",
      "Info    : 0.70 < quality < 0.80 :     30267 elements\n",
      "Info    : 0.80 < quality < 0.90 :     46673 elements\n",
      "Info    : 0.90 < quality < 1.00 :     21951 elements\n",
      "Info    : Done optimizing mesh (Wall 0.437331s, CPU 0.404794s)\n",
      "Info    : 29049 nodes 158762 elements\n",
      "Info    : Writing 'disc.msh'...\n",
      "Info    : Done writing 'disc.msh'\n",
      "-------------------------------------------------------\n",
      "Version       : 4.12.2\n",
      "License       : GNU General Public License\n",
      "Build OS      : Linux64-sdk\n",
      "Build date    : 20240121\n",
      "Build host    : gmsh.info\n",
      "Build options : 64Bit ALGLIB[contrib] ANN[contrib] Bamg Blas[petsc] Blossom Cgns DIntegration Dlopen DomHex Eigen[contrib] Fltk Gmm[contrib] Hxt Jpeg Kbipack Lapack[petsc] LinuxJoystick MathEx[contrib] Med Mesh Metis[contrib] Mmg Mpeg Netgen ONELAB ONELABMetamodel OpenCASCADE OpenCASCADE-CAF OpenGL OpenMP OptHom PETSc Parser Plugins Png Post QuadMeshingTools QuadTri Solver TetGen/BR Voro++[contrib] WinslowUntangler Zlib\n",
      "FLTK version  : 1.4.0\n",
      "PETSc version : 3.14.4 (real arithmtic)\n",
      "OCC version   : 7.7.2\n",
      "MED version   : 4.1.0\n",
      "Packaged by   : geuzaine\n",
      "Web site      : https://gmsh.info\n",
      "Issue tracker : https://gitlab.onelab.info/gmsh/gmsh/issues\n",
      "-------------------------------------------------------\n"
     ]
    }
   ],
   "source": [
    "import gmsh\n",
    "import sys\n",
    "import math\n",
    "import os\n",
    "import numpy as np\n",
    "\n",
    "gmsh.initialize()\n",
    "gmsh.model.add(\"Disc 3D\")\n",
    "\n",
    "B, r_outer, r_inner = 20, 300, 200\n",
    "\n",
    "# x (double), y (double), z (double), dx (double), dy (double), dz (double),\n",
    "# r (double), tag = -1 (integer), angle = 2*pi (double)\n",
    "outer_disc  = gmsh.model.occ.addCylinder(0,0,0,  0, 0, B,  r_outer)\n",
    "inner_disc  = gmsh.model.occ.addCylinder(0,0,0,  0, 0, B,  r_inner)\n",
    "\n",
    "#[(3, )]  3 means dimension, cut the common place\n",
    "disk = gmsh.model.occ.cut([(3, outer_disc)], [(3, inner_disc)])\n",
    "\n",
    "gmsh.model.occ.synchronize()\n",
    "\n",
    "# Add physical group, if do not have this step, below \n",
    "# https://gitlab.onelab.info/gmsh/gmsh/blob/master/tutorials/python/t1.py#L115\n",
    "\n",
    "# Volumes: 1\n",
    "volumes = gmsh.model.occ.getEntities(dim=3)\n",
    "gmsh.model.addPhysicalGroup(3, volumes[0], 1)\n",
    "\n",
    "# Surfaces: 4 inner  5 outer  6 up  7 below \n",
    "surfaces = gmsh.model.occ.getEntities(dim=2)\n",
    "gmsh.model.addPhysicalGroup(2, surfaces[0], 4)\n",
    "gmsh.model.addPhysicalGroup(2, surfaces[1], 5)\n",
    "gmsh.model.addPhysicalGroup(2, surfaces[2], 6)\n",
    "gmsh.model.addPhysicalGroup(2, surfaces[3], 7)\n",
    "   \n",
    "\n",
    "# Mesh\n",
    "\n",
    "gmsh.option.setNumber(\"Mesh.MeshSizeMin\", 5)\n",
    "gmsh.option.setNumber(\"Mesh.MeshSizeMax\", 5)\n",
    "#gmsh.model.occ.mesh.setSize = 0.001\n",
    "gmsh.model.mesh.generate(3)\n",
    "gmsh.write(\"disc.msh\")\n",
    "\n",
    "# Launch the GUI to see the results:\n",
    "if '-nopopup' not in sys.argv:\n",
    "    gmsh.fltk.run()\n",
    "gmsh.finalize()\n"
   ]
  },
  {
   "cell_type": "markdown",
   "id": "67ee0c54-3185-4775-a602-accc25a3e4a6",
   "metadata": {},
   "source": [
    "# Here try to delete the line\n",
    "dels = gmsh.model.occ.getEntities(dim=1)\n",
    "\n",
    "gmsh.model.occ.remove(dels)  # Delete outside parts recursively\n",
    "\n"
   ]
  },
  {
   "cell_type": "code",
   "execution_count": 10,
   "id": "a704e69a-4d2f-43d9-b8a7-e2906dda4168",
   "metadata": {},
   "outputs": [
    {
     "name": "stdout",
     "output_type": "stream",
     "text": [
      "Surfaces is [(2, 4), (2, 5), (2, 6), (2, 7)]\n",
      "Volumes is [(3, 1)]\n"
     ]
    }
   ],
   "source": [
    "print('Surfaces is', surfaces)\n",
    "print('Volumes is', volumes)"
   ]
  },
  {
   "cell_type": "markdown",
   "id": "16952baa-9508-49cf-9ed3-ae896115abc2",
   "metadata": {},
   "source": [
    "# 2: Mesh plot\n",
    "\n",
    "THis part is from FEniCSx tutorial: Plotting the mesh using pyvista\n",
    "\n",
    "https://jsdokken.com/dolfinx-tutorial/chapter1/fundamentals_code.html"
   ]
  },
  {
   "cell_type": "code",
   "execution_count": null,
   "id": "bf4cb7fe-6efb-4883-8806-f235f0d8d97f",
   "metadata": {},
   "outputs": [],
   "source": []
  },
  {
   "cell_type": "code",
   "execution_count": 11,
   "id": "6b701a81-274c-46f0-ad06-30a93820fb25",
   "metadata": {},
   "outputs": [
    {
     "name": "stdout",
     "output_type": "stream",
     "text": [
      "Info    : Reading 'disc.msh'...\n",
      "Info    : 15 entities\n",
      "Info    : 29049 nodes\n",
      "Info    : 157492 elements\n",
      "Info    : Done reading 'disc.msh'                                          \n"
     ]
    },
    {
     "data": {
      "application/vnd.jupyter.widget-view+json": {
       "model_id": "912bead4c9ef4659878f9d521fb361f4",
       "version_major": 2,
       "version_minor": 0
      },
      "text/plain": [
       "Widget(value='<iframe src=\"http://localhost:38145/index.html?ui=P_0x7ff6f49e2650_0&reconnect=auto\" class=\"pyvi…"
      ]
     },
     "metadata": {},
     "output_type": "display_data"
    }
   ],
   "source": [
    "from dolfinx.io import gmshio\n",
    "from mpi4py import MPI\n",
    "import pyvista\n",
    "from dolfinx import plot\n",
    "\n",
    "# try a 3d mesh from gmsh, it works\n",
    "domain, cell_markers, facet_markers = gmshio.read_from_msh(\"disc.msh\", MPI.COMM_WORLD, 0, gdim=3)\n",
    "gdim = 3\n",
    "tdim = gdim -1 \n",
    "pyvista.start_xvfb()\n",
    "# below gdim change to tdim is plot in 2D\n",
    "topology, cell_types, geometry = plot.vtk_mesh(domain, gdim)\n",
    "\n",
    "grid = pyvista.UnstructuredGrid(topology, cell_types, geometry)\n",
    "plotter = pyvista.Plotter()\n",
    "plotter.add_mesh(grid, show_edges=True)\n",
    "plotter.view_xy()\n",
    "\n",
    "plotter.show()"
   ]
  },
  {
   "cell_type": "code",
   "execution_count": null,
   "id": "c3ff2c2b-eac4-4cb6-a61c-d47ff22b4293",
   "metadata": {},
   "outputs": [],
   "source": []
  },
  {
   "cell_type": "code",
   "execution_count": null,
   "id": "34315ef6-1d24-441c-858b-449fd407ad56",
   "metadata": {},
   "outputs": [],
   "source": []
  },
  {
   "cell_type": "code",
   "execution_count": null,
   "id": "84c1c4d5-70e7-4279-ad5b-058f8dace44e",
   "metadata": {},
   "outputs": [],
   "source": []
  }
 ],
 "metadata": {
  "kernelspec": {
   "display_name": "Python 3 (ipykernel)",
   "language": "python",
   "name": "python3"
  },
  "language_info": {
   "codemirror_mode": {
    "name": "ipython",
    "version": 3
   },
   "file_extension": ".py",
   "mimetype": "text/x-python",
   "name": "python",
   "nbconvert_exporter": "python",
   "pygments_lexer": "ipython3",
   "version": "3.10.12"
  }
 },
 "nbformat": 4,
 "nbformat_minor": 5
}
