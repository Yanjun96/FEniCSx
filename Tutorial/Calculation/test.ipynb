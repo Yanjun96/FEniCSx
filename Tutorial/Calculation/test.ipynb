{
 "cells": [
  {
   "cell_type": "code",
   "execution_count": 2,
   "id": "ed51049b-b99d-420f-93d9-652830e592c0",
   "metadata": {},
   "outputs": [
    {
     "ename": "NameError",
     "evalue": "name 'c' is not defined",
     "output_type": "error",
     "traceback": [
      "\u001b[0;31m---------------------------------------------------------------------------\u001b[0m",
      "\u001b[0;31mNameError\u001b[0m                                 Traceback (most recent call last)",
      "Cell \u001b[0;32mIn[2], line 7\u001b[0m\n\u001b[1;32m      3\u001b[0m model \u001b[38;5;241m=\u001b[39m geometry\u001b[38;5;241m.\u001b[39m\u001b[38;5;21m__enter__\u001b[39m()\n\u001b[1;32m      6\u001b[0m \u001b[38;5;66;03m# Add circle\u001b[39;00m\n\u001b[0;32m----> 7\u001b[0m circle_r \u001b[38;5;241m=\u001b[39m model\u001b[38;5;241m.\u001b[39madd_circle(\u001b[43mc\u001b[49m, r, mesh_size\u001b[38;5;241m=\u001b[39mresolution)\n\u001b[1;32m      9\u001b[0m o_in \u001b[38;5;241m=\u001b[39m geometry\u001b[38;5;241m.\u001b[39madd_point([\u001b[38;5;241m-\u001b[39mL\u001b[38;5;241m/\u001b[39m\u001b[38;5;241m2\u001b[39m,\u001b[38;5;241m0\u001b[39m,\u001b[38;5;241m0\u001b[39m])\n\u001b[1;32m     10\u001b[0m o_out \u001b[38;5;241m=\u001b[39m geometry\u001b[38;5;241m.\u001b[39madd_point([L\u001b[38;5;241m/\u001b[39m\u001b[38;5;241m2\u001b[39m,\u001b[38;5;241m0\u001b[39m,\u001b[38;5;241m0\u001b[39m])\n",
      "\u001b[0;31mNameError\u001b[0m: name 'c' is not defined"
     ]
    }
   ],
   "source": [
    "import pygmsh\n",
    "geometry = pygmsh.geo.Geometry()\n",
    "model = geometry.__enter__()\n",
    "\n",
    "\n",
    "# Add circle\n",
    "circle_r = model.add_circle(c, r, mesh_size=resolution)\n",
    "\n",
    "o_in = geometry.add_point([-L/2,0,0])\n",
    "o_out = geometry.add_point([L/2,0,0])\n",
    "\n",
    "p1 = geometry.add_point([-L/2,R,0])\n",
    "p2 = geometry.add_point([-L/2-R,0,0])\n",
    "p3 = geometry.add_point([-L/2,-R,0])\n",
    "\n",
    "arc_R_in_up = model.add_circle_arc(p1,o_in,p2)\n",
    "arc_R_in_down = model.add_circle_arc(p2,o_in,p3)\n",
    "\n",
    "p4 = geometry.add_point([L/2,-R,0])\n",
    "p5 = geometry.add_point([L/2+R,0,0])\n",
    "p6 = geometry.add_point([L/2,R,0])\n",
    "\n",
    "arc_R_out_down = model.add_circle_arc(p4,o_out,p5)\n",
    "arc_R_out_up = model.add_circle_arc(p5,o_out,p6)\n",
    "\n",
    "channel_lines = [arc_R_in_up, arc_R_in_down, model.add_line(p3, p4), arc_R_out_down, arc_R_out_up, model.add_line(p6,p1)]\n",
    "\n",
    "plane_surface = model.add_plane_surface(channel_loop, holes=[circle_r.curve_loop])\n",
    "\n",
    "model.synchronize()\n",
    "\n",
    "model.add_physical([plane_surface], \"My Volume\")\n",
    "model.add_physical(circle_r.curve_loop.curves, \"My Obstacle\")"
   ]
  },
  {
   "cell_type": "code",
   "execution_count": null,
   "id": "dfa967d5-3fb4-4990-96e6-a6d0c5db2b8b",
   "metadata": {},
   "outputs": [],
   "source": []
  }
 ],
 "metadata": {
  "kernelspec": {
   "display_name": "Python 3 (ipykernel)",
   "language": "python",
   "name": "python3"
  },
  "language_info": {
   "codemirror_mode": {
    "name": "ipython",
    "version": 3
   },
   "file_extension": ".py",
   "mimetype": "text/x-python",
   "name": "python",
   "nbconvert_exporter": "python",
   "pygments_lexer": "ipython3",
   "version": "3.10.12"
  }
 },
 "nbformat": 4,
 "nbformat_minor": 5
}
