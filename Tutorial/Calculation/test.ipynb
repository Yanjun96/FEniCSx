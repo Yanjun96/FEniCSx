{
 "cells": [
  {
   "cell_type": "code",
   "execution_count": 26,
   "id": "dfa967d5-3fb4-4990-96e6-a6d0c5db2b8b",
   "metadata": {},
   "outputs": [
    {
     "name": "stdout",
     "output_type": "stream",
     "text": [
      "[<dolfinx.fem.bcs.DirichletBC object at 0x76d694d6cc10>, <dolfinx.fem.bcs.DirichletBC object at 0x76d694a77580>, <dolfinx.fem.bcs.DirichletBC object at 0x76d694a776a0>, <dolfinx.fem.bcs.DirichletBC object at 0x76d694a76350>, <dolfinx.fem.bcs.DirichletBC object at 0x76d694a777f0>, <dolfinx.fem.bcs.DirichletBC object at 0x76d694a76290>, <dolfinx.fem.bcs.DirichletBC object at 0x76d694a76020>, <dolfinx.fem.bcs.DirichletBC object at 0x76d694a750f0>, <dolfinx.fem.bcs.DirichletBC object at 0x76d694a761a0>, <dolfinx.fem.bcs.DirichletBC object at 0x76d694a75810>, <dolfinx.fem.bcs.DirichletBC object at 0x76d694a76200>, <dolfinx.fem.bcs.DirichletBC object at 0x76d694a74670>, <dolfinx.fem.bcs.DirichletBC object at 0x76d694a75e10>, <dolfinx.fem.bcs.DirichletBC object at 0x76d694a75d20>, <dolfinx.fem.bcs.DirichletBC object at 0x76d694a75cf0>, <dolfinx.fem.bcs.DirichletBC object at 0x76d694a75c60>, <dolfinx.fem.bcs.DirichletBC object at 0x76d694a75ba0>, <dolfinx.fem.bcs.DirichletBC object at 0x76d694a75ab0>, <dolfinx.fem.bcs.DirichletBC object at 0x76d694a74cd0>, <dolfinx.fem.bcs.DirichletBC object at 0x76d694a75510>, <dolfinx.fem.bcs.DirichletBC object at 0x76d694a77400>]\n",
      "<dolfinx.fem.bcs.DirichletBC object at 0x76d694d6cc10>\n",
      "<dolfinx.fem.bcs.DirichletBC object at 0x76d694a77580>\n",
      "<dolfinx.fem.bcs.DirichletBC object at 0x76d694a776a0>\n"
     ]
    },
    {
     "ename": "TypeError",
     "evalue": "unsupported operand type(s) for +=: 'DirichletBC' and 'DirichletBC'",
     "output_type": "error",
     "traceback": [
      "\u001b[0;31m---------------------------------------------------------------------------\u001b[0m",
      "\u001b[0;31mTypeError\u001b[0m                                 Traceback (most recent call last)",
      "Cell \u001b[0;32mIn[26], line 70\u001b[0m\n\u001b[1;32m     68\u001b[0m right_bc_all \u001b[38;5;241m=\u001b[39m right_bc[\u001b[38;5;241m0\u001b[39m]\n\u001b[1;32m     69\u001b[0m \u001b[38;5;28;01mfor\u001b[39;00m i \u001b[38;5;129;01min\u001b[39;00m \u001b[38;5;28mrange\u001b[39m(\u001b[38;5;28mlen\u001b[39m(right_bc)):\n\u001b[0;32m---> 70\u001b[0m   right_bc_all \u001b[38;5;241m+\u001b[39m\u001b[38;5;241m=\u001b[39m right_bc[i]\n",
      "\u001b[0;31mTypeError\u001b[0m: unsupported operand type(s) for +=: 'DirichletBC' and 'DirichletBC'"
     ]
    }
   ],
   "source": [
    "from mpi4py import MPI\n",
    "from petsc4py import PETSc\n",
    "import numpy as np\n",
    "import pyvista\n",
    "\n",
    "from dolfinx.fem import Constant, Function, FunctionSpace, assemble_scalar, dirichletbc, form, locate_dofs_geometrical\n",
    "from dolfinx.fem.petsc import assemble_matrix, assemble_vector, apply_lifting, create_vector, set_bc\n",
    "from dolfinx.io import VTXWriter\n",
    "from dolfinx.mesh import create_rectangle\n",
    "from dolfinx.mesh import create_box\n",
    "from dolfinx.plot import vtk_mesh\n",
    "from ufl import (FacetNormal, FiniteElement, Identity, TestFunction, TrialFunction, VectorElement,\n",
    "                 div, dot, ds, dx, inner, lhs, nabla_grad, rhs, sym)\n",
    "\n",
    "\n",
    "\"\"\"GENERATE MESH AND TIME STEP\"\"\"\n",
    "\n",
    "side = np.pi\n",
    "mesh = create_rectangle(MPI.COMM_WORLD, [np.array([0.0, 0.0]), np.array([side, side])], [10, 10])\n",
    "\n",
    "t = 0\n",
    "T = 10\n",
    "num_steps = 200\n",
    "dt = T / num_steps\n",
    "\n",
    "\"\"\"DEFINE THE FINITE ELEMENT FUNCTION SPACE\"\"\"\n",
    "\n",
    "v_cg2 = VectorElement(\"Lagrange\", mesh.ufl_cell(), 2)\n",
    "s_cg1 = FiniteElement(\"Lagrange\", mesh.ufl_cell(), 1)\n",
    "V = FunctionSpace(mesh, v_cg2)\n",
    "Q = FunctionSpace(mesh, s_cg1)\n",
    "u = TrialFunction(V)\n",
    "v = TestFunction(V)\n",
    "p = TrialFunction(Q)\n",
    "q = TestFunction(Q)\n",
    "\n",
    "\"\"\"DEFINE BOUNDARY CONDITIONS\"\"\"\n",
    "\n",
    "\n",
    "def bound_loop(dofs, f, xy): #x = 1, y = 0 mi dice quale delle due variabili voglio che sia nulla\n",
    "    array_2d = np.zeros((dofs, 2), dtype=PETSc.ScalarType)\n",
    "    for i in range(dofs):\n",
    "        if xy == 1:\n",
    "            array_2d[i][0] = 0\n",
    "            array_2d[i][1] = f(i * side / dofs)\n",
    "        else:\n",
    "            array_2d[i][0] = f(i * side / dofs)\n",
    "            array_2d[i][1] = 0\n",
    "    return array_2d\n",
    "\n",
    "def right_wall(x):\n",
    "    return np.isclose(x[0], side)\n",
    "\n",
    "right_wall_dofs = locate_dofs_geometrical(V, right_wall)\n",
    "right_wall_D = bound_loop(len(right_wall_dofs), np.sin, 0)\n",
    "\n",
    "right_bc = []\n",
    "for i in range(len(right_wall_D)):\n",
    "   right_wall_dofs_temp = np.array([  right_wall_dofs[i]  ],  dtype=np.int32)\n",
    "   right_bc +=  [   dirichletbc(right_wall_D[i,0], right_wall_dofs_temp, Q)   ]\n",
    "\n",
    "print(right_bc)\n",
    "\n",
    "\n",
    "\n",
    "\n"
   ]
  },
  {
   "cell_type": "code",
   "execution_count": 2,
   "id": "828cfbfc-e041-4c71-8bd9-ce6632ef9f88",
   "metadata": {},
   "outputs": [
    {
     "name": "stdout",
     "output_type": "stream",
     "text": [
      "<class 'numpy.ndarray'>\n",
      "<class 'numpy.ndarray'>\n",
      "[2]\n",
      "<CG1 on a triangle>\n",
      "<function right_wall at 0x76d6955f4670>\n"
     ]
    },
    {
     "ename": "RuntimeError",
     "evalue": "Rank mis-match between Constant and function space in DirichletBC",
     "output_type": "error",
     "traceback": [
      "\u001b[0;31m---------------------------------------------------------------------------\u001b[0m",
      "\u001b[0;31mTypeError\u001b[0m                                 Traceback (most recent call last)",
      "File \u001b[0;32m/usr/lib/petsc/lib/python3/dist-packages/dolfinx/fem/bcs.py:175\u001b[0m, in \u001b[0;36mdirichletbc\u001b[0;34m(value, dofs, V)\u001b[0m\n\u001b[1;32m    174\u001b[0m \u001b[38;5;28;01mtry\u001b[39;00m:\n\u001b[0;32m--> 175\u001b[0m     bc \u001b[38;5;241m=\u001b[39m \u001b[43mbctype\u001b[49m\u001b[43m(\u001b[49m\u001b[43m_value\u001b[49m\u001b[43m,\u001b[49m\u001b[43m \u001b[49m\u001b[43mdofs\u001b[49m\u001b[43m,\u001b[49m\u001b[43m \u001b[49m\u001b[43mV\u001b[49m\u001b[43m)\u001b[49m\n\u001b[1;32m    176\u001b[0m \u001b[38;5;28;01mexcept\u001b[39;00m \u001b[38;5;167;01mTypeError\u001b[39;00m:\n",
      "\u001b[0;31mTypeError\u001b[0m: __init__(): incompatible constructor arguments. The following argument types are supported:\n    1. dolfinx.cpp.fem.DirichletBC_float64(g: numpy.ndarray[numpy.float64], dofs: numpy.ndarray[numpy.int32], V: dolfinx::fem::FunctionSpace<double>)\n    2. dolfinx.cpp.fem.DirichletBC_float64(g: dolfinx::fem::Constant<double>, dofs: numpy.ndarray[numpy.int32], V: dolfinx::fem::FunctionSpace<double>)\n    3. dolfinx.cpp.fem.DirichletBC_float64(g: dolfinx::fem::Function<double, double>, dofs: numpy.ndarray[numpy.int32])\n    4. dolfinx.cpp.fem.DirichletBC_float64(g: dolfinx::fem::Function<double, double>, dofs: List[numpy.ndarray[numpy.int32][2]], V: dolfinx::fem::FunctionSpace<double>)\n\nInvoked with: array([0., 0.]), array([1, 2, 3], dtype=int32), FunctionSpace(Mesh(blocked element (Basix element (P, triangle, 1, gll_warped, unset, False), (2,)), 0), FiniteElement('Lagrange', triangle, 1))",
      "\nDuring handling of the above exception, another exception occurred:\n",
      "\u001b[0;31mRuntimeError\u001b[0m                              Traceback (most recent call last)",
      "Cell \u001b[0;32mIn[2], line 8\u001b[0m\n\u001b[1;32m      6\u001b[0m \u001b[38;5;28mprint\u001b[39m(right_wall)\n\u001b[1;32m      7\u001b[0m arr \u001b[38;5;241m=\u001b[39m np\u001b[38;5;241m.\u001b[39marray([\u001b[38;5;241m1\u001b[39m, \u001b[38;5;241m2\u001b[39m, \u001b[38;5;241m3\u001b[39m], dtype\u001b[38;5;241m=\u001b[39mnp\u001b[38;5;241m.\u001b[39mint32)\n\u001b[0;32m----> 8\u001b[0m right_bc \u001b[38;5;241m=\u001b[39m \u001b[43mdirichletbc\u001b[49m\u001b[43m(\u001b[49m\u001b[43m \u001b[49m\u001b[43mright_wall_D\u001b[49m\u001b[43m[\u001b[49m\u001b[38;5;241;43m0\u001b[39;49m\u001b[43m]\u001b[49m\u001b[43m,\u001b[49m\u001b[43m \u001b[49m\u001b[43marr\u001b[49m\u001b[43m,\u001b[49m\u001b[43m \u001b[49m\u001b[43mQ\u001b[49m\u001b[43m)\u001b[49m\n\u001b[1;32m      9\u001b[0m \u001b[38;5;66;03m#c = [  1   2   3  12  13  25  26  42  43  63  64  88  89 117 118 150 151 187\u001b[39;00m\n\u001b[1;32m     10\u001b[0m  \u001b[38;5;66;03m#188 228 229]\u001b[39;00m\n\u001b[1;32m     11\u001b[0m \u001b[38;5;28mprint\u001b[39m(right_bc)\n",
      "File \u001b[0;32m/usr/lib/petsc/lib/python3/dist-packages/dolfinx/fem/bcs.py:177\u001b[0m, in \u001b[0;36mdirichletbc\u001b[0;34m(value, dofs, V)\u001b[0m\n\u001b[1;32m    175\u001b[0m         bc \u001b[38;5;241m=\u001b[39m bctype(_value, dofs, V)\n\u001b[1;32m    176\u001b[0m     \u001b[38;5;28;01mexcept\u001b[39;00m \u001b[38;5;167;01mTypeError\u001b[39;00m:\n\u001b[0;32m--> 177\u001b[0m         bc \u001b[38;5;241m=\u001b[39m \u001b[43mbctype\u001b[49m\u001b[43m(\u001b[49m\u001b[43m_value\u001b[49m\u001b[43m,\u001b[49m\u001b[43m \u001b[49m\u001b[43mdofs\u001b[49m\u001b[43m,\u001b[49m\u001b[43m \u001b[49m\u001b[43mV\u001b[49m\u001b[38;5;241;43m.\u001b[39;49m\u001b[43m_cpp_object\u001b[49m\u001b[43m)\u001b[49m\n\u001b[1;32m    178\u001b[0m \u001b[38;5;28;01melse\u001b[39;00m:\n\u001b[1;32m    179\u001b[0m     bc \u001b[38;5;241m=\u001b[39m bctype(_value, dofs)\n",
      "\u001b[0;31mRuntimeError\u001b[0m: Rank mis-match between Constant and function space in DirichletBC"
     ]
    }
   ],
   "source": [
    "import numpy as np\n",
    "print(type(right_wall_D[0]))\n",
    "print(type(right_wall_dofs))\n",
    "print(right_wall_dofs)\n",
    "print(s_cg1)\n",
    "print(right_wall)\n",
    "arr = np.array([1, 2, 3], dtype=np.int32)\n",
    "right_bc = dirichletbc( right_wall_D[0], arr, Q)\n",
    "#c = [  1   2   3  12  13  25  26  42  43  63  64  88  89 117 118 150 151 187\n",
    " #188 228 229]\n",
    "print(right_bc)"
   ]
  },
  {
   "cell_type": "code",
   "execution_count": 2,
   "id": "c70b616e-1084-46b6-a0bd-95e8d77cacdd",
   "metadata": {},
   "outputs": [
    {
     "name": "stdout",
     "output_type": "stream",
     "text": [
      "1\n"
     ]
    }
   ],
   "source": [
    "print(right_wall_dofs1)"
   ]
  },
  {
   "cell_type": "code",
   "execution_count": null,
   "id": "e2c7f830-39ea-475d-9804-1d25a47899a0",
   "metadata": {},
   "outputs": [],
   "source": []
  },
  {
   "cell_type": "code",
   "execution_count": 9,
   "id": "aabf59c4-6fef-4379-ba2c-1bc75fa28cac",
   "metadata": {},
   "outputs": [
    {
     "name": "stdout",
     "output_type": "stream",
     "text": [
      "0.14904226617617444\n",
      "1\n",
      "FunctionSpace(Mesh(blocked element (Basix element (P, triangle, 1, gll_warped, unset, False), (2,)), 0), FiniteElement('Lagrange', triangle, 1))\n",
      "<class 'numpy.float64'>\n",
      "0.14904226617617444\n",
      "[  1   2   3  12  13  25  26  42  43  63  64  88  89 117 118 150 151 187\n",
      " 188 228 229]\n"
     ]
    }
   ],
   "source": [
    "print( right_wall_D[1,0] )\n",
    "print(right_wall_dofs[0])\n",
    "print(Q)\n",
    "print(type(  right_wall_D[1,0] ))\n",
    "print(right_wall_D[1,0])\n",
    "print(right_wall_dofs)"
   ]
  },
  {
   "cell_type": "code",
   "execution_count": 39,
   "id": "22db85a6-1794-4322-a896-2a269f1e1bf6",
   "metadata": {},
   "outputs": [
    {
     "ename": "TypeError",
     "evalue": "__init__(): incompatible constructor arguments. The following argument types are supported:\n    1. dolfinx.cpp.fem.DirichletBC_float64(g: numpy.ndarray[numpy.float64], dofs: numpy.ndarray[numpy.int32], V: dolfinx::fem::FunctionSpace<double>)\n    2. dolfinx.cpp.fem.DirichletBC_float64(g: dolfinx::fem::Constant<double>, dofs: numpy.ndarray[numpy.int32], V: dolfinx::fem::FunctionSpace<double>)\n    3. dolfinx.cpp.fem.DirichletBC_float64(g: dolfinx::fem::Function<double, double>, dofs: numpy.ndarray[numpy.int32])\n    4. dolfinx.cpp.fem.DirichletBC_float64(g: dolfinx::fem::Function<double, double>, dofs: List[numpy.ndarray[numpy.int32][2]], V: dolfinx::fem::FunctionSpace<double>)\n\nInvoked with: array(2.), [2], <dolfinx.cpp.fem.FunctionSpace_float64 object at 0x7d49983fdd70>",
     "output_type": "error",
     "traceback": [
      "\u001b[0;31m---------------------------------------------------------------------------\u001b[0m",
      "\u001b[0;31mTypeError\u001b[0m                                 Traceback (most recent call last)",
      "File \u001b[0;32m/usr/lib/petsc/lib/python3/dist-packages/dolfinx/fem/bcs.py:175\u001b[0m, in \u001b[0;36mdirichletbc\u001b[0;34m(value, dofs, V)\u001b[0m\n\u001b[1;32m    174\u001b[0m \u001b[38;5;28;01mtry\u001b[39;00m:\n\u001b[0;32m--> 175\u001b[0m     bc \u001b[38;5;241m=\u001b[39m \u001b[43mbctype\u001b[49m\u001b[43m(\u001b[49m\u001b[43m_value\u001b[49m\u001b[43m,\u001b[49m\u001b[43m \u001b[49m\u001b[43mdofs\u001b[49m\u001b[43m,\u001b[49m\u001b[43m \u001b[49m\u001b[43mV\u001b[49m\u001b[43m)\u001b[49m\n\u001b[1;32m    176\u001b[0m \u001b[38;5;28;01mexcept\u001b[39;00m \u001b[38;5;167;01mTypeError\u001b[39;00m:\n",
      "\u001b[0;31mTypeError\u001b[0m: __init__(): incompatible constructor arguments. The following argument types are supported:\n    1. dolfinx.cpp.fem.DirichletBC_float64(g: numpy.ndarray[numpy.float64], dofs: numpy.ndarray[numpy.int32], V: dolfinx::fem::FunctionSpace<double>)\n    2. dolfinx.cpp.fem.DirichletBC_float64(g: dolfinx::fem::Constant<double>, dofs: numpy.ndarray[numpy.int32], V: dolfinx::fem::FunctionSpace<double>)\n    3. dolfinx.cpp.fem.DirichletBC_float64(g: dolfinx::fem::Function<double, double>, dofs: numpy.ndarray[numpy.int32])\n    4. dolfinx.cpp.fem.DirichletBC_float64(g: dolfinx::fem::Function<double, double>, dofs: List[numpy.ndarray[numpy.int32][2]], V: dolfinx::fem::FunctionSpace<double>)\n\nInvoked with: array(2.), [2], FunctionSpace(Mesh(blocked element (Basix element (P, triangle, 1, gll_warped, unset, False), (2,)), 0), FiniteElement('Lagrange', triangle, 1))",
      "\nDuring handling of the above exception, another exception occurred:\n",
      "\u001b[0;31mTypeError\u001b[0m                                 Traceback (most recent call last)",
      "Cell \u001b[0;32mIn[39], line 3\u001b[0m\n\u001b[1;32m      1\u001b[0m \u001b[38;5;28;01mimport\u001b[39;00m \u001b[38;5;21;01mnumpy\u001b[39;00m \u001b[38;5;28;01mas\u001b[39;00m \u001b[38;5;21;01mnp\u001b[39;00m\n\u001b[1;32m      2\u001b[0m t \u001b[38;5;241m=\u001b[39m \u001b[38;5;241m2\u001b[39m\n\u001b[0;32m----> 3\u001b[0m right_bc \u001b[38;5;241m=\u001b[39m \u001b[43mdirichletbc\u001b[49m\u001b[43m(\u001b[49m\u001b[43m \u001b[49m\u001b[43mPETSc\u001b[49m\u001b[38;5;241;43m.\u001b[39;49m\u001b[43mScalarType\u001b[49m\u001b[43m(\u001b[49m\u001b[43mt\u001b[49m\u001b[43m)\u001b[49m\u001b[43m,\u001b[49m\u001b[43m \u001b[49m\u001b[43m[\u001b[49m\u001b[38;5;241;43m2\u001b[39;49m\u001b[43m]\u001b[49m\u001b[43m,\u001b[49m\u001b[43m \u001b[49m\u001b[43mQ\u001b[49m\u001b[43m)\u001b[49m\n",
      "File \u001b[0;32m/usr/lib/petsc/lib/python3/dist-packages/dolfinx/fem/bcs.py:177\u001b[0m, in \u001b[0;36mdirichletbc\u001b[0;34m(value, dofs, V)\u001b[0m\n\u001b[1;32m    175\u001b[0m         bc \u001b[38;5;241m=\u001b[39m bctype(_value, dofs, V)\n\u001b[1;32m    176\u001b[0m     \u001b[38;5;28;01mexcept\u001b[39;00m \u001b[38;5;167;01mTypeError\u001b[39;00m:\n\u001b[0;32m--> 177\u001b[0m         bc \u001b[38;5;241m=\u001b[39m \u001b[43mbctype\u001b[49m\u001b[43m(\u001b[49m\u001b[43m_value\u001b[49m\u001b[43m,\u001b[49m\u001b[43m \u001b[49m\u001b[43mdofs\u001b[49m\u001b[43m,\u001b[49m\u001b[43m \u001b[49m\u001b[43mV\u001b[49m\u001b[38;5;241;43m.\u001b[39;49m\u001b[43m_cpp_object\u001b[49m\u001b[43m)\u001b[49m\n\u001b[1;32m    178\u001b[0m \u001b[38;5;28;01melse\u001b[39;00m:\n\u001b[1;32m    179\u001b[0m     bc \u001b[38;5;241m=\u001b[39m bctype(_value, dofs)\n",
      "\u001b[0;31mTypeError\u001b[0m: __init__(): incompatible constructor arguments. The following argument types are supported:\n    1. dolfinx.cpp.fem.DirichletBC_float64(g: numpy.ndarray[numpy.float64], dofs: numpy.ndarray[numpy.int32], V: dolfinx::fem::FunctionSpace<double>)\n    2. dolfinx.cpp.fem.DirichletBC_float64(g: dolfinx::fem::Constant<double>, dofs: numpy.ndarray[numpy.int32], V: dolfinx::fem::FunctionSpace<double>)\n    3. dolfinx.cpp.fem.DirichletBC_float64(g: dolfinx::fem::Function<double, double>, dofs: numpy.ndarray[numpy.int32])\n    4. dolfinx.cpp.fem.DirichletBC_float64(g: dolfinx::fem::Function<double, double>, dofs: List[numpy.ndarray[numpy.int32][2]], V: dolfinx::fem::FunctionSpace<double>)\n\nInvoked with: array(2.), [2], <dolfinx.cpp.fem.FunctionSpace_float64 object at 0x7d49983fdd70>"
     ]
    }
   ],
   "source": [
    "def bound_loop(dofs, f, xy): #x = 1, y = 0 mi dice quale delle due variabili voglio che sia nulla\n",
    "    array_2d = np.zeros((dofs, 2), dtype=PETSc.ScalarType)\n",
    "    for i in range(dofs):\n",
    "        if xy == 1:\n",
    "            array_2d[i][0] = 0\n",
    "            array_2d[i][1] = f(i * side / dofs)\n",
    "        else:\n",
    "            array_2d[i][0] = f(i * side / dofs)\n",
    "            array_2d[i][1] = 0\n",
    "    return array_2d"
   ]
  },
  {
   "cell_type": "code",
   "execution_count": 28,
   "id": "8eca81e6-b058-412d-88e8-1ab1d14750a7",
   "metadata": {},
   "outputs": [
    {
     "name": "stdout",
     "output_type": "stream",
     "text": [
      "<class 'int'>\n",
      "2\n",
      "<class 'int'>\n"
     ]
    }
   ],
   "source": []
  },
  {
   "cell_type": "code",
   "execution_count": null,
   "id": "f9155f1d-cef8-4919-b241-e5ba2cc6c741",
   "metadata": {},
   "outputs": [],
   "source": []
  }
 ],
 "metadata": {
  "kernelspec": {
   "display_name": "Python 3 (ipykernel)",
   "language": "python",
   "name": "python3"
  },
  "language_info": {
   "codemirror_mode": {
    "name": "ipython",
    "version": 3
   },
   "file_extension": ".py",
   "mimetype": "text/x-python",
   "name": "python",
   "nbconvert_exporter": "python",
   "pygments_lexer": "ipython3",
   "version": "3.10.12"
  }
 },
 "nbformat": 4,
 "nbformat_minor": 5
}
