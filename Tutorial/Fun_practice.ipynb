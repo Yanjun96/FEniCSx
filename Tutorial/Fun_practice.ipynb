{
 "cells": [
  {
   "cell_type": "markdown",
   "id": "46b3e23d-92f7-457a-958f-13a1ff118637",
   "metadata": {},
   "source": [
    "# Creat a list"
   ]
  },
  {
   "cell_type": "code",
   "execution_count": 9,
   "id": "3da591ad-44e5-46ba-a499-188b5a67dc93",
   "metadata": {},
   "outputs": [
    {
     "name": "stdout",
     "output_type": "stream",
     "text": [
      "[1, 2, 3, 4, 5, 6, 7, 8, 9, 10, 11, 12, 13, 14, 15, 16, 17, 18]\n"
     ]
    }
   ],
   "source": [
    "list1 = [1]\n",
    "for i in range (1,18):\n",
    "   list1 +=  [i+1]\n",
    "\n",
    "print(list1)"
   ]
  },
  {
   "cell_type": "code",
   "execution_count": 10,
   "id": "fd3f3257-978b-4fbe-a0d8-f93be6aff734",
   "metadata": {},
   "outputs": [
    {
     "name": "stdout",
     "output_type": "stream",
     "text": [
      "[1, 2, 3, 4, 5, 6, 7, 8, 9, 10, 11, 12, 13, 14, 15, 16, 17, 18]\n"
     ]
    }
   ],
   "source": [
    "my_list = [ i for i in range(1, 19)]\n",
    "print(my_list)"
   ]
  },
  {
   "cell_type": "code",
   "execution_count": 11,
   "id": "18fab669-7964-4df9-816c-6aa9573a68d7",
   "metadata": {},
   "outputs": [
    {
     "name": "stdout",
     "output_type": "stream",
     "text": [
      "[1, 2, 3, 4, 5, 6, 7, 8, 9, 10, 11, 12, 13, 14, 15, 16, 17, 18]\n"
     ]
    }
   ],
   "source": [
    "m_list = list(range(1,19))\n",
    "print(m_list)"
   ]
  },
  {
   "cell_type": "markdown",
   "id": "dfef8ee5-6f75-4bb8-9b49-e42d0e0c4500",
   "metadata": {},
   "source": [
    "# Filename in function"
   ]
  },
  {
   "cell_type": "code",
   "execution_count": 7,
   "id": "5261f8a3-97c7-4ce4-bd84-de19abe23476",
   "metadata": {},
   "outputs": [],
   "source": [
    "def what(filename):\n",
    "    c = print(filename + \".msh\")\n",
    "    notice = print(\"NOTICE:\" + filename + \" has been meshed successfully and saved as \" + filename + \".msh\")   \n",
    "    return c \n",
    "    return notice\n",
    "    "
   ]
  },
  {
   "cell_type": "code",
   "execution_count": 8,
   "id": "e2c752d0-1853-49e0-98aa-161f0f7e2986",
   "metadata": {},
   "outputs": [
    {
     "name": "stdout",
     "output_type": "stream",
     "text": [
      "hao.msh\n",
      "NOTICE:hao has been meshed successfully and saved as hao.msh\n"
     ]
    }
   ],
   "source": [
    "what(\"hao\")"
   ]
  },
  {
   "cell_type": "markdown",
   "id": "3a7e7650-566a-457a-8886-c1b269f59864",
   "metadata": {},
   "source": [
    "# File Location"
   ]
  },
  {
   "cell_type": "code",
   "execution_count": 13,
   "id": "8485c20f-382c-4044-b0ed-d700ce9f6bf4",
   "metadata": {},
   "outputs": [
    {
     "data": {
      "text/plain": [
       "'/home/yanjun/Documents/FEniCSx/Tutorial'"
      ]
     },
     "execution_count": 13,
     "metadata": {},
     "output_type": "execute_result"
    }
   ],
   "source": [
    "import os\n",
    "os.getcwd()"
   ]
  },
  {
   "cell_type": "markdown",
   "id": "c04e4671-d3d5-4f08-9e26-d85807126e0e",
   "metadata": {},
   "source": [
    "below command can import function from other file directory"
   ]
  },
  {
   "cell_type": "code",
   "execution_count": 14,
   "id": "f9751ef4-d4ae-416b-a1e1-2c849ef4e09c",
   "metadata": {},
   "outputs": [],
   "source": [
    "import sys\n",
    "sys.path.append('/home/yanjun/Documents/FEniCSx/Tutorial/Mesh/')\n",
    "from mesh_disc import mesh_brake_disc"
   ]
  },
  {
   "cell_type": "code",
   "execution_count": null,
   "id": "1cc52304-2435-4d68-881c-7c266ba1946f",
   "metadata": {},
   "outputs": [],
   "source": []
  },
  {
   "cell_type": "code",
   "execution_count": 16,
   "id": "222f9b18-a22a-4994-96e8-3955a71dfd03",
   "metadata": {},
   "outputs": [
    {
     "name": "stderr",
     "output_type": "stream",
     "text": [
      "Error   : Gmsh has not been initialized\n"
     ]
    }
   ],
   "source": [
    "import gmsh\n",
    "gmsh.fltk.run()"
   ]
  },
  {
   "cell_type": "markdown",
   "id": "0b6c4024-3c71-454b-b4c7-a63f78777889",
   "metadata": {},
   "source": [
    "# Function location\n"
   ]
  },
  {
   "cell_type": "code",
   "execution_count": null,
   "id": "7bbc6f45-5103-4349-a5ed-f38ce6882b0f",
   "metadata": {},
   "outputs": [],
   "source": [
    "import gmsh\n",
    "outer_disc  = gmsh.model.occ.addCylinder(0,0,0,  0, 0, z1,  rd_o)"
   ]
  },
  {
   "cell_type": "markdown",
   "id": "1301cf8e-4205-4591-8f20-b7791af0be00",
   "metadata": {},
   "source": [
    "# np.full\n",
    "list is [2,3,4,5]\n",
    "array is [2 3 4 5]"
   ]
  },
  {
   "cell_type": "code",
   "execution_count": 39,
   "id": "b0b330f3-e28f-4f92-97f9-b1fea1efd815",
   "metadata": {},
   "outputs": [
    {
     "name": "stdout",
     "output_type": "stream",
     "text": [
      "[10 10 10 10]\n"
     ]
    }
   ],
   "source": [
    "import numpy as np\n",
    "\n",
    "x = [1, 2, 3, 4, 5, 6, 7, 8]\n",
    "\n",
    "x_array = np.array( [[1, 2, 3, 4], [ 5, 6, 7, 8]] )  # Convert x to a NumPy array\n",
    "\n",
    "constant_value = 10\n",
    "new_array = np.full(x_array.shape[1], constant_value)\n",
    "print(new_array)"
   ]
  },
  {
   "cell_type": "code",
   "execution_count": 40,
   "id": "7786d5ab-3aa1-45f9-b3b8-07b863725198",
   "metadata": {},
   "outputs": [
    {
     "name": "stdout",
     "output_type": "stream",
     "text": [
      "[1, 2, 3, 4, 5, 6, 7, 8]\n",
      "[[1 2 3 4]\n",
      " [5 6 7 8]]\n"
     ]
    }
   ],
   "source": [
    "print(x)\n",
    "print(x_array)"
   ]
  },
  {
   "cell_type": "code",
   "execution_count": null,
   "id": "70c87d64-6462-437f-9fb9-02d630e3d49f",
   "metadata": {},
   "outputs": [],
   "source": []
  },
  {
   "cell_type": "code",
   "execution_count": null,
   "id": "84172b87-bb2b-4ebf-8c07-2ff9068d628b",
   "metadata": {},
   "outputs": [],
   "source": []
  }
 ],
 "metadata": {
  "kernelspec": {
   "display_name": "Python 3 (ipykernel)",
   "language": "python",
   "name": "python3"
  },
  "language_info": {
   "codemirror_mode": {
    "name": "ipython",
    "version": 3
   },
   "file_extension": ".py",
   "mimetype": "text/x-python",
   "name": "python",
   "nbconvert_exporter": "python",
   "pygments_lexer": "ipython3",
   "version": "3.10.12"
  }
 },
 "nbformat": 4,
 "nbformat_minor": 5
}
