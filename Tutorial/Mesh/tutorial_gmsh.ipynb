{
 "cells": [
  {
   "cell_type": "markdown",
   "id": "dab0e8ff",
   "metadata": {},
   "source": [
    "# Using the GMSH Python API to generate complex meshes\n",
    "In this tutorial, we will use the gmsh API to generate complex meshes. We will in this tutorial learn how to make the 3D mesh used in the [DFG 3D laminar benchmark](http://www.featflow.de/en/benchmarks/cfdbenchmarking/flow/dfg_flow3d.html). The [first part](first) of this tutorial can be completed with the `ghcr.io/jorgensd/jorgensd.github.io:main` docker image, as described in the [pygmsh tutorial](tutorial_pygmsh.md).\n",
    "\n",
    "For the [second](second) and [third](third) part of the tutorial, `dolfinx` is required. You can obtain a jupyter-lab image with `dolfinx/lab:v0.7.1` and a normal docker image with `dolfinx/dolfinx:v0.7.1`.\n",
    "\n",
    "This tutorial can be downloaded as a [Python-file](tutorial_gmsh.py) or as a [Jupyter notebook](tutorial_gmsh.ipynb)."
   ]
  },
  {
   "cell_type": "markdown",
   "id": "dd4513bd",
   "metadata": {},
   "source": [
    "## <a name=\"first\"></a> 1. How to create a 3D mesh with physical tags with the GMSH python API.\n",
    "We start by import the gmsh module, and initializing the Python API. **NOTE:** This has to be done in order to run any function in the GMSH API."
   ]
  },
  {
   "cell_type": "code",
   "execution_count": 1,
   "id": "6b81143d",
   "metadata": {},
   "outputs": [],
   "source": [
    "from dolfinx.io import XDMFFile\n",
    "from dolfinx.mesh import meshtags_from_entities\n",
    "from dolfinx.cpp.mesh import cell_entity_type\n",
    "from dolfinx.io import distribute_entity_data\n",
    "from dolfinx.graph import adjacencylist\n",
    "from dolfinx.mesh import create_mesh\n",
    "from dolfinx.cpp.mesh import to_type\n",
    "from dolfinx.cpp.io import perm_gmsh\n",
    "import numpy\n",
    "from dolfinx.io import gmshio\n",
    "from mpi4py import MPI\n",
    "from dolfinx.io.gmshio import model_to_mesh\n",
    "import numpy as np\n",
    "import gmsh\n",
    "import warnings\n",
    "warnings.filterwarnings(\"ignore\")\n",
    "gmsh.initialize()"
   ]
  },
  {
   "cell_type": "markdown",
   "id": "22bccabf",
   "metadata": {},
   "source": [
    "The next step is to create the rectangular channel of the benchmark. In GMSH, there are two kernels for geometry computations; the `built_in` kernel ( `gmsh.model.geo`), and the [OpenCascade](https://www.opencascade.com/) kernel (`gmsh.model.opencascade`). In this tutorial, we will use the the `occ` kernel, as it is better suited. Other demos of the usage of the gmsh python API can be found in their [GitLab repository](https://gitlab.onelab.info/gmsh/gmsh/-/tree/master/tutorial/python)."
   ]
  },
  {
   "cell_type": "code",
   "execution_count": 2,
   "id": "93fef288",
   "metadata": {},
   "outputs": [],
   "source": [
    "gmsh.model.add(\"DFG 3D\")\n",
    "L, B, H, r = 2.5, 0.41, 0.41, 0.05\n",
    "channel = gmsh.model.occ.addBox(0, 0, 0, L, B, H)"
   ]
  },
  {
   "cell_type": "markdown",
   "id": "9d8d6ab7",
   "metadata": {},
   "source": [
    "The next step is to create the cylinder, which is done in the following way"
   ]
  },
  {
   "cell_type": "code",
   "execution_count": 3,
   "id": "d138ad11",
   "metadata": {},
   "outputs": [],
   "source": [
    "cylinder = gmsh.model.occ.addCylinder(0.5, 0, 0.2, 0, B, 0, r)"
   ]
  },
  {
   "cell_type": "markdown",
   "id": "7f6ca100",
   "metadata": {},
   "source": [
    "where the first three arguments describes the (x,y,z) coordinate of the center of the first circular face. The next three arguments describes the axis of height of the cylinder, in this case, it is (0,0.41,0). The final parameter is the radius of the cylinder.\n",
    "We have now created two geometrical objects, that each can be meshed with GMSH. However, we are only interested in the fluid volume in the channel, which whould be the channel excluding the sphere. We use the GMSH command `BooleanDifference` for this"
   ]
  },
  {
   "cell_type": "code",
   "execution_count": 4,
   "id": "95ee2910",
   "metadata": {},
   "outputs": [],
   "source": [
    "fluid = gmsh.model.occ.cut([(3, channel)], [(3, cylinder)])"
   ]
  },
  {
   "cell_type": "markdown",
   "id": "0c0165a5",
   "metadata": {},
   "source": [
    "where the first argument `[(3, channel)]`is a list of tuples, where the first argument is the geometrical dimension of the entity (Point=0, Line=1, Surface=2, Volume=3). and channel is a unique integer identifying the channel. Similarly, the second argument is the list of tuples of entities we would like to exclude from\n",
    "the newly created fluid volume.\n",
    "The next step is to tag physical entities, such as the fluid volume, and inlets, outlets, channel walls and obstacle walls.\n",
    "We start by finding the volumes, which after the `cut`-operation is only the fluid volume. We could have kept the other volumes by supply keyword arguments to the  `cut`operation. See the [GMSH Python API](https://gitlab.onelab.info/gmsh/gmsh/-/blob/master/api/gmsh.py#L5143) for more information. We also need to syncronize the CAD module before tagging entities."
   ]
  },
  {
   "cell_type": "code",
   "execution_count": 5,
   "id": "5e4ad715",
   "metadata": {},
   "outputs": [],
   "source": [
    "gmsh.model.occ.synchronize()\n",
    "volumes = gmsh.model.getEntities(dim=3)\n",
    "assert (volumes == fluid[0])\n",
    "fluid_marker = 11\n",
    "gmsh.model.addPhysicalGroup(volumes[0][0], [volumes[0][1]], fluid_marker)\n",
    "gmsh.model.setPhysicalName(volumes[0][0], fluid_marker, \"Fluid volume\")"
   ]
  },
  {
   "cell_type": "markdown",
   "id": "173e64fd",
   "metadata": {
    "lines_to_next_cell": 2
   },
   "source": [
    "For the surfaces, we start by finding all surfaces, and then compute the geometrical center such that we can indentify which are inlets, outlets, walls and the obstacle. As the walls will consist of multiple surfaces, and the obstacle is circular, we need to find all entites before addin the physical group."
   ]
  },
  {
   "cell_type": "code",
   "execution_count": 6,
   "id": "5a2b96e7",
   "metadata": {},
   "outputs": [],
   "source": [
    "surfaces = gmsh.model.occ.getEntities(dim=2)\n",
    "inlet_marker, outlet_marker, wall_marker, obstacle_marker = 1, 3, 5, 7\n",
    "walls = []\n",
    "obstacles = []\n",
    "for surface in surfaces:\n",
    "    com = gmsh.model.occ.getCenterOfMass(surface[0], surface[1])\n",
    "    if np.allclose(com, [0, B/2, H/2]):\n",
    "        gmsh.model.addPhysicalGroup(surface[0], [surface[1]], inlet_marker)\n",
    "        inlet = surface[1]\n",
    "        gmsh.model.setPhysicalName(surface[0], inlet_marker, \"Fluid inlet\")\n",
    "    elif np.allclose(com, [L, B/2, H/2]):\n",
    "        gmsh.model.addPhysicalGroup(surface[0], [surface[1]], outlet_marker)\n",
    "        gmsh.model.setPhysicalName(surface[0], outlet_marker, \"Fluid outlet\")\n",
    "    elif np.isclose(com[2], 0) or np.isclose(com[1], B) or np.isclose(com[2], H) or np.isclose(com[1], 0):\n",
    "        walls.append(surface[1])\n",
    "    else:\n",
    "        obstacles.append(surface[1])\n",
    "gmsh.model.addPhysicalGroup(2, walls, wall_marker)\n",
    "gmsh.model.setPhysicalName(2, wall_marker, \"Walls\")\n",
    "gmsh.model.addPhysicalGroup(2, obstacles, obstacle_marker)\n",
    "gmsh.model.setPhysicalName(2, obstacle_marker, \"Obstacle\")"
   ]
  },
  {
   "cell_type": "markdown",
   "id": "23e62a7c",
   "metadata": {},
   "source": [
    "The final step is to set mesh resolutions. We will use `GMSH Fields` to do this. One can alternatively set mesh resolutions at points with the command `gmsh.model.occ.mesh.setSize`. We start by specifying a distance field from the obstacle surface"
   ]
  },
  {
   "cell_type": "code",
   "execution_count": 7,
   "id": "ad75beac",
   "metadata": {},
   "outputs": [],
   "source": [
    "distance = gmsh.model.mesh.field.add(\"Distance\")\n",
    "gmsh.model.mesh.field.setNumbers(distance, \"FacesList\", obstacles)"
   ]
  },
  {
   "cell_type": "markdown",
   "id": "bb46fa90",
   "metadata": {},
   "source": [
    "The next step is to use a threshold function vary the resolution from these surfaces in the following way:\n",
    "```\n",
    "LcMax -                  /--------\n",
    "                     /\n",
    "LcMin -o---------/\n",
    "       |         |       |\n",
    "      Point    DistMin DistMax\n",
    "```"
   ]
  },
  {
   "cell_type": "code",
   "execution_count": 8,
   "id": "7ce7e703",
   "metadata": {
    "lines_to_next_cell": 2
   },
   "outputs": [],
   "source": [
    "resolution = r/10\n",
    "threshold = gmsh.model.mesh.field.add(\"Threshold\")\n",
    "gmsh.model.mesh.field.setNumber(threshold, \"IField\", distance)\n",
    "gmsh.model.mesh.field.setNumber(threshold, \"LcMin\", resolution)\n",
    "gmsh.model.mesh.field.setNumber(threshold, \"LcMax\", 20*resolution)\n",
    "gmsh.model.mesh.field.setNumber(threshold, \"DistMin\", 0.5*r)\n",
    "gmsh.model.mesh.field.setNumber(threshold, \"DistMax\", r)"
   ]
  },
  {
   "cell_type": "markdown",
   "id": "27e6aa2f",
   "metadata": {},
   "source": [
    "We add a similar threshold at the inlet to ensure fully resolved inlet flow"
   ]
  },
  {
   "cell_type": "code",
   "execution_count": 9,
   "id": "c8ff9912",
   "metadata": {},
   "outputs": [],
   "source": [
    "inlet_dist = gmsh.model.mesh.field.add(\"Distance\")\n",
    "gmsh.model.mesh.field.setNumbers(inlet_dist, \"FacesList\", [inlet])\n",
    "inlet_thre = gmsh.model.mesh.field.add(\"Threshold\")\n",
    "gmsh.model.mesh.field.setNumber(inlet_thre, \"IField\", inlet_dist)\n",
    "gmsh.model.mesh.field.setNumber(inlet_thre, \"LcMin\", 5*resolution)\n",
    "gmsh.model.mesh.field.setNumber(inlet_thre, \"LcMax\", 10*resolution)\n",
    "gmsh.model.mesh.field.setNumber(inlet_thre, \"DistMin\", 0.1)\n",
    "gmsh.model.mesh.field.setNumber(inlet_thre, \"DistMax\", 0.5)"
   ]
  },
  {
   "cell_type": "markdown",
   "id": "8fe32da3",
   "metadata": {},
   "source": [
    "We combine these fields by using the minimum field"
   ]
  },
  {
   "cell_type": "code",
   "execution_count": 10,
   "id": "81bf686f",
   "metadata": {},
   "outputs": [],
   "source": [
    "minimum = gmsh.model.mesh.field.add(\"Min\")\n",
    "gmsh.model.mesh.field.setNumbers(\n",
    "    minimum, \"FieldsList\", [threshold, inlet_thre])\n",
    "gmsh.model.mesh.field.setAsBackgroundMesh(minimum)"
   ]
  },
  {
   "cell_type": "markdown",
   "id": "281d0c31",
   "metadata": {},
   "source": [
    "Before meshing the model, we need to use the syncronize command"
   ]
  },
  {
   "cell_type": "code",
   "execution_count": 11,
   "id": "21caee9a",
   "metadata": {},
   "outputs": [
    {
     "name": "stdout",
     "output_type": "stream",
     "text": [
      "Info    : Meshing 1D...\n",
      "Info    : [  0%] Meshing curve 13 (Circle)\n",
      "Info    : [ 10%] Meshing curve 14 (Line)\n",
      "Info    : [ 20%] Meshing curve 15 (Circle)\n",
      "Info    : [ 20%] Meshing curve 16 (Line)\n",
      "Info    : [ 30%] Meshing curve 17 (Line)\n",
      "Info    : [ 40%] Meshing curve 18 (Line)\n",
      "Info    : [ 40%] Meshing curve 19 (Line)\n",
      "Info    : [ 50%] Meshing curve 20 (Line)\n",
      "Info    : [ 60%] Meshing curve 21 (Line)\n",
      "Info    : [ 60%] Meshing curve 22 (Line)\n",
      "Info    : [ 70%] Meshing curve 23 (Line)\n",
      "Info    : [ 80%] Meshing curve 24 (Line)\n",
      "Info    : [ 80%] Meshing curve 25 (Line)\n",
      "Info    : [ 90%] Meshing curve 26 (Line)\n",
      "Info    : [100%] Meshing curve 27 (Line)\n",
      "Info    : Done meshing 1D (Wall 0.0165598s, CPU 0.016698s)\n",
      "Info    : Meshing 2D...\n",
      "Info    : [  0%] Meshing surface 7 (Cylinder, Frontal-Delaunay)\n",
      "Info    : [ 20%] Meshing surface 8 (Plane, Frontal-Delaunay)\n",
      "Info    : [ 30%] Meshing surface 9 (Plane, Frontal-Delaunay)\n",
      "Info    : [ 50%] Meshing surface 10 (Plane, Frontal-Delaunay)\n",
      "Info    : [ 60%] Meshing surface 11 (Plane, Frontal-Delaunay)\n",
      "Info    : [ 80%] Meshing surface 12 (Plane, Frontal-Delaunay)\n",
      "Info    : [ 90%] Meshing surface 13 (Plane, Frontal-Delaunay)\n",
      "Info    : Done meshing 2D (Wall 0.390652s, CPU 0.369997s)\n",
      "Info    : Meshing 3D...\n",
      "Info    : 3D Meshing 1 volume with 1 connected component\n",
      "Info    : Tetrahedrizing 10220 nodes...\n",
      "Info    : Done tetrahedrizing 10228 nodes (Wall 0.158842s, CPU 0.159286s)\n",
      "Info    : Reconstructing mesh...\n",
      "Info    :  - Creating surface mesh\n",
      "Info    :  - Identifying boundary edges\n",
      "Info    :  - Recovering boundary\n",
      "Info    : Done reconstructing mesh (Wall 0.387037s, CPU 0.392908s)\n",
      "Info    : Found volume 1\n",
      "Info    : It. 0 - 0 nodes created - worst tet radius 19.0147 (nodes removed 0 0)\n",
      "Info    : It. 500 - 500 nodes created - worst tet radius 4.00155 (nodes removed 0 0)\n",
      "Info    : It. 1000 - 1000 nodes created - worst tet radius 2.83444 (nodes removed 0 0)\n",
      "Info    : It. 1500 - 1500 nodes created - worst tet radius 2.47059 (nodes removed 0 0)\n",
      "Info    : It. 2000 - 2000 nodes created - worst tet radius 2.25416 (nodes removed 0 0)\n",
      "Info    : It. 2500 - 2500 nodes created - worst tet radius 2.10153 (nodes removed 0 0)\n",
      "Info    : It. 3000 - 3000 nodes created - worst tet radius 1.97652 (nodes removed 0 0)\n",
      "Info    : It. 3500 - 3500 nodes created - worst tet radius 1.88378 (nodes removed 0 0)\n",
      "Info    : It. 4000 - 4000 nodes created - worst tet radius 1.80401 (nodes removed 0 0)\n",
      "Info    : It. 4500 - 4500 nodes created - worst tet radius 1.73927 (nodes removed 0 0)\n",
      "Info    : It. 5000 - 5000 nodes created - worst tet radius 1.68427 (nodes removed 0 0)\n",
      "Info    : It. 5500 - 5500 nodes created - worst tet radius 1.63014 (nodes removed 0 0)\n",
      "Info    : It. 6000 - 6000 nodes created - worst tet radius 1.68971 (nodes removed 0 0)\n",
      "Info    : It. 6500 - 6500 nodes created - worst tet radius 1.55028 (nodes removed 0 0)\n",
      "Info    : It. 7000 - 7000 nodes created - worst tet radius 1.51584 (nodes removed 0 0)\n",
      "Info    : It. 7500 - 7500 nodes created - worst tet radius 1.48152 (nodes removed 0 0)\n",
      "Info    : It. 8000 - 8000 nodes created - worst tet radius 1.72951 (nodes removed 0 0)\n",
      "Info    : It. 8500 - 8500 nodes created - worst tet radius 1.42345 (nodes removed 0 0)\n",
      "Info    : It. 9000 - 9000 nodes created - worst tet radius 1.39902 (nodes removed 0 0)\n",
      "Info    : It. 9500 - 9500 nodes created - worst tet radius 1.37586 (nodes removed 0 0)\n",
      "Info    : It. 10000 - 10000 nodes created - worst tet radius 1.35467 (nodes removed 0 0)\n",
      "Info    : It. 10500 - 10500 nodes created - worst tet radius 1.33338 (nodes removed 0 0)\n",
      "Info    : It. 11000 - 11000 nodes created - worst tet radius 1.31297 (nodes removed 0 0)\n",
      "Info    : It. 11500 - 11500 nodes created - worst tet radius 1.39066 (nodes removed 0 0)\n",
      "Info    : It. 12000 - 12000 nodes created - worst tet radius 1.27857 (nodes removed 0 0)\n",
      "Info    : It. 12500 - 12500 nodes created - worst tet radius 1.39869 (nodes removed 0 0)\n",
      "Info    : It. 13000 - 13000 nodes created - worst tet radius 1.2576 (nodes removed 0 0)\n",
      "Info    : It. 13500 - 13500 nodes created - worst tet radius 1.23101 (nodes removed 0 0)\n",
      "Info    : It. 14000 - 14000 nodes created - worst tet radius 1.21703 (nodes removed 0 0)\n",
      "Info    : It. 14500 - 14500 nodes created - worst tet radius 1.20501 (nodes removed 0 0)\n",
      "Info    : It. 15000 - 15000 nodes created - worst tet radius 1.19227 (nodes removed 0 0)\n",
      "Info    : It. 15500 - 15500 nodes created - worst tet radius 1.17975 (nodes removed 0 0)\n",
      "Info    : It. 16000 - 16000 nodes created - worst tet radius 1.17075 (nodes removed 0 0)\n",
      "Info    : It. 16500 - 16500 nodes created - worst tet radius 1.15705 (nodes removed 0 0)\n",
      "Info    : It. 17000 - 17000 nodes created - worst tet radius 1.14611 (nodes removed 0 0)\n",
      "Info    : It. 17500 - 17500 nodes created - worst tet radius 1.1355 (nodes removed 0 0)\n",
      "Info    : It. 18000 - 18000 nodes created - worst tet radius 1.12603 (nodes removed 0 0)\n",
      "Info    : It. 18500 - 18500 nodes created - worst tet radius 1.11591 (nodes removed 0 0)\n",
      "Info    : It. 19000 - 19000 nodes created - worst tet radius 1.10635 (nodes removed 0 0)\n",
      "Info    : It. 19500 - 19500 nodes created - worst tet radius 1.09706 (nodes removed 0 0)\n",
      "Info    : It. 20000 - 20000 nodes created - worst tet radius 1.08842 (nodes removed 0 0)\n",
      "Info    : It. 20500 - 20500 nodes created - worst tet radius 1.07953 (nodes removed 0 0)\n",
      "Info    : It. 21000 - 21000 nodes created - worst tet radius 1.07159 (nodes removed 0 0)\n",
      "Info    : It. 21500 - 21500 nodes created - worst tet radius 1.06419 (nodes removed 0 0)\n",
      "Info    : It. 22000 - 22000 nodes created - worst tet radius 1.05654 (nodes removed 0 0)\n",
      "Info    : It. 22500 - 22500 nodes created - worst tet radius 1.04862 (nodes removed 0 0)\n",
      "Info    : It. 23000 - 23000 nodes created - worst tet radius 1.04116 (nodes removed 0 0)\n",
      "Info    : It. 23500 - 23500 nodes created - worst tet radius 1.03423 (nodes removed 0 0)\n",
      "Info    : It. 24000 - 24000 nodes created - worst tet radius 1.02697 (nodes removed 0 0)\n",
      "Info    : It. 24500 - 24500 nodes created - worst tet radius 1.02019 (nodes removed 0 0)\n",
      "Info    : It. 25000 - 25000 nodes created - worst tet radius 1.01365 (nodes removed 0 0)\n",
      "Info    : It. 25500 - 25500 nodes created - worst tet radius 1.00782 (nodes removed 0 0)\n",
      "Info    : It. 26000 - 26000 nodes created - worst tet radius 1.00114 (nodes removed 0 0)\n",
      "Info    : 3D refinement terminated (36304 nodes total):\n",
      "Info    :  - 0 Delaunay cavities modified for star shapeness\n",
      "Info    :  - 0 nodes could not be inserted\n",
      "Info    :  - 197065 tetrahedra created in 1.92562 sec. (102338 tets/s)\n",
      "Info    : 271 node relocations\n",
      "Info    : Done meshing 3D (Wall 3.63218s, CPU 3.65495s)\n",
      "Info    : Optimizing mesh...\n",
      "Info    : Optimizing volume 1\n",
      "Info    : Optimization starts (volume = 0.417034) with worst = 0.00483627 / average = 0.764831:\n",
      "Info    : 0.00 < quality < 0.10 :       435 elements\n",
      "Info    : 0.10 < quality < 0.20 :      1343 elements\n",
      "Info    : 0.20 < quality < 0.30 :      2540 elements\n",
      "Info    : 0.30 < quality < 0.40 :      4128 elements\n",
      "Info    : 0.40 < quality < 0.50 :      7034 elements\n",
      "Info    : 0.50 < quality < 0.60 :     11768 elements\n",
      "Info    : 0.60 < quality < 0.70 :     22422 elements\n",
      "Info    : 0.70 < quality < 0.80 :     45569 elements\n",
      "Info    : 0.80 < quality < 0.90 :     67347 elements\n",
      "Info    : 0.90 < quality < 1.00 :     34479 elements\n",
      "Info    : 4185 edge swaps, 210 node relocations (volume = 0.417034): worst = 0.158901 / average = 0.777337 (Wall 0.145352s, CPU 0.145891s)\n",
      "Info    : 4241 edge swaps, 222 node relocations (volume = 0.417034): worst = 0.163219 / average = 0.777415 (Wall 0.208043s, CPU 0.208032s)\n",
      "Info    : 4244 edge swaps, 225 node relocations (volume = 0.417034): worst = 0.163219 / average = 0.777425 (Wall 0.263876s, CPU 0.258988s)\n",
      "Info    : No ill-shaped tets in the mesh :-)\n",
      "Info    : 0.00 < quality < 0.10 :         0 elements\n",
      "Info    : 0.10 < quality < 0.20 :         1 elements\n",
      "Info    : 0.20 < quality < 0.30 :        14 elements\n",
      "Info    : 0.30 < quality < 0.40 :      4141 elements\n",
      "Info    : 0.40 < quality < 0.50 :      6937 elements\n",
      "Info    : 0.50 < quality < 0.60 :     11607 elements\n",
      "Info    : 0.60 < quality < 0.70 :     22522 elements\n",
      "Info    : 0.70 < quality < 0.80 :     46148 elements\n",
      "Info    : 0.80 < quality < 0.90 :     67819 elements\n",
      "Info    : 0.90 < quality < 1.00 :     34204 elements\n",
      "Info    : Done optimizing mesh (Wall 0.644862s, CPU 0.634829s)\n",
      "Info    : 36304 nodes 214382 elements\n"
     ]
    }
   ],
   "source": [
    "gmsh.model.occ.synchronize()\n",
    "gmsh.model.mesh.generate(3)"
   ]
  },
  {
   "cell_type": "markdown",
   "id": "841a7004",
   "metadata": {},
   "source": [
    "We can write the mesh to msh to be visualized with gmsh with the following command"
   ]
  },
  {
   "cell_type": "code",
   "execution_count": 12,
   "id": "c409e8b6",
   "metadata": {},
   "outputs": [
    {
     "name": "stdout",
     "output_type": "stream",
     "text": [
      "Info    : Writing 'mesh3D.msh'...\n",
      "Info    : Done writing 'mesh3D.msh'\n"
     ]
    }
   ],
   "source": [
    "gmsh.write(\"mesh3D.msh\")"
   ]
  },
  {
   "cell_type": "markdown",
   "id": "4bcb0349",
   "metadata": {},
   "source": [
    "The mesh can be visualized in the GMSH GUI. The figure above visualized the marked facets of the 3D geometry.\n",
    "\n",
    "![Facets of the 3D mesh visualized in GMSH](../assets/img/tutorial_gmsh.png)"
   ]
  },
  {
   "cell_type": "markdown",
   "id": "0ca045f9",
   "metadata": {},
   "source": [
    "In the next tutorials, we will learn two diffferent methods of loading this mesh into [DOLFINx](https://github.com/FEniCS/dolfinx/)"
   ]
  },
  {
   "cell_type": "markdown",
   "id": "46d96bda",
   "metadata": {},
   "source": [
    "## <a name=\"second\"></a> 2. How to load this mesh into DOLFINx without IO\n",
    "In his tutorial, we will go through the steps of how to load the gmsh geometry above into DOLFINx, without using an\n",
    "intermediate file for storing mesh data."
   ]
  },
  {
   "cell_type": "markdown",
   "id": "94d8c73d",
   "metadata": {},
   "source": [
    "### Short tutorial\n",
    "We use the utility functions from `dolfinx.io.gmshio` to read data directly from the GMSH model. In this tutorial, we have been running gmsh on all processes activated with [MPI](https://mpi4py.readthedocs.io/en/stable/intro.html#what-is-mpi).\n",
    "However, this means that there is a gmsh mesh on each process. In DOLFINx, we would like to distribute this mesh over the active processes."
   ]
  },
  {
   "cell_type": "code",
   "execution_count": 13,
   "id": "12772b8e",
   "metadata": {},
   "outputs": [],
   "source": [
    "model_rank = 0\n",
    "mesh, cell_tags, facet_tags = model_to_mesh(\n",
    "    gmsh.model, MPI.COMM_WORLD, model_rank)"
   ]
  },
  {
   "cell_type": "markdown",
   "id": "c938f058",
   "metadata": {},
   "source": [
    "This function creates a mesh on processor 0 with GMSH and distributes the mesh data in a `dolfinx.Mesh` for parallel usage. The flags `cell_data` and `facet_data` are booleans that indicates that you would like to extract cell and facet markers from the gmsh model. The last flag `gdim` indicates the geometrical dimension of your mesh, and should be set to `2` if you want to have a 2D geometry.\n",
    "### Long tutorial\n",
    "If you want to learn what the `model_to_mesh` function is actually doing (excluding MPI communication for distributing the mesh), the rest of this section will go through it step by step.\n",
    "We start by using some convenience functions from DOLFINx to extract the mesh geometry (the nodes of the mesh) and the mesh topology (the cell connectivities) for the mesh."
   ]
  },
  {
   "cell_type": "code",
   "execution_count": 14,
   "id": "d1ba6983",
   "metadata": {},
   "outputs": [],
   "source": [
    "x = gmshio.extract_geometry(gmsh.model)\n",
    "topologies = gmshio.extract_topology_and_markers(gmsh.model)"
   ]
  },
  {
   "cell_type": "markdown",
   "id": "df13464b",
   "metadata": {},
   "source": [
    "The mesh geometry is a (number of points, 3) array of all the coordinates of the nodes in the mesh. The topologies is a dictionary, where the key is the unique [GMSH cell identifier](http://gmsh.info//doc/texinfo/gmsh.html#MSH-file-format). For each cell type, there is a sub-dictionary containing the mesh topology, an array (number_of_cells, number_of_nodes_per_cell) array containing an integer referring to a row (coordinate) in the mesh geometry, and a 1D array (cell_data) with mesh markers for each cell in the topology.\n",
    "\n",
    "As an MSH-file can contain meshes for multiple topological dimensions (0=vertices, 1=lines, 2=surfaces, 3=volumes), we have to determine which of the cells has to highest topological dimension. We do this with the following snippet"
   ]
  },
  {
   "cell_type": "code",
   "execution_count": 15,
   "id": "e3c4c9fe",
   "metadata": {},
   "outputs": [],
   "source": [
    "\n",
    "# Get information about each cell type from the msh files\n",
    "num_cell_types = len(topologies.keys())\n",
    "cell_information = {}\n",
    "cell_dimensions = numpy.zeros(num_cell_types, dtype=numpy.int32)\n",
    "for i, element in enumerate(topologies.keys()):\n",
    "    properties = gmsh.model.mesh.getElementProperties(element)\n",
    "    name, dim, order, num_nodes, local_coords, _ = properties\n",
    "    cell_information[i] = {\"id\": element, \"dim\": dim,\n",
    "                           \"num_nodes\": num_nodes}\n",
    "    cell_dimensions[i] = dim\n",
    "gmsh.finalize()\n",
    "\n",
    "# Sort elements by ascending dimension\n",
    "perm_sort = numpy.argsort(cell_dimensions)"
   ]
  },
  {
   "cell_type": "markdown",
   "id": "fd561bdc",
   "metadata": {},
   "source": [
    "We extract the topology of the cell with the highest topological dimension from `topologies`, and create the corresponding `ufl.domain.Mesh` for the given celltype"
   ]
  },
  {
   "cell_type": "code",
   "execution_count": 16,
   "id": "4d2652c4",
   "metadata": {},
   "outputs": [],
   "source": [
    "cell_id = cell_information[perm_sort[-1]][\"id\"]\n",
    "cells = numpy.asarray(topologies[cell_id][\"topology\"], dtype=numpy.int64)\n",
    "ufl_domain = gmshio.ufl_mesh(cell_id, 3)"
   ]
  },
  {
   "cell_type": "markdown",
   "id": "29669e03",
   "metadata": {
    "lines_to_next_cell": 2
   },
   "source": [
    "As the GMSH model has the cell topology ordered as specified in the  [MSH format](http://gmsh.info//doc/texinfo/gmsh.html#Node-ordering),\n",
    "we have to permute the topology to the [FIAT format](https://github.com/FEniCS/dolfinx/blob/e7f0a504e6ff538ad9992d8be73f74f53b630d11/cpp/dolfinx/io/cells.h#L16-L77). The permuation is done using the `perm_gmsh` function from DOLFINx."
   ]
  },
  {
   "cell_type": "code",
   "execution_count": 17,
   "id": "753b8d0c",
   "metadata": {},
   "outputs": [],
   "source": [
    "num_nodes = cell_information[perm_sort[-1]][\"num_nodes\"]\n",
    "gmsh_cell_perm = perm_gmsh(to_type(str(ufl_domain.ufl_cell())), num_nodes)\n",
    "cells = cells[:, gmsh_cell_perm]"
   ]
  },
  {
   "cell_type": "markdown",
   "id": "8c4e301c",
   "metadata": {},
   "source": [
    "The final step is to create the mesh from the topology and geometry (one mesh on each process)."
   ]
  },
  {
   "cell_type": "code",
   "execution_count": 18,
   "id": "95a842c4",
   "metadata": {},
   "outputs": [],
   "source": [
    "mesh = create_mesh(MPI.COMM_SELF, cells, x, ufl_domain)"
   ]
  },
  {
   "cell_type": "markdown",
   "id": "ce869281",
   "metadata": {},
   "source": [
    "As the meshes can contain markers for the cells or any sub entity, the next snippets show how to extract this info to GMSH into `dolfinx.MeshTags`."
   ]
  },
  {
   "cell_type": "code",
   "execution_count": 19,
   "id": "5232147f",
   "metadata": {},
   "outputs": [],
   "source": [
    "\n",
    "# Create MeshTags for cell data\n",
    "cell_values = numpy.asarray(\n",
    "    topologies[cell_id][\"cell_data\"], dtype=numpy.int32)\n",
    "local_entities, local_values = distribute_entity_data(\n",
    "    mesh, mesh.topology.dim, cells, cell_values)\n",
    "mesh.topology.create_connectivity(mesh.topology.dim, 0)\n",
    "adj = adjacencylist(local_entities)\n",
    "ct = meshtags_from_entities(mesh, mesh.topology.dim, adj, local_values)\n",
    "ct.name = \"Cell tags\"\n",
    "\n",
    "# Create MeshTags for facets\n",
    "# Permute facets from MSH to DOLFINx ordering\n",
    "# FIXME: This does not work for prism meshes\n",
    "facet_type = cell_entity_type(\n",
    "    to_type(str(ufl_domain.ufl_cell())), mesh.topology.dim - 1, 0)\n",
    "gmsh_facet_id = cell_information[perm_sort[-2]][\"id\"]\n",
    "num_facet_nodes = cell_information[perm_sort[-2]][\"num_nodes\"]\n",
    "gmsh_facet_perm = perm_gmsh(facet_type, num_facet_nodes)\n",
    "marked_facets = numpy.asarray(\n",
    "    topologies[gmsh_facet_id][\"topology\"], dtype=numpy.int64)\n",
    "facet_values = numpy.asarray(\n",
    "    topologies[gmsh_facet_id][\"cell_data\"], dtype=numpy.int32)\n",
    "marked_facets = marked_facets[:, gmsh_facet_perm]\n",
    "local_entities, local_values = distribute_entity_data(\n",
    "    mesh, mesh.topology.dim - 1, marked_facets, facet_values)\n",
    "mesh.topology.create_connectivity(mesh.topology.dim - 1, mesh.topology.dim)\n",
    "adj = adjacencylist(local_entities)\n",
    "ft = meshtags_from_entities(mesh, mesh.topology.dim - 1, adj, local_values)\n",
    "ft.name = \"Facet tags\"\n",
    "\n",
    "# Output DOLFINx meshes to file\n",
    "\n",
    "with XDMFFile(MPI.COMM_WORLD, \"mesh_out.xdmf\", \"w\") as xdmf:\n",
    "    xdmf.write_mesh(mesh)\n",
    "    xdmf.write_meshtags(ft, mesh.geometry)\n",
    "    xdmf.write_meshtags(ct, mesh.geometry)"
   ]
  },
  {
   "cell_type": "markdown",
   "id": "173a75b3",
   "metadata": {},
   "source": [
    "## <a name=\"third\"></a> 3. How to load msh files into DOLFINx\n",
    "In the previous tutorial, we learnt how to load a gmsh python model into DOLFINx. In this section, we will learn how to load an \"msh\" file into DOLFINx.\n",
    "We will do this by using the convenience function `gmshio.read_from_msh`"
   ]
  },
  {
   "cell_type": "code",
   "execution_count": 20,
   "id": "00e2a862",
   "metadata": {},
   "outputs": [
    {
     "name": "stdout",
     "output_type": "stream",
     "text": [
      "Info    : Reading 'mesh3D.msh'...\n",
      "Info    : 33 entities\n",
      "Info    : 36304 nodes\n",
      "Info    : 213836 elements\n",
      "Info    : Done reading 'mesh3D.msh'                                        \n"
     ]
    }
   ],
   "source": [
    "mesh, cell_tags, facet_tags = gmshio.read_from_msh(\n",
    "    \"mesh3D.msh\", MPI.COMM_WORLD, 0, gdim=3)"
   ]
  },
  {
   "cell_type": "markdown",
   "id": "502f3311",
   "metadata": {},
   "source": [
    "What this function does, is that it uses the `gmsh.merge` command to create a gmsh model of the msh file and then in turn calls the `gmsh_model_to_mesh` function.\n",
    "The `read_from_msh` function also handles MPI communication and gmsh initialization/finalization."
   ]
  },
  {
   "cell_type": "code",
   "execution_count": 21,
   "id": "c8ce8ff6",
   "metadata": {},
   "outputs": [
    {
     "name": "stdout",
     "output_type": "stream",
     "text": [
      "Info    : Reading 'mesh3D.msh'...\n",
      "Info    : 33 entities\n",
      "Info    : 36304 nodes\n",
      "Info    : 213836 elements\n",
      "Info    : Done reading 'mesh3D.msh'                                        \n"
     ]
    }
   ],
   "source": [
    "gmsh.initialize()\n",
    "if MPI.COMM_WORLD.rank == 0:\n",
    "    gmsh.model.add(\"Mesh from file\")\n",
    "    gmsh.merge(\"mesh3D.msh\")\n",
    "output = gmshio.model_to_mesh(gmsh.model, MPI.COMM_WORLD, 0, gdim=3)\n",
    "gmsh.finalize()"
   ]
  },
  {
   "cell_type": "code",
   "execution_count": null,
   "id": "4c3087c6-6e06-4b27-984c-1c993254a077",
   "metadata": {},
   "outputs": [],
   "source": []
  },
  {
   "cell_type": "code",
   "execution_count": null,
   "id": "d273f7bb-bc5f-4e16-bae1-d4717ac94e9b",
   "metadata": {},
   "outputs": [],
   "source": []
  }
 ],
 "metadata": {
  "jupytext": {
   "formats": "ipynb,md,py:light"
  },
  "kernelspec": {
   "display_name": "Python 3 (ipykernel)",
   "language": "python",
   "name": "python3"
  },
  "language_info": {
   "codemirror_mode": {
    "name": "ipython",
    "version": 3
   },
   "file_extension": ".py",
   "mimetype": "text/x-python",
   "name": "python",
   "nbconvert_exporter": "python",
   "pygments_lexer": "ipython3",
   "version": "3.10.12"
  }
 },
 "nbformat": 4,
 "nbformat_minor": 5
}
