{
 "cells": [
  {
   "cell_type": "code",
   "execution_count": 1,
   "id": "dbd4b4a4-4cdf-4a25-b687-9194c5e2d31c",
   "metadata": {},
   "outputs": [],
   "source": [
    "# THis version is according to https://www.youtube.com/watch?v=0CBNLEP9Vyc,\n",
    "# Since some commands are not available, some update is made by yanjun zhang\n",
    "# All update is commented  2024-03-04"
   ]
  },
  {
   "cell_type": "code",
   "execution_count": 2,
   "id": "073d08ae-9036-4969-b5e5-78db9ac27a95",
   "metadata": {},
   "outputs": [],
   "source": [
    "# \n",
    "from dolfinx import default_scalar_type\n",
    "from dolfinx.fem import (Constant, dirichletbc, Function, FunctionSpace, assemble_scalar,\n",
    "                         form, locate_dofs_geometrical, locate_dofs_topological)\n",
    "from dolfinx.fem.petsc import LinearProblem\n",
    "from dolfinx.io import XDMFFile, gmshio\n",
    "from dolfinx.mesh import create_unit_square, locate_entities\n",
    "from dolfinx.plot import vtk_mesh\n",
    "\n",
    "from ufl import (SpatialCoordinate, TestFunction, TrialFunction, dx, grad, inner)\n",
    "from mpi4py import MPI\n",
    "import meshio\n",
    "import gmsh\n",
    "\n",
    "import ufl\n",
    "from petsc4py import PETSc\n",
    "\n",
    "\n",
    "from dolfinx import *\n",
    "from dolfinx import fem, mesh, plot, io \n",
    "import dolfinx\n",
    "import numpy as np"
   ]
  },
  {
   "cell_type": "code",
   "execution_count": 3,
   "id": "301c75eb-ed1a-4dc0-a06f-6865d247e598",
   "metadata": {},
   "outputs": [],
   "source": [
    "# Define temporal parameters\n",
    "\n",
    "t = 0       # start time\n",
    "t_end = 200.0 # end time\n",
    "dt = 0.1    # time step\n",
    "\n",
    "# coefficient of friction\n",
    "k = 100      # thermal conductivity\n",
    "u_in = 20    # inlet temperature\n",
    "u_out = (-20)  # outlet temperature\n"
   ]
  },
  {
   "cell_type": "code",
   "execution_count": 4,
   "id": "92a6c749-8462-4f89-8205-4ac8ccec6a8d",
   "metadata": {},
   "outputs": [],
   "source": [
    "# Define mesh\n",
    "# THis work required previous step in: import mesh.ipynb, which converts the msh file to mesh.xdmf and mt.xdmf\n",
    "\n",
    "with XDMFFile(MPI.COMM_WORLD, \"mesh.xdmf\", \"r\") as xdmf:\n",
    "    mesh = xdmf.read_mesh(name=\"Grid\")\n",
    "    cd = xdmf.read_meshtags(mesh, name=\"Grid\")    # volume mesh\n",
    "    \n",
    "mesh.topology.create_connectivity(mesh.topology.dim, mesh.topology.dim - 1)\n",
    "\n",
    "\n",
    "with XDMFFile(MPI.COMM_WORLD, \"mt.xdmf\", \"r\") as xdmf:\n",
    "    mesh = xdmf.read_mesh(name=\"Grid\")\n",
    "    fd = xdmf.read_meshtags(mesh, name=\"Grid\")    # face element\n"
   ]
  },
  {
   "cell_type": "code",
   "execution_count": 5,
   "id": "0ece84c0-d5f1-40d4-b499-9401a6698977",
   "metadata": {},
   "outputs": [],
   "source": [
    "# Define function space\n",
    "# Degrees of freedom on the notes, first order finite element in lagrange polyniominal\n",
    "\n",
    "V = fem.FunctionSpace(mesh, (\"Lagrange\", 1))\n"
   ]
  },
  {
   "cell_type": "code",
   "execution_count": 6,
   "id": "4b458965-1efe-4b4f-a97b-ce49e95cbc3e",
   "metadata": {},
   "outputs": [
    {
     "name": "stdout",
     "output_type": "stream",
     "text": [
      "[  0   1   2   3   4   7   9  10  11  15  16  18  20  21  22  26  27  29\n",
      "  32  34  35  36  41  43  44  47  49  50  51  56  58  59  63  64  67  68\n",
      "  73  76  80  81  86  91  92  95 100 101 102 103]\n",
      "[12253 12254 12255 12256 12257 12258 12259 12260 12266 12275 12276 12277\n",
      " 12278 12279 12280 12285 12288 12294 12295 12296 12297 12298 12299 12303\n",
      " 12306 12312 12313 12314 12315 12316 12319 12321 12326 12327 12328 12329\n",
      " 12330 12332 12334 12339 12340 12341 12342 12344 12349 12350 12351 12352\n",
      " 12353 12355 12356 12357]\n"
     ]
    }
   ],
   "source": [
    "\n",
    "# bottom_cells = ct.find(bottom_narker),  \n",
    "# bottom_marker is 13 or 15 whaich is defined in mesh software\n",
    "# these information from tutorials: Defining subdomains for different materials\n",
    "\n",
    "inlet_cells = fd.find(2)\n",
    "out_cells = fd.find(3)\n",
    "print(inlet_cells)\n",
    "print(out_cells)\n"
   ]
  },
  {
   "cell_type": "code",
   "execution_count": 7,
   "id": "bb2234b5-2960-4a2f-8f03-1e01aa246d32",
   "metadata": {},
   "outputs": [
    {
     "name": "stdout",
     "output_type": "stream",
     "text": [
      "[    0     1     2 ... 26645 26646 26647]\n"
     ]
    }
   ],
   "source": [
    "volume = cd.find(16)\n",
    "print(volume)"
   ]
  },
  {
   "cell_type": "code",
   "execution_count": 8,
   "id": "0316615b-dbf6-4aab-b736-5044160d88d7",
   "metadata": {},
   "outputs": [],
   "source": [
    "# Define boundary and initial conditions\n",
    "\n",
    "inlet= np.full_like(inlet_cells, u_in, dtype = default_scalar_type)\n",
    "inlet_dofs = locate_dofs_topological(V, mesh.topology.dim - 1, inlet)\n",
    "bc1 = dirichletbc(default_scalar_type(1), inlet_dofs, V)\n",
    "\n",
    "out= np.full_like(out_cells, 20, dtype = default_scalar_type)   \n",
    "## here 20 should be u_out. while u_out = -20, when here is negative, kernal died\n",
    "out_dofs = locate_dofs_topological(V, mesh.topology.dim - 1, out)\n",
    "bc2 = dirichletbc(default_scalar_type(1), out_dofs, V)\n",
    "\n",
    "bc = [bc1, bc2]\n"
   ]
  },
  {
   "cell_type": "code",
   "execution_count": 9,
   "id": "7c90f96c-51ff-412f-830c-ad95d9f46a02",
   "metadata": {},
   "outputs": [
    {
     "name": "stdout",
     "output_type": "stream",
     "text": [
      "[ 4 13]\n",
      "[ 4 13]\n"
     ]
    }
   ],
   "source": [
    "print(out_dofs)\n",
    "print(inlet_dofs)"
   ]
  },
  {
   "cell_type": "code",
   "execution_count": 10,
   "id": "2bd8b1ce-999d-4300-b7cc-876547ec0ea9",
   "metadata": {},
   "outputs": [],
   "source": [
    "def initial_condition():\n",
    "    return bc\n"
   ]
  },
  {
   "cell_type": "markdown",
   "id": "d45a750c-0a6c-45ec-9e10-1b9d21af7581",
   "metadata": {},
   "source": [
    "# Time-dependent output"
   ]
  },
  {
   "cell_type": "code",
   "execution_count": 11,
   "id": "cfc1e27e-7fce-497c-b0dc-41c7e591fdef",
   "metadata": {},
   "outputs": [],
   "source": [
    "xdmf = io.XDMFFile(mesh.comm, \"diffusion.xdmf\", \"w\")\n",
    "xdmf.write_mesh(mesh)\n",
    "\n",
    "# Define solution variable, and interpolate initial solution for visualization in Paraview\n",
    "uh = fem.Function(V)\n",
    "uh.name = \"uh\"\n",
    "#uh.interpolate(initial_condition)\n",
    "xdmf.write_function(uh, t)"
   ]
  },
  {
   "cell_type": "markdown",
   "id": "ecc84386-931a-4971-9d61-e7c9120b330f",
   "metadata": {},
   "source": [
    "# Variational problem and solver"
   ]
  },
  {
   "cell_type": "code",
   "execution_count": 12,
   "id": "93ae81f1-e34d-4c08-b665-648d51918a75",
   "metadata": {},
   "outputs": [],
   "source": [
    "u = ufl.TrialFunction(V) \n",
    "v = ufl.TestFunction(V)\n",
    "f = fem.Constant(mesh, PETSc.ScalarType(0))\n",
    "u_n = Function(V)\n",
    "\n",
    "a = u * v * ufl.dx + dt * ufl.dot(ufl.grad(u), ufl.grad(v)) * ufl.dx \n",
    "L = (u_n + dt * f) * v * ufl.dx\n"
   ]
  },
  {
   "cell_type": "code",
   "execution_count": 13,
   "id": "fe31de45-f919-49cd-9d10-28deafb782f3",
   "metadata": {},
   "outputs": [
    {
     "name": "stdout",
     "output_type": "stream",
     "text": [
      "v_0\n",
      "c_0\n",
      "f\n",
      "{ v_0 * v_1 } * dx(<Mesh #1>[everywhere], {})\n",
      "  +  { 0.1 * ((grad(v_1)) . (grad(v_0))) } * dx(<Mesh #1>[everywhere], {})\n",
      "{ v_0 * (f + 0.1 * c_0) } * dx(<Mesh #1>[everywhere], {})\n"
     ]
    }
   ],
   "source": [
    "print(v)\n",
    "print(f)\n",
    "print(u_n)\n",
    "print(a)\n",
    "print(L)"
   ]
  },
  {
   "cell_type": "markdown",
   "id": "ecc13595-e8b5-44c4-b1b5-848dde90d923",
   "metadata": {},
   "source": [
    "# Preparing linear algerba structures for time dependent problems"
   ]
  },
  {
   "cell_type": "code",
   "execution_count": 14,
   "id": "7393044d-1ae6-4d6d-8761-17dbe63bc58c",
   "metadata": {},
   "outputs": [
    {
     "name": "stdout",
     "output_type": "stream",
     "text": [
      "<dolfinx.fem.forms.Form object at 0x7f9c1b7cab60>\n"
     ]
    }
   ],
   "source": [
    "bilinear_form = fem.form(a)\n",
    "linear_form = fem.form(L)\n",
    "print(linear_form)"
   ]
  },
  {
   "cell_type": "code",
   "execution_count": 15,
   "id": "1bd2d753-c41c-4b72-a5ad-b3797053ae11",
   "metadata": {},
   "outputs": [],
   "source": [
    "from dolfinx.fem.petsc import assemble_vector, assemble_matrix, create_vector, apply_lifting, set_bc\n",
    "from petsc4py import PETSc\n",
    "\n",
    "A = assemble_matrix(bilinear_form, bc)\n",
    "A.assemble()\n",
    "b = create_vector(linear_form)\n"
   ]
  },
  {
   "cell_type": "code",
   "execution_count": 16,
   "id": "b596506e-3797-4443-aa14-f691fc1e7dd9",
   "metadata": {},
   "outputs": [
    {
     "name": "stdout",
     "output_type": "stream",
     "text": [
      "<built-in method assemble of petsc4py.PETSc.Mat object at 0x7f9c1b7ee930>\n"
     ]
    },
    {
     "data": {
      "text/plain": [
       "140308452927792"
      ]
     },
     "execution_count": 16,
     "metadata": {},
     "output_type": "execute_result"
    }
   ],
   "source": [
    "print(A.assemble)\n",
    "\n",
    "id(A)"
   ]
  },
  {
   "cell_type": "markdown",
   "id": "c0ec02bf-9292-48d4-8ec0-cead37f7d547",
   "metadata": {},
   "source": [
    "# Using petsc4py to create a linear solver"
   ]
  },
  {
   "cell_type": "code",
   "execution_count": 17,
   "id": "c3b3a7b2-6bc8-4191-85d6-251b77f7b1ad",
   "metadata": {},
   "outputs": [],
   "source": [
    "solver = PETSc.KSP().create(mesh.comm)\n",
    "solver.setOperators(A)\n",
    "solver.setType(PETSc.KSP.Type.PREONLY)\n",
    "solver.getPC().setType(PETSc.PC.Type.LU)"
   ]
  },
  {
   "cell_type": "markdown",
   "id": "ae3580e2-46ae-4955-bb50-9e521a8ff3e5",
   "metadata": {},
   "source": [
    "# Visualization of time dependent problem using pyvista"
   ]
  },
  {
   "cell_type": "code",
   "execution_count": null,
   "id": "ca69a9ea-ac36-4c0a-8445-af8261871755",
   "metadata": {},
   "outputs": [],
   "source": []
  },
  {
   "cell_type": "code",
   "execution_count": null,
   "id": "a1ccd51f-b98c-4aa3-8f38-3de624e2aa56",
   "metadata": {},
   "outputs": [],
   "source": []
  },
  {
   "cell_type": "code",
   "execution_count": null,
   "id": "475f29b5-b4c2-4a0d-b177-9992dd38d57d",
   "metadata": {},
   "outputs": [],
   "source": []
  }
 ],
 "metadata": {
  "kernelspec": {
   "display_name": "Python 3 (ipykernel)",
   "language": "python",
   "name": "python3"
  },
  "language_info": {
   "codemirror_mode": {
    "name": "ipython",
    "version": 3
   },
   "file_extension": ".py",
   "mimetype": "text/x-python",
   "name": "python",
   "nbconvert_exporter": "python",
   "pygments_lexer": "ipython3",
   "version": "3.10.12"
  }
 },
 "nbformat": 4,
 "nbformat_minor": 5
}
