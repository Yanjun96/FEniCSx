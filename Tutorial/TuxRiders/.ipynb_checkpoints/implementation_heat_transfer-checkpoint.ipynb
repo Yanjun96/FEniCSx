{
 "cells": [
  {
   "cell_type": "code",
   "execution_count": 2,
   "id": "073d08ae-9036-4969-b5e5-78db9ac27a95",
   "metadata": {},
   "outputs": [],
   "source": [
    "from dolfinx import default_scalar_type\n",
    "from dolfinx.fem import (Constant, dirichletbc, Function, FunctionSpace, assemble_scalar,\n",
    "                         form, locate_dofs_geometrical, locate_dofs_topological)\n",
    "from dolfinx.fem.petsc import LinearProblem\n",
    "from dolfinx.io import XDMFFile, gmshio\n",
    "from dolfinx.mesh import create_unit_square, locate_entities\n",
    "from dolfinx.plot import vtk_mesh\n",
    "from dolfinx import io\n",
    "\n",
    "from ufl import (SpatialCoordinate, TestFunction, TrialFunction,\n",
    "                 dx, grad, inner)\n",
    "\n",
    "from mpi4py import MPI\n",
    "\n",
    "import meshio\n",
    "import gmsh\n",
    "\n",
    "import pyvista\n",
    "\n",
    "from dolfinx.fem.petsc import assemble_vector, assemble_matrix, create_vector, apply_lifting, set_bc\n",
    "from dolfinx import *\n",
    "from dolfinx import fem, mesh, plot\n",
    "\n"
   ]
  },
  {
   "cell_type": "code",
   "execution_count": 3,
   "id": "301c75eb-ed1a-4dc0-a06f-6865d247e598",
   "metadata": {},
   "outputs": [],
   "source": [
    "# Define temporal parameters\n",
    "t = 0    # Start time\n",
    "T = 2.0  # Final time\n",
    "num_steos = 50\n",
    "dt = T / num_steos  # time step size\n",
    "\n",
    "# coefficient of friction\n",
    "k = 100\n",
    "u_in = 20    # inlet temperature\n",
    "u_out = -20  # outlet temperature\n"
   ]
  },
  {
   "cell_type": "code",
   "execution_count": 4,
   "id": "92a6c749-8462-4f89-8205-4ac8ccec6a8d",
   "metadata": {},
   "outputs": [
    {
     "name": "stdout",
     "output_type": "stream",
     "text": [
      "Info    : Reading 'helix.msh'...\n",
      "Info    : 7982 nodes\n",
      "Info    : 51264 elements\n",
      "Info    : Done reading 'helix.msh'\n"
     ]
    }
   ],
   "source": [
    "# Define mesh\n",
    "domain, cell_markers, facet_markers = gmshio.read_from_msh(\"helix.msh\", MPI.COMM_WORLD, gdim=3)\n"
   ]
  },
  {
   "cell_type": "code",
   "execution_count": null,
   "id": "0ece84c0-d5f1-40d4-b499-9401a6698977",
   "metadata": {},
   "outputs": [],
   "source": [
    "V = fem.FunctionSpace(domain, (\"Lagrange\", 1))"
   ]
  },
  {
   "cell_type": "code",
   "execution_count": null,
   "id": "a7990854-bebb-41cb-b949-168da6b52af7",
   "metadata": {},
   "outputs": [],
   "source": [
    "# Create initial condition\n",
    "\n",
    "# Create boundary condition\n",
    "uD = fem.Function(V)\n",
    "uD.interpolate(20)\n",
    "\n",
    "# Create facet to cell connectivity required to determine boundary facets\n",
    "tdim = domain.topology.dim\n",
    "fdim = tdim - 1\n",
    "domain.topology.create_connectivity(fdim, tdim)\n",
    "boundary_facets = mesh.exterior_facet_indices(domain.topology)\n",
    "\n",
    "boundary_dofs = fem.locate_dofs_topological(V, fdim, boundary_facets)\n",
    "bc = fem.dirichletbc(uD, boundary_dofs)\n",
    "\n"
   ]
  },
  {
   "cell_type": "markdown",
   "id": "d45a750c-0a6c-45ec-9e10-1b9d21af7581",
   "metadata": {},
   "source": [
    "# Time-dependent output"
   ]
  },
  {
   "cell_type": "code",
   "execution_count": null,
   "id": "cfc1e27e-7fce-497c-b0dc-41c7e591fdef",
   "metadata": {},
   "outputs": [],
   "source": [
    "xdmf = io.XDMFFile(domain.comm, \"diffusion.xdmf\", \"w\")\n",
    "xdmf.write_mesh(domain)\n",
    "\n",
    "# Define solution variable, and interpolate initial solution for visualization in Paraview\n",
    "uh = fem.Function(V)\n",
    "uh.name = \"uh\"\n",
    "uh.interpolate(initial_condition)\n",
    "xdmf.write_function(uh, t)"
   ]
  },
  {
   "cell_type": "markdown",
   "id": "ecc84386-931a-4971-9d61-e7c9120b330f",
   "metadata": {},
   "source": [
    "# Variational problem and solver"
   ]
  },
  {
   "cell_type": "code",
   "execution_count": null,
   "id": "93ae81f1-e34d-4c08-b665-648d51918a75",
   "metadata": {},
   "outputs": [],
   "source": [
    "u, v = ufl.TrialFunction(V), ufl.TestFunction(V)\n",
    "f = fem.Constant(domain, PETSc.ScalarType(0))\n",
    "a = u * v * ufl.dx + dt * ufl.dot(ufl.grad(u), ufl.grad(v)) * ufl.dx\n",
    "L = (u_n + dt * f) * v * ufl.dx"
   ]
  },
  {
   "cell_type": "markdown",
   "id": "ecc13595-e8b5-44c4-b1b5-848dde90d923",
   "metadata": {},
   "source": [
    "# Preparing linear algerba structures for time dependent problems"
   ]
  },
  {
   "cell_type": "code",
   "execution_count": null,
   "id": "7393044d-1ae6-4d6d-8761-17dbe63bc58c",
   "metadata": {},
   "outputs": [],
   "source": [
    "bilinear_form = fem.form(a)\n",
    "linear_form = fem.form(L)"
   ]
  },
  {
   "cell_type": "code",
   "execution_count": null,
   "id": "1bd2d753-c41c-4b72-a5ad-b3797053ae11",
   "metadata": {},
   "outputs": [],
   "source": [
    "A = assemble_matrix(bilinear_form, bcs=[bc])\n",
    "A.assemble()\n",
    "b = create_vector(linear_form)"
   ]
  },
  {
   "cell_type": "markdown",
   "id": "c0ec02bf-9292-48d4-8ec0-cead37f7d547",
   "metadata": {},
   "source": [
    "# Using petsc4py to create a linear solver"
   ]
  },
  {
   "cell_type": "code",
   "execution_count": null,
   "id": "c3b3a7b2-6bc8-4191-85d6-251b77f7b1ad",
   "metadata": {},
   "outputs": [],
   "source": [
    "solver = PETSc.KSP().create(domain.comm)\n",
    "solver.setOperators(A)\n",
    "solver.setType(PETSc.KSP.Type.PREONLY)\n",
    "solver.getPC().setType(PETSc.PC.Type.LU)"
   ]
  },
  {
   "cell_type": "markdown",
   "id": "ae3580e2-46ae-4955-bb50-9e521a8ff3e5",
   "metadata": {},
   "source": [
    "# Visualization of time dependent problem using pyvista"
   ]
  },
  {
   "cell_type": "code",
   "execution_count": null,
   "id": "ca69a9ea-ac36-4c0a-8445-af8261871755",
   "metadata": {},
   "outputs": [],
   "source": [
    "import matplotlib as mpl\n",
    "pyvista.start_xvfb()\n",
    "\n",
    "grid = pyvista.UnstructuredGrid(*plot.vtk_mesh(V))\n",
    "\n",
    "plotter = pyvista.Plotter()\n",
    "plotter.open_gif(\"u_time.gif\", fps=10)\n",
    "\n",
    "grid.point_data[\"uh\"] = uh.x.array\n",
    "warped = grid.warp_by_scalar(\"uh\", factor=1)\n",
    "\n",
    "viridis = mpl.colormaps.get_cmap(\"viridis\").resampled(25)\n",
    "sargs = dict(title_font_size=25, label_font_size=20, fmt=\"%.2e\", color=\"black\",\n",
    "             position_x=0.1, position_y=0.8, width=0.8, height=0.1)\n",
    "\n",
    "renderer = plotter.add_mesh(warped, show_edges=True, lighting=False,\n",
    "                            cmap=viridis, scalar_bar_args=sargs,\n",
    "                            clim=[0, max(uh.x.array)])"
   ]
  },
  {
   "cell_type": "code",
   "execution_count": null,
   "id": "a1ccd51f-b98c-4aa3-8f38-3de624e2aa56",
   "metadata": {},
   "outputs": [],
   "source": []
  }
 ],
 "metadata": {
  "kernelspec": {
   "display_name": "Python 3 (ipykernel)",
   "language": "python",
   "name": "python3"
  },
  "language_info": {
   "codemirror_mode": {
    "name": "ipython",
    "version": 3
   },
   "file_extension": ".py",
   "mimetype": "text/x-python",
   "name": "python",
   "nbconvert_exporter": "python",
   "pygments_lexer": "ipython3",
   "version": "3.10.12"
  }
 },
 "nbformat": 4,
 "nbformat_minor": 5
}
