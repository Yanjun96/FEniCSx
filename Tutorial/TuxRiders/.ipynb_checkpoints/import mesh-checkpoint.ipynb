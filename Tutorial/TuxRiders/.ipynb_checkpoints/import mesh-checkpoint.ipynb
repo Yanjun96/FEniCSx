{
 "cells": [
  {
   "cell_type": "code",
   "execution_count": 16,
   "id": "fd2ec9c9-c1d5-4085-9563-451764d08999",
   "metadata": {},
   "outputs": [],
   "source": [
    "from dolfinx import default_scalar_type\n",
    "from dolfinx.fem import (Constant, dirichletbc, Function, FunctionSpace, assemble_scalar,\n",
    "                         form, locate_dofs_geometrical, locate_dofs_topological)\n",
    "from dolfinx.fem.petsc import LinearProblem\n",
    "from dolfinx.io import XDMFFile, gmshio\n",
    "from dolfinx.mesh import create_unit_square, locate_entities\n",
    "from dolfinx.plot import vtk_mesh\n",
    "\n",
    "from ufl import (SpatialCoordinate, TestFunction, TrialFunction,\n",
    "                 dx, grad, inner)\n",
    "\n",
    "from mpi4py import MPI\n",
    "\n",
    "import meshio\n",
    "import gmsh\n",
    "import numpy as np\n",
    "import pyvista\n",
    "##########################################################################################################3\n",
    "\n",
    "  "
   ]
  },
  {
   "cell_type": "code",
   "execution_count": 22,
   "id": "f20fda40-d484-490f-a550-46bb261b5e1f",
   "metadata": {},
   "outputs": [
    {
     "name": "stdout",
     "output_type": "stream",
     "text": [
      "Info    : Reading 'helix.msh'...\n",
      "Info    : 7982 nodes\n",
      "Info    : 51264 elements\n",
      "Info    : Done reading 'helix.msh'\n"
     ]
    },
    {
     "name": "stderr",
     "output_type": "stream",
     "text": [
      "Warning : Gmsh has aleady been initialized\n"
     ]
    }
   ],
   "source": [
    "mesh, cell_markers, facet_markers = gmshio.read_from_msh(\"helix.msh\", MPI.COMM_WORLD, gdim=3)"
   ]
  },
  {
   "cell_type": "code",
   "execution_count": null,
   "id": "53d8cfb8-4762-4dfc-9622-386b24b12f7b",
   "metadata": {},
   "outputs": [],
   "source": [
    "\n"
   ]
  },
  {
   "cell_type": "code",
   "execution_count": 31,
   "id": "8922c3a9-a352-411e-9939-01d0bfe48aae",
   "metadata": {},
   "outputs": [
    {
     "ename": "RuntimeError",
     "evalue": "<Grid> with name 'In' not found.",
     "output_type": "error",
     "traceback": [
      "\u001b[0;31m---------------------------------------------------------------------------\u001b[0m",
      "\u001b[0;31mRuntimeError\u001b[0m                              Traceback (most recent call last)",
      "Cell \u001b[0;32mIn[31], line 2\u001b[0m\n\u001b[1;32m      1\u001b[0m \u001b[38;5;28;01mwith\u001b[39;00m XDMFFile(MPI\u001b[38;5;241m.\u001b[39mCOMM_WORLD, \u001b[38;5;124m\"\u001b[39m\u001b[38;5;124mhelix.xdmf\u001b[39m\u001b[38;5;124m\"\u001b[39m, \u001b[38;5;124m\"\u001b[39m\u001b[38;5;124mr\u001b[39m\u001b[38;5;124m\"\u001b[39m) \u001b[38;5;28;01mas\u001b[39;00m xdmf:\n\u001b[0;32m----> 2\u001b[0m     mesh \u001b[38;5;241m=\u001b[39m \u001b[43mxdmf\u001b[49m\u001b[38;5;241;43m.\u001b[39;49m\u001b[43mread_mesh\u001b[49m\u001b[43m(\u001b[49m\u001b[43mname\u001b[49m\u001b[38;5;241;43m=\u001b[39;49m\u001b[38;5;124;43m\"\u001b[39;49m\u001b[38;5;124;43mIn\u001b[39;49m\u001b[38;5;124;43m\"\u001b[39;49m\u001b[43m)\u001b[49m\n\u001b[1;32m      3\u001b[0m     ct \u001b[38;5;241m=\u001b[39m xdmf\u001b[38;5;241m.\u001b[39mread_meshtags(mesh, name\u001b[38;5;241m=\u001b[39m\u001b[38;5;124m\"\u001b[39m\u001b[38;5;124mIn\u001b[39m\u001b[38;5;124m\"\u001b[39m)\n\u001b[1;32m      4\u001b[0m mesh\u001b[38;5;241m.\u001b[39mtopology\u001b[38;5;241m.\u001b[39mcreate_connectivity(mesh\u001b[38;5;241m.\u001b[39mtopology\u001b[38;5;241m.\u001b[39mdim, mesh\u001b[38;5;241m.\u001b[39mtopology\u001b[38;5;241m.\u001b[39mdim \u001b[38;5;241m-\u001b[39m \u001b[38;5;241m1\u001b[39m)\n",
      "File \u001b[0;32m/usr/lib/petsc/lib/python3/dist-packages/dolfinx/io/utils.py:239\u001b[0m, in \u001b[0;36mXDMFFile.read_mesh\u001b[0;34m(self, ghost_mode, name, xpath)\u001b[0m\n\u001b[1;32m    237\u001b[0m \u001b[38;5;28;01mdef\u001b[39;00m \u001b[38;5;21mread_mesh\u001b[39m(\u001b[38;5;28mself\u001b[39m, ghost_mode\u001b[38;5;241m=\u001b[39mGhostMode\u001b[38;5;241m.\u001b[39mshared_facet, name\u001b[38;5;241m=\u001b[39m\u001b[38;5;124m\"\u001b[39m\u001b[38;5;124mmesh\u001b[39m\u001b[38;5;124m\"\u001b[39m, xpath\u001b[38;5;241m=\u001b[39m\u001b[38;5;124m\"\u001b[39m\u001b[38;5;124m/Xdmf/Domain\u001b[39m\u001b[38;5;124m\"\u001b[39m) \u001b[38;5;241m-\u001b[39m\u001b[38;5;241m>\u001b[39m Mesh:\n\u001b[1;32m    238\u001b[0m     \u001b[38;5;124;03m\"\"\"Read mesh data from file\"\"\"\u001b[39;00m\n\u001b[0;32m--> 239\u001b[0m     cell_shape, cell_degree \u001b[38;5;241m=\u001b[39m \u001b[38;5;28;43msuper\u001b[39;49m\u001b[43m(\u001b[49m\u001b[43m)\u001b[49m\u001b[38;5;241;43m.\u001b[39;49m\u001b[43mread_cell_type\u001b[49m\u001b[43m(\u001b[49m\u001b[43mname\u001b[49m\u001b[43m,\u001b[49m\u001b[43m \u001b[49m\u001b[43mxpath\u001b[49m\u001b[43m)\u001b[49m\n\u001b[1;32m    240\u001b[0m     cells \u001b[38;5;241m=\u001b[39m \u001b[38;5;28msuper\u001b[39m()\u001b[38;5;241m.\u001b[39mread_topology_data(name, xpath)\n\u001b[1;32m    241\u001b[0m     x \u001b[38;5;241m=\u001b[39m \u001b[38;5;28msuper\u001b[39m()\u001b[38;5;241m.\u001b[39mread_geometry_data(name, xpath)\n",
      "\u001b[0;31mRuntimeError\u001b[0m: <Grid> with name 'In' not found."
     ]
    }
   ],
   "source": [
    "with XDMFFile(MPI.COMM_WORLD, \"helix.xdmf\", \"r\") as xdmf:\n",
    "    mesh = xdmf.read_mesh(name=\"In\")\n",
    "    ct = xdmf.read_meshtags(mesh, name=\"In\")\n",
    "mesh.topology.create_connectivity(mesh.topology.dim, mesh.topology.dim - 1)\n",
    "with XDMFFile(MPI.COMM_WORLD, \"mt.xdmf\", \"r\") as xdmf:\n",
    "    ft = xdmf.read_meshtags(mesh, name=\"Grid\")"
   ]
  },
  {
   "cell_type": "code",
   "execution_count": null,
   "id": "03434dc7-8e8d-44c8-8b44-47ebdbf6bb0f",
   "metadata": {},
   "outputs": [],
   "source": []
  }
 ],
 "metadata": {
  "kernelspec": {
   "display_name": "Python 3 (ipykernel)",
   "language": "python",
   "name": "python3"
  },
  "language_info": {
   "codemirror_mode": {
    "name": "ipython",
    "version": 3
   },
   "file_extension": ".py",
   "mimetype": "text/x-python",
   "name": "python",
   "nbconvert_exporter": "python",
   "pygments_lexer": "ipython3",
   "version": "3.10.12"
  }
 },
 "nbformat": 4,
 "nbformat_minor": 5
}
