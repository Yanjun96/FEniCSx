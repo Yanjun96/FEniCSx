{
 "cells": [
  {
   "cell_type": "code",
   "execution_count": 1,
   "id": "fd2ec9c9-c1d5-4085-9563-451764d08999",
   "metadata": {},
   "outputs": [],
   "source": [
    "from dolfinx import default_scalar_type\n",
    "from dolfinx.fem import (Constant, dirichletbc, Function, FunctionSpace, assemble_scalar,\n",
    "                         form, locate_dofs_geometrical, locate_dofs_topological)\n",
    "from dolfinx.fem.petsc import LinearProblem\n",
    "from dolfinx.io import XDMFFile, gmshio\n",
    "from dolfinx.mesh import create_unit_square, locate_entities\n",
    "from dolfinx.plot import vtk_mesh\n",
    "from dolfinx import io\n",
    "\n",
    "from ufl import (SpatialCoordinate, TestFunction, TrialFunction,\n",
    "                 dx, grad, inner)\n",
    "\n",
    "from mpi4py import MPI\n",
    "\n",
    "import meshio\n",
    "import gmsh\n",
    "import numpy as np\n",
    "import pyvista\n",
    "##########################################################################################################3\n",
    "\n",
    "  "
   ]
  },
  {
   "cell_type": "code",
   "execution_count": 2,
   "id": "8f3e4cb1-013b-4554-a95e-713f8c54f608",
   "metadata": {},
   "outputs": [
    {
     "ename": "NameError",
     "evalue": "name 'prune_z' is not defined",
     "output_type": "error",
     "traceback": [
      "\u001b[0;31m---------------------------------------------------------------------------\u001b[0m",
      "\u001b[0;31mNameError\u001b[0m                                 Traceback (most recent call last)",
      "Cell \u001b[0;32mIn[2], line 1\u001b[0m\n\u001b[0;32m----> 1\u001b[0m \u001b[38;5;28;01mif\u001b[39;00m \u001b[43mprune_z\u001b[49m:\n\u001b[1;32m      2\u001b[0m     points \u001b[38;5;241m=\u001b[39m mesh\u001b[38;5;241m.\u001b[39mpoints[:, :\u001b[38;5;241m3\u001b[39m]\n\u001b[1;32m      3\u001b[0m \u001b[38;5;28;01melse\u001b[39;00m:\n",
      "\u001b[0;31mNameError\u001b[0m: name 'prune_z' is not defined"
     ]
    }
   ],
   "source": [
    "if prune_z:\n",
    "    points = mesh.points[:, :3]\n",
    "else:\n",
    "    points = mesh.points"
   ]
  },
  {
   "cell_type": "code",
   "execution_count": 7,
   "id": "46b3f7c3-1187-443f-b5f9-32aeb999e31d",
   "metadata": {},
   "outputs": [],
   "source": [
    "## from official tutorial\n",
    "def create_mesh(mesh, cell_type, prune_z=False):\n",
    "    cells = mesh.get_cells_type(cell_type)\n",
    "    cell_data = mesh.get_cell_data(\"gmsh:physical\", cell_type)\n",
    "    points = mesh.points[:, :3] if prune_z else mesh.points\n",
    "    out_mesh = meshio.Mesh(points=points, cells={cell_type: cells}, cell_data={\"name_to_read\": [cell_data.astype(np.int32)]})\n",
    "    return out_mesh"
   ]
  },
  {
   "cell_type": "code",
   "execution_count": 8,
   "id": "b19b5d39-41df-4c09-bb03-341d3ce5c987",
   "metadata": {},
   "outputs": [
    {
     "name": "stdout",
     "output_type": "stream",
     "text": [
      "Info    : Reading 'helix2.msh'...\n",
      "Info    : 7982 nodes\n",
      "Info    : 39006 elements\n",
      "Info    : Done reading 'helix2.msh'\n"
     ]
    }
   ],
   "source": [
    "# mesh file is helix1.msh\n",
    "mesh, cell_markers, facet_markers = gmshio.read_from_msh(\"helix2.msh\", MPI.COMM_WORLD, gdim=3)"
   ]
  },
  {
   "cell_type": "code",
   "execution_count": 9,
   "id": "25d23462-5bcb-42aa-ac09-91aff79080fc",
   "metadata": {},
   "outputs": [
    {
     "name": "stdout",
     "output_type": "stream",
     "text": [
      "\n"
     ]
    }
   ],
   "source": [
    "## cell type: tetrahedron and triangle is choosen in Salome, which step before generate .mesh file.\n",
    "mesh = meshio.read(\"helix2.msh\")\n",
    "meshio.write(\"helix.xdmf\", create_mesh(mesh, \"tetra\", True))\n",
    "\n",
    "volume_mesh = create_mesh(mesh, \"tetra\", prune_z=True)\n",
    "face_mesh = create_mesh(mesh, \"triangle\", prune_z=True)\n",
    "meshio.write(\"mesh.xdmf\", volume_mesh)\n",
    "meshio.write(\"mt.xdmf\", face_mesh)"
   ]
  },
  {
   "cell_type": "code",
   "execution_count": 10,
   "id": "f7a7567f-fb7d-4b3b-a431-3172b666f9f9",
   "metadata": {},
   "outputs": [],
   "source": [
    "with XDMFFile(MPI.COMM_WORLD, \"mesh.xdmf\", \"r\") as xdmf:\n",
    "    mesh = xdmf.read_mesh(name=\"Grid\")\n",
    "    cd = xdmf.read_meshtags(mesh, name=\"Grid\")    # volume mesh\n",
    "mesh.topology.create_connectivity(mesh.topology.dim, mesh.topology.dim - 1)\n",
    "with XDMFFile(MPI.COMM_WORLD, \"mt.xdmf\", \"r\") as xdmf:\n",
    "    fd = xdmf.read_meshtags(mesh, name=\"Grid\")    # face element"
   ]
  },
  {
   "cell_type": "code",
   "execution_count": 11,
   "id": "f20fda40-d484-490f-a550-46bb261b5e1f",
   "metadata": {},
   "outputs": [
    {
     "name": "stdout",
     "output_type": "stream",
     "text": [
      "<dolfinx.mesh.Mesh object at 0x7f7503510e80>\n",
      "<dolfinx.mesh.MeshTags object at 0x7f75061da0b0>\n",
      "<dolfinx.mesh.MeshTags object at 0x7f7505fa4550>\n"
     ]
    }
   ],
   "source": [
    "print(mesh)\n",
    "print(fd)\n",
    "print(cd)"
   ]
  },
  {
   "cell_type": "code",
   "execution_count": null,
   "id": "921c46a4-a5d2-44f6-8611-fbaf4ff69eb6",
   "metadata": {},
   "outputs": [],
   "source": [
    "# https://fenicsproject.discourse.group/t/can-dolfinx-read-a-gmsh-file-containing-1d-mesh-of-an-ellipse/9765/2"
   ]
  }
 ],
 "metadata": {
  "kernelspec": {
   "display_name": "Python 3 (ipykernel)",
   "language": "python",
   "name": "python3"
  },
  "language_info": {
   "codemirror_mode": {
    "name": "ipython",
    "version": 3
   },
   "file_extension": ".py",
   "mimetype": "text/x-python",
   "name": "python",
   "nbconvert_exporter": "python",
   "pygments_lexer": "ipython3",
   "version": "3.10.12"
  }
 },
 "nbformat": 4,
 "nbformat_minor": 5
}
