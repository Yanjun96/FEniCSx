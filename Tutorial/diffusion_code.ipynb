{
 "cells": [
  {
   "cell_type": "markdown",
   "metadata": {},
   "source": [
    "# Diffusion of a Gaussian function\n",
    "\n",
    "Author: Jørgen S. Dokken\n",
    "\n",
    "Let us now solve a more interesting problem, namely the diffusion of a Gaussian hill. We take the initial value to be\n",
    "\\begin{align}\n",
    "    u_0(x,y)&= e^{-ax^2-ay^2}\n",
    "\\end{align}\n",
    "for $a=5$ on the domain $[-2,2]\\times[-2,2]$. For this problem we will use homogeneous Dirichlet boundary conditions ($u_D=0$).\n",
    "\n",
    "The first difference from the previous problem is that we are not using a unit square. We create the rectangular domain with `dolfinx.mesh.create_rectangle`."
   ]
  },
  {
   "cell_type": "code",
   "execution_count": 1,
   "metadata": {},
   "outputs": [
    {
     "name": "stderr",
     "output_type": "stream",
     "text": [
      "/home/yanjun/.local/lib/python3.10/site-packages/matplotlib/projections/__init__.py:63: UserWarning: Unable to import Axes3D. This may be due to multiple versions of Matplotlib being installed (e.g. as a system package and as a pip package). As a result, the 3D projection is not available.\n",
      "  warnings.warn(\"Unable to import Axes3D. This may be due to multiple versions of \"\n"
     ]
    }
   ],
   "source": [
    "import matplotlib.pyplot as plt\n",
    "import pyvista\n",
    "import ufl\n",
    "import numpy as np\n",
    "\n",
    "from petsc4py import PETSc\n",
    "from mpi4py import MPI\n",
    "\n",
    "from dolfinx import fem, mesh, io, plot\n",
    "from dolfinx.fem.petsc import assemble_vector, assemble_matrix, create_vector, apply_lifting, set_bc\n",
    "\n",
    "# Define temporal parameters\n",
    "t = 0  # Start time\n",
    "T = 1.0  # Final time\n",
    "num_steps = 50\n",
    "dt = T / num_steps  # time step size\n",
    "\n",
    "# Define mesh\n",
    "###################### THis part need to replace later, to a brake disc\n",
    "nx, ny = 50, 50\n",
    "domain = mesh.create_rectangle(MPI.COMM_WORLD, [np.array([-2, -2]), np.array([2, 2])],\n",
    "                               [nx, ny], mesh.CellType.triangle)\n",
    "\n",
    "# this 1 means first order of lagrange polynominal\n",
    "V = fem.FunctionSpace(domain, (\"Lagrange\", 1))"
   ]
  },
  {
   "cell_type": "code",
   "execution_count": null,
   "metadata": {},
   "outputs": [],
   "source": []
  },
  {
   "cell_type": "markdown",
   "metadata": {},
   "source": [
    "Note that we have used a much higher resolution that before to better resolve features of the solution.\n",
    "We also easily update the intial and boundary conditions. Instead of using a class to define the initial condition, we simply use a function"
   ]
  },
  {
   "cell_type": "code",
   "execution_count": 2,
   "metadata": {},
   "outputs": [],
   "source": [
    "# Create initial condition\n",
    "\n",
    "# x[0] is x, and x[1] is y\n",
    "def initial_condition(x, a=5):\n",
    "    return np.exp(-a * (x[0]**2 + x[1]**2))\n",
    "\n",
    "u_n = fem.Function(V)\n",
    "u_n.name = \"u_n\"\n",
    "u_n.interpolate(initial_condition)\n",
    "\n",
    "# Create boundary condition\n",
    "fdim = domain.topology.dim - 1\n",
    "\n",
    "# x.sharpe\n",
    "boundary_facets = mesh.locate_entities_boundary(\n",
    "    domain, fdim, lambda x: np.full(x.shape[1], True, dtype=bool))\n",
    "\n",
    "## PETSC.Scalarype(X), this X is the value of boundary condition, like inlet temperature is 20, then here X is 20.\n",
    "bc = fem.dirichletbc(PETSc.ScalarType(5), fem.locate_dofs_topological(V, fdim, boundary_facets), V)\n"
   ]
  },
  {
   "cell_type": "code",
   "execution_count": 3,
   "metadata": {},
   "outputs": [
    {
     "name": "stdout",
     "output_type": "stream",
     "text": [
      "1:fdim is \n",
      " 1\n",
      "2: boundary_facets is \n",
      " [   0    3    4    6   12   14   23   25   37   39   54   56   74   76\n",
      "   97   99  123  125  152  154  184  186  219  221  257  259  298  300\n",
      "  342  344  389  391  439  441  492  494  548  550  607  609  669  671\n",
      "  734  736  802  804  873  875  947  949 1024 1026 1104 1106 1187 1189\n",
      " 1273 1275 1362 1364 1454 1456 1549 1551 1647 1649 1748 1750 1852 1854\n",
      " 1959 1961 2069 2071 2182 2184 2298 2300 2417 2419 2539 2541 2664 2666\n",
      " 2792 2794 2923 2925 3057 3059 3194 3196 3334 3336 3477 3479 3623 3625\n",
      " 3772 3774 3923 3924 3926 4071 4073 4215 4217 4356 4358 4494 4496 4629\n",
      " 4631 4761 4763 4890 4892 5016 5018 5139 5141 5259 5261 5376 5378 5490\n",
      " 5492 5601 5603 5709 5711 5814 5816 5916 5918 6015 6017 6111 6113 6204\n",
      " 6206 6294 6296 6381 6383 6465 6467 6546 6548 6624 6626 6699 6701 6771\n",
      " 6773 6840 6842 6906 6908 6969 6971 7029 7031 7086 7088 7140 7142 7191\n",
      " 7193 7239 7241 7284 7286 7326 7328 7365 7367 7401 7403 7434 7436 7464\n",
      " 7466 7491 7493 7515 7517 7536 7538 7554 7556 7569 7571 7581 7583 7590\n",
      " 7592 7596 7598 7599]\n",
      "bc is \n",
      " <dolfinx.fem.bcs.DirichletBC object at 0x7f7a9e0644f0>\n"
     ]
    }
   ],
   "source": [
    "print('1:fdim is','\\n', fdim)\n",
    "print('2: boundary_facets is', '\\n', boundary_facets)\n",
    "print('bc is','\\n', bc)\n"
   ]
  },
  {
   "cell_type": "markdown",
   "metadata": {},
   "source": [
    "## Time-dependent output\n",
    "To visualize the solution in an external program such as Paraview, we create a an `XDMFFile` which we can store multiple solutions in. The main advantage with an XDMFFile, is that we only need to store the mesh once, and can append multiple solutions to the same grid, reducing the storage space.\n",
    "The first argument to the XDMFFile is which communicator should be used to store the data. As we would like one output, independent of the number of processors, we use the `COMM_WORLD`. The second argument is the file name of the output file, while the third argument is the state of the file,\n",
    "this could be read (`\"r\"`), write (`\"w\"`) or append (`\"a\"`)."
   ]
  },
  {
   "cell_type": "code",
   "execution_count": 4,
   "metadata": {},
   "outputs": [],
   "source": [
    "xdmf = io.XDMFFile(domain.comm, \"diffusion.xdmf\", \"w\")\n",
    "xdmf.write_mesh(domain)\n",
    "\n",
    "# Define solution variable, and interpolate initial solution for visualization in Paraview\n",
    "uh = fem.Function(V)\n",
    "uh.name = \"uh\"\n",
    "uh.interpolate(initial_condition)\n",
    "xdmf.write_function(uh, t)"
   ]
  },
  {
   "cell_type": "code",
   "execution_count": 5,
   "metadata": {},
   "outputs": [
    {
     "name": "stdout",
     "output_type": "stream",
     "text": [
      "uh\n",
      "uh\n"
     ]
    }
   ],
   "source": [
    "print(uh.name)\n",
    "print(uh)\n"
   ]
  },
  {
   "cell_type": "markdown",
   "metadata": {},
   "source": [
    "## Variational problem and solver\n",
    "As in the previous example, we prepare objects for time dependent problems, such that we do not have to recreate data-structures."
   ]
  },
  {
   "cell_type": "code",
   "execution_count": 6,
   "metadata": {},
   "outputs": [],
   "source": [
    "u, v = ufl.TrialFunction(V), ufl.TestFunction(V)\n",
    "f = fem.Constant(domain, PETSc.ScalarType(0))\n",
    "a = u * v * ufl.dx + dt * ufl.dot(ufl.grad(u), ufl.grad(v)) * ufl.dx\n",
    "L = (u_n + dt * f) * v * ufl.dx"
   ]
  },
  {
   "cell_type": "markdown",
   "metadata": {},
   "source": [
    "## Preparing linear algebra structures for time dependent problems\n",
    "We note that even if `u_n` is time dependent, we will reuse the same function for `f` and `u_n` at every time step. We therefore call `dolfinx.fem.form` to generate assembly kernels for the matrix and vector."
   ]
  },
  {
   "cell_type": "code",
   "execution_count": 7,
   "metadata": {},
   "outputs": [],
   "source": [
    "# assembly matrix and vector\n",
    "\n",
    "bilinear_form = fem.form(a)\n",
    "linear_form = fem.form(L)"
   ]
  },
  {
   "cell_type": "markdown",
   "metadata": {},
   "source": [
    "We observe that the left hand side of the system, the matrix $A$ does not change from one time step to another, thus we only need to assemble it once. However, the right hand side, which is dependent on the previous time step `u_n`, we have to assemble it every time step. Therefore, we only create a vector `b` based on `L`, which we will reuse at every time step."
   ]
  },
  {
   "cell_type": "code",
   "execution_count": 8,
   "metadata": {},
   "outputs": [],
   "source": [
    "A = assemble_matrix(bilinear_form, bcs=[bc])\n",
    "A.assemble()\n",
    "b = create_vector(linear_form)"
   ]
  },
  {
   "cell_type": "code",
   "execution_count": null,
   "metadata": {},
   "outputs": [],
   "source": [
    "print(b.view())\n",
    "print(A.view())"
   ]
  },
  {
   "cell_type": "markdown",
   "metadata": {},
   "source": [
    "## Using petsc4py to create a linear solver\n",
    "As we have already assembled `a` into the matrix `A`, we can no longer use the `dolfinx.fem.petsc.LinearProblem` class to solve the problem. Therefore, we create a linear algebra solver using PETSc, and assign the matrix `A` to the solver, and choose the solution strategy."
   ]
  },
  {
   "cell_type": "code",
   "execution_count": null,
   "metadata": {},
   "outputs": [],
   "source": [
    "solver = PETSc.KSP().create(domain.comm)\n",
    "solver.setOperators(A)\n",
    "solver.setType(PETSc.KSP.Type.PREONLY)\n",
    "solver.getPC().setType(PETSc.PC.Type.LU)"
   ]
  },
  {
   "cell_type": "markdown",
   "metadata": {},
   "source": [
    "## Visualization of time dependent problem using pyvista\n",
    "We use the DOLFINx plotting functionality, which is based on pyvista to plot the solution at every $15$th time step. We would also like to visualize a colorbar reflecting the minimal and maximum value of $u$ at each time step. We use the following convenience function `plot_function` for this:"
   ]
  },
  {
   "cell_type": "code",
   "execution_count": null,
   "metadata": {
    "scrolled": true
   },
   "outputs": [],
   "source": [
    "import matplotlib as mpl\n",
    "pyvista.start_xvfb()\n",
    "\n",
    "grid = pyvista.UnstructuredGrid(*plot.vtk_mesh(V))\n",
    "\n",
    "plotter = pyvista.Plotter()\n",
    "plotter.open_gif(\"u_time.gif\", fps=1)\n",
    "\n",
    "grid.point_data[\"uh\"] = uh.x.array\n",
    "warped = grid.warp_by_scalar(\"uh\", factor=10)\n",
    "\n",
    "\n",
    "viridis = mpl.colormaps.get_cmap(\"viridis\").resampled(25)\n",
    "sargs = dict(title_font_size=25, label_font_size=20, fmt=\"%.2e\", color=\"black\",\n",
    "             position_x=0.1, position_y=0.8, width=0.8, height=0.1)\n",
    "\n",
    "renderer = plotter.add_mesh(warped, show_edges=True, lighting=False,\n",
    "                            cmap=viridis, scalar_bar_args=sargs,\n",
    "                            clim=[0, max(uh.x.array)])"
   ]
  },
  {
   "cell_type": "markdown",
   "metadata": {
    "tags": []
   },
   "source": [
    "## Updating the solution and right hand side per time step\n",
    "To be able to solve the variation problem at each time step, we have to assemble the right hand side and apply the boundary condition before calling\n",
    "`solver.solve(b, uh.vector)`. We start by resetting the values in `b` as we are reusing the vector at every time step.\n",
    "The next step is to assemble the vector, calling `dolfinx.fem.petsc.assemble_vector(b, L)` which means that we are assemble the linear for `L(v)` into the vector `b`. Note that we do not supply the boundary conditions for assembly, as opposed to the left hand side.\n",
    "This is because we want to use lifting to apply the boundary condition, which preserves symmetry of the matrix $A$ if the bilinear form $a(u,v)=a(v,u)$ without Dirichlet boundary conditions.\n",
    "When we have applied the boundary condition, we can solve the linear system and update values that are potentially shared between processors.\n",
    "Finally, before moving to the next time step, we update the solution at the previous time step to the solution at this time step."
   ]
  },
  {
   "cell_type": "code",
   "execution_count": null,
   "metadata": {},
   "outputs": [],
   "source": [
    "for i in range(num_steps):\n",
    "    t += dt\n",
    "\n",
    "    # Update the right hand side reusing the initial vector\n",
    "    with b.localForm() as loc_b:\n",
    "        loc_b.set(0)\n",
    "    assemble_vector(b, linear_form)\n",
    "\n",
    "    # Apply Dirichlet boundary condition to the vector\n",
    "    apply_lifting(b, [bilinear_form], [[bc]])\n",
    "    b.ghostUpdate(addv=PETSc.InsertMode.ADD_VALUES, mode=PETSc.ScatterMode.REVERSE)\n",
    "    set_bc(b, [bc])\n",
    "\n",
    "    # Solve linear problem\n",
    "    solver.solve(b, uh.vector)\n",
    "    uh.x.scatter_forward()\n",
    "\n",
    "    # Update solution at previous time step (u_n)\n",
    "    u_n.x.array[:] = uh.x.array\n",
    "\n",
    "    # Write solution to file\n",
    "    xdmf.write_function(uh, t)\n",
    "    # Update plot\n",
    "    warped = grid.warp_by_scalar(\"uh\", factor=0)\n",
    "    plotter.update_coordinates(warped.points.copy(), render=False)\n",
    "    plotter.update_scalars(uh.x.array, render=False)\n",
    "    plotter.write_frame()\n",
    "plotter.close()\n",
    "xdmf.close()"
   ]
  },
  {
   "cell_type": "code",
   "execution_count": null,
   "metadata": {},
   "outputs": [],
   "source": [
    "# Display the GIF\n",
    "from IPython.display import display, Image\n",
    "display(Image(filename = 'u_time.gif'))"
   ]
  },
  {
   "cell_type": "markdown",
   "metadata": {},
   "source": [
    "## Animation with Paraview\n",
    "We can also use Paraview to create an animation. We open the file in paraview with `File->Open`, and then press `Apply` in the properties panel.\n",
    "\n",
    "Then, we add a time-annotation to the figure, pressing: `Sources->Alphabetical->Annotate Time` and `Apply` in the properties panel. It Is also a good idea to select an output resolution, by pressing `View->Preview->1280 x 720 (HD)`.\n",
    "\n",
    "Then finally, click `File->Save Animation`, and save the animation to the desired format, such as `avi`, `ogv` or a sequence of `png`s. Make sure to set the framerate to something, sensible, in the range of $5-10$ frames per second."
   ]
  }
 ],
 "metadata": {
  "jupytext": {
   "formats": "ipynb,py:light"
  },
  "kernelspec": {
   "display_name": "Python 3 (ipykernel)",
   "language": "python",
   "name": "python3"
  },
  "language_info": {
   "codemirror_mode": {
    "name": "ipython",
    "version": 3
   },
   "file_extension": ".py",
   "mimetype": "text/x-python",
   "name": "python",
   "nbconvert_exporter": "python",
   "pygments_lexer": "ipython3",
   "version": "3.10.12"
  }
 },
 "nbformat": 4,
 "nbformat_minor": 4
}
