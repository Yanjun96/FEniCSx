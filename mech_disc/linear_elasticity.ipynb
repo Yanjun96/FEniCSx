{
 "cells": [
  {
   "cell_type": "code",
   "execution_count": 1,
   "id": "024f7d49",
   "metadata": {},
   "outputs": [
    {
     "name": "stdout",
     "output_type": "stream",
     "text": [
      "Mesh topology dimension d=2.\n"
     ]
    }
   ],
   "source": [
    "import numpy as np\n",
    "from ufl import sym, grad, Identity, tr, inner, Measure, TestFunction, TrialFunction\n",
    "\n",
    "from mpi4py import MPI\n",
    "\n",
    "from dolfinx import fem, io\n",
    "import dolfinx.fem.petsc\n",
    "from dolfinx.mesh import create_rectangle, CellType\n",
    "\n",
    "length, height = 10, 1.0\n",
    "Nx, Ny = 50, 5\n",
    "domain = create_rectangle(\n",
    "    MPI.COMM_WORLD,\n",
    "    [np.array([0, 0]), np.array([length, height])],\n",
    "    [Nx, Ny],\n",
    "    cell_type=CellType.quadrilateral,\n",
    ")\n",
    "\n",
    "dim = domain.topology.dim\n",
    "print(f\"Mesh topology dimension d={dim}.\")"
   ]
  },
  {
   "cell_type": "code",
   "execution_count": 2,
   "id": "d7046a79",
   "metadata": {},
   "outputs": [],
   "source": [
    "degree = 2\n",
    "shape = (dim,)  # this means we want a vector field of size `dim`\n",
    "V = fem.functionspace(domain, (\"P\", degree, shape))\n",
    "\n",
    "u_sol = fem.Function(V, name=\"Displacement\")"
   ]
  },
  {
   "cell_type": "markdown",
   "id": "1d797bdb",
   "metadata": {},
   "source": [
    "We now define the various UFL expressions which will enter our variational formulation. For this, we wrap material parameters as `Constant`."
   ]
  },
  {
   "cell_type": "code",
   "execution_count": 3,
   "id": "ffa23705",
   "metadata": {},
   "outputs": [],
   "source": [
    "E = fem.Constant(domain, 210e3)\n",
    "nu = fem.Constant(domain, 0.3)\n",
    "\n",
    "lmbda = E * nu / (1 + nu) / (1 - 2 * nu)\n",
    "mu = E / 2 / (1 + nu)\n",
    "\n",
    "\n",
    "def epsilon(v):\n",
    "    return sym(grad(v))\n",
    "\n",
    "\n",
    "def sigma(v):\n",
    "    return lmbda * tr(epsilon(v)) * Identity(dim) + 2 * mu * epsilon(v)"
   ]
  },
  {
   "cell_type": "markdown",
   "id": "39267052",
   "metadata": {},
   "source": [
    "We can check that such objects are indeed abstract UFL expressions (they are represented as graphs internally)."
   ]
  },
  {
   "cell_type": "code",
   "execution_count": 4,
   "id": "04b4c8d7",
   "metadata": {},
   "outputs": [
    {
     "name": "stdout",
     "output_type": "stream",
     "text": [
      "mu (UFL):\n",
      " c_0 / 2 / (1 + c_1)\n",
      "epsilon (UFL):\n",
      " sym(grad(Displacement))\n",
      "sigma (UFL):\n",
      " ({ A | A_{i_{10}, i_{11}} = (sym(grad(Displacement)))[i_{10}, i_{11}] * 2 * c_0 / 2 / (1 + c_1) }) + ({ A | A_{i_8, i_9} = I[i_8, i_9] * c_0 * c_1 / (1 + c_1) / (1 + -1 * 2 * c_1) * (tr(sym(grad(Displacement)))) })\n"
     ]
    }
   ],
   "source": [
    "print(\"mu (UFL):\\n\", mu)\n",
    "print(\"epsilon (UFL):\\n\", epsilon(u_sol))\n",
    "print(\"sigma (UFL):\\n\", sigma(u_sol))"
   ]
  },
  {
   "cell_type": "markdown",
   "id": "4e177882",
   "metadata": {},
   "source": [
    "We now define the corresponding linear and bilinear forms. Below, `dx` is the volume integration measure on the whole domain."
   ]
  },
  {
   "cell_type": "code",
   "execution_count": 5,
   "id": "70bd351c",
   "metadata": {
    "lines_to_next_cell": 2
   },
   "outputs": [],
   "source": [
    "u = TrialFunction(V)\n",
    "v = TestFunction(V)\n",
    "\n",
    "rho = 2e-3\n",
    "g = 9.81\n",
    "f = fem.Constant(domain, np.array([0, -rho * g]))\n",
    "\n",
    "dx = Measure(\"dx\", domain=domain)\n",
    "a = inner(sigma(u), epsilon(v)) * dx\n",
    "L = inner(f, v) * dx"
   ]
  },
  {
   "cell_type": "markdown",
   "id": "27d4bf2e",
   "metadata": {
    "lines_to_next_cell": 2
   },
   "source": [
    "We now define boundary conditions. For simplicity, we first fix both the left and right boundaries. To do so, we must locate the corresponding degrees of freedom from a marker function thet returns `True` for points `x` on the boundary and `False` otherwise."
   ]
  },
  {
   "cell_type": "code",
   "execution_count": 6,
   "id": "46c4e124",
   "metadata": {},
   "outputs": [],
   "source": [
    "def left(x):\n",
    "    return np.isclose(x[0], 0)\n",
    "\n",
    "\n",
    "def right(x):\n",
    "    return np.isclose(x[0], length)\n",
    "\n",
    "\n",
    "left_dofs = fem.locate_dofs_geometrical(V, left)\n",
    "right_dofs = fem.locate_dofs_geometrical(V, right)\n",
    "\n",
    "bcs = [\n",
    "    fem.dirichletbc(np.zeros((2,)), left_dofs, V),\n",
    "    fem.dirichletbc(np.zeros((2,)), right_dofs, V),\n",
    "]"
   ]
  },
  {
   "cell_type": "markdown",
   "id": "10495686",
   "metadata": {},
   "source": [
    "Finally, a `LinearProblem` object is created based on the variational problem, the boundary conditions and a Function `u` in which we want to store the solution. We can also pass parameters to setup the solver type (here we use a direct LU factorization).\n",
    "Results are then stored in a \".pvd\" format to be visualized using Paraview for instance."
   ]
  },
  {
   "cell_type": "code",
   "execution_count": 7,
   "id": "a1bf92f9",
   "metadata": {},
   "outputs": [],
   "source": [
    "problem = fem.petsc.LinearProblem(\n",
    "    a, L, u=u_sol, bcs=bcs, petsc_options={\"ksp_type\": \"preonly\", \"pc_type\": \"lu\"}\n",
    ")\n",
    "problem.solve()\n",
    "\n",
    "\n",
    "vtk = io.VTKFile(domain.comm, \"linear_elasticity.pvd\", \"w\")\n",
    "vtk.write_function(u_sol)\n",
    "vtk.close()"
   ]
  },
  {
   "cell_type": "markdown",
   "id": "52b05428",
   "metadata": {},
   "source": [
    "### Changing boundary conditions\n",
    "\n",
    "If we want to constrain only the vertical component of the displacement field on some boundary, we need to work with the corresponding subspace of the original function space `V`."
   ]
  },
  {
   "cell_type": "code",
   "execution_count": 8,
   "id": "a4446a66",
   "metadata": {},
   "outputs": [],
   "source": [
    "V_uy, mapping = V.sub(1).collapse()\n",
    "right_dofs_uy = fem.locate_dofs_geometrical((V.sub(1), V_uy), right)\n",
    "\n",
    "uD_y = fem.Function(V_uy)\n",
    "bcs2 = [\n",
    "    fem.dirichletbc(np.zeros((2,)), left_dofs, V),\n",
    "    fem.dirichletbc(uD_y, right_dofs_uy, V.sub(1)),\n",
    "]\n",
    "\n",
    "problem = fem.petsc.LinearProblem(\n",
    "    a, L, u=u_sol, bcs=bcs2, petsc_options={\"ksp_type\": \"preonly\", \"pc_type\": \"lu\"}\n",
    ")\n",
    "problem.solve()\n",
    "\n",
    "\n",
    "vtk = io.VTKFile(domain.comm, \"linear_elasticity.pvd\", \"w\")\n",
    "vtk.write_function(u_sol)\n",
    "vtk.close()"
   ]
  }
 ],
 "metadata": {
  "jupytext": {
   "formats": "md:myst,ipynb"
  },
  "kernelspec": {
   "display_name": "Python 3 (ipykernel)",
   "language": "python",
   "name": "python3"
  },
  "language_info": {
   "codemirror_mode": {
    "name": "ipython",
    "version": 3
   },
   "file_extension": ".py",
   "mimetype": "text/x-python",
   "name": "python",
   "nbconvert_exporter": "python",
   "pygments_lexer": "ipython3",
   "version": "3.12.4"
  }
 },
 "nbformat": 4,
 "nbformat_minor": 5
}
