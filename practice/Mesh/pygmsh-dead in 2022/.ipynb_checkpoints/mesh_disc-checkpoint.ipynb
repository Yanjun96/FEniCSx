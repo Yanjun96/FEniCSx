{
 "cells": [
  {
   "cell_type": "markdown",
   "id": "5e20330e-3ea8-4008-b4e2-1e6b7d760619",
   "metadata": {},
   "source": [
    "# Issue: change the mesh size does not show up directly\n",
    "This part is from Jørgen S. Dokken blog: Mesh generation and conversion with GMSH and PYGMSH\n",
    "\n",
    "\n",
    "The update date is unclear, maybe is older than FEniCSx tutorial\n",
    "https://jsdokken.com/src/pygmsh_tutorial.html\n",
    "\n",
    "\n",
    "pygmsh is dead in 2022, for 3D, it can not define mesh size.\n",
    "\n",
    "Have to use gmsh API for mesh"
   ]
  },
  {
   "cell_type": "code",
   "execution_count": 5,
   "id": "3ca94cf6-100e-4048-aa70-896028dfb4b9",
   "metadata": {},
   "outputs": [
    {
     "name": "stderr",
     "output_type": "stream",
     "text": [
      "Warning : Gmsh has aleady been initialized\n"
     ]
    },
    {
     "ename": "AttributeError",
     "evalue": "'Geometry' object has no attribute 'add_pipe'",
     "output_type": "error",
     "traceback": [
      "\u001b[0;31m---------------------------------------------------------------------------\u001b[0m",
      "\u001b[0;31mAttributeError\u001b[0m                            Traceback (most recent call last)",
      "Cell \u001b[0;32mIn[5], line 12\u001b[0m\n\u001b[1;32m      9\u001b[0m model3D \u001b[38;5;241m=\u001b[39m geom\u001b[38;5;241m.\u001b[39m\u001b[38;5;21m__enter__\u001b[39m()\n\u001b[1;32m     10\u001b[0m \u001b[38;5;66;03m# https://pygmsh.readthedocs.io/en/latest/occ.html#module-pygmsh.occ.cylinder\u001b[39;00m\n\u001b[1;32m     11\u001b[0m \u001b[38;5;66;03m#disc = model3D.add_cylinder(mesh_size=mesh_size, [0, 0, 0], [5, 5, 5], 20, 6.28)\u001b[39;00m\n\u001b[0;32m---> 12\u001b[0m disc \u001b[38;5;241m=\u001b[39m \u001b[43mmodel3D\u001b[49m\u001b[38;5;241;43m.\u001b[39;49m\u001b[43madd_pipe\u001b[49m(\u001b[38;5;241m1\u001b[39m,\u001b[38;5;241m0.5\u001b[39m,\u001b[38;5;241m0.2\u001b[39m,R\u001b[38;5;241m=\u001b[39marray([[\u001b[38;5;241m1.\u001b[39m, \u001b[38;5;241m0.\u001b[39m, \u001b[38;5;241m0.\u001b[39m], [\u001b[38;5;241m0.\u001b[39m, \u001b[38;5;241m1.\u001b[39m, \u001b[38;5;241m0.\u001b[39m], [\u001b[38;5;241m0.\u001b[39m, \u001b[38;5;241m0.\u001b[39m, \u001b[38;5;241m1.\u001b[39m]]), x0\u001b[38;5;241m=\u001b[39marray([\u001b[38;5;241m0.\u001b[39m, \u001b[38;5;241m0.\u001b[39m, \u001b[38;5;241m0.\u001b[39m]), mesh_size\u001b[38;5;241m=\u001b[39mmesh_size,)\n\u001b[1;32m     14\u001b[0m model3D\u001b[38;5;241m.\u001b[39msynchronize()\n\u001b[1;32m     15\u001b[0m model3D\u001b[38;5;241m.\u001b[39madd_physical(disc, \u001b[38;5;124m\"\u001b[39m\u001b[38;5;124mdisc\u001b[39m\u001b[38;5;124m\"\u001b[39m)\n",
      "\u001b[0;31mAttributeError\u001b[0m: 'Geometry' object has no attribute 'add_pipe'"
     ]
    }
   ],
   "source": [
    "import numpy\n",
    "import meshio\n",
    "import gmsh\n",
    "import pygmsh\n",
    "\n",
    "# unit is mm\n",
    "mesh_size = 0.02\n",
    "geom = pygmsh.occ.Geometry()\n",
    "model3D = geom.__enter__()\n",
    "# https://pygmsh.readthedocs.io/en/latest/occ.html#module-pygmsh.occ.cylinder\n",
    "#disc = model3D.add_cylinder(mesh_size=mesh_size, [0, 0, 0], [5, 5, 5], 20, 6.28)\n",
    "disc = model3D.add_pipe(1,0.5,0.2,R=array([[1., 0., 0.], [0., 1., 0.], [0., 0., 1.]]), x0=array([0., 0., 0.]), mesh_size=mesh_size,)\n",
    "\n",
    "model3D.synchronize()\n",
    "model3D.add_physical(disc, \"disc\")\n",
    "\n",
    "geom.generate_mesh(dim=3)\n",
    "gmsh.write(\"mesh3Ddisc.msh\")\n",
    "model3D.__exit__()"
   ]
  },
  {
   "cell_type": "markdown",
   "id": "16952baa-9508-49cf-9ed3-ae896115abc2",
   "metadata": {},
   "source": [
    "# THis part is from FEniCSx tutorial: Plotting the mesh using pyvista\n",
    "### https://jsdokken.com/dolfinx-tutorial/chapter1/fundamentals_code.html"
   ]
  },
  {
   "cell_type": "code",
   "execution_count": null,
   "id": "6b701a81-274c-46f0-ad06-30a93820fb25",
   "metadata": {},
   "outputs": [],
   "source": [
    "from dolfinx.io import gmshio\n",
    "from mpi4py import MPI\n",
    "import pyvista\n",
    "from dolfinx import plot\n",
    "\n",
    "# try a 3d mesh from gmsh, it works\n",
    "domain, cell_markers, facet_markers = gmshio.read_from_msh(\"mesh3Ddisc.msh\", MPI.COMM_WORLD, gdim=3)\n",
    "gdim = 3\n",
    "tdim = gdim -1 \n",
    "pyvista.start_xvfb()\n",
    "# below gdim change to tdim is plot in 2D\n",
    "topology, cell_types, geometry = plot.vtk_mesh(domain, gdim)\n",
    "grid = pyvista.UnstructuredGrid(topology, cell_types, geometry)\n",
    "plotter = pyvista.Plotter()\n",
    "plotter.add_mesh(grid, show_edges=True)\n",
    "plotter.view_xy()\n",
    "\n",
    "plotter.show()"
   ]
  },
  {
   "cell_type": "code",
   "execution_count": null,
   "id": "c3ff2c2b-eac4-4cb6-a61c-d47ff22b4293",
   "metadata": {},
   "outputs": [],
   "source": []
  },
  {
   "cell_type": "code",
   "execution_count": null,
   "id": "34315ef6-1d24-441c-858b-449fd407ad56",
   "metadata": {},
   "outputs": [],
   "source": []
  },
  {
   "cell_type": "code",
   "execution_count": null,
   "id": "84c1c4d5-70e7-4279-ad5b-058f8dace44e",
   "metadata": {},
   "outputs": [],
   "source": []
  }
 ],
 "metadata": {
  "kernelspec": {
   "display_name": "Python 3 (ipykernel)",
   "language": "python",
   "name": "python3"
  },
  "language_info": {
   "codemirror_mode": {
    "name": "ipython",
    "version": 3
   },
   "file_extension": ".py",
   "mimetype": "text/x-python",
   "name": "python",
   "nbconvert_exporter": "python",
   "pygments_lexer": "ipython3",
   "version": "3.10.12"
  }
 },
 "nbformat": 4,
 "nbformat_minor": 5
}
