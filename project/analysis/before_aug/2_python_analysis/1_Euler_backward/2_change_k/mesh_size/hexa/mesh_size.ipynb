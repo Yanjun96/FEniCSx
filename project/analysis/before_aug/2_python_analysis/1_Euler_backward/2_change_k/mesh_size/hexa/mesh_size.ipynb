{
 "cells": [
  {
   "cell_type": "markdown",
   "id": "8ba5a166-bf27-40bb-81cc-00be1abd7b59",
   "metadata": {},
   "source": [
    "# Mesh_size analysis"
   ]
  },
  {
   "cell_type": "code",
   "execution_count": 2,
   "id": "55f2d32c-0b89-453a-89b0-194a4d5f409b",
   "metadata": {},
   "outputs": [
    {
     "name": "stdout",
     "output_type": "stream",
     "text": [
      "Closest coordinate is \n",
      " (245.69, 0.09, 20.0) \n",
      " (-125.0, 212.89, 20.0) \n",
      " (-124.59, -213.75, 20.0) \n",
      "Please open the xdmf file in paraview, and find the labels for above three nodes and input as \n",
      "T_3_labels = [label1, label2, label3]. \n",
      "Please also add in labels dictionary, functions in brake_disc_functions.py \n",
      "label success\n",
      "t and T have been successfully extracted from /home/yanjun/Documents/FEM_results/python_results/Backward_Euler/change_k/mesh_sensitivity/hexa/s-1213-d-112-m-3-15-c-1-e-56793/Result_T-s-1213-d-112-m-3-15-c-1-e-56793.csv\n"
     ]
    },
    {
     "ename": "TypeError",
     "evalue": "'NoneType' object is not subscriptable",
     "output_type": "error",
     "traceback": [
      "\u001b[0;31m---------------------------------------------------------------------------\u001b[0m",
      "\u001b[0;31mTypeError\u001b[0m                                 Traceback (most recent call last)",
      "Cell \u001b[0;32mIn[2], line 38\u001b[0m\n\u001b[1;32m     36\u001b[0m T_3_ave \u001b[38;5;241m=\u001b[39m []\n\u001b[1;32m     37\u001b[0m \u001b[38;5;28;01mfor\u001b[39;00m i \u001b[38;5;129;01min\u001b[39;00m \u001b[38;5;28mrange\u001b[39m(\u001b[38;5;28mlen\u001b[39m(T)):\n\u001b[0;32m---> 38\u001b[0m     T_3_all \u001b[38;5;241m=\u001b[39m  T[i][ lables[\u001b[38;5;241m0\u001b[39m] ] \u001b[38;5;241m+\u001b[39m T[i][ lables[\u001b[38;5;241m1\u001b[39m] ] \u001b[38;5;241m+\u001b[39m T[i][ lables[\u001b[38;5;241m2\u001b[39m] ]   \n\u001b[1;32m     39\u001b[0m     T_3_ave\u001b[38;5;241m.\u001b[39mappend ( T_3_all \u001b[38;5;241m/\u001b[39m \u001b[38;5;241m3\u001b[39m )\n\u001b[1;32m     40\u001b[0m plt\u001b[38;5;241m.\u001b[39mplot(t,pd\u001b[38;5;241m.\u001b[39mSeries(T_3_ave)\u001b[38;5;241m.\u001b[39mrolling(window\u001b[38;5;241m=\u001b[39m\u001b[38;5;241m30\u001b[39m)\u001b[38;5;241m.\u001b[39mmean(),label\u001b[38;5;241m=\u001b[39m \u001b[38;5;124mf\u001b[39m\u001b[38;5;124m'\u001b[39m\u001b[38;5;124mmesh size \u001b[39m\u001b[38;5;132;01m{\u001b[39;00m\u001b[38;5;250m \u001b[39mextract_file_labels(csv_file,\u001b[38;5;250m \u001b[39mtype1)\u001b[38;5;250m  \u001b[39m\u001b[38;5;132;01m}\u001b[39;00m\u001b[38;5;124m'\u001b[39m,\n\u001b[1;32m     41\u001b[0m          marker\u001b[38;5;241m=\u001b[39mmarker_styles[j], markevery\u001b[38;5;241m=\u001b[39m\u001b[38;5;241m100\u001b[39m)\n",
      "\u001b[0;31mTypeError\u001b[0m: 'NoneType' object is not subscriptable"
     ]
    },
    {
     "data": {
      "image/png": "[encoded data removed]",
      "text/plain": [
       "<Figure size 1000x600 with 1 Axes>"
      ]
     },
     "metadata": {},
     "output_type": "display_data"
    }
   ],
   "source": [
    "import os\n",
    "import shutil\n",
    "import pandas as pd\n",
    "import re\n",
    "import sys\n",
    "import matplotlib.pyplot as plt\n",
    "import numpy as np\n",
    "sys.path.append('/home/yanjun/Documents/FEniCSx/Project/Disc_thermal/Backward_Euler/hexahedral/')\n",
    "\n",
    "from brake_disc_functions import *\n",
    "\n",
    "source_dir = '/home/yanjun/Documents/FEM_results/python_results/Backward_Euler/change_k/mesh_sensitivity/hexa/'\n",
    "#destination_dir = '/home/yanjun/Documents/FEniCSx/Project/python_analysis/mesh_size/'\n",
    "\n",
    "# Collect all CSV files from the destination directory\n",
    "csv_files = collect_csv_files(source_dir)\n",
    "\n",
    "type1 = 'mesh_size'\n",
    "csv_files.sort(key=lambda x: extract_file_labels(x,type1))\n",
    "\n",
    "plt.figure(figsize=(10, 6))\n",
    "df1 = pd.read_csv('/home/yanjun/Documents/FEniCSx/Project/Results/2_python_analysis/1_Euler_backward/experiment_result.csv')\n",
    "T_e_ave = ( df1.iloc[:,1] + df1.iloc[:,3] + df1.iloc[:,5] ) /3\n",
    "t_e = np.linspace (0, 49, len(T_e_ave) )\n",
    "plt.plot(t_e, T_e_ave, label= \"Experiment\",marker='d',markevery=1000)\n",
    "\n",
    "j = 0\n",
    "marker_styles = ['o', 's', '^', 'v', '>', '<','d' ] \n",
    "\n",
    "for csv_file in csv_files:\n",
    "    lables = find_3_coord(  extract_mesh_labels(csv_file), \"hexahedral\" )\n",
    "    print(f\"label success\")\n",
    "    #t,T = read_t_T (os.path.basename(csv_file))\n",
    "    t,T = read_t_T ( csv_file )\n",
    "    \n",
    "    T_3_ave = []\n",
    "    for i in range(len(T)):\n",
    "        T_3_all =  T[i][ lables[0] ] + T[i][ lables[1] ] + T[i][ lables[2] ]   \n",
    "        T_3_ave.append ( T_3_all / 3 )\n",
    "    plt.plot(t,pd.Series(T_3_ave).rolling(window=30).mean(),label= f'mesh size { extract_file_labels(csv_file, type1)  }',\n",
    "             marker=marker_styles[j], markevery=100)\n",
    "    j += 1\n",
    "\n",
    "\n",
    "labels=['mesh size 1184080','mesh zize 3852374']\n",
    "k = 0\n",
    "\n",
    "\n",
    "plt.xlabel('Time/ s')\n",
    "plt.ylabel('Temperature/ °C')\n",
    "plt.title('Average temperatures with different different time steps')\n",
    "plt.legend()\n",
    "plt.grid(True)\n",
    "plt.savefig('T_ave_time_step.png')\n",
    "plt.show()\n"
   ]
  },
  {
   "cell_type": "code",
   "execution_count": 3,
   "id": "590436df-8b7e-4cd5-bb77-632ec83a016e",
   "metadata": {},
   "outputs": [
    {
     "name": "stdout",
     "output_type": "stream",
     "text": [
      "None\n"
     ]
    }
   ],
   "source": [
    "print(lables)"
   ]
  },
  {
   "cell_type": "code",
   "execution_count": null,
   "id": "619cc9b5-1f9a-45c4-a7e2-4a995aea1b4e",
   "metadata": {},
   "outputs": [],
   "source": []
  },
  {
   "cell_type": "code",
   "execution_count": null,
   "id": "b2843d1a-b1ee-4293-a3e0-42133efcb3f4",
   "metadata": {},
   "outputs": [],
   "source": [
    "import os\n",
    "import shutil\n",
    "import pandas as pd\n",
    "import re\n",
    "import sys\n",
    "import matplotlib.pyplot as plt\n",
    "import numpy as np\n",
    "sys.path.append('/home/yanjun/Documents/FEniCSx/Practice/Concise/Backward_Euler/change_k/')\n",
    "\n",
    "from brake_disc_functions import *\n",
    "\n",
    "source_dir = '/home/yanjun/Documents/FEM_results/python_results/Backward_Euler/change_k/mesh_size/'                \n",
    "\n",
    "# Collect all CSV files from the destination directory\n",
    "csv_files = collect_csv_files(source_dir)\n",
    "\n",
    "type1 = 'mesh_size'\n",
    "csv_files.sort(key=lambda x: extract_file_labels(x,type1))\n",
    "\n",
    "plt.figure(figsize=(10, 6))\n",
    "\n",
    "df1 = pd.read_csv('/home/yanjun/Documents/FEniCSx/Project/python_analysis/experiment_result.csv')\n",
    "T_e_max = np.maximum( np.maximum (df1.iloc[:,1], df1.iloc[:,3]) , df1.iloc[:,5] ) \n",
    "t_e = np.linspace (0, 49, len(T_e_max) )\n",
    "plt.plot(t_e, T_e_max, label= \"Experiment\",marker='d',markevery=1000)\n",
    "\n",
    "j = 0\n",
    "marker_styles = ['o', 's', '^', 'v', '>', '<', 'd' ] \n",
    "\n",
    "for csv_file in csv_files[2:8]:\n",
    "\n",
    "    #t,T = read_t_T (os.path.basename(csv_file), )\n",
    "    t,T = read_t_T ( csv_file )\n",
    "\n",
    "    T_max = []\n",
    "    for i in range(len(T)):\n",
    "        T_max.append( max(T[i]) )\n",
    "    plt.plot(t,pd.Series(T_max).rolling(window=20).mean(),\n",
    "             label= f'mesh size { extract_file_labels(csv_file, type1)  }', marker=marker_styles[j], markevery=100 )\n",
    "    j += 1\n",
    "\n",
    "\n",
    "plt.xlabel('Time/ s')\n",
    "plt.ylabel('Temperature/ °C')\n",
    "plt.title('The maximum temperatures with different different time steps')\n",
    "plt.legend()\n",
    "plt.grid(True)\n",
    "plt.savefig('T_max_time_step.png')\n",
    "plt.show()\n"
   ]
  },
  {
   "cell_type": "code",
   "execution_count": null,
   "id": "6da664b2-eed3-43a6-82dc-cf7fc04bba7f",
   "metadata": {},
   "outputs": [],
   "source": []
  },
  {
   "cell_type": "code",
   "execution_count": null,
   "id": "95750632-9ab4-4d37-a5e5-38f2d384456c",
   "metadata": {},
   "outputs": [],
   "source": [
    "sys.path.append('/home/yanjun/Documents/FEniCSx/Practice/Concise')\n",
    "\n",
    "from brake_disc_functions import *\n",
    "\n"
   ]
  },
  {
   "cell_type": "code",
   "execution_count": null,
   "id": "93d491b1-68c0-4ad2-aa7b-b563d139c9dd",
   "metadata": {},
   "outputs": [],
   "source": [
    "print(df)"
   ]
  },
  {
   "cell_type": "code",
   "execution_count": null,
   "id": "56dc31e0-05b2-4b5b-8d05-30129538203d",
   "metadata": {},
   "outputs": [],
   "source": [
    "df1 = pd.read_csv( csv_files[0] )\n",
    "df2 = pd.read_csv( csv_files[1] )\n",
    "df3['avg(f)'] = df1['avg(f)'] - df2['avg(f)']\n",
    "plt.plot( df3['avg(f)'].rolling(window = 100).mean() )"
   ]
  },
  {
   "cell_type": "code",
   "execution_count": 7,
   "id": "e45dd2b7-81ad-45d5-935d-b9afe782d479",
   "metadata": {},
   "outputs": [
    {
     "name": "stdout",
     "output_type": "stream",
     "text": [
      "['/home/yanjun/Documents/FEM_results/python_results/Forward_Euler/hexa/s-1213-d-112-m-3-15-c-1-e-56793/Result_T-s-1213-d-112-m-3-15-c-1-e-56793.csv', '/home/yanjun/Documents/FEM_results/python_results/Forward_Euler/hexa/s-1213-d-112-m-3-10-c-1-e-168466/Result_T-s-1213-d-112-m-3-10-c-1-e-168466.csv', '/home/yanjun/Documents/FEM_results/python_results/Forward_Euler/hexa/s-1213-d-112-m-3-7-c-1-e-436556/Result_T-s-1213-d-112-m-3-7-c-1-e-436556.csv', '/home/yanjun/Documents/FEM_results/python_results/Forward_Euler/hexa/T-s-1213-d-112-m-3-5-c-1-e-1063921/Result_T-s-1213-d-112-m-3-5-c-1-e-1063921.csv']\n"
     ]
    }
   ],
   "source": [
    "print(csv_files)"
   ]
  },
  {
   "cell_type": "code",
   "execution_count": null,
   "id": "c6247011-ff0c-4110-a54e-67f4161494df",
   "metadata": {},
   "outputs": [],
   "source": []
  }
 ],
 "metadata": {
  "kernelspec": {
   "display_name": "Python 3 (ipykernel)",
   "language": "python",
   "name": "python3"
  },
  "language_info": {
   "codemirror_mode": {
    "name": "ipython",
    "version": 3
   },
   "file_extension": ".py",
   "mimetype": "text/x-python",
   "name": "python",
   "nbconvert_exporter": "python",
   "pygments_lexer": "ipython3",
   "version": "3.12.2"
  }
 },
 "nbformat": 4,
 "nbformat_minor": 5
}
