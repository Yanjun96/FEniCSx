{
 "cells": [
  {
   "cell_type": "markdown",
   "id": "8ba5a166-bf27-40bb-81cc-00be1abd7b59",
   "metadata": {},
   "source": [
    "# Mesh_size analysis"
   ]
  },
  {
   "cell_type": "code",
   "execution_count": null,
   "id": "55f2d32c-0b89-453a-89b0-194a4d5f409b",
   "metadata": {},
   "outputs": [
    {
     "name": "stdout",
     "output_type": "stream",
     "text": [
      "Lables already exists, for mesh m-3-15.msh is  [2201, 1590, 260]\n",
      "label success\n",
      "t and T have been successfully extracted from /home/yanjun/documents/sim_results/Before_Aug/python_results/Backward_Euler/mesh_sensitivity/hexa/s-1213-d-112-m-3-15-c-1-e-56793/Result_T-s-1213-d-112-m-3-15-c-1-e-56793.csv\n",
      "Lables already exists, for mesh m-3-10.msh is  [3157, 7018, 2141]\n",
      "label success\n",
      "t and T have been successfully extracted from /home/yanjun/documents/sim_results/Before_Aug/python_results/Backward_Euler/mesh_sensitivity/hexa/s-1213-d-112-m-3-10-c-1-e-168466/Result_T-s-1213-d-112-m-3-10-c-1-e-168466.csv\n",
      "Lables already exists, for mesh m-3-7.msh is  [12266, 11501, 617]\n",
      "label success\n"
     ]
    }
   ],
   "source": [
    "import os\n",
    "import shutil\n",
    "import pandas as pd\n",
    "import re\n",
    "import sys\n",
    "import matplotlib.pyplot as plt\n",
    "import numpy as np\n",
    "sys.path.append('/home/yanjun/documents/fenicsx/project/therm_disc/implicit/tetrahedron/')\n",
    "from disc_f import *\n",
    "\n",
    "\n",
    "source_dir = '/home/yanjun/documents/sim_results/Before_Aug/python_results/Backward_Euler/mesh_sensitivity/hexa/'\n",
    "#destination_dir = '/home/yanjun/Documents/FEniCSx/Project/python_analysis/mesh_size/'\n",
    "\n",
    "# Collect all CSV files from the destination directory\n",
    "csv_files = collect_csv_files(source_dir)\n",
    "\n",
    "type1 = 'mesh_size'\n",
    "csv_files.sort(key=lambda x: extract_file_labels(x,type1))\n",
    "\n",
    "plt.figure(figsize=(10, 6))\n",
    "df1 = pd.read_csv('/home/yanjun/documents/sim_results/experiment_result.csv')\n",
    "T_e_ave = ( df1.iloc[:,1] + df1.iloc[:,3] + df1.iloc[:,5] ) /3\n",
    "t_e = np.linspace (0, 49, len(T_e_ave) )\n",
    "plt.plot(t_e, T_e_ave, label= \"Experiment\",marker='d',markevery=1000)\n",
    "\n",
    "j = 0\n",
    "marker_styles = ['o', 's', '^', 'v', '>', '<','d' ] \n",
    "\n",
    "for csv_file in csv_files:\n",
    "    lables = find_3_coord(  extract_mesh_labels(csv_file) )\n",
    "    print(f\"label success\")\n",
    "    #t,T = read_t_T (os.path.basename(csv_file))\n",
    "    t,T = read_t_T ( csv_file )\n",
    "    \n",
    "    T_3_ave = []\n",
    "    for i in range(len(T)):\n",
    "        T_3_all =  T[i][ lables[0] ] + T[i][ lables[1] ] + T[i][ lables[2] ]   \n",
    "        T_3_ave.append ( T_3_all / 3 )\n",
    "    plt.plot(t,pd.Series(T_3_ave).rolling(window=30).mean(),label= f'mesh size { extract_file_labels(csv_file, type1)  }',\n",
    "             marker=marker_styles[j], markevery=100)\n",
    "    j += 1\n",
    "\n",
    "\n",
    "labels=['mesh size 1184080','mesh zize 3852374']\n",
    "k = 0\n",
    "\n",
    "\n",
    "plt.xlabel('Time/ s')\n",
    "plt.ylabel('Temperature/ °C')\n",
    "plt.title('Average temperatures with different different time steps')\n",
    "plt.legend()\n",
    "plt.grid(True)\n",
    "plt.savefig('T_ave_time_step.png')\n",
    "plt.show()\n"
   ]
  },
  {
   "cell_type": "code",
   "execution_count": 3,
   "id": "590436df-8b7e-4cd5-bb77-632ec83a016e",
   "metadata": {},
   "outputs": [
    {
     "name": "stdout",
     "output_type": "stream",
     "text": [
      "None\n"
     ]
    }
   ],
   "source": [
    "print(lables)"
   ]
  },
  {
   "cell_type": "code",
   "execution_count": null,
   "id": "619cc9b5-1f9a-45c4-a7e2-4a995aea1b4e",
   "metadata": {},
   "outputs": [],
   "source": []
  },
  {
   "cell_type": "code",
   "execution_count": null,
   "id": "b2843d1a-b1ee-4293-a3e0-42133efcb3f4",
   "metadata": {},
   "outputs": [],
   "source": [
    "import os\n",
    "import shutil\n",
    "import pandas as pd\n",
    "import re\n",
    "import sys\n",
    "import matplotlib.pyplot as plt\n",
    "import numpy as np\n",
    "sys.path.append('/home/yanjun/Documents/FEniCSx/Practice/Concise/Backward_Euler/change_k/')\n",
    "\n",
    "from brake_disc_functions import *\n",
    "\n",
    "source_dir = '/home/yanjun/Documents/FEM_results/python_results/Backward_Euler/change_k/mesh_size/'                \n",
    "\n",
    "# Collect all CSV files from the destination directory\n",
    "csv_files = collect_csv_files(source_dir)\n",
    "\n",
    "type1 = 'mesh_size'\n",
    "csv_files.sort(key=lambda x: extract_file_labels(x,type1))\n",
    "\n",
    "plt.figure(figsize=(10, 6))\n",
    "\n",
    "df1 = pd.read_csv('/home/yanjun/Documents/FEniCSx/Project/python_analysis/experiment_result.csv')\n",
    "T_e_max = np.maximum( np.maximum (df1.iloc[:,1], df1.iloc[:,3]) , df1.iloc[:,5] ) \n",
    "t_e = np.linspace (0, 49, len(T_e_max) )\n",
    "plt.plot(t_e, T_e_max, label= \"Experiment\",marker='d',markevery=1000)\n",
    "\n",
    "j = 0\n",
    "marker_styles = ['o', 's', '^', 'v', '>', '<', 'd' ] \n",
    "\n",
    "for csv_file in csv_files[2:8]:\n",
    "\n",
    "    #t,T = read_t_T (os.path.basename(csv_file), )\n",
    "    t,T = read_t_T ( csv_file )\n",
    "\n",
    "    T_max = []\n",
    "    for i in range(len(T)):\n",
    "        T_max.append( max(T[i]) )\n",
    "    plt.plot(t,pd.Series(T_max).rolling(window=20).mean(),\n",
    "             label= f'mesh size { extract_file_labels(csv_file, type1)  }', marker=marker_styles[j], markevery=100 )\n",
    "    j += 1\n",
    "\n",
    "\n",
    "plt.xlabel('Time/ s')\n",
    "plt.ylabel('Temperature/ °C')\n",
    "plt.title('The maximum temperatures with different different time steps')\n",
    "plt.legend()\n",
    "plt.grid(True)\n",
    "plt.savefig('T_max_time_step.png')\n",
    "plt.show()\n"
   ]
  }
 ],
 "metadata": {
  "kernelspec": {
   "display_name": "Python 3 (ipykernel)",
   "language": "python",
   "name": "python3"
  },
  "language_info": {
   "codemirror_mode": {
    "name": "ipython",
    "version": 3
   },
   "file_extension": ".py",
   "mimetype": "text/x-python",
   "name": "python",
   "nbconvert_exporter": "python",
   "pygments_lexer": "ipython3",
   "version": "3.12.2"
  }
 },
 "nbformat": 4,
 "nbformat_minor": 5
}
