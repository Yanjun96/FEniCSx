{
 "cells": [
  {
   "cell_type": "markdown",
   "id": "aae8f131-c62d-4f72-a2ce-0c40e15ec88e",
   "metadata": {},
   "source": [
    "# 1: Mesh\n",
    "\n",
    "\n",
    "This one also has issue, the mesh size does not have function,\n",
    "maybe the main resaon is mesh size is for 2D previously, and here we change to 3D."
   ]
  },
  {
   "cell_type": "code",
   "execution_count": 10,
   "id": "63aced2c-ef0f-4ac3-baa4-a8b11e2aaaaa",
   "metadata": {},
   "outputs": [],
   "source": [
    "import numpy\n",
    "import meshio\n",
    "import gmsh\n",
    "import pygmsh\n",
    "# unit is mm\n",
    "mesh_size = 0.002\n",
    "geom = pygmsh.occ.Geometry()\n",
    "\n",
    "model3D = geom.__enter__()\n",
    "\n",
    "box0 = model3D.add_box([0.0, 0, 0], [1, 1, 1])\n",
    "model3D.synchronize()\n",
    "model3D.add_physical(box0, \"Union\")\n",
    "geom.generate_mesh(dim=3)\n",
    "gmsh.write(\"mesh3D.msh\")\n",
    "\n",
    "model3D.__exit__()"
   ]
  },
  {
   "cell_type": "markdown",
   "id": "6d1f9b1e-0501-43df-8c2b-7a0a729a07b3",
   "metadata": {},
   "source": [
    "# 2: Plot"
   ]
  },
  {
   "cell_type": "code",
   "execution_count": 11,
   "id": "f43ecae1-3dd7-4db8-b501-ed5e38b05367",
   "metadata": {},
   "outputs": [
    {
     "name": "stdout",
     "output_type": "stream",
     "text": [
      "Info    : Reading 'mesh3D.msh'...\n",
      "Info    : 27 entities\n",
      "Info    : 341 nodes\n",
      "Info    : 1140 elements\n",
      "Info    : Done reading 'mesh3D.msh'\n"
     ]
    },
    {
     "data": {
      "application/vnd.jupyter.widget-view+json": {
       "model_id": "6d7efbb4ef0a4a8b93a15681238e0585",
       "version_major": 2,
       "version_minor": 0
      },
      "text/plain": [
       "Widget(value='<iframe src=\"http://localhost:35411/index.html?ui=P_0x7fb105d6acb0_3&reconnect=auto\" class=\"pyvi…"
      ]
     },
     "metadata": {},
     "output_type": "display_data"
    }
   ],
   "source": [
    "from dolfinx.io import gmshio\n",
    "from mpi4py import MPI\n",
    "import pyvista\n",
    "from dolfinx import plot\n",
    "\n",
    "#gmsh_model_rank = 0\n",
    "#mesh_comm = MPI.COMM_WORLD\n",
    "#domain, cell_markers, facet_markers = gmshio.model_to_mesh(gmsh.model, mesh_comm, gmsh_model_rank, gdim=3)\n",
    "\n",
    "\n",
    "# try a 3d mesh from gmsh, it works\n",
    "domain, cell_markers, facet_markers = gmshio.read_from_msh(\"mesh3D.msh\", MPI.COMM_WORLD, gdim=3)\n",
    "gdim = 3\n",
    "pyvista.start_xvfb()\n",
    "# below gdim change to tdim is plot in 2D\n",
    "topology, cell_types, geometry = plot.vtk_mesh(domain, gdim)\n",
    "grid = pyvista.UnstructuredGrid(topology, cell_types, geometry)\n",
    "plotter = pyvista.Plotter()\n",
    "plotter.add_mesh(grid, show_edges=True)\n",
    "plotter.view_xy()\n",
    "\n",
    "plotter.show()"
   ]
  }
 ],
 "metadata": {
  "kernelspec": {
   "display_name": "Python 3 (ipykernel)",
   "language": "python",
   "name": "python3"
  },
  "language_info": {
   "codemirror_mode": {
    "name": "ipython",
    "version": 3
   },
   "file_extension": ".py",
   "mimetype": "text/x-python",
   "name": "python",
   "nbconvert_exporter": "python",
   "pygments_lexer": "ipython3",
   "version": "3.10.12"
  }
 },
 "nbformat": 4,
 "nbformat_minor": 5
}
