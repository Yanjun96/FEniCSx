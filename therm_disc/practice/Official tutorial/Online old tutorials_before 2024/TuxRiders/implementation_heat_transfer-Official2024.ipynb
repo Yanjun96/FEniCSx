{
 "cells": [
  {
   "cell_type": "code",
   "execution_count": null,
   "id": "dbd4b4a4-4cdf-4a25-b687-9194c5e2d31c",
   "metadata": {},
   "outputs": [],
   "source": []
  },
  {
   "cell_type": "code",
   "execution_count": 1,
   "id": "073d08ae-9036-4969-b5e5-78db9ac27a95",
   "metadata": {},
   "outputs": [],
   "source": [
    "from dolfinx import default_scalar_type\n",
    "from dolfinx.fem import (Constant, dirichletbc, Function, FunctionSpace, assemble_scalar,\n",
    "                         form, locate_dofs_geometrical, locate_dofs_topological)\n",
    "from dolfinx.fem.petsc import LinearProblem\n",
    "from dolfinx.io import XDMFFile, gmshio\n",
    "from dolfinx.mesh import create_unit_square, locate_entities\n",
    "from dolfinx.plot import vtk_mesh\n",
    "\n",
    "\n",
    "from ufl import (SpatialCoordinate, TestFunction, TrialFunction, dx, grad, inner)\n",
    "from mpi4py import MPI\n",
    "import meshio\n",
    "import gmsh\n",
    "import pyvista\n",
    "import numpy as np\n",
    "import ufl\n",
    "from petsc4py import PETSc\n",
    "\n",
    "from dolfinx.fem.petsc import assemble_vector, assemble_matrix, create_vector, apply_lifting, set_bc\n",
    "from dolfinx import *\n",
    "from dolfinx import fem, mesh, plot ,io \n",
    "\n"
   ]
  },
  {
   "cell_type": "code",
   "execution_count": 2,
   "id": "301c75eb-ed1a-4dc0-a06f-6865d247e598",
   "metadata": {},
   "outputs": [],
   "source": [
    "# Define temporal parameters\n",
    "t = 0    # Start time\n",
    "T = 2.0  # Final time\n",
    "num_steos = 50\n",
    "dt = T / num_steos  # time step size\n",
    "\n",
    "# coefficient of friction\n",
    "k = 100\n",
    "u_in = 20    # inlet temperature\n",
    "u_out = -20  # outlet temperature\n"
   ]
  },
  {
   "cell_type": "code",
   "execution_count": 3,
   "id": "92a6c749-8462-4f89-8205-4ac8ccec6a8d",
   "metadata": {},
   "outputs": [
    {
     "name": "stdout",
     "output_type": "stream",
     "text": [
      "Info    : Reading 'helix.msh'...\n",
      "Info    : 7982 nodes\n",
      "Info    : 51264 elements\n",
      "Info    : Done reading 'helix.msh'\n"
     ]
    }
   ],
   "source": [
    "# Define mesh\n",
    "domain, cell_markers, facet_markers = gmshio.read_from_msh(\"helix.msh\", MPI.COMM_WORLD, gdim=3)\n"
   ]
  },
  {
   "cell_type": "code",
   "execution_count": 4,
   "id": "0ece84c0-d5f1-40d4-b499-9401a6698977",
   "metadata": {},
   "outputs": [],
   "source": [
    "V = fem.FunctionSpace(domain, (\"Lagrange\", 1))"
   ]
  },
  {
   "cell_type": "code",
   "execution_count": 5,
   "id": "a7990854-bebb-41cb-b949-168da6b52af7",
   "metadata": {},
   "outputs": [],
   "source": [
    "# Create initial condition\n",
    "\n",
    "dofs_L = locate_dofs_geometrical(V, lambda x: np.isclose(x[0], 0))\n",
    "u_L = Function(V)\n",
    "u_L.interpolate(lambda x: -20 + x[1])\n",
    "bc_L = dirichletbc(u_L, dofs_L)\n",
    "\n",
    "\n",
    "dofs_R = locate_dofs_geometrical(V, lambda x: np.isclose(x[0], 1))\n",
    "u_R = Function(V)\n",
    "u_R.interpolate(lambda x: 20 + x[1])\n",
    "bc_R = dirichletbc(u_R, dofs_R)\n",
    "\n",
    "bcs = [bc_R, bc_L]\n",
    "\n",
    "u_n = fem.Function(V)"
   ]
  },
  {
   "cell_type": "code",
   "execution_count": null,
   "id": "c94735a1-bbf5-43eb-a456-911f6e491ed0",
   "metadata": {},
   "outputs": [],
   "source": []
  },
  {
   "cell_type": "markdown",
   "id": "d45a750c-0a6c-45ec-9e10-1b9d21af7581",
   "metadata": {},
   "source": [
    "# Time-dependent output"
   ]
  },
  {
   "cell_type": "code",
   "execution_count": 6,
   "id": "cfc1e27e-7fce-497c-b0dc-41c7e591fdef",
   "metadata": {},
   "outputs": [],
   "source": [
    "xdmf = io.XDMFFile(domain.comm, \"helix.xdmf\", \"w\")\n",
    "xdmf.write_mesh(domain)\n",
    "\n",
    "# Define solution variable, and interpolate initial solution for visualization in Paraview\n",
    "uh = fem.Function(V)\n",
    "uh.name = \"uh\"\n",
    "#uh.interpolate(initial_condition)\n",
    "xdmf.write_function(uh, t)"
   ]
  },
  {
   "cell_type": "markdown",
   "id": "ecc84386-931a-4971-9d61-e7c9120b330f",
   "metadata": {},
   "source": [
    "# Variational problem and solver"
   ]
  },
  {
   "cell_type": "code",
   "execution_count": 7,
   "id": "93ae81f1-e34d-4c08-b665-648d51918a75",
   "metadata": {},
   "outputs": [],
   "source": [
    "u, v = ufl.TrialFunction(V), ufl.TestFunction(V)\n",
    "f = fem.Constant(domain, PETSc.ScalarType(0))\n",
    "a = u * v * ufl.dx + dt * ufl.dot(ufl.grad(u), ufl.grad(v)) * ufl.dx\n",
    "L = (u_n + dt * f) * v * ufl.dx"
   ]
  },
  {
   "cell_type": "markdown",
   "id": "ecc13595-e8b5-44c4-b1b5-848dde90d923",
   "metadata": {},
   "source": [
    "# Preparing linear algerba structures for time dependent problems"
   ]
  },
  {
   "cell_type": "code",
   "execution_count": 8,
   "id": "7393044d-1ae6-4d6d-8761-17dbe63bc58c",
   "metadata": {},
   "outputs": [],
   "source": [
    "bilinear_form = fem.form(a)\n",
    "linear_form = fem.form(L)"
   ]
  },
  {
   "cell_type": "code",
   "execution_count": 9,
   "id": "1bd2d753-c41c-4b72-a5ad-b3797053ae11",
   "metadata": {},
   "outputs": [],
   "source": [
    "A = assemble_matrix(bilinear_form, bcs)\n",
    "A.assemble()\n",
    "b = create_vector(linear_form)"
   ]
  },
  {
   "cell_type": "markdown",
   "id": "c0ec02bf-9292-48d4-8ec0-cead37f7d547",
   "metadata": {},
   "source": [
    "# Using petsc4py to create a linear solver"
   ]
  },
  {
   "cell_type": "code",
   "execution_count": 10,
   "id": "c3b3a7b2-6bc8-4191-85d6-251b77f7b1ad",
   "metadata": {},
   "outputs": [],
   "source": [
    "solver = PETSc.KSP().create(domain.comm)\n",
    "solver.setOperators(A)\n",
    "solver.setType(PETSc.KSP.Type.PREONLY)\n",
    "solver.getPC().setType(PETSc.PC.Type.LU)"
   ]
  },
  {
   "cell_type": "markdown",
   "id": "ae3580e2-46ae-4955-bb50-9e521a8ff3e5",
   "metadata": {},
   "source": [
    "# Visualization of time dependent problem using pyvista"
   ]
  },
  {
   "cell_type": "code",
   "execution_count": 11,
   "id": "ca69a9ea-ac36-4c0a-8445-af8261871755",
   "metadata": {},
   "outputs": [
    {
     "ename": "AttributeError",
     "evalue": "'ColormapRegistry' object has no attribute 'get_cmap'",
     "output_type": "error",
     "traceback": [
      "\u001b[0;31m---------------------------------------------------------------------------\u001b[0m",
      "\u001b[0;31mAttributeError\u001b[0m                            Traceback (most recent call last)",
      "Cell \u001b[0;32mIn[11], line 12\u001b[0m\n\u001b[1;32m      9\u001b[0m grid\u001b[38;5;241m.\u001b[39mpoint_data[\u001b[38;5;124m\"\u001b[39m\u001b[38;5;124muh\u001b[39m\u001b[38;5;124m\"\u001b[39m] \u001b[38;5;241m=\u001b[39m uh\u001b[38;5;241m.\u001b[39mx\u001b[38;5;241m.\u001b[39marray\n\u001b[1;32m     10\u001b[0m warped \u001b[38;5;241m=\u001b[39m grid\u001b[38;5;241m.\u001b[39mwarp_by_scalar(\u001b[38;5;124m\"\u001b[39m\u001b[38;5;124muh\u001b[39m\u001b[38;5;124m\"\u001b[39m, factor\u001b[38;5;241m=\u001b[39m\u001b[38;5;241m1\u001b[39m)\n\u001b[0;32m---> 12\u001b[0m viridis \u001b[38;5;241m=\u001b[39m \u001b[43mmpl\u001b[49m\u001b[38;5;241;43m.\u001b[39;49m\u001b[43mcolormaps\u001b[49m\u001b[38;5;241;43m.\u001b[39;49m\u001b[43mget_cmap\u001b[49m(\u001b[38;5;124m\"\u001b[39m\u001b[38;5;124mviridis\u001b[39m\u001b[38;5;124m\"\u001b[39m)\u001b[38;5;241m.\u001b[39mresampled(\u001b[38;5;241m25\u001b[39m)\n\u001b[1;32m     13\u001b[0m sargs \u001b[38;5;241m=\u001b[39m \u001b[38;5;28mdict\u001b[39m(title_font_size\u001b[38;5;241m=\u001b[39m\u001b[38;5;241m25\u001b[39m, label_font_size\u001b[38;5;241m=\u001b[39m\u001b[38;5;241m20\u001b[39m, fmt\u001b[38;5;241m=\u001b[39m\u001b[38;5;124m\"\u001b[39m\u001b[38;5;132;01m%.2e\u001b[39;00m\u001b[38;5;124m\"\u001b[39m, color\u001b[38;5;241m=\u001b[39m\u001b[38;5;124m\"\u001b[39m\u001b[38;5;124mblack\u001b[39m\u001b[38;5;124m\"\u001b[39m,\n\u001b[1;32m     14\u001b[0m              position_x\u001b[38;5;241m=\u001b[39m\u001b[38;5;241m0.1\u001b[39m, position_y\u001b[38;5;241m=\u001b[39m\u001b[38;5;241m0.8\u001b[39m, width\u001b[38;5;241m=\u001b[39m\u001b[38;5;241m0.8\u001b[39m, height\u001b[38;5;241m=\u001b[39m\u001b[38;5;241m0.1\u001b[39m)\n\u001b[1;32m     16\u001b[0m renderer \u001b[38;5;241m=\u001b[39m plotter\u001b[38;5;241m.\u001b[39madd_mesh(warped, show_edges\u001b[38;5;241m=\u001b[39m\u001b[38;5;28;01mTrue\u001b[39;00m, lighting\u001b[38;5;241m=\u001b[39m\u001b[38;5;28;01mFalse\u001b[39;00m,\n\u001b[1;32m     17\u001b[0m                             cmap\u001b[38;5;241m=\u001b[39mviridis, scalar_bar_args\u001b[38;5;241m=\u001b[39msargs,\n\u001b[1;32m     18\u001b[0m                             clim\u001b[38;5;241m=\u001b[39m[\u001b[38;5;241m0\u001b[39m, \u001b[38;5;28mmax\u001b[39m(uh\u001b[38;5;241m.\u001b[39mx\u001b[38;5;241m.\u001b[39marray)])\n",
      "\u001b[0;31mAttributeError\u001b[0m: 'ColormapRegistry' object has no attribute 'get_cmap'"
     ]
    }
   ],
   "source": [
    "import matplotlib as mpl\n",
    "pyvista.start_xvfb()\n",
    "\n",
    "grid = pyvista.UnstructuredGrid(*plot.vtk_mesh(V))\n",
    "\n",
    "plotter = pyvista.Plotter()\n",
    "plotter.open_gif(\"u_time.gif\", fps=10)\n",
    "\n",
    "grid.point_data[\"uh\"] = uh.x.array\n",
    "warped = grid.warp_by_scalar(\"uh\", factor=1)\n",
    "\n",
    "viridis = mpl.colormaps.get_cmap(\"viridis\").resampled(25)\n",
    "sargs = dict(title_font_size=25, label_font_size=20, fmt=\"%.2e\", color=\"black\",\n",
    "             position_x=0.1, position_y=0.8, width=0.8, height=0.1)\n",
    "\n",
    "renderer = plotter.add_mesh(warped, show_edges=True, lighting=False,\n",
    "                            cmap=viridis, scalar_bar_args=sargs,\n",
    "                            clim=[0, max(uh.x.array)])"
   ]
  },
  {
   "cell_type": "code",
   "execution_count": null,
   "id": "a1ccd51f-b98c-4aa3-8f38-3de624e2aa56",
   "metadata": {},
   "outputs": [],
   "source": []
  }
 ],
 "metadata": {
  "kernelspec": {
   "display_name": "Python 3 (ipykernel)",
   "language": "python",
   "name": "python3"
  },
  "language_info": {
   "codemirror_mode": {
    "name": "ipython",
    "version": 3
   },
   "file_extension": ".py",
   "mimetype": "text/x-python",
   "name": "python",
   "nbconvert_exporter": "python",
   "pygments_lexer": "ipython3",
   "version": "3.10.12"
  }
 },
 "nbformat": 4,
 "nbformat_minor": 5
}
